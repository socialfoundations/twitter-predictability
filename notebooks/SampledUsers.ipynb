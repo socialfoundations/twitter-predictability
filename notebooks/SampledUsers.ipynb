{
 "cells": [
  {
   "cell_type": "code",
   "execution_count": 2,
   "id": "64882f30-9a6d-4d7e-90b4-5d58d18ebac1",
   "metadata": {},
   "outputs": [],
   "source": [
    "%load_ext dotenv\n",
    "%dotenv "
   ]
  },
  {
   "cell_type": "code",
   "execution_count": 3,
   "id": "73e23925-f324-417b-9110-7ed93d4e6718",
   "metadata": {},
   "outputs": [],
   "source": [
    "from pymongo import MongoClient\n",
    "import os\n",
    "import pandas as pd"
   ]
  },
  {
   "cell_type": "code",
   "execution_count": 4,
   "id": "7e82261f-6663-4de7-ba26-13d6530ca500",
   "metadata": {},
   "outputs": [],
   "source": [
    "from bson import json_util, ObjectId\n",
    "import json"
   ]
  },
  {
   "cell_type": "code",
   "execution_count": 5,
   "id": "1f5daeb8-307b-47e6-b93b-9dff7f90458a",
   "metadata": {},
   "outputs": [],
   "source": [
    "def mongo_to_dataframe(mongo_data):\n",
    "\n",
    "        sanitized = json.loads(json_util.dumps(mongo_data))\n",
    "        normalized = pd.json_normalize(sanitized)\n",
    "        df = pd.DataFrame(normalized)\n",
    "\n",
    "        return df"
   ]
  },
  {
   "cell_type": "code",
   "execution_count": 6,
   "id": "cd80da73-61d8-4acc-88df-476ec085e209",
   "metadata": {},
   "outputs": [],
   "source": [
    "mongo_conn = MongoClient(os.environ[\"MONGO_CONN\"])\n",
    "db = mongo_conn.twitter\n",
    "sampled_users_collection = db.sampled_users_collection"
   ]
  },
  {
   "cell_type": "code",
   "execution_count": 7,
   "id": "e0287af9-ac04-4a88-8c56-d07dfd1cbf5b",
   "metadata": {},
   "outputs": [],
   "source": [
    "projection = {\"_id\": False, \"next_token\": False} # exclude these fields from the result\n",
    "cursor = sampled_users_collection.find({}, projection)\n",
    "df = mongo_to_dataframe(list(cursor))"
   ]
  },
  {
   "cell_type": "code",
   "execution_count": 8,
   "id": "3aa4a065-3ebc-4a39-8303-85581274a71e",
   "metadata": {},
   "outputs": [],
   "source": [
    "df[\"created_at\"] = pd.to_datetime(df[\"created_at\"])\n",
    "df[\"RT_ratio\"] = df.num_RT_tweets / df.num_pulled_tweets"
   ]
  },
  {
   "cell_type": "code",
   "execution_count": 9,
   "id": "c1cc185e-9401-4df8-9deb-71ce9e4b3ea2",
   "metadata": {},
   "outputs": [
    {
     "data": {
      "text/html": [
       "<div>\n",
       "<style scoped>\n",
       "    .dataframe tbody tr th:only-of-type {\n",
       "        vertical-align: middle;\n",
       "    }\n",
       "\n",
       "    .dataframe tbody tr th {\n",
       "        vertical-align: top;\n",
       "    }\n",
       "\n",
       "    .dataframe thead th {\n",
       "        text-align: right;\n",
       "    }\n",
       "</style>\n",
       "<table border=\"1\" class=\"dataframe\">\n",
       "  <thead>\n",
       "    <tr style=\"text-align: right;\">\n",
       "      <th></th>\n",
       "      <th>id</th>\n",
       "      <th>username</th>\n",
       "      <th>created_at</th>\n",
       "      <th>tweet_count</th>\n",
       "      <th>error_or_no_access</th>\n",
       "      <th>num_pulled_tweets</th>\n",
       "      <th>num_pulled_mentions</th>\n",
       "      <th>num_RT_tweets</th>\n",
       "      <th>majority_lang</th>\n",
       "      <th>bot_score.cap.english</th>\n",
       "      <th>...</th>\n",
       "      <th>bot_score.raw_scores.english.spammer</th>\n",
       "      <th>bot_score.raw_scores.universal.astroturf</th>\n",
       "      <th>bot_score.raw_scores.universal.fake_follower</th>\n",
       "      <th>bot_score.raw_scores.universal.financial</th>\n",
       "      <th>bot_score.raw_scores.universal.other</th>\n",
       "      <th>bot_score.raw_scores.universal.overall</th>\n",
       "      <th>bot_score.raw_scores.universal.self_declared</th>\n",
       "      <th>bot_score.raw_scores.universal.spammer</th>\n",
       "      <th>bot_score</th>\n",
       "      <th>RT_ratio</th>\n",
       "    </tr>\n",
       "  </thead>\n",
       "  <tbody>\n",
       "    <tr>\n",
       "      <th>0</th>\n",
       "      <td>1386498869186502660</td>\n",
       "      <td>TerminatusX</td>\n",
       "      <td>2021-04-26 01:54:31+00:00</td>\n",
       "      <td>12432</td>\n",
       "      <td>False</td>\n",
       "      <td>199.0</td>\n",
       "      <td>0.0</td>\n",
       "      <td>107.0</td>\n",
       "      <td>en</td>\n",
       "      <td>0.797076</td>\n",
       "      <td>...</td>\n",
       "      <td>0.30</td>\n",
       "      <td>0.22</td>\n",
       "      <td>0.76</td>\n",
       "      <td>0.03</td>\n",
       "      <td>0.85</td>\n",
       "      <td>0.85</td>\n",
       "      <td>0.85</td>\n",
       "      <td>0.41</td>\n",
       "      <td>NaN</td>\n",
       "      <td>0.537688</td>\n",
       "    </tr>\n",
       "    <tr>\n",
       "      <th>1</th>\n",
       "      <td>1597654711011876868</td>\n",
       "      <td>LuciferVtuber__</td>\n",
       "      <td>2022-11-29 18:12:32+00:00</td>\n",
       "      <td>940</td>\n",
       "      <td>True</td>\n",
       "      <td>NaN</td>\n",
       "      <td>NaN</td>\n",
       "      <td>NaN</td>\n",
       "      <td>None</td>\n",
       "      <td>NaN</td>\n",
       "      <td>...</td>\n",
       "      <td>NaN</td>\n",
       "      <td>NaN</td>\n",
       "      <td>NaN</td>\n",
       "      <td>NaN</td>\n",
       "      <td>NaN</td>\n",
       "      <td>NaN</td>\n",
       "      <td>NaN</td>\n",
       "      <td>NaN</td>\n",
       "      <td>NaN</td>\n",
       "      <td>NaN</td>\n",
       "    </tr>\n",
       "    <tr>\n",
       "      <th>2</th>\n",
       "      <td>1461333578764230657</td>\n",
       "      <td>KeithDa78355606</td>\n",
       "      <td>2021-11-18 14:31:52+00:00</td>\n",
       "      <td>2291</td>\n",
       "      <td>False</td>\n",
       "      <td>200.0</td>\n",
       "      <td>100.0</td>\n",
       "      <td>10.0</td>\n",
       "      <td>en</td>\n",
       "      <td>0.797061</td>\n",
       "      <td>...</td>\n",
       "      <td>0.27</td>\n",
       "      <td>0.05</td>\n",
       "      <td>0.61</td>\n",
       "      <td>0.08</td>\n",
       "      <td>0.86</td>\n",
       "      <td>0.89</td>\n",
       "      <td>0.89</td>\n",
       "      <td>0.40</td>\n",
       "      <td>NaN</td>\n",
       "      <td>0.050000</td>\n",
       "    </tr>\n",
       "    <tr>\n",
       "      <th>3</th>\n",
       "      <td>2550669008</td>\n",
       "      <td>riverlevel_0885</td>\n",
       "      <td>2014-06-06 18:18:45+00:00</td>\n",
       "      <td>6988</td>\n",
       "      <td>False</td>\n",
       "      <td>200.0</td>\n",
       "      <td>1.0</td>\n",
       "      <td>0.0</td>\n",
       "      <td>en</td>\n",
       "      <td>0.874858</td>\n",
       "      <td>...</td>\n",
       "      <td>0.65</td>\n",
       "      <td>0.10</td>\n",
       "      <td>0.63</td>\n",
       "      <td>0.13</td>\n",
       "      <td>0.96</td>\n",
       "      <td>0.96</td>\n",
       "      <td>0.93</td>\n",
       "      <td>0.63</td>\n",
       "      <td>NaN</td>\n",
       "      <td>0.000000</td>\n",
       "    </tr>\n",
       "    <tr>\n",
       "      <th>4</th>\n",
       "      <td>1510071482314944512</td>\n",
       "      <td>Wabuuu2236</td>\n",
       "      <td>2022-04-02 01:49:05+00:00</td>\n",
       "      <td>250</td>\n",
       "      <td>False</td>\n",
       "      <td>197.0</td>\n",
       "      <td>85.0</td>\n",
       "      <td>4.0</td>\n",
       "      <td>en</td>\n",
       "      <td>0.816204</td>\n",
       "      <td>...</td>\n",
       "      <td>0.37</td>\n",
       "      <td>0.06</td>\n",
       "      <td>0.60</td>\n",
       "      <td>0.16</td>\n",
       "      <td>0.88</td>\n",
       "      <td>0.93</td>\n",
       "      <td>0.93</td>\n",
       "      <td>0.44</td>\n",
       "      <td>NaN</td>\n",
       "      <td>0.020305</td>\n",
       "    </tr>\n",
       "  </tbody>\n",
       "</table>\n",
       "<p>5 rows × 27 columns</p>\n",
       "</div>"
      ],
      "text/plain": [
       "                    id         username                created_at  \\\n",
       "0  1386498869186502660      TerminatusX 2021-04-26 01:54:31+00:00   \n",
       "1  1597654711011876868  LuciferVtuber__ 2022-11-29 18:12:32+00:00   \n",
       "2  1461333578764230657  KeithDa78355606 2021-11-18 14:31:52+00:00   \n",
       "3           2550669008  riverlevel_0885 2014-06-06 18:18:45+00:00   \n",
       "4  1510071482314944512       Wabuuu2236 2022-04-02 01:49:05+00:00   \n",
       "\n",
       "   tweet_count  error_or_no_access  num_pulled_tweets  num_pulled_mentions  \\\n",
       "0        12432               False              199.0                  0.0   \n",
       "1          940                True                NaN                  NaN   \n",
       "2         2291               False              200.0                100.0   \n",
       "3         6988               False              200.0                  1.0   \n",
       "4          250               False              197.0                 85.0   \n",
       "\n",
       "   num_RT_tweets majority_lang  bot_score.cap.english  ...  \\\n",
       "0          107.0            en               0.797076  ...   \n",
       "1            NaN          None                    NaN  ...   \n",
       "2           10.0            en               0.797061  ...   \n",
       "3            0.0            en               0.874858  ...   \n",
       "4            4.0            en               0.816204  ...   \n",
       "\n",
       "   bot_score.raw_scores.english.spammer  \\\n",
       "0                                  0.30   \n",
       "1                                   NaN   \n",
       "2                                  0.27   \n",
       "3                                  0.65   \n",
       "4                                  0.37   \n",
       "\n",
       "   bot_score.raw_scores.universal.astroturf  \\\n",
       "0                                      0.22   \n",
       "1                                       NaN   \n",
       "2                                      0.05   \n",
       "3                                      0.10   \n",
       "4                                      0.06   \n",
       "\n",
       "   bot_score.raw_scores.universal.fake_follower  \\\n",
       "0                                          0.76   \n",
       "1                                           NaN   \n",
       "2                                          0.61   \n",
       "3                                          0.63   \n",
       "4                                          0.60   \n",
       "\n",
       "   bot_score.raw_scores.universal.financial  \\\n",
       "0                                      0.03   \n",
       "1                                       NaN   \n",
       "2                                      0.08   \n",
       "3                                      0.13   \n",
       "4                                      0.16   \n",
       "\n",
       "   bot_score.raw_scores.universal.other  \\\n",
       "0                                  0.85   \n",
       "1                                   NaN   \n",
       "2                                  0.86   \n",
       "3                                  0.96   \n",
       "4                                  0.88   \n",
       "\n",
       "   bot_score.raw_scores.universal.overall  \\\n",
       "0                                    0.85   \n",
       "1                                     NaN   \n",
       "2                                    0.89   \n",
       "3                                    0.96   \n",
       "4                                    0.93   \n",
       "\n",
       "   bot_score.raw_scores.universal.self_declared  \\\n",
       "0                                          0.85   \n",
       "1                                           NaN   \n",
       "2                                          0.89   \n",
       "3                                          0.93   \n",
       "4                                          0.93   \n",
       "\n",
       "   bot_score.raw_scores.universal.spammer  bot_score  RT_ratio  \n",
       "0                                    0.41        NaN  0.537688  \n",
       "1                                     NaN        NaN       NaN  \n",
       "2                                    0.40        NaN  0.050000  \n",
       "3                                    0.63        NaN  0.000000  \n",
       "4                                    0.44        NaN  0.020305  \n",
       "\n",
       "[5 rows x 27 columns]"
      ]
     },
     "execution_count": 9,
     "metadata": {},
     "output_type": "execute_result"
    }
   ],
   "source": [
    "df.head()"
   ]
  },
  {
   "cell_type": "code",
   "execution_count": 10,
   "id": "a05721d1-2578-4e78-baff-ef0f83651183",
   "metadata": {},
   "outputs": [
    {
     "name": "stdout",
     "output_type": "stream",
     "text": [
      "<class 'pandas.core.frame.DataFrame'>\n",
      "RangeIndex: 1500 entries, 0 to 1499\n",
      "Data columns (total 27 columns):\n",
      " #   Column                                        Non-Null Count  Dtype              \n",
      "---  ------                                        --------------  -----              \n",
      " 0   id                                            1500 non-null   object             \n",
      " 1   username                                      1500 non-null   object             \n",
      " 2   created_at                                    1500 non-null   datetime64[ns, UTC]\n",
      " 3   tweet_count                                   1500 non-null   int64              \n",
      " 4   error_or_no_access                            1500 non-null   bool               \n",
      " 5   num_pulled_tweets                             1408 non-null   float64            \n",
      " 6   num_pulled_mentions                           1227 non-null   float64            \n",
      " 7   num_RT_tweets                                 1227 non-null   float64            \n",
      " 8   majority_lang                                 1227 non-null   object             \n",
      " 9   bot_score.cap.english                         1227 non-null   float64            \n",
      " 10  bot_score.cap.universal                       1227 non-null   float64            \n",
      " 11  bot_score.raw_scores.english.astroturf        1227 non-null   float64            \n",
      " 12  bot_score.raw_scores.english.fake_follower    1227 non-null   float64            \n",
      " 13  bot_score.raw_scores.english.financial        1227 non-null   float64            \n",
      " 14  bot_score.raw_scores.english.other            1227 non-null   float64            \n",
      " 15  bot_score.raw_scores.english.overall          1227 non-null   float64            \n",
      " 16  bot_score.raw_scores.english.self_declared    1227 non-null   float64            \n",
      " 17  bot_score.raw_scores.english.spammer          1227 non-null   float64            \n",
      " 18  bot_score.raw_scores.universal.astroturf      1227 non-null   float64            \n",
      " 19  bot_score.raw_scores.universal.fake_follower  1227 non-null   float64            \n",
      " 20  bot_score.raw_scores.universal.financial      1227 non-null   float64            \n",
      " 21  bot_score.raw_scores.universal.other          1227 non-null   float64            \n",
      " 22  bot_score.raw_scores.universal.overall        1227 non-null   float64            \n",
      " 23  bot_score.raw_scores.universal.self_declared  1227 non-null   float64            \n",
      " 24  bot_score.raw_scores.universal.spammer        1227 non-null   float64            \n",
      " 25  bot_score                                     0 non-null      float64            \n",
      " 26  RT_ratio                                      1227 non-null   float64            \n",
      "dtypes: bool(1), datetime64[ns, UTC](1), float64(21), int64(1), object(3)\n",
      "memory usage: 306.3+ KB\n"
     ]
    }
   ],
   "source": [
    "df.info()"
   ]
  },
  {
   "cell_type": "code",
   "execution_count": 11,
   "id": "973a2309-e3a7-4618-9f1e-6b813c2cd699",
   "metadata": {},
   "outputs": [],
   "source": [
    "subjects_condition = (df[\"error_or_no_access\"] == False) & (df[\"num_pulled_tweets\"] > 0) & (df[\"majority_lang\"] == \"en\")\n",
    "subjects_df = df[subjects_condition]"
   ]
  },
  {
   "cell_type": "code",
   "execution_count": 12,
   "id": "affaf596-4fc1-45a5-9b09-ab7a73f58f12",
   "metadata": {},
   "outputs": [
    {
     "data": {
      "text/html": [
       "<div>\n",
       "<style scoped>\n",
       "    .dataframe tbody tr th:only-of-type {\n",
       "        vertical-align: middle;\n",
       "    }\n",
       "\n",
       "    .dataframe tbody tr th {\n",
       "        vertical-align: top;\n",
       "    }\n",
       "\n",
       "    .dataframe thead th {\n",
       "        text-align: right;\n",
       "    }\n",
       "</style>\n",
       "<table border=\"1\" class=\"dataframe\">\n",
       "  <thead>\n",
       "    <tr style=\"text-align: right;\">\n",
       "      <th></th>\n",
       "      <th>id</th>\n",
       "      <th>username</th>\n",
       "      <th>created_at</th>\n",
       "      <th>tweet_count</th>\n",
       "      <th>error_or_no_access</th>\n",
       "      <th>num_pulled_tweets</th>\n",
       "      <th>num_pulled_mentions</th>\n",
       "      <th>num_RT_tweets</th>\n",
       "      <th>majority_lang</th>\n",
       "      <th>bot_score.cap.english</th>\n",
       "      <th>...</th>\n",
       "      <th>bot_score.raw_scores.english.spammer</th>\n",
       "      <th>bot_score.raw_scores.universal.astroturf</th>\n",
       "      <th>bot_score.raw_scores.universal.fake_follower</th>\n",
       "      <th>bot_score.raw_scores.universal.financial</th>\n",
       "      <th>bot_score.raw_scores.universal.other</th>\n",
       "      <th>bot_score.raw_scores.universal.overall</th>\n",
       "      <th>bot_score.raw_scores.universal.self_declared</th>\n",
       "      <th>bot_score.raw_scores.universal.spammer</th>\n",
       "      <th>bot_score</th>\n",
       "      <th>RT_ratio</th>\n",
       "    </tr>\n",
       "  </thead>\n",
       "  <tbody>\n",
       "    <tr>\n",
       "      <th>0</th>\n",
       "      <td>1386498869186502660</td>\n",
       "      <td>TerminatusX</td>\n",
       "      <td>2021-04-26 01:54:31+00:00</td>\n",
       "      <td>12432</td>\n",
       "      <td>False</td>\n",
       "      <td>199.0</td>\n",
       "      <td>0.0</td>\n",
       "      <td>107.0</td>\n",
       "      <td>en</td>\n",
       "      <td>0.797076</td>\n",
       "      <td>...</td>\n",
       "      <td>0.30</td>\n",
       "      <td>0.22</td>\n",
       "      <td>0.76</td>\n",
       "      <td>0.03</td>\n",
       "      <td>0.85</td>\n",
       "      <td>0.85</td>\n",
       "      <td>0.85</td>\n",
       "      <td>0.41</td>\n",
       "      <td>NaN</td>\n",
       "      <td>0.537688</td>\n",
       "    </tr>\n",
       "    <tr>\n",
       "      <th>2</th>\n",
       "      <td>1461333578764230657</td>\n",
       "      <td>KeithDa78355606</td>\n",
       "      <td>2021-11-18 14:31:52+00:00</td>\n",
       "      <td>2291</td>\n",
       "      <td>False</td>\n",
       "      <td>200.0</td>\n",
       "      <td>100.0</td>\n",
       "      <td>10.0</td>\n",
       "      <td>en</td>\n",
       "      <td>0.797061</td>\n",
       "      <td>...</td>\n",
       "      <td>0.27</td>\n",
       "      <td>0.05</td>\n",
       "      <td>0.61</td>\n",
       "      <td>0.08</td>\n",
       "      <td>0.86</td>\n",
       "      <td>0.89</td>\n",
       "      <td>0.89</td>\n",
       "      <td>0.40</td>\n",
       "      <td>NaN</td>\n",
       "      <td>0.050000</td>\n",
       "    </tr>\n",
       "    <tr>\n",
       "      <th>3</th>\n",
       "      <td>2550669008</td>\n",
       "      <td>riverlevel_0885</td>\n",
       "      <td>2014-06-06 18:18:45+00:00</td>\n",
       "      <td>6988</td>\n",
       "      <td>False</td>\n",
       "      <td>200.0</td>\n",
       "      <td>1.0</td>\n",
       "      <td>0.0</td>\n",
       "      <td>en</td>\n",
       "      <td>0.874858</td>\n",
       "      <td>...</td>\n",
       "      <td>0.65</td>\n",
       "      <td>0.10</td>\n",
       "      <td>0.63</td>\n",
       "      <td>0.13</td>\n",
       "      <td>0.96</td>\n",
       "      <td>0.96</td>\n",
       "      <td>0.93</td>\n",
       "      <td>0.63</td>\n",
       "      <td>NaN</td>\n",
       "      <td>0.000000</td>\n",
       "    </tr>\n",
       "    <tr>\n",
       "      <th>4</th>\n",
       "      <td>1510071482314944512</td>\n",
       "      <td>Wabuuu2236</td>\n",
       "      <td>2022-04-02 01:49:05+00:00</td>\n",
       "      <td>250</td>\n",
       "      <td>False</td>\n",
       "      <td>197.0</td>\n",
       "      <td>85.0</td>\n",
       "      <td>4.0</td>\n",
       "      <td>en</td>\n",
       "      <td>0.816204</td>\n",
       "      <td>...</td>\n",
       "      <td>0.37</td>\n",
       "      <td>0.06</td>\n",
       "      <td>0.60</td>\n",
       "      <td>0.16</td>\n",
       "      <td>0.88</td>\n",
       "      <td>0.93</td>\n",
       "      <td>0.93</td>\n",
       "      <td>0.44</td>\n",
       "      <td>NaN</td>\n",
       "      <td>0.020305</td>\n",
       "    </tr>\n",
       "    <tr>\n",
       "      <th>5</th>\n",
       "      <td>1594142802547441665</td>\n",
       "      <td>YungShitBird</td>\n",
       "      <td>2022-11-20 01:37:25+00:00</td>\n",
       "      <td>1269</td>\n",
       "      <td>False</td>\n",
       "      <td>200.0</td>\n",
       "      <td>100.0</td>\n",
       "      <td>11.0</td>\n",
       "      <td>en</td>\n",
       "      <td>0.796828</td>\n",
       "      <td>...</td>\n",
       "      <td>0.30</td>\n",
       "      <td>0.09</td>\n",
       "      <td>0.52</td>\n",
       "      <td>0.12</td>\n",
       "      <td>0.71</td>\n",
       "      <td>0.81</td>\n",
       "      <td>0.81</td>\n",
       "      <td>0.34</td>\n",
       "      <td>NaN</td>\n",
       "      <td>0.055000</td>\n",
       "    </tr>\n",
       "  </tbody>\n",
       "</table>\n",
       "<p>5 rows × 27 columns</p>\n",
       "</div>"
      ],
      "text/plain": [
       "                    id         username                created_at  \\\n",
       "0  1386498869186502660      TerminatusX 2021-04-26 01:54:31+00:00   \n",
       "2  1461333578764230657  KeithDa78355606 2021-11-18 14:31:52+00:00   \n",
       "3           2550669008  riverlevel_0885 2014-06-06 18:18:45+00:00   \n",
       "4  1510071482314944512       Wabuuu2236 2022-04-02 01:49:05+00:00   \n",
       "5  1594142802547441665     YungShitBird 2022-11-20 01:37:25+00:00   \n",
       "\n",
       "   tweet_count  error_or_no_access  num_pulled_tweets  num_pulled_mentions  \\\n",
       "0        12432               False              199.0                  0.0   \n",
       "2         2291               False              200.0                100.0   \n",
       "3         6988               False              200.0                  1.0   \n",
       "4          250               False              197.0                 85.0   \n",
       "5         1269               False              200.0                100.0   \n",
       "\n",
       "   num_RT_tweets majority_lang  bot_score.cap.english  ...  \\\n",
       "0          107.0            en               0.797076  ...   \n",
       "2           10.0            en               0.797061  ...   \n",
       "3            0.0            en               0.874858  ...   \n",
       "4            4.0            en               0.816204  ...   \n",
       "5           11.0            en               0.796828  ...   \n",
       "\n",
       "   bot_score.raw_scores.english.spammer  \\\n",
       "0                                  0.30   \n",
       "2                                  0.27   \n",
       "3                                  0.65   \n",
       "4                                  0.37   \n",
       "5                                  0.30   \n",
       "\n",
       "   bot_score.raw_scores.universal.astroturf  \\\n",
       "0                                      0.22   \n",
       "2                                      0.05   \n",
       "3                                      0.10   \n",
       "4                                      0.06   \n",
       "5                                      0.09   \n",
       "\n",
       "   bot_score.raw_scores.universal.fake_follower  \\\n",
       "0                                          0.76   \n",
       "2                                          0.61   \n",
       "3                                          0.63   \n",
       "4                                          0.60   \n",
       "5                                          0.52   \n",
       "\n",
       "   bot_score.raw_scores.universal.financial  \\\n",
       "0                                      0.03   \n",
       "2                                      0.08   \n",
       "3                                      0.13   \n",
       "4                                      0.16   \n",
       "5                                      0.12   \n",
       "\n",
       "   bot_score.raw_scores.universal.other  \\\n",
       "0                                  0.85   \n",
       "2                                  0.86   \n",
       "3                                  0.96   \n",
       "4                                  0.88   \n",
       "5                                  0.71   \n",
       "\n",
       "   bot_score.raw_scores.universal.overall  \\\n",
       "0                                    0.85   \n",
       "2                                    0.89   \n",
       "3                                    0.96   \n",
       "4                                    0.93   \n",
       "5                                    0.81   \n",
       "\n",
       "   bot_score.raw_scores.universal.self_declared  \\\n",
       "0                                          0.85   \n",
       "2                                          0.89   \n",
       "3                                          0.93   \n",
       "4                                          0.93   \n",
       "5                                          0.81   \n",
       "\n",
       "   bot_score.raw_scores.universal.spammer  bot_score  RT_ratio  \n",
       "0                                    0.41        NaN  0.537688  \n",
       "2                                    0.40        NaN  0.050000  \n",
       "3                                    0.63        NaN  0.000000  \n",
       "4                                    0.44        NaN  0.020305  \n",
       "5                                    0.34        NaN  0.055000  \n",
       "\n",
       "[5 rows x 27 columns]"
      ]
     },
     "execution_count": 12,
     "metadata": {},
     "output_type": "execute_result"
    }
   ],
   "source": [
    "subjects_df.head()"
   ]
  },
  {
   "cell_type": "code",
   "execution_count": 46,
   "id": "d63749c1-c58b-4dcf-bd06-ff1a6dcbba42",
   "metadata": {},
   "outputs": [
    {
     "data": {
      "text/plain": [
       "181"
      ]
     },
     "execution_count": 46,
     "metadata": {},
     "output_type": "execute_result"
    }
   ],
   "source": [
    "condition = (df[\"error_or_no_access\"] == False) & (df[\"num_pulled_tweets\"] == 0)\n",
    "users_df = df[condition]\n",
    "users_df.id.count()"
   ]
  },
  {
   "cell_type": "code",
   "execution_count": 13,
   "id": "fe6dc17c-5e8c-42c8-acbf-a66187a368ff",
   "metadata": {},
   "outputs": [
    {
     "data": {
      "text/plain": [
       "1135"
      ]
     },
     "execution_count": 13,
     "metadata": {},
     "output_type": "execute_result"
    }
   ],
   "source": [
    "subjects_df.id.count()"
   ]
  },
  {
   "cell_type": "markdown",
   "id": "45bb27b5-b12e-4a9b-b802-b912792b2a30",
   "metadata": {
    "tags": []
   },
   "source": [
    "# RT ratio"
   ]
  },
  {
   "cell_type": "code",
   "execution_count": 14,
   "id": "911e3665-4e1c-49df-8dfd-e32c4933ca5b",
   "metadata": {},
   "outputs": [
    {
     "data": {
      "text/plain": [
       "array([[<AxesSubplot: title={'center': 'RT_ratio'}>]], dtype=object)"
      ]
     },
     "execution_count": 14,
     "metadata": {},
     "output_type": "execute_result"
    },
    {
     "data": {
      "image/png": "[encoded data removed]",
      "text/plain": [
       "<Figure size 640x480 with 1 Axes>"
      ]
     },
     "metadata": {},
     "output_type": "display_data"
    }
   ],
   "source": [
    "pd.plotting.hist_frame(subjects_df, \"RT_ratio\")"
   ]
  },
  {
   "cell_type": "code",
   "execution_count": 15,
   "id": "3b01d2e1-5298-40d5-9b83-05ef75ff5c07",
   "metadata": {},
   "outputs": [
    {
     "data": {
      "image/png": "[encoded data removed]",
      "text/plain": [
       "<Figure size 640x480 with 1 Axes>"
      ]
     },
     "metadata": {},
     "output_type": "display_data"
    }
   ],
   "source": [
    "ax = pd.plotting.boxplot(subjects_df, \"RT_ratio\")"
   ]
  },
  {
   "cell_type": "code",
   "execution_count": 16,
   "id": "1740c076-5026-4fc9-9c7f-4f0d5b4f8920",
   "metadata": {},
   "outputs": [
    {
     "data": {
      "text/plain": [
       "count    1135.000000\n",
       "mean        0.228429\n",
       "std         0.249881\n",
       "min         0.000000\n",
       "25%         0.025000\n",
       "50%         0.135000\n",
       "75%         0.357143\n",
       "max         1.000000\n",
       "Name: RT_ratio, dtype: float64"
      ]
     },
     "execution_count": 16,
     "metadata": {},
     "output_type": "execute_result"
    }
   ],
   "source": [
    "subjects_df.RT_ratio.describe()"
   ]
  },
  {
   "cell_type": "markdown",
   "id": "2127916c-e572-49c4-a8eb-c86bc4ac7abf",
   "metadata": {},
   "source": [
    "# Bot scores"
   ]
  },
  {
   "cell_type": "markdown",
   "id": "77e66b00-55bf-4586-b1d8-ac591be9ad98",
   "metadata": {},
   "source": [
    "## CAP score"
   ]
  },
  {
   "cell_type": "code",
   "execution_count": 17,
   "id": "36ba1a06-1890-4818-a1b0-01cbc7f96769",
   "metadata": {},
   "outputs": [
    {
     "data": {
      "text/plain": [
       "array([[<AxesSubplot: title={'center': 'bot_score.cap.english'}>]],\n",
       "      dtype=object)"
      ]
     },
     "execution_count": 17,
     "metadata": {},
     "output_type": "execute_result"
    },
    {
     "data": {
      "image/png": "[encoded data removed]",
      "text/plain": [
       "<Figure size 640x480 with 1 Axes>"
      ]
     },
     "metadata": {},
     "output_type": "display_data"
    }
   ],
   "source": [
    "pd.plotting.hist_frame(subjects_df, \"bot_score.cap.english\", bins=30)"
   ]
  },
  {
   "cell_type": "markdown",
   "id": "064a3d21-4928-44fb-a00e-d2ac8fa73c11",
   "metadata": {},
   "source": [
    "## Overall score"
   ]
  },
  {
   "cell_type": "code",
   "execution_count": 18,
   "id": "95103c70-4239-43d3-acce-160872142b10",
   "metadata": {},
   "outputs": [
    {
     "data": {
      "text/plain": [
       "array([[<AxesSubplot: title={'center': 'bot_score.raw_scores.english.overall'}>]],\n",
       "      dtype=object)"
      ]
     },
     "execution_count": 18,
     "metadata": {},
     "output_type": "execute_result"
    },
    {
     "data": {
      "image/png": "[encoded data removed]",
      "text/plain": [
       "<Figure size 640x480 with 1 Axes>"
      ]
     },
     "metadata": {},
     "output_type": "display_data"
    }
   ],
   "source": [
    "pd.plotting.hist_frame(subjects_df, \"bot_score.raw_scores.english.overall\", bins=50)"
   ]
  },
  {
   "cell_type": "code",
   "execution_count": 19,
   "id": "883e3802-9551-4161-8c6e-7db045d71c29",
   "metadata": {},
   "outputs": [
    {
     "data": {
      "text/plain": [
       "<AxesSubplot: >"
      ]
     },
     "execution_count": 19,
     "metadata": {},
     "output_type": "execute_result"
    },
    {
     "data": {
      "image/png": "[encoded data removed]",
      "text/plain": [
       "<Figure size 640x480 with 1 Axes>"
      ]
     },
     "metadata": {},
     "output_type": "display_data"
    }
   ],
   "source": [
    "pd.plotting.boxplot(subjects_df, \"bot_score.raw_scores.english.overall\")"
   ]
  },
  {
   "cell_type": "code",
   "execution_count": 20,
   "id": "111ffa67-895a-4ce2-b6a0-69aeedad83a8",
   "metadata": {},
   "outputs": [
    {
     "data": {
      "text/plain": [
       "count    1135.000000\n",
       "mean        0.574326\n",
       "std         0.171039\n",
       "min         0.180000\n",
       "25%         0.420000\n",
       "50%         0.590000\n",
       "75%         0.700000\n",
       "max         1.000000\n",
       "Name: bot_score.raw_scores.english.overall, dtype: float64"
      ]
     },
     "execution_count": 20,
     "metadata": {},
     "output_type": "execute_result"
    }
   ],
   "source": [
    "subjects_df[\"bot_score.raw_scores.english.overall\"].describe()"
   ]
  },
  {
   "cell_type": "markdown",
   "id": "e415d10c-a1a8-48e8-b376-1dd9c5759b4b",
   "metadata": {},
   "source": [
    "# Low score users"
   ]
  },
  {
   "cell_type": "code",
   "execution_count": 36,
   "id": "7cc89b73-b31b-4d26-91e2-87be2d271603",
   "metadata": {},
   "outputs": [
    {
     "name": "stderr",
     "output_type": "stream",
     "text": [
      "/var/folders/dd/2_blbb9s3nn8bw_ty17bwmdc0002l2/T/ipykernel_5167/1178835442.py:6: SettingWithCopyWarning: \n",
      "A value is trying to be set on a copy of a slice from a DataFrame.\n",
      "Try using .loc[row_indexer,col_indexer] = value instead\n",
      "\n",
      "See the caveats in the documentation: https://pandas.pydata.org/pandas-docs/stable/user_guide/indexing.html#returning-a-view-versus-a-copy\n",
      "  subjects_df[\"low_score\"] = low_score_selection\n"
     ]
    }
   ],
   "source": [
    "score_threshold = 0.5\n",
    "low_score_selection = (subjects_df[\"bot_score.raw_scores.english.overall\"] < score_threshold) \n",
    "# rt_ratio_threshold = 0.8\n",
    "# low_rt_ratio_selection = (subjects_df[\"RT_ratio\"] < rt_ratio_threshold) \n",
    "\n",
    "subjects_df[\"low_score\"] = low_score_selection\n",
    "# subjects_df[\"low_score\"] = low_score_selection & low_rt_ratio_selection"
   ]
  },
  {
   "cell_type": "code",
   "execution_count": 37,
   "id": "e6a2e07d-92c6-4ad9-8b23-65400adfe6d3",
   "metadata": {},
   "outputs": [
    {
     "data": {
      "text/html": [
       "<div>\n",
       "<style scoped>\n",
       "    .dataframe tbody tr th:only-of-type {\n",
       "        vertical-align: middle;\n",
       "    }\n",
       "\n",
       "    .dataframe tbody tr th {\n",
       "        vertical-align: top;\n",
       "    }\n",
       "\n",
       "    .dataframe thead th {\n",
       "        text-align: right;\n",
       "    }\n",
       "</style>\n",
       "<table border=\"1\" class=\"dataframe\">\n",
       "  <thead>\n",
       "    <tr style=\"text-align: right;\">\n",
       "      <th></th>\n",
       "      <th>id</th>\n",
       "      <th>username</th>\n",
       "      <th>created_at</th>\n",
       "      <th>tweet_count</th>\n",
       "      <th>error_or_no_access</th>\n",
       "      <th>num_pulled_tweets</th>\n",
       "      <th>num_pulled_mentions</th>\n",
       "      <th>num_RT_tweets</th>\n",
       "      <th>majority_lang</th>\n",
       "      <th>bot_score.cap.english</th>\n",
       "      <th>...</th>\n",
       "      <th>bot_score.raw_scores.universal.astroturf</th>\n",
       "      <th>bot_score.raw_scores.universal.fake_follower</th>\n",
       "      <th>bot_score.raw_scores.universal.financial</th>\n",
       "      <th>bot_score.raw_scores.universal.other</th>\n",
       "      <th>bot_score.raw_scores.universal.overall</th>\n",
       "      <th>bot_score.raw_scores.universal.self_declared</th>\n",
       "      <th>bot_score.raw_scores.universal.spammer</th>\n",
       "      <th>bot_score</th>\n",
       "      <th>RT_ratio</th>\n",
       "      <th>low_score</th>\n",
       "    </tr>\n",
       "  </thead>\n",
       "  <tbody>\n",
       "    <tr>\n",
       "      <th>0</th>\n",
       "      <td>1386498869186502660</td>\n",
       "      <td>TerminatusX</td>\n",
       "      <td>2021-04-26 01:54:31+00:00</td>\n",
       "      <td>12432</td>\n",
       "      <td>False</td>\n",
       "      <td>199.0</td>\n",
       "      <td>0.0</td>\n",
       "      <td>107.0</td>\n",
       "      <td>en</td>\n",
       "      <td>0.797076</td>\n",
       "      <td>...</td>\n",
       "      <td>0.22</td>\n",
       "      <td>0.76</td>\n",
       "      <td>0.03</td>\n",
       "      <td>0.85</td>\n",
       "      <td>0.85</td>\n",
       "      <td>0.85</td>\n",
       "      <td>0.41</td>\n",
       "      <td>NaN</td>\n",
       "      <td>0.537688</td>\n",
       "      <td>False</td>\n",
       "    </tr>\n",
       "    <tr>\n",
       "      <th>2</th>\n",
       "      <td>1461333578764230657</td>\n",
       "      <td>KeithDa78355606</td>\n",
       "      <td>2021-11-18 14:31:52+00:00</td>\n",
       "      <td>2291</td>\n",
       "      <td>False</td>\n",
       "      <td>200.0</td>\n",
       "      <td>100.0</td>\n",
       "      <td>10.0</td>\n",
       "      <td>en</td>\n",
       "      <td>0.797061</td>\n",
       "      <td>...</td>\n",
       "      <td>0.05</td>\n",
       "      <td>0.61</td>\n",
       "      <td>0.08</td>\n",
       "      <td>0.86</td>\n",
       "      <td>0.89</td>\n",
       "      <td>0.89</td>\n",
       "      <td>0.40</td>\n",
       "      <td>NaN</td>\n",
       "      <td>0.050000</td>\n",
       "      <td>True</td>\n",
       "    </tr>\n",
       "    <tr>\n",
       "      <th>3</th>\n",
       "      <td>2550669008</td>\n",
       "      <td>riverlevel_0885</td>\n",
       "      <td>2014-06-06 18:18:45+00:00</td>\n",
       "      <td>6988</td>\n",
       "      <td>False</td>\n",
       "      <td>200.0</td>\n",
       "      <td>1.0</td>\n",
       "      <td>0.0</td>\n",
       "      <td>en</td>\n",
       "      <td>0.874858</td>\n",
       "      <td>...</td>\n",
       "      <td>0.10</td>\n",
       "      <td>0.63</td>\n",
       "      <td>0.13</td>\n",
       "      <td>0.96</td>\n",
       "      <td>0.96</td>\n",
       "      <td>0.93</td>\n",
       "      <td>0.63</td>\n",
       "      <td>NaN</td>\n",
       "      <td>0.000000</td>\n",
       "      <td>False</td>\n",
       "    </tr>\n",
       "    <tr>\n",
       "      <th>4</th>\n",
       "      <td>1510071482314944512</td>\n",
       "      <td>Wabuuu2236</td>\n",
       "      <td>2022-04-02 01:49:05+00:00</td>\n",
       "      <td>250</td>\n",
       "      <td>False</td>\n",
       "      <td>197.0</td>\n",
       "      <td>85.0</td>\n",
       "      <td>4.0</td>\n",
       "      <td>en</td>\n",
       "      <td>0.816204</td>\n",
       "      <td>...</td>\n",
       "      <td>0.06</td>\n",
       "      <td>0.60</td>\n",
       "      <td>0.16</td>\n",
       "      <td>0.88</td>\n",
       "      <td>0.93</td>\n",
       "      <td>0.93</td>\n",
       "      <td>0.44</td>\n",
       "      <td>NaN</td>\n",
       "      <td>0.020305</td>\n",
       "      <td>False</td>\n",
       "    </tr>\n",
       "    <tr>\n",
       "      <th>5</th>\n",
       "      <td>1594142802547441665</td>\n",
       "      <td>YungShitBird</td>\n",
       "      <td>2022-11-20 01:37:25+00:00</td>\n",
       "      <td>1269</td>\n",
       "      <td>False</td>\n",
       "      <td>200.0</td>\n",
       "      <td>100.0</td>\n",
       "      <td>11.0</td>\n",
       "      <td>en</td>\n",
       "      <td>0.796828</td>\n",
       "      <td>...</td>\n",
       "      <td>0.09</td>\n",
       "      <td>0.52</td>\n",
       "      <td>0.12</td>\n",
       "      <td>0.71</td>\n",
       "      <td>0.81</td>\n",
       "      <td>0.81</td>\n",
       "      <td>0.34</td>\n",
       "      <td>NaN</td>\n",
       "      <td>0.055000</td>\n",
       "      <td>True</td>\n",
       "    </tr>\n",
       "  </tbody>\n",
       "</table>\n",
       "<p>5 rows × 28 columns</p>\n",
       "</div>"
      ],
      "text/plain": [
       "                    id         username                created_at  \\\n",
       "0  1386498869186502660      TerminatusX 2021-04-26 01:54:31+00:00   \n",
       "2  1461333578764230657  KeithDa78355606 2021-11-18 14:31:52+00:00   \n",
       "3           2550669008  riverlevel_0885 2014-06-06 18:18:45+00:00   \n",
       "4  1510071482314944512       Wabuuu2236 2022-04-02 01:49:05+00:00   \n",
       "5  1594142802547441665     YungShitBird 2022-11-20 01:37:25+00:00   \n",
       "\n",
       "   tweet_count  error_or_no_access  num_pulled_tweets  num_pulled_mentions  \\\n",
       "0        12432               False              199.0                  0.0   \n",
       "2         2291               False              200.0                100.0   \n",
       "3         6988               False              200.0                  1.0   \n",
       "4          250               False              197.0                 85.0   \n",
       "5         1269               False              200.0                100.0   \n",
       "\n",
       "   num_RT_tweets majority_lang  bot_score.cap.english  ...  \\\n",
       "0          107.0            en               0.797076  ...   \n",
       "2           10.0            en               0.797061  ...   \n",
       "3            0.0            en               0.874858  ...   \n",
       "4            4.0            en               0.816204  ...   \n",
       "5           11.0            en               0.796828  ...   \n",
       "\n",
       "   bot_score.raw_scores.universal.astroturf  \\\n",
       "0                                      0.22   \n",
       "2                                      0.05   \n",
       "3                                      0.10   \n",
       "4                                      0.06   \n",
       "5                                      0.09   \n",
       "\n",
       "   bot_score.raw_scores.universal.fake_follower  \\\n",
       "0                                          0.76   \n",
       "2                                          0.61   \n",
       "3                                          0.63   \n",
       "4                                          0.60   \n",
       "5                                          0.52   \n",
       "\n",
       "   bot_score.raw_scores.universal.financial  \\\n",
       "0                                      0.03   \n",
       "2                                      0.08   \n",
       "3                                      0.13   \n",
       "4                                      0.16   \n",
       "5                                      0.12   \n",
       "\n",
       "   bot_score.raw_scores.universal.other  \\\n",
       "0                                  0.85   \n",
       "2                                  0.86   \n",
       "3                                  0.96   \n",
       "4                                  0.88   \n",
       "5                                  0.71   \n",
       "\n",
       "   bot_score.raw_scores.universal.overall  \\\n",
       "0                                    0.85   \n",
       "2                                    0.89   \n",
       "3                                    0.96   \n",
       "4                                    0.93   \n",
       "5                                    0.81   \n",
       "\n",
       "   bot_score.raw_scores.universal.self_declared  \\\n",
       "0                                          0.85   \n",
       "2                                          0.89   \n",
       "3                                          0.93   \n",
       "4                                          0.93   \n",
       "5                                          0.81   \n",
       "\n",
       "   bot_score.raw_scores.universal.spammer  bot_score  RT_ratio  low_score  \n",
       "0                                    0.41        NaN  0.537688      False  \n",
       "2                                    0.40        NaN  0.050000       True  \n",
       "3                                    0.63        NaN  0.000000      False  \n",
       "4                                    0.44        NaN  0.020305      False  \n",
       "5                                    0.34        NaN  0.055000       True  \n",
       "\n",
       "[5 rows x 28 columns]"
      ]
     },
     "execution_count": 37,
     "metadata": {},
     "output_type": "execute_result"
    }
   ],
   "source": [
    "subjects_df.head()"
   ]
  },
  {
   "cell_type": "code",
   "execution_count": 38,
   "id": "791d2882-e012-414e-bbe5-38562fe4c2a4",
   "metadata": {},
   "outputs": [
    {
     "data": {
      "text/plain": [
       "False    701\n",
       "True     434\n",
       "Name: low_score, dtype: int64"
      ]
     },
     "execution_count": 38,
     "metadata": {},
     "output_type": "execute_result"
    }
   ],
   "source": [
    "subjects_df.low_score.value_counts()"
   ]
  },
  {
   "cell_type": "markdown",
   "id": "538554a1-1c87-4c07-8e3c-c0ac9ed34071",
   "metadata": {},
   "source": [
    "## Number of tweets"
   ]
  },
  {
   "cell_type": "code",
   "execution_count": 39,
   "id": "379a49e7-8fd9-4e13-afc0-180c19e7035f",
   "metadata": {},
   "outputs": [
    {
     "data": {
      "text/plain": [
       "array([<AxesSubplot: title={'center': 'False'}>,\n",
       "       <AxesSubplot: title={'center': 'True'}>], dtype=object)"
      ]
     },
     "execution_count": 39,
     "metadata": {},
     "output_type": "execute_result"
    },
    {
     "data": {
      "image/png": "[encoded data removed]",
      "text/plain": [
       "<Figure size 640x480 with 2 Axes>"
      ]
     },
     "metadata": {},
     "output_type": "display_data"
    }
   ],
   "source": [
    "pd.plotting.hist_frame(subjects_df, \"tweet_count\", bins=100, by=\"low_score\", sharey=True, range=(0, 100000))"
   ]
  },
  {
   "cell_type": "code",
   "execution_count": 40,
   "id": "e71256a5-d92c-4614-bcc7-50bd6770c12b",
   "metadata": {},
   "outputs": [
    {
     "data": {
      "text/plain": [
       "array([<AxesSubplot: title={'center': 'False'}>,\n",
       "       <AxesSubplot: title={'center': 'True'}>], dtype=object)"
      ]
     },
     "execution_count": 40,
     "metadata": {},
     "output_type": "execute_result"
    },
    {
     "data": {
      "image/png": "[encoded data removed]",
      "text/plain": [
       "<Figure size 640x480 with 2 Axes>"
      ]
     },
     "metadata": {},
     "output_type": "display_data"
    }
   ],
   "source": [
    "pd.plotting.hist_frame(subjects_df, \"RT_ratio\", by=\"low_score\", sharey=True)"
   ]
  },
  {
   "cell_type": "code",
   "execution_count": 41,
   "id": "bbf2831c-026c-4412-bd57-ca981224410e",
   "metadata": {},
   "outputs": [
    {
     "data": {
      "text/plain": [
       "array([<AxesSubplot: title={'center': 'False'}>,\n",
       "       <AxesSubplot: title={'center': 'True'}>], dtype=object)"
      ]
     },
     "execution_count": 41,
     "metadata": {},
     "output_type": "execute_result"
    },
    {
     "data": {
      "image/png": "[encoded data removed]",
      "text/plain": [
       "<Figure size 640x480 with 2 Axes>"
      ]
     },
     "metadata": {},
     "output_type": "display_data"
    }
   ],
   "source": [
    "pd.plotting.hist_frame(subjects_df, \"created_at\", by=\"low_score\", sharey=True)"
   ]
  },
  {
   "cell_type": "code",
   "execution_count": 42,
   "id": "deccdb20-b9fe-43b3-9eda-6ffa4c1ac141",
   "metadata": {},
   "outputs": [
    {
     "data": {
      "text/plain": [
       "array([<AxesSubplot: title={'center': 'False'}>,\n",
       "       <AxesSubplot: title={'center': 'True'}>], dtype=object)"
      ]
     },
     "execution_count": 42,
     "metadata": {},
     "output_type": "execute_result"
    },
    {
     "data": {
      "image/png": "[encoded data removed]",
      "text/plain": [
       "<Figure size 640x480 with 2 Axes>"
      ]
     },
     "metadata": {},
     "output_type": "display_data"
    }
   ],
   "source": [
    "pd.plotting.hist_frame(subjects_df, \"num_pulled_mentions\", by=\"low_score\", sharey=True)"
   ]
  },
  {
   "cell_type": "code",
   "execution_count": 43,
   "id": "4cf5c4fe-b1b2-442e-803a-02319e116557",
   "metadata": {},
   "outputs": [
    {
     "data": {
      "text/plain": [
       "array([<AxesSubplot: title={'center': 'False'}>,\n",
       "       <AxesSubplot: title={'center': 'True'}>], dtype=object)"
      ]
     },
     "execution_count": 43,
     "metadata": {},
     "output_type": "execute_result"
    },
    {
     "data": {
      "image/png": "[encoded data removed]",
      "text/plain": [
       "<Figure size 640x480 with 2 Axes>"
      ]
     },
     "metadata": {},
     "output_type": "display_data"
    }
   ],
   "source": [
    "pd.plotting.hist_frame(subjects_df, \"num_pulled_tweets\", by=\"low_score\", sharey=True)"
   ]
  },
  {
   "cell_type": "code",
   "execution_count": 44,
   "id": "0816098b-7fbd-46ba-b031-f6a1eb0ed5cb",
   "metadata": {},
   "outputs": [
    {
     "data": {
      "text/plain": [
       "array([<AxesSubplot: title={'center': 'False'}>,\n",
       "       <AxesSubplot: title={'center': 'True'}>], dtype=object)"
      ]
     },
     "execution_count": 44,
     "metadata": {},
     "output_type": "execute_result"
    },
    {
     "data": {
      "image/png": "[encoded data removed]",
      "text/plain": [
       "<Figure size 640x480 with 2 Axes>"
      ]
     },
     "metadata": {},
     "output_type": "display_data"
    }
   ],
   "source": [
    "pd.plotting.hist_frame(subjects_df, \"bot_score.cap.english\", by=\"low_score\", sharey=True, stacked=True, histtype=\"barstacked\")"
   ]
  },
  {
   "cell_type": "markdown",
   "id": "f0cb6567-bd71-4294-bbbc-c8a747a57a27",
   "metadata": {},
   "source": [
    "# Choosing our criteria\n",
    "Out of the users who had at least 200 tweets in their timeline, we wish to keep the following:\n",
    "- users who didn't get suspended\n",
    "- users whose majority language is english\n",
    "- users for whom we have num_pulled_tweets > 0\n",
    "- users whose RT ratio is < 0.5\n",
    "- users whose bot score is < 0.5"
   ]
  },
  {
   "cell_type": "code",
   "execution_count": 47,
   "id": "0bddaa6a-129d-4dd5-8a8a-526fe7dda1f8",
   "metadata": {},
   "outputs": [],
   "source": [
    "not_suspended = df[\"error_or_no_access\"] == False\n",
    "en_majority = df[\"majority_lang\"] == \"en\"\n",
    "have_tweets = df[\"num_pulled_tweets\"] > 0\n",
    "RT_acceptable = df[\"RT_ratio\"] < 0.5\n",
    "bot_score_acceptable = df[\"bot_score.raw_scores.english.overall\"] < 0.5"
   ]
  },
  {
   "cell_type": "code",
   "execution_count": 49,
   "id": "0f22d27b-6249-4c4b-a7d5-2b4b64d4ed58",
   "metadata": {},
   "outputs": [],
   "source": [
    "filtered_df = df[not_suspended & en_majority & have_tweets & RT_acceptable & bot_score_acceptable]"
   ]
  },
  {
   "cell_type": "code",
   "execution_count": 50,
   "id": "8c11b423-44a4-45df-86f6-e7a5b02a7a48",
   "metadata": {},
   "outputs": [
    {
     "data": {
      "text/html": [
       "<div>\n",
       "<style scoped>\n",
       "    .dataframe tbody tr th:only-of-type {\n",
       "        vertical-align: middle;\n",
       "    }\n",
       "\n",
       "    .dataframe tbody tr th {\n",
       "        vertical-align: top;\n",
       "    }\n",
       "\n",
       "    .dataframe thead th {\n",
       "        text-align: right;\n",
       "    }\n",
       "</style>\n",
       "<table border=\"1\" class=\"dataframe\">\n",
       "  <thead>\n",
       "    <tr style=\"text-align: right;\">\n",
       "      <th></th>\n",
       "      <th>id</th>\n",
       "      <th>username</th>\n",
       "      <th>created_at</th>\n",
       "      <th>tweet_count</th>\n",
       "      <th>error_or_no_access</th>\n",
       "      <th>num_pulled_tweets</th>\n",
       "      <th>num_pulled_mentions</th>\n",
       "      <th>num_RT_tweets</th>\n",
       "      <th>majority_lang</th>\n",
       "      <th>bot_score.cap.english</th>\n",
       "      <th>...</th>\n",
       "      <th>bot_score.raw_scores.english.spammer</th>\n",
       "      <th>bot_score.raw_scores.universal.astroturf</th>\n",
       "      <th>bot_score.raw_scores.universal.fake_follower</th>\n",
       "      <th>bot_score.raw_scores.universal.financial</th>\n",
       "      <th>bot_score.raw_scores.universal.other</th>\n",
       "      <th>bot_score.raw_scores.universal.overall</th>\n",
       "      <th>bot_score.raw_scores.universal.self_declared</th>\n",
       "      <th>bot_score.raw_scores.universal.spammer</th>\n",
       "      <th>bot_score</th>\n",
       "      <th>RT_ratio</th>\n",
       "    </tr>\n",
       "  </thead>\n",
       "  <tbody>\n",
       "    <tr>\n",
       "      <th>2</th>\n",
       "      <td>1461333578764230657</td>\n",
       "      <td>KeithDa78355606</td>\n",
       "      <td>2021-11-18 14:31:52+00:00</td>\n",
       "      <td>2291</td>\n",
       "      <td>False</td>\n",
       "      <td>200.0</td>\n",
       "      <td>100.0</td>\n",
       "      <td>10.0</td>\n",
       "      <td>en</td>\n",
       "      <td>0.797061</td>\n",
       "      <td>...</td>\n",
       "      <td>0.27</td>\n",
       "      <td>0.05</td>\n",
       "      <td>0.61</td>\n",
       "      <td>0.08</td>\n",
       "      <td>0.86</td>\n",
       "      <td>0.89</td>\n",
       "      <td>0.89</td>\n",
       "      <td>0.40</td>\n",
       "      <td>NaN</td>\n",
       "      <td>0.050</td>\n",
       "    </tr>\n",
       "    <tr>\n",
       "      <th>5</th>\n",
       "      <td>1594142802547441665</td>\n",
       "      <td>YungShitBird</td>\n",
       "      <td>2022-11-20 01:37:25+00:00</td>\n",
       "      <td>1269</td>\n",
       "      <td>False</td>\n",
       "      <td>200.0</td>\n",
       "      <td>100.0</td>\n",
       "      <td>11.0</td>\n",
       "      <td>en</td>\n",
       "      <td>0.796828</td>\n",
       "      <td>...</td>\n",
       "      <td>0.30</td>\n",
       "      <td>0.09</td>\n",
       "      <td>0.52</td>\n",
       "      <td>0.12</td>\n",
       "      <td>0.71</td>\n",
       "      <td>0.81</td>\n",
       "      <td>0.81</td>\n",
       "      <td>0.34</td>\n",
       "      <td>NaN</td>\n",
       "      <td>0.055</td>\n",
       "    </tr>\n",
       "    <tr>\n",
       "      <th>6</th>\n",
       "      <td>1499514153978843150</td>\n",
       "      <td>TimothyNuell</td>\n",
       "      <td>2022-03-03 22:39:03+00:00</td>\n",
       "      <td>9333</td>\n",
       "      <td>False</td>\n",
       "      <td>200.0</td>\n",
       "      <td>11.0</td>\n",
       "      <td>11.0</td>\n",
       "      <td>en</td>\n",
       "      <td>0.794672</td>\n",
       "      <td>...</td>\n",
       "      <td>0.35</td>\n",
       "      <td>0.07</td>\n",
       "      <td>0.60</td>\n",
       "      <td>0.03</td>\n",
       "      <td>0.86</td>\n",
       "      <td>0.86</td>\n",
       "      <td>0.86</td>\n",
       "      <td>0.46</td>\n",
       "      <td>NaN</td>\n",
       "      <td>0.055</td>\n",
       "    </tr>\n",
       "    <tr>\n",
       "      <th>9</th>\n",
       "      <td>36945210</td>\n",
       "      <td>bkb29JD</td>\n",
       "      <td>2009-05-01 13:47:21+00:00</td>\n",
       "      <td>4484</td>\n",
       "      <td>False</td>\n",
       "      <td>200.0</td>\n",
       "      <td>100.0</td>\n",
       "      <td>2.0</td>\n",
       "      <td>en</td>\n",
       "      <td>0.782636</td>\n",
       "      <td>...</td>\n",
       "      <td>0.22</td>\n",
       "      <td>0.05</td>\n",
       "      <td>0.50</td>\n",
       "      <td>0.06</td>\n",
       "      <td>0.74</td>\n",
       "      <td>0.74</td>\n",
       "      <td>0.71</td>\n",
       "      <td>0.28</td>\n",
       "      <td>NaN</td>\n",
       "      <td>0.010</td>\n",
       "    </tr>\n",
       "    <tr>\n",
       "      <th>27</th>\n",
       "      <td>1599012307</td>\n",
       "      <td>Richard55139752</td>\n",
       "      <td>2013-07-16 18:23:15+00:00</td>\n",
       "      <td>3353</td>\n",
       "      <td>False</td>\n",
       "      <td>200.0</td>\n",
       "      <td>100.0</td>\n",
       "      <td>88.0</td>\n",
       "      <td>en</td>\n",
       "      <td>0.793958</td>\n",
       "      <td>...</td>\n",
       "      <td>0.32</td>\n",
       "      <td>0.16</td>\n",
       "      <td>0.55</td>\n",
       "      <td>0.10</td>\n",
       "      <td>0.87</td>\n",
       "      <td>0.87</td>\n",
       "      <td>0.74</td>\n",
       "      <td>0.32</td>\n",
       "      <td>NaN</td>\n",
       "      <td>0.440</td>\n",
       "    </tr>\n",
       "  </tbody>\n",
       "</table>\n",
       "<p>5 rows × 27 columns</p>\n",
       "</div>"
      ],
      "text/plain": [
       "                     id         username                created_at  \\\n",
       "2   1461333578764230657  KeithDa78355606 2021-11-18 14:31:52+00:00   \n",
       "5   1594142802547441665     YungShitBird 2022-11-20 01:37:25+00:00   \n",
       "6   1499514153978843150     TimothyNuell 2022-03-03 22:39:03+00:00   \n",
       "9              36945210          bkb29JD 2009-05-01 13:47:21+00:00   \n",
       "27           1599012307  Richard55139752 2013-07-16 18:23:15+00:00   \n",
       "\n",
       "    tweet_count  error_or_no_access  num_pulled_tweets  num_pulled_mentions  \\\n",
       "2          2291               False              200.0                100.0   \n",
       "5          1269               False              200.0                100.0   \n",
       "6          9333               False              200.0                 11.0   \n",
       "9          4484               False              200.0                100.0   \n",
       "27         3353               False              200.0                100.0   \n",
       "\n",
       "    num_RT_tweets majority_lang  bot_score.cap.english  ...  \\\n",
       "2            10.0            en               0.797061  ...   \n",
       "5            11.0            en               0.796828  ...   \n",
       "6            11.0            en               0.794672  ...   \n",
       "9             2.0            en               0.782636  ...   \n",
       "27           88.0            en               0.793958  ...   \n",
       "\n",
       "    bot_score.raw_scores.english.spammer  \\\n",
       "2                                   0.27   \n",
       "5                                   0.30   \n",
       "6                                   0.35   \n",
       "9                                   0.22   \n",
       "27                                  0.32   \n",
       "\n",
       "    bot_score.raw_scores.universal.astroturf  \\\n",
       "2                                       0.05   \n",
       "5                                       0.09   \n",
       "6                                       0.07   \n",
       "9                                       0.05   \n",
       "27                                      0.16   \n",
       "\n",
       "    bot_score.raw_scores.universal.fake_follower  \\\n",
       "2                                           0.61   \n",
       "5                                           0.52   \n",
       "6                                           0.60   \n",
       "9                                           0.50   \n",
       "27                                          0.55   \n",
       "\n",
       "    bot_score.raw_scores.universal.financial  \\\n",
       "2                                       0.08   \n",
       "5                                       0.12   \n",
       "6                                       0.03   \n",
       "9                                       0.06   \n",
       "27                                      0.10   \n",
       "\n",
       "    bot_score.raw_scores.universal.other  \\\n",
       "2                                   0.86   \n",
       "5                                   0.71   \n",
       "6                                   0.86   \n",
       "9                                   0.74   \n",
       "27                                  0.87   \n",
       "\n",
       "    bot_score.raw_scores.universal.overall  \\\n",
       "2                                     0.89   \n",
       "5                                     0.81   \n",
       "6                                     0.86   \n",
       "9                                     0.74   \n",
       "27                                    0.87   \n",
       "\n",
       "    bot_score.raw_scores.universal.self_declared  \\\n",
       "2                                           0.89   \n",
       "5                                           0.81   \n",
       "6                                           0.86   \n",
       "9                                           0.71   \n",
       "27                                          0.74   \n",
       "\n",
       "    bot_score.raw_scores.universal.spammer  bot_score  RT_ratio  \n",
       "2                                     0.40        NaN     0.050  \n",
       "5                                     0.34        NaN     0.055  \n",
       "6                                     0.46        NaN     0.055  \n",
       "9                                     0.28        NaN     0.010  \n",
       "27                                    0.32        NaN     0.440  \n",
       "\n",
       "[5 rows x 27 columns]"
      ]
     },
     "execution_count": 50,
     "metadata": {},
     "output_type": "execute_result"
    }
   ],
   "source": [
    "filtered_df.head()"
   ]
  },
  {
   "cell_type": "markdown",
   "id": "3ea4e16c-c808-400f-b810-9130252c6121",
   "metadata": {},
   "source": [
    "### **There are only 360 users out of the 1500 sampled ones that fit this criteria!!!!**"
   ]
  },
  {
   "cell_type": "code",
   "execution_count": 51,
   "id": "aacf0481-314e-46fd-91c7-08d6cee3a095",
   "metadata": {},
   "outputs": [
    {
     "data": {
      "text/plain": [
       "360"
      ]
     },
     "execution_count": 51,
     "metadata": {},
     "output_type": "execute_result"
    }
   ],
   "source": [
    "filtered_df.id.count()"
   ]
  },
  {
   "cell_type": "markdown",
   "id": "773350d4-07da-40f1-b349-13d1af6398e5",
   "metadata": {},
   "source": [
    "And the most restrictive condition is the bot score..."
   ]
  },
  {
   "cell_type": "code",
   "execution_count": 54,
   "id": "d9ef6e76-f624-4d13-b75a-d4818b4adbab",
   "metadata": {},
   "outputs": [
    {
     "name": "stdout",
     "output_type": "stream",
     "text": [
      "Number of users that fulfill not_suspended: 1408\n",
      "Number of users that fulfill en_majority: 1135\n",
      "Number of users that fulfill have_tweets: 1227\n",
      "Number of users that fulfill RT_acceptable: 1020\n",
      "Number of users that fulfill bot_score_acceptable: 436\n"
     ]
    }
   ],
   "source": [
    "condition_names = [\"not_suspended\", \"en_majority\", \"have_tweets\", \"RT_acceptable\", \"bot_score_acceptable\"]\n",
    "conditions = [not_suspended, en_majority, have_tweets, RT_acceptable, bot_score_acceptable]\n",
    "for name, condition in zip(condition_names, conditions):\n",
    "    res_df = df[condition]\n",
    "    print(\"Number of users that fulfill %s: %d\" % (name, res_df.id.count()))"
   ]
  },
  {
   "cell_type": "code",
   "execution_count": null,
   "id": "46ac6b10-8334-4a54-b5fe-166c5c0353e8",
   "metadata": {},
   "outputs": [],
   "source": []
  }
 ],
 "metadata": {
  "kernelspec": {
   "display_name": "Python 3 (ipykernel)",
   "language": "python",
   "name": "python3"
  },
  "language_info": {
   "codemirror_mode": {
    "name": "ipython",
    "version": 3
   },
   "file_extension": ".py",
   "mimetype": "text/x-python",
   "name": "python",
   "nbconvert_exporter": "python",
   "pygments_lexer": "ipython3",
   "version": "3.9.15"
  }
 },
 "nbformat": 4,
 "nbformat_minor": 5
}

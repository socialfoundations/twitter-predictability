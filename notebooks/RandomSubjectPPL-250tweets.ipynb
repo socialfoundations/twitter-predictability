{
 "cells": [
  {
   "cell_type": "code",
   "execution_count": 3,
   "id": "472c989d-709a-4fa7-928d-7b1cd1710b8f",
   "metadata": {},
   "outputs": [],
   "source": [
    "%load_ext dotenv\n",
    "%dotenv "
   ]
  },
  {
   "cell_type": "code",
   "execution_count": 20,
   "id": "ad675463-5014-4620-b62f-995119ad3fb6",
   "metadata": {},
   "outputs": [],
   "source": [
    "from pymongo import MongoClient\n",
    "import os\n",
    "from datasets import Dataset, DatasetDict\n",
    "import re\n",
    "from transformers import AutoTokenizer, AutoModelForCausalLM\n",
    "import torch\n",
    "import plotly.express as px\n",
    "from tqdm import tqdm\n",
    "import pandas as pd\n",
    "import math\n",
    "from transformers import DataCollatorWithPadding\n",
    "import numpy as np\n",
    "import scipy.stats"
   ]
  },
  {
   "cell_type": "code",
   "execution_count": 5,
   "id": "a44cb101-e41c-4f23-8743-4682ad05cca3",
   "metadata": {},
   "outputs": [],
   "source": [
    "ID = \"1308026329\"\n",
    "MODEL_ID = \"gpt2\""
   ]
  },
  {
   "cell_type": "code",
   "execution_count": 6,
   "id": "bbe79a37-b5d4-4ad4-87d5-f9e671c1e391",
   "metadata": {},
   "outputs": [],
   "source": [
    "mongo_conn = MongoClient(os.environ[\"MONGO_CONN\"])\n",
    "db = mongo_conn.twitter  # our database\n",
    "\n",
    "subjects_collection = db[\"subjects_collection\"]\n",
    "timelines_collection = db[\"timelines_collection\"]\n",
    "peers_collection = db[\"peers_collection\"]"
   ]
  },
  {
   "cell_type": "markdown",
   "id": "19aa395f-ca88-489d-a598-5d90f402816d",
   "metadata": {},
   "source": [
    "# User"
   ]
  },
  {
   "cell_type": "code",
   "execution_count": 7,
   "id": "058a898c-1531-4594-8c32-4a3270a6e095",
   "metadata": {},
   "outputs": [
    {
     "data": {
      "text/plain": [
       "{'_id': ObjectId('63de1efed7f30964c36bb079'),\n",
       " 'created_at': '2013-03-27T16:58:10.000Z',\n",
       " 'description': 'Forever reading too many books at once while trying to find the perfect red lip. 👌🏼 bookstagram @starless.reader 📚',\n",
       " 'entities': {'url': {'urls': [{'start': 0,\n",
       "     'end': 23,\n",
       "     'url': 'https://t.co/UCwYGISyGI',\n",
       "     'expanded_url': 'http://www.shewritesaboutbooks.com',\n",
       "     'display_url': 'shewritesaboutbooks.com'}]},\n",
       "  'description': {'mentions': [{'start': 96,\n",
       "     'end': 105,\n",
       "     'username': 'starless'}]}},\n",
       " 'id': '1308026329',\n",
       " 'location': 'Perth, Australia',\n",
       " 'name': 'Ｓａｍａｎｔｈａ．💜',\n",
       " 'profile_image_url': 'https://pbs.twimg.com/profile_images/839815038844063744/rUZwGFvu_normal.jpg',\n",
       " 'protected': False,\n",
       " 'public_metrics': {'followers_count': 857,\n",
       "  'following_count': 826,\n",
       "  'tweet_count': 8750,\n",
       "  'listed_count': 14},\n",
       " 'url': 'https://t.co/UCwYGISyGI',\n",
       " 'username': 'starless_reader',\n",
       " 'verified': False,\n",
       " 'verified_type': 'none',\n",
       " 'timeline_tweets_count': 648}"
      ]
     },
     "execution_count": 7,
     "metadata": {},
     "output_type": "execute_result"
    }
   ],
   "source": [
    "subject = subjects_collection.find_one({\"id\": ID})\n",
    "subject"
   ]
  },
  {
   "cell_type": "markdown",
   "id": "c0a6416a-2f46-4673-a0a0-0ddb68cbf451",
   "metadata": {},
   "source": [
    "# User tweets"
   ]
  },
  {
   "cell_type": "code",
   "execution_count": 8,
   "id": "5f2419d1-35d1-4a02-bec2-838d6fa2a5f2",
   "metadata": {},
   "outputs": [
    {
     "name": "stdout",
     "output_type": "stream",
     "text": [
      "0.) @PaperFury I’m taking this as a personal attack now. 😂😂 https://t.co/wRzxfTzTpH\n",
      "1.) @PaperFury I did not ask to be called out like that 😂 https://t.co/lvHYjvAvgL\n",
      "2.) The absolute best news to wake up to! 🥳🥳🥳🥳 https://t.co/SK3braPmNf\n",
      "3.) 🥳🥳🥳🥳 https://t.co/yAtO3LsHMq\n",
      "4.) @bookswithneeks As someone who is reading it and enjoying it… You’ll probably hate it 😂😂\n",
      "5.) A mood https://t.co/3ZEwWopeAY\n",
      "6.) @PaperFury All day, every day 💁🏻‍♀️💁🏻‍♀️\n",
      "7.) @PaperFury Still a ten 💁🏻‍♀️\n",
      "8.) @PaperFury Omg 😂😂😂😂😂\n",
      "9.) @shleyreads Ummmm gross?!\n"
     ]
    }
   ],
   "source": [
    "user_tweets = list(timelines_collection.find({\"author_id\": ID, \"referenced_tweets.type\": {\"$ne\": \"retweeted\"}}, {\"_id\": 0}))\n",
    "\n",
    "for tweet, i in zip(user_tweets, range(10)):\n",
    "    print(f\"{i}.) {tweet['text']}\")"
   ]
  },
  {
   "cell_type": "code",
   "execution_count": 9,
   "id": "b2a01246-d546-4408-b4ba-2c0e5ae6fb46",
   "metadata": {},
   "outputs": [
    {
     "data": {
      "text/plain": [
       "{'created_at': '2023-01-16T13:25:49.000Z',\n",
       " 'in_reply_to_user_id': '1381015116',\n",
       " 'entities': {'mentions': [{'start': 0,\n",
       "    'end': 10,\n",
       "    'username': 'PaperFury',\n",
       "    'id': '1381015116'}],\n",
       "  'urls': [{'start': 56,\n",
       "    'end': 79,\n",
       "    'url': 'https://t.co/wRzxfTzTpH',\n",
       "    'expanded_url': 'https://twitter.com/PaperFury/status/1614975937589968897',\n",
       "    'display_url': 'twitter.com/PaperFury/stat…'}]},\n",
       " 'public_metrics': {'retweet_count': 0,\n",
       "  'reply_count': 0,\n",
       "  'like_count': 0,\n",
       "  'quote_count': 0,\n",
       "  'impression_count': 19},\n",
       " 'referenced_tweets': [{'type': 'quoted', 'id': '1614975937589968897'}],\n",
       " 'possibly_sensitive': False,\n",
       " 'lang': 'en',\n",
       " 'author_id': '1308026329',\n",
       " 'edit_history_tweet_ids': ['1614977223655829505'],\n",
       " 'edit_controls': {'edits_remaining': 5,\n",
       "  'is_edit_eligible': True,\n",
       "  'editable_until': datetime.datetime(2023, 1, 16, 13, 55, 49)},\n",
       " 'conversation_id': '1614977223655829505',\n",
       " 'text': '@PaperFury I’m taking this as a personal attack now. 😂😂 https://t.co/wRzxfTzTpH',\n",
       " 'id': '1614977223655829505',\n",
       " 'reply_settings': 'everyone',\n",
       " 'queried_at': '2023-03-23T11:21:32.244441'}"
      ]
     },
     "execution_count": 9,
     "metadata": {},
     "output_type": "execute_result"
    }
   ],
   "source": [
    "user_tweets[0]"
   ]
  },
  {
   "cell_type": "markdown",
   "id": "68c5bdd6-7184-4980-98a2-690c5fb413ca",
   "metadata": {},
   "source": [
    "## Dataset"
   ]
  },
  {
   "cell_type": "code",
   "execution_count": 21,
   "id": "dc6d30ea-8c84-4921-9954-0617629f03ae",
   "metadata": {},
   "outputs": [],
   "source": [
    "tweets_dataset = Dataset.from_list(user_tweets)"
   ]
  },
  {
   "cell_type": "code",
   "execution_count": 22,
   "id": "85be0f9f-8f70-4282-a400-26890e4d6f77",
   "metadata": {},
   "outputs": [
    {
     "data": {
      "text/plain": [
       "Dataset({\n",
       "    features: ['created_at', 'in_reply_to_user_id', 'entities', 'public_metrics', 'referenced_tweets', 'possibly_sensitive', 'lang', 'author_id', 'edit_history_tweet_ids', 'edit_controls', 'conversation_id', 'text', 'id', 'reply_settings', 'queried_at'],\n",
       "    num_rows: 659\n",
       "})"
      ]
     },
     "execution_count": 22,
     "metadata": {},
     "output_type": "execute_result"
    }
   ],
   "source": [
    "tweets_dataset"
   ]
  },
  {
   "cell_type": "code",
   "execution_count": 23,
   "id": "5cb3c45e-e983-4f96-bf19-8117d5a664cd",
   "metadata": {},
   "outputs": [],
   "source": [
    "sample = tweets_dataset.select(range(500))"
   ]
  },
  {
   "cell_type": "markdown",
   "id": "10530ea2-6c85-402c-b668-44090279137b",
   "metadata": {},
   "source": [
    "### Preprocess text"
   ]
  },
  {
   "cell_type": "code",
   "execution_count": 24,
   "id": "3712571b-17db-4bd6-ae0b-139ab3b8b241",
   "metadata": {},
   "outputs": [],
   "source": [
    "def remove_urls(x):\n",
    "    return {\"text\": re.sub(r\"http\\S+\", \"\", x[\"text\"])}\n",
    "\n",
    "def remove_extra_spaces(x):\n",
    "    return {\"text\": \" \".join(x[\"text\"].split())}"
   ]
  },
  {
   "cell_type": "code",
   "execution_count": 25,
   "id": "117bf671-60c1-494b-a70c-26b6fdf8842c",
   "metadata": {},
   "outputs": [
    {
     "data": {
      "application/vnd.jupyter.widget-view+json": {
       "model_id": "eb74d36474944536bb9fbc56b57e0527",
       "version_major": 2,
       "version_minor": 0
      },
      "text/plain": [
       "  0%|          | 0/500 [00:00<?, ?ex/s]"
      ]
     },
     "metadata": {},
     "output_type": "display_data"
    },
    {
     "data": {
      "application/vnd.jupyter.widget-view+json": {
       "model_id": "b4d88c1fc3f94126b6ac020c9e2fa6a8",
       "version_major": 2,
       "version_minor": 0
      },
      "text/plain": [
       "  0%|          | 0/500 [00:00<?, ?ex/s]"
      ]
     },
     "metadata": {},
     "output_type": "display_data"
    }
   ],
   "source": [
    "updated_sample = sample.map(remove_urls).map(remove_extra_spaces)"
   ]
  },
  {
   "cell_type": "code",
   "execution_count": 26,
   "id": "83c5ad26-d86e-444f-919a-a2a1e201d539",
   "metadata": {},
   "outputs": [
    {
     "name": "stdout",
     "output_type": "stream",
     "text": [
      "0.) @PaperFury I’m taking this as a personal attack now. 😂😂\n",
      "1.) @PaperFury I did not ask to be called out like that 😂\n",
      "2.) The absolute best news to wake up to! 🥳🥳🥳🥳\n",
      "3.) 🥳🥳🥳🥳\n",
      "4.) @bookswithneeks As someone who is reading it and enjoying it… You’ll probably hate it 😂😂\n",
      "5.) A mood\n",
      "6.) @PaperFury All day, every day 💁🏻‍♀️💁🏻‍♀️\n",
      "7.) @PaperFury Still a ten 💁🏻‍♀️\n",
      "8.) @PaperFury Omg 😂😂😂😂😂\n",
      "9.) @shleyreads Ummmm gross?!\n"
     ]
    }
   ],
   "source": [
    "for tweet, i in zip(updated_sample, range(10)):\n",
    "    print(f\"{i}.) {tweet['text']}\")"
   ]
  },
  {
   "cell_type": "code",
   "execution_count": 32,
   "id": "8bdc064b-00c7-4054-93e7-3d5d29d76832",
   "metadata": {},
   "outputs": [],
   "source": [
    "updated_sample = DatasetDict({\n",
    "    \"test\": updated_sample.select(range(250)),\n",
    "    \"train\": updated_sample.select(range(250, 500))\n",
    "})"
   ]
  },
  {
   "cell_type": "markdown",
   "id": "8012c222-7312-49c8-99e4-7401e0fb324f",
   "metadata": {
    "jp-MarkdownHeadingCollapsed": true,
    "tags": []
   },
   "source": [
    "### Tokenization"
   ]
  },
  {
   "cell_type": "code",
   "execution_count": 33,
   "id": "e8944482-c9d1-468a-aa54-ed460a872d22",
   "metadata": {},
   "outputs": [],
   "source": [
    "tokenizer = AutoTokenizer.from_pretrained(MODEL_ID)"
   ]
  },
  {
   "cell_type": "code",
   "execution_count": 34,
   "id": "a872ba11-59f9-4d09-9031-292eed40f4ac",
   "metadata": {},
   "outputs": [
    {
     "name": "stdout",
     "output_type": "stream",
     "text": [
      "@PaperFury I’m taking this as a personal attack now. 😂😂\n",
      "['@', 'Paper', 'F', 'ury', 'ĠI', 'âĢ', 'Ļ', 'm', 'Ġtaking', 'Ġthis', 'Ġas', 'Ġa', 'Ġpersonal', 'Ġattack', 'Ġnow', '.', 'ĠðŁĺ', 'Ĥ', 'ðŁĺ', 'Ĥ']\n",
      "[31, 42950, 37, 1601, 314, 447, 247, 76, 2263, 428, 355, 257, 2614, 1368, 783, 13, 30325, 224, 47249, 224]\n"
     ]
    }
   ],
   "source": [
    "text = updated_sample[\"test\"][0][\"text\"]\n",
    "text_tokenized = tokenizer.tokenize(text)\n",
    "ids = tokenizer.convert_tokens_to_ids(text_tokenized)\n",
    "print(text)\n",
    "print(text_tokenized)\n",
    "print(ids)"
   ]
  },
  {
   "cell_type": "code",
   "execution_count": 35,
   "id": "e0d3378b-fa7e-430b-8241-1b43687fd196",
   "metadata": {},
   "outputs": [
    {
     "name": "stdout",
     "output_type": "stream",
     "text": [
      "@PaperFury I’m taking this as a personal attack now. 😂😂\n"
     ]
    }
   ],
   "source": [
    "decoded = tokenizer.decode(ids)\n",
    "print(decoded)"
   ]
  },
  {
   "cell_type": "code",
   "execution_count": 36,
   "id": "fe767428-90f5-4881-961a-19a2114bae81",
   "metadata": {},
   "outputs": [
    {
     "data": {
      "text/plain": [
       "'left'"
      ]
     },
     "execution_count": 36,
     "metadata": {},
     "output_type": "execute_result"
    }
   ],
   "source": [
    "tokenizer.truncation_side = \"left\"\n",
    "tokenizer.truncation_side"
   ]
  },
  {
   "cell_type": "code",
   "execution_count": 37,
   "id": "24f8573f-e723-4e56-9bd8-f679e679d5a4",
   "metadata": {},
   "outputs": [
    {
     "data": {
      "text/plain": [
       "'right'"
      ]
     },
     "execution_count": 37,
     "metadata": {},
     "output_type": "execute_result"
    }
   ],
   "source": [
    "# tokenizer.padding_side = \"left\"\n",
    "tokenizer.padding_side"
   ]
  },
  {
   "cell_type": "code",
   "execution_count": 38,
   "id": "bcd0be54-68ce-4e57-9b3e-70284e4a05af",
   "metadata": {},
   "outputs": [],
   "source": [
    "tokenizer.pad_token = tokenizer.eos_token"
   ]
  },
  {
   "cell_type": "code",
   "execution_count": 39,
   "id": "129d6f4c-968e-4fb0-acfa-ae1aab4c9e8e",
   "metadata": {},
   "outputs": [],
   "source": [
    "def tokenize_func(x):\n",
    "    return tokenizer(x[\"text\"], padding=True, return_tensors=\"pt\")"
   ]
  },
  {
   "cell_type": "code",
   "execution_count": 40,
   "id": "a55f8bb9-7cfe-48af-8339-3a753013dd5b",
   "metadata": {
    "tags": []
   },
   "outputs": [
    {
     "data": {
      "application/vnd.jupyter.widget-view+json": {
       "model_id": "d2b018c4d11b4e2fb0071411cdf66dc1",
       "version_major": 2,
       "version_minor": 0
      },
      "text/plain": [
       "  0%|          | 0/1 [00:00<?, ?ba/s]"
      ]
     },
     "metadata": {},
     "output_type": "display_data"
    }
   ],
   "source": [
    "tokenized_samples = updated_sample[\"test\"].map(tokenize_func, batched=True)"
   ]
  },
  {
   "cell_type": "code",
   "execution_count": 41,
   "id": "62730675-7680-4113-873a-12fe8d86b6fe",
   "metadata": {
    "collapsed": true,
    "jupyter": {
     "outputs_hidden": true
    },
    "tags": []
   },
   "outputs": [
    {
     "name": "stdout",
     "output_type": "stream",
     "text": [
      "[31, 42950, 37, 1601, 314, 447, 247, 76, 2263, 428, 355, 257, 2614, 1368, 783, 13, 30325, 224, 47249, 224, 50256, 50256, 50256, 50256, 50256, 50256, 50256, 50256, 50256, 50256, 50256, 50256, 50256, 50256, 50256, 50256, 50256, 50256, 50256, 50256, 50256, 50256, 50256, 50256, 50256, 50256, 50256, 50256, 50256, 50256, 50256, 50256, 50256, 50256, 50256, 50256, 50256, 50256, 50256, 50256, 50256, 50256, 50256, 50256, 50256, 50256, 50256, 50256, 50256, 50256, 50256, 50256, 50256, 50256]\n",
      "[1, 1, 1, 1, 1, 1, 1, 1, 1, 1, 1, 1, 1, 1, 1, 1, 1, 1, 1, 1, 0, 0, 0, 0, 0, 0, 0, 0, 0, 0, 0, 0, 0, 0, 0, 0, 0, 0, 0, 0, 0, 0, 0, 0, 0, 0, 0, 0, 0, 0, 0, 0, 0, 0, 0, 0, 0, 0, 0, 0, 0, 0, 0, 0, 0, 0, 0, 0, 0, 0, 0, 0, 0, 0]\n",
      "[31, 42950, 37, 1601, 314, 750, 407, 1265, 284, 307, 1444, 503, 588, 326, 30325, 224, 50256, 50256, 50256, 50256, 50256, 50256, 50256, 50256, 50256, 50256, 50256, 50256, 50256, 50256, 50256, 50256, 50256, 50256, 50256, 50256, 50256, 50256, 50256, 50256, 50256, 50256, 50256, 50256, 50256, 50256, 50256, 50256, 50256, 50256, 50256, 50256, 50256, 50256, 50256, 50256, 50256, 50256, 50256, 50256, 50256, 50256, 50256, 50256, 50256, 50256, 50256, 50256, 50256, 50256, 50256, 50256, 50256, 50256]\n",
      "[1, 1, 1, 1, 1, 1, 1, 1, 1, 1, 1, 1, 1, 1, 1, 1, 0, 0, 0, 0, 0, 0, 0, 0, 0, 0, 0, 0, 0, 0, 0, 0, 0, 0, 0, 0, 0, 0, 0, 0, 0, 0, 0, 0, 0, 0, 0, 0, 0, 0, 0, 0, 0, 0, 0, 0, 0, 0, 0, 0, 0, 0, 0, 0, 0, 0, 0, 0, 0, 0, 0, 0, 0, 0]\n",
      "[464, 4112, 1266, 1705, 284, 7765, 510, 284, 0, 12520, 98, 111, 8582, 98, 111, 8582, 98, 111, 8582, 98, 111, 50256, 50256, 50256, 50256, 50256, 50256, 50256, 50256, 50256, 50256, 50256, 50256, 50256, 50256, 50256, 50256, 50256, 50256, 50256, 50256, 50256, 50256, 50256, 50256, 50256, 50256, 50256, 50256, 50256, 50256, 50256, 50256, 50256, 50256, 50256, 50256, 50256, 50256, 50256, 50256, 50256, 50256, 50256, 50256, 50256, 50256, 50256, 50256, 50256, 50256, 50256, 50256, 50256]\n",
      "[1, 1, 1, 1, 1, 1, 1, 1, 1, 1, 1, 1, 1, 1, 1, 1, 1, 1, 1, 1, 1, 0, 0, 0, 0, 0, 0, 0, 0, 0, 0, 0, 0, 0, 0, 0, 0, 0, 0, 0, 0, 0, 0, 0, 0, 0, 0, 0, 0, 0, 0, 0, 0, 0, 0, 0, 0, 0, 0, 0, 0, 0, 0, 0, 0, 0, 0, 0, 0, 0, 0, 0, 0, 0]\n",
      "[8582, 98, 111, 8582, 98, 111, 8582, 98, 111, 8582, 98, 111, 50256, 50256, 50256, 50256, 50256, 50256, 50256, 50256, 50256, 50256, 50256, 50256, 50256, 50256, 50256, 50256, 50256, 50256, 50256, 50256, 50256, 50256, 50256, 50256, 50256, 50256, 50256, 50256, 50256, 50256, 50256, 50256, 50256, 50256, 50256, 50256, 50256, 50256, 50256, 50256, 50256, 50256, 50256, 50256, 50256, 50256, 50256, 50256, 50256, 50256, 50256, 50256, 50256, 50256, 50256, 50256, 50256, 50256, 50256, 50256, 50256, 50256]\n",
      "[1, 1, 1, 1, 1, 1, 1, 1, 1, 1, 1, 1, 0, 0, 0, 0, 0, 0, 0, 0, 0, 0, 0, 0, 0, 0, 0, 0, 0, 0, 0, 0, 0, 0, 0, 0, 0, 0, 0, 0, 0, 0, 0, 0, 0, 0, 0, 0, 0, 0, 0, 0, 0, 0, 0, 0, 0, 0, 0, 0, 0, 0, 0, 0, 0, 0, 0, 0, 0, 0, 0, 0, 0, 0]\n",
      "[31, 2070, 2032, 342, 710, 2573, 1081, 2130, 508, 318, 3555, 340, 290, 13226, 340, 1399, 921, 447, 247, 297, 2192, 5465, 340, 30325, 224, 47249, 224, 50256, 50256, 50256, 50256, 50256, 50256, 50256, 50256, 50256, 50256, 50256, 50256, 50256, 50256, 50256, 50256, 50256, 50256, 50256, 50256, 50256, 50256, 50256, 50256, 50256, 50256, 50256, 50256, 50256, 50256, 50256, 50256, 50256, 50256, 50256, 50256, 50256, 50256, 50256, 50256, 50256, 50256, 50256, 50256, 50256, 50256, 50256]\n",
      "[1, 1, 1, 1, 1, 1, 1, 1, 1, 1, 1, 1, 1, 1, 1, 1, 1, 1, 1, 1, 1, 1, 1, 1, 1, 1, 1, 0, 0, 0, 0, 0, 0, 0, 0, 0, 0, 0, 0, 0, 0, 0, 0, 0, 0, 0, 0, 0, 0, 0, 0, 0, 0, 0, 0, 0, 0, 0, 0, 0, 0, 0, 0, 0, 0, 0, 0, 0, 0, 0, 0, 0, 0, 0]\n",
      "[32, 10038, 50256, 50256, 50256, 50256, 50256, 50256, 50256, 50256, 50256, 50256, 50256, 50256, 50256, 50256, 50256, 50256, 50256, 50256, 50256, 50256, 50256, 50256, 50256, 50256, 50256, 50256, 50256, 50256, 50256, 50256, 50256, 50256, 50256, 50256, 50256, 50256, 50256, 50256, 50256, 50256, 50256, 50256, 50256, 50256, 50256, 50256, 50256, 50256, 50256, 50256, 50256, 50256, 50256, 50256, 50256, 50256, 50256, 50256, 50256, 50256, 50256, 50256, 50256, 50256, 50256, 50256, 50256, 50256, 50256, 50256, 50256, 50256]\n",
      "[1, 1, 0, 0, 0, 0, 0, 0, 0, 0, 0, 0, 0, 0, 0, 0, 0, 0, 0, 0, 0, 0, 0, 0, 0, 0, 0, 0, 0, 0, 0, 0, 0, 0, 0, 0, 0, 0, 0, 0, 0, 0, 0, 0, 0, 0, 0, 0, 0, 0, 0, 0, 0, 0, 0, 0, 0, 0, 0, 0, 0, 0, 0, 0, 0, 0, 0, 0, 0, 0, 0, 0, 0, 0]\n",
      "[31, 42950, 37, 1601, 1439, 1110, 11, 790, 1110, 12520, 240, 223, 8582, 237, 119, 447, 235, 17992, 222, 37929, 8582, 240, 223, 8582, 237, 119, 447, 235, 17992, 222, 37929, 50256, 50256, 50256, 50256, 50256, 50256, 50256, 50256, 50256, 50256, 50256, 50256, 50256, 50256, 50256, 50256, 50256, 50256, 50256, 50256, 50256, 50256, 50256, 50256, 50256, 50256, 50256, 50256, 50256, 50256, 50256, 50256, 50256, 50256, 50256, 50256, 50256, 50256, 50256, 50256, 50256, 50256, 50256]\n",
      "[1, 1, 1, 1, 1, 1, 1, 1, 1, 1, 1, 1, 1, 1, 1, 1, 1, 1, 1, 1, 1, 1, 1, 1, 1, 1, 1, 1, 1, 1, 1, 0, 0, 0, 0, 0, 0, 0, 0, 0, 0, 0, 0, 0, 0, 0, 0, 0, 0, 0, 0, 0, 0, 0, 0, 0, 0, 0, 0, 0, 0, 0, 0, 0, 0, 0, 0, 0, 0, 0, 0, 0, 0, 0]\n",
      "[31, 42950, 37, 1601, 7831, 257, 3478, 12520, 240, 223, 8582, 237, 119, 447, 235, 17992, 222, 37929, 50256, 50256, 50256, 50256, 50256, 50256, 50256, 50256, 50256, 50256, 50256, 50256, 50256, 50256, 50256, 50256, 50256, 50256, 50256, 50256, 50256, 50256, 50256, 50256, 50256, 50256, 50256, 50256, 50256, 50256, 50256, 50256, 50256, 50256, 50256, 50256, 50256, 50256, 50256, 50256, 50256, 50256, 50256, 50256, 50256, 50256, 50256, 50256, 50256, 50256, 50256, 50256, 50256, 50256, 50256, 50256]\n",
      "[1, 1, 1, 1, 1, 1, 1, 1, 1, 1, 1, 1, 1, 1, 1, 1, 1, 1, 0, 0, 0, 0, 0, 0, 0, 0, 0, 0, 0, 0, 0, 0, 0, 0, 0, 0, 0, 0, 0, 0, 0, 0, 0, 0, 0, 0, 0, 0, 0, 0, 0, 0, 0, 0, 0, 0, 0, 0, 0, 0, 0, 0, 0, 0, 0, 0, 0, 0, 0, 0, 0, 0, 0, 0]\n",
      "[31, 42950, 37, 1601, 440, 11296, 30325, 224, 47249, 224, 47249, 224, 47249, 224, 47249, 224, 50256, 50256, 50256, 50256, 50256, 50256, 50256, 50256, 50256, 50256, 50256, 50256, 50256, 50256, 50256, 50256, 50256, 50256, 50256, 50256, 50256, 50256, 50256, 50256, 50256, 50256, 50256, 50256, 50256, 50256, 50256, 50256, 50256, 50256, 50256, 50256, 50256, 50256, 50256, 50256, 50256, 50256, 50256, 50256, 50256, 50256, 50256, 50256, 50256, 50256, 50256, 50256, 50256, 50256, 50256, 50256, 50256, 50256]\n",
      "[1, 1, 1, 1, 1, 1, 1, 1, 1, 1, 1, 1, 1, 1, 1, 1, 0, 0, 0, 0, 0, 0, 0, 0, 0, 0, 0, 0, 0, 0, 0, 0, 0, 0, 0, 0, 0, 0, 0, 0, 0, 0, 0, 0, 0, 0, 0, 0, 0, 0, 0, 0, 0, 0, 0, 0, 0, 0, 0, 0, 0, 0, 0, 0, 0, 0, 0, 0, 0, 0, 0, 0, 0, 0]\n",
      "[31, 1477, 1636, 40779, 471, 40133, 10319, 12248, 50256, 50256, 50256, 50256, 50256, 50256, 50256, 50256, 50256, 50256, 50256, 50256, 50256, 50256, 50256, 50256, 50256, 50256, 50256, 50256, 50256, 50256, 50256, 50256, 50256, 50256, 50256, 50256, 50256, 50256, 50256, 50256, 50256, 50256, 50256, 50256, 50256, 50256, 50256, 50256, 50256, 50256, 50256, 50256, 50256, 50256, 50256, 50256, 50256, 50256, 50256, 50256, 50256, 50256, 50256, 50256, 50256, 50256, 50256, 50256, 50256, 50256, 50256, 50256, 50256, 50256]\n",
      "[1, 1, 1, 1, 1, 1, 1, 1, 0, 0, 0, 0, 0, 0, 0, 0, 0, 0, 0, 0, 0, 0, 0, 0, 0, 0, 0, 0, 0, 0, 0, 0, 0, 0, 0, 0, 0, 0, 0, 0, 0, 0, 0, 0, 0, 0, 0, 0, 0, 0, 0, 0, 0, 0, 0, 0, 0, 0, 0, 0, 0, 0, 0, 0, 0, 0, 0, 0, 0, 0, 0, 0, 0, 0]\n"
     ]
    }
   ],
   "source": [
    "for tweet in tokenized_samples.select(range(10)):\n",
    "    print(tweet[\"input_ids\"])\n",
    "    print(tweet[\"attention_mask\"])"
   ]
  },
  {
   "cell_type": "code",
   "execution_count": 42,
   "id": "6bf8bc09-dd46-42c9-8bae-250be516d0ae",
   "metadata": {},
   "outputs": [],
   "source": [
    "tokenized_samples.set_format(type=\"torch\", columns=[\"input_ids\", \"attention_mask\"])"
   ]
  },
  {
   "cell_type": "markdown",
   "id": "6867efa2-5c62-4bba-be7b-0e49d780245a",
   "metadata": {},
   "source": [
    "Let's find out how long our longest tweet is!"
   ]
  },
  {
   "cell_type": "code",
   "execution_count": 43,
   "id": "1436f93b-f471-4d3e-81e3-522fc05f0a6a",
   "metadata": {},
   "outputs": [
    {
     "name": "stdout",
     "output_type": "stream",
     "text": [
      "Longest user input:  74\n",
      "Max context:  950\n"
     ]
    }
   ],
   "source": [
    "l_text = len(tokenized_samples[0][\"input_ids\"]) # all samples are equal length after padding\n",
    "l_max = tokenizer.model_max_length\n",
    "l_ctxt = l_max - l_text\n",
    "print(\"Longest user input: \", l_text)\n",
    "print(\"Max context: \", l_ctxt)"
   ]
  },
  {
   "cell_type": "markdown",
   "id": "12cc28d8-f1a5-421d-bf20-bfddaaba7e81",
   "metadata": {},
   "source": [
    "### Model"
   ]
  },
  {
   "cell_type": "code",
   "execution_count": 44,
   "id": "46f38a66-5ac1-4caf-b77a-2aceb5b1101f",
   "metadata": {},
   "outputs": [],
   "source": [
    "model = AutoModelForCausalLM.from_pretrained(MODEL_ID)"
   ]
  },
  {
   "cell_type": "markdown",
   "id": "31ca1be8-719d-4839-82cd-a8f831cb693a",
   "metadata": {},
   "source": [
    "#### Perplexity"
   ]
  },
  {
   "cell_type": "code",
   "execution_count": 45,
   "id": "6fefa6ac-2cfd-4268-aa7c-79e91ba0c9f9",
   "metadata": {},
   "outputs": [
    {
     "name": "stderr",
     "output_type": "stream",
     "text": [
      "100%|█████████████████████████████████████████████████████████████████████████████████████████████████████████████████████| 250/250 [01:27<00:00,  2.85it/s]\n"
     ]
    }
   ],
   "source": [
    "nlls = []\n",
    "\n",
    "for sample in tqdm(tokenized_samples):\n",
    "    input_ids = sample[\"input_ids\"]\n",
    "    attention = sample[\"attention_mask\"]\n",
    "    target_ids = torch.where(attention == 0, -100, input_ids) # copy input ids, ignore padding\n",
    "    with torch.no_grad():\n",
    "        outputs = model(input_ids, attention_mask=attention, labels=target_ids) # the model internally shifts the target ids to the left for next-word prediction\n",
    "        neg_log_likelihood = outputs.loss # the loss is a cross-entropy loss\n",
    "        nlls.append(neg_log_likelihood)"
   ]
  },
  {
   "cell_type": "code",
   "execution_count": 46,
   "id": "f9322d5f-a145-4a64-89ed-20fb5dfd102c",
   "metadata": {
    "tags": []
   },
   "outputs": [
    {
     "name": "stdout",
     "output_type": "stream",
     "text": [
      "Perplexity:  tensor(214.4736)\n",
      "Entropy:  tensor(7.7447)\n"
     ]
    }
   ],
   "source": [
    "ppl = torch.exp(torch.stack(nlls).mean())\n",
    "h = torch.stack(nlls).div(math.log(2)).mean() # nats -> bits\n",
    "print(\"Perplexity: \", ppl)\n",
    "print(\"Entropy: \", h)"
   ]
  },
  {
   "cell_type": "markdown",
   "id": "9dd18947-2ade-49f4-80ec-f0f0e847c2ec",
   "metadata": {},
   "source": [
    "##### Confidence interval\n",
    "\n",
    "From https://discuss.pytorch.org/t/what-is-the-proper-way-to-compute-95-confidence-intervals-with-pytorch-for-classification-and-regression/139398/2"
   ]
  },
  {
   "cell_type": "code",
   "execution_count": 49,
   "id": "37e554d9-103f-4c9c-ba78-34a251ee5a44",
   "metadata": {},
   "outputs": [],
   "source": [
    "from torch import Tensor\n",
    "def torch_compute_confidence_interval(data: Tensor,\n",
    "                                           confidence: float = 0.95\n",
    "                                           ) -> Tensor:\n",
    "    \"\"\"\n",
    "    Computes the confidence interval for a given survey of a data set.\n",
    "    \"\"\"\n",
    "    n = len(data)\n",
    "    mean: Tensor = data.mean()\n",
    "    # se: Tensor = scipy.stats.sem(data)  # compute standard error\n",
    "    # se, mean: Tensor = torch.std_mean(data, unbiased=True)  # compute standard error\n",
    "    se: Tensor = data.std(unbiased=True) / (n**0.5)\n",
    "    t_p: float = float(scipy.stats.t.ppf((1 + confidence) / 2., n - 1))\n",
    "    ci = t_p * se\n",
    "    return mean, ci"
   ]
  },
  {
   "cell_type": "code",
   "execution_count": 63,
   "id": "9bdb0169-1f0c-437a-94ac-bfc5664e9513",
   "metadata": {},
   "outputs": [
    {
     "name": "stdout",
     "output_type": "stream",
     "text": [
      "Mean entropy (in nats): 5.3681864738464355 +/- 0.12369419634342194\n",
      "--> Perplexity range: (189.51953125, 242.7133026123047)\n"
     ]
    }
   ],
   "source": [
    "mean, ci = torch_compute_confidence_interval(torch.stack(nlls), confidence=0.90)\n",
    "\n",
    "print(f\"Mean entropy (in nats): {mean} +/- {ci}\")\n",
    "\n",
    "print(f\"--> Perplexity range: ({torch.exp(mean-ci)}, {torch.exp(mean+ci)})\")"
   ]
  },
  {
   "cell_type": "markdown",
   "id": "ddce4dd2-75ce-4128-9bbf-630f4e255fab",
   "metadata": {
    "tags": []
   },
   "source": [
    "### Perplexity with context\n",
    "\n",
    "Where context is 500 tokens long"
   ]
  },
  {
   "cell_type": "markdown",
   "id": "37b30f6f-f2ef-462c-92cb-2268744c8be2",
   "metadata": {
    "tags": []
   },
   "source": [
    "#### User-conditioned"
   ]
  },
  {
   "cell_type": "code",
   "execution_count": 64,
   "id": "4d539769-40b2-421b-ade2-0d0537a97f86",
   "metadata": {
    "tags": []
   },
   "outputs": [],
   "source": [
    "user_context = \" \".join(updated_sample[\"train\"][\"text\"])\n",
    "user_context = tokenizer(user_context, truncation=True, return_tensors=\"pt\")"
   ]
  },
  {
   "cell_type": "code",
   "execution_count": 65,
   "id": "9908af48-6add-4600-b0de-1cb617350423",
   "metadata": {},
   "outputs": [
    {
     "name": "stderr",
     "output_type": "stream",
     "text": [
      "100%|█████████████████████████████████████████████████████████████████████████████████████████████████████████████████████| 250/250 [04:20<00:00,  1.04s/it]\n"
     ]
    }
   ],
   "source": [
    "user_nlls = []\n",
    "l = 500\n",
    "\n",
    "for sample in tqdm(tokenized_samples):\n",
    "    # concatenate tensors\n",
    "    input_ids = torch.cat((user_context[\"input_ids\"][0][:l], sample[\"input_ids\"]))\n",
    "    attention_mask = torch.cat((user_context[\"attention_mask\"][0][:l], sample[\"attention_mask\"]))\n",
    "    target_ids = torch.where(attention_mask == 0, -100, input_ids) # copy input ids, ignore padding\n",
    "    with torch.no_grad():\n",
    "        outputs = model(input_ids, attention_mask=attention_mask, labels=target_ids) # the model internally shifts the target ids to the left for next-word prediction\n",
    "        neg_log_likelihood = outputs.loss # the loss is a cross-entropy loss\n",
    "        user_nlls.append(neg_log_likelihood)"
   ]
  },
  {
   "cell_type": "code",
   "execution_count": 66,
   "id": "898db669-38b0-428f-9e45-02fb8cd1aced",
   "metadata": {},
   "outputs": [
    {
     "name": "stdout",
     "output_type": "stream",
     "text": [
      "Perplexity:  tensor(55.0325)\n",
      "Entropy:  tensor(5.7822)\n"
     ]
    }
   ],
   "source": [
    "ppl_u = torch.exp(torch.stack(user_nlls).mean())\n",
    "h_u = torch.stack(user_nlls).div(math.log(2)).mean() # nats -> bits\n",
    "print(\"Perplexity: \", ppl_u)\n",
    "print(\"Entropy: \", h_u)"
   ]
  },
  {
   "cell_type": "markdown",
   "id": "c46fa054-7e41-4d8b-8730-3473bba4837f",
   "metadata": {},
   "source": [
    "We have managed to bring down the perplexity of 229 down to 55!"
   ]
  },
  {
   "cell_type": "code",
   "execution_count": 67,
   "id": "781fc2c4-bb27-4aaa-ab05-85976b255d60",
   "metadata": {},
   "outputs": [
    {
     "name": "stdout",
     "output_type": "stream",
     "text": [
      "Mean entropy (in nats): 4.007923126220703 +/- 0.0043826536275446415\n",
      "--> Perplexity range: (54.79179763793945, 55.274169921875)\n"
     ]
    }
   ],
   "source": [
    "mean, ci = torch_compute_confidence_interval(torch.stack(user_nlls), confidence=0.90)\n",
    "\n",
    "print(f\"Mean entropy (in nats): {mean} +/- {ci}\")\n",
    "\n",
    "print(f\"--> Perplexity range: ({torch.exp(mean-ci)}, {torch.exp(mean+ci)})\")"
   ]
  },
  {
   "cell_type": "markdown",
   "id": "2a1d901c-7660-4bde-88d5-7c8946fb5825",
   "metadata": {
    "tags": []
   },
   "source": [
    "#### Peer-conditioned"
   ]
  },
  {
   "cell_type": "code",
   "execution_count": 68,
   "id": "aca1a48c-ae47-48f4-a754-ba697334b604",
   "metadata": {},
   "outputs": [
    {
     "name": "stdout",
     "output_type": "stream",
     "text": [
      "username: thatidiotfrank / mentioned 79 times / num tweets: 99\n",
      "username: tea_readss / mentioned 51 times / num tweets: 96\n",
      "username: PaperFury / mentioned 40 times / num tweets: 94\n",
      "username: thecosyreader / mentioned 14 times / num tweets: 90\n",
      "username: SundayLuxe / mentioned 9 times / num tweets: 28\n",
      "username: shleyreads / mentioned 7 times / num tweets: 98\n",
      "username: sofiaecasanova / mentioned 7 times / num tweets: 85\n",
      "username: Explore_a_thon / mentioned 6 times / num tweets: 100\n",
      "username: bookswithneeks / mentioned 5 times / num tweets: 97\n",
      "username: ashmcl_ / mentioned 5 times / num tweets: 94\n",
      "username: udeadah / mentioned 4 times / num tweets: 83\n",
      "username: DateaBook / mentioned 4 times / num tweets: 100\n",
      "@365177257: Now reading \"The Big Dark Sky\" by @deankoontz https://t.co/hMr4NBdO9T\n",
      "@389514735: now we have attack on titan final season part 3 part 1 &amp; 2 🫠 https://t.co/p7BsxZ96XS\n",
      "@365177257: Now reading \"Mind Walker\" by @TheKateDylan https://t.co/iiSZgdr4DH\n"
     ]
    },
    {
     "data": {
      "application/vnd.jupyter.widget-view+json": {
       "model_id": "0ec32d3768d14940b8d49287704ff895",
       "version_major": 2,
       "version_minor": 0
      },
      "text/plain": [
       "  0%|          | 0/120 [00:00<?, ?ex/s]"
      ]
     },
     "metadata": {},
     "output_type": "display_data"
    },
    {
     "data": {
      "application/vnd.jupyter.widget-view+json": {
       "model_id": "5550b0bfde4e49a1bbea05da4aed14e5",
       "version_major": 2,
       "version_minor": 0
      },
      "text/plain": [
       "  0%|          | 0/120 [00:00<?, ?ex/s]"
      ]
     },
     "metadata": {},
     "output_type": "display_data"
    }
   ],
   "source": [
    "subject[\"id\"]\n",
    "\n",
    "peers_list = list(peers_collection.find({\"mentioned_by.id\": subject[\"id\"]}, {\"_id\": 0}))\n",
    "\n",
    "for peer in peers_list:\n",
    "    mention = next( filter(lambda x: x[\"id\"] == subject[\"id\"] , peer[\"mentioned_by\"]), None )\n",
    "    print(f\"username: {peer['username']} / mentioned {mention['num_mentions']} times / num tweets: {peer['timeline_tweets_count']}\")\n",
    "\n",
    "# There are 12 peers, so if we get 10 tweets each we should have more than enough...\n",
    "\n",
    "peer_tweets = []\n",
    "for peer in peers_list:\n",
    "    user_tweets = list(timelines_collection.find({\"author_id\": peer['id'], \"referenced_tweets.type\": {\"$ne\": \"retweeted\"}}, {\"_id\": 0}).limit(10))\n",
    "    peer_tweets.extend(user_tweets)\n",
    "\n",
    "### Peers dataset\n",
    "\n",
    "peers_dataset = Dataset.from_list(peer_tweets).shuffle(56)\n",
    "\n",
    "for tweet in peers_dataset.select(range(3)):\n",
    "    print(f\"@{tweet['author_id']}: {tweet['text']}\")\n",
    "\n",
    "#### Preprocess\n",
    "\n",
    "peers_dataset = peers_dataset.map(remove_urls).map(remove_extra_spaces)"
   ]
  },
  {
   "cell_type": "code",
   "execution_count": 69,
   "id": "803484d5-683d-48a6-8923-26638f7cf436",
   "metadata": {},
   "outputs": [
    {
     "name": "stderr",
     "output_type": "stream",
     "text": [
      "100%|█████████████████████████████████████████████████████████████████████████████████████████████████████████████████████| 250/250 [04:26<00:00,  1.07s/it]"
     ]
    },
    {
     "name": "stdout",
     "output_type": "stream",
     "text": [
      "Perplexity:  tensor(106.8835)\n",
      "Entropy:  tensor(6.7399)\n"
     ]
    },
    {
     "name": "stderr",
     "output_type": "stream",
     "text": [
      "\n"
     ]
    }
   ],
   "source": [
    "peer_context = \" \".join(peers_dataset[\"text\"])\n",
    "peer_context = tokenizer(peer_context, truncation=True, return_tensors=\"pt\")\n",
    "\n",
    "peer_nlls = []\n",
    "l = 500\n",
    "\n",
    "for sample in tqdm(tokenized_samples):\n",
    "    # concatenate tensors\n",
    "    input_ids = torch.cat((peer_context[\"input_ids\"][0][:l], sample[\"input_ids\"]))\n",
    "    attention_mask = torch.cat((peer_context[\"attention_mask\"][0][:l], sample[\"attention_mask\"]))\n",
    "    target_ids = torch.where(attention_mask == 0, -100, input_ids) # copy input ids, ignore padding\n",
    "    with torch.no_grad():\n",
    "        outputs = model(input_ids, attention_mask=attention_mask, labels=target_ids) # the model internally shifts the target ids to the left for next-word prediction\n",
    "        neg_log_likelihood = outputs.loss # the loss is a cross-entropy loss\n",
    "        peer_nlls.append(neg_log_likelihood)\n",
    "        \n",
    "        \n",
    "ppl_p = torch.exp(torch.stack(peer_nlls).mean())\n",
    "h_p = torch.stack(peer_nlls).div(math.log(2)).mean() # nats -> bits\n",
    "print(\"Perplexity: \", ppl_p)\n",
    "print(\"Entropy: \", h_p)"
   ]
  },
  {
   "cell_type": "code",
   "execution_count": 72,
   "id": "2ee659ae-7452-41ce-9c64-13b19bcefeee",
   "metadata": {},
   "outputs": [
    {
     "name": "stdout",
     "output_type": "stream",
     "text": [
      "Mean entropy (in nats): 4.67173957824707 +/- 0.004394691903144121\n",
      "--> Perplexity range: (106.41484069824219, 107.354248046875)\n"
     ]
    }
   ],
   "source": [
    "mean, ci = torch_compute_confidence_interval(torch.stack(peer_nlls), confidence=0.90)\n",
    "\n",
    "print(f\"Mean entropy (in nats): {mean} +/- {ci}\")\n",
    "\n",
    "print(f\"--> Perplexity range: ({torch.exp(mean-ci)}, {torch.exp(mean+ci)})\")"
   ]
  },
  {
   "cell_type": "markdown",
   "id": "5435cae9-c91e-4939-b004-05b7016b4b20",
   "metadata": {},
   "source": [
    "#### Rand user conditioned"
   ]
  },
  {
   "cell_type": "code",
   "execution_count": 70,
   "id": "3e764836-6422-4886-854d-b73cb34f820f",
   "metadata": {},
   "outputs": [
    {
     "name": "stdout",
     "output_type": "stream",
     "text": [
      "username: GamerJohn85\n",
      "username: MhairiHunter\n",
      "username: PphoenixK\n",
      "username: LeoDougan\n",
      "username: UrbanJerseyGuy\n",
      "username: santiagomayer_\n",
      "username: SuicideChrist\n",
      "username: Komaniecki_R\n",
      "username: dkirklambert\n",
      "username: kumbdotcom\n",
      "username: themishkoala\n",
      "username: scotinoz\n",
      "username: DlarsTrades\n",
      "username: Tig_gordon\n",
      "username: MeaghanBm\n",
      "@1086353400646721536: @keirstyyy @BOOTeng27 Where have you been all of my life\n",
      "@498942287: @IanRouth Sounds a lovely plan. I’m a support worker Ian.\n",
      "@4327127414: We don’t sacrifice states around here bestie https://t.co/SZTnPVTE6m\n"
     ]
    },
    {
     "data": {
      "application/vnd.jupyter.widget-view+json": {
       "model_id": "f475a3b95f294109a713ec4a7dfce984",
       "version_major": 2,
       "version_minor": 0
      },
      "text/plain": [
       "  0%|          | 0/140 [00:00<?, ?ex/s]"
      ]
     },
     "metadata": {},
     "output_type": "display_data"
    },
    {
     "data": {
      "application/vnd.jupyter.widget-view+json": {
       "model_id": "359d280570d94bcbb89a561a47265635",
       "version_major": 2,
       "version_minor": 0
      },
      "text/plain": [
       "  0%|          | 0/140 [00:00<?, ?ex/s]"
      ]
     },
     "metadata": {},
     "output_type": "display_data"
    }
   ],
   "source": [
    "rand_user_list = list(peers_collection.aggregate([ { \"$sample\": { \"size\": 15 } } ]))\n",
    "\n",
    "for peer in rand_user_list:\n",
    "    print(f\"username: {peer['username']}\")\n",
    "\n",
    "rand_user_tweets = []\n",
    "for peer in rand_user_list:\n",
    "    user_tweets = list(timelines_collection.find({\"author_id\": peer['id'], \"referenced_tweets.type\": {\"$ne\": \"retweeted\"}}, {\"_id\": 0}).limit(10))\n",
    "    rand_user_tweets.extend(user_tweets)\n",
    "\n",
    "### Peers dataset\n",
    "\n",
    "rand_user_dataset = Dataset.from_list(rand_user_tweets).shuffle(56)\n",
    "\n",
    "for tweet in rand_user_dataset.select(range(3)):\n",
    "    print(f\"@{tweet['author_id']}: {tweet['text']}\")\n",
    "\n",
    "#### Preprocess\n",
    "\n",
    "rand_user_dataset = rand_user_dataset.map(remove_urls).map(remove_extra_spaces)"
   ]
  },
  {
   "cell_type": "code",
   "execution_count": 71,
   "id": "1e0eccdc-95b1-4f95-80e2-079e80c21ff5",
   "metadata": {},
   "outputs": [
    {
     "name": "stderr",
     "output_type": "stream",
     "text": [
      "100%|█████████████████████████████████████████████████████████████████████████████████████████████████████████████████████| 250/250 [04:30<00:00,  1.08s/it]"
     ]
    },
    {
     "name": "stdout",
     "output_type": "stream",
     "text": [
      "Perplexity:  tensor(78.3121)\n",
      "Entropy:  tensor(6.2912)\n"
     ]
    },
    {
     "name": "stderr",
     "output_type": "stream",
     "text": [
      "\n"
     ]
    }
   ],
   "source": [
    "rand_user_context = \" \".join(rand_user_dataset[\"text\"])\n",
    "rand_user_context = tokenizer(rand_user_context, truncation=True, return_tensors=\"pt\")\n",
    "\n",
    "rand_user_nlls = []\n",
    "l = 500\n",
    "\n",
    "for sample in tqdm(tokenized_samples):\n",
    "    # concatenate tensors\n",
    "    input_ids = torch.cat((rand_user_context[\"input_ids\"][0][:l], sample[\"input_ids\"]))\n",
    "    attention_mask = torch.cat((rand_user_context[\"attention_mask\"][0][:l], sample[\"attention_mask\"]))\n",
    "    target_ids = torch.where(attention_mask == 0, -100, input_ids) # copy input ids, ignore padding\n",
    "    with torch.no_grad():\n",
    "        outputs = model(input_ids, attention_mask=attention_mask, labels=target_ids) # the model internally shifts the target ids to the left for next-word prediction\n",
    "        neg_log_likelihood = outputs.loss # the loss is a cross-entropy loss\n",
    "        rand_user_nlls.append(neg_log_likelihood)\n",
    "        \n",
    "        \n",
    "ppl_ru = torch.exp(torch.stack(rand_user_nlls).mean())\n",
    "h_ru = torch.stack(rand_user_nlls).div(math.log(2)).mean() # nats -> bits\n",
    "print(\"Perplexity: \", ppl_ru)\n",
    "print(\"Entropy: \", h_ru)"
   ]
  },
  {
   "cell_type": "code",
   "execution_count": 73,
   "id": "a9eefbc7-e13e-46c5-8e81-53ccd87a03f0",
   "metadata": {},
   "outputs": [
    {
     "name": "stdout",
     "output_type": "stream",
     "text": [
      "Mean entropy (in nats): 4.3607025146484375 +/- 0.0035975289065390825\n",
      "--> Perplexity range: (78.03089141845703, 78.5943832397461)\n"
     ]
    }
   ],
   "source": [
    "mean, ci = torch_compute_confidence_interval(torch.stack(rand_user_nlls), confidence=0.90)\n",
    "\n",
    "print(f\"Mean entropy (in nats): {mean} +/- {ci}\")\n",
    "\n",
    "print(f\"--> Perplexity range: ({torch.exp(mean-ci)}, {torch.exp(mean+ci)})\")"
   ]
  },
  {
   "cell_type": "markdown",
   "id": "0d3e8226-0366-4315-8057-8a8df02ef0e2",
   "metadata": {},
   "source": [
    "### Perplexity with increasing context\n",
    "\n",
    "with context length = [0, 150, 300, 450, 600, 750, 900]"
   ]
  },
  {
   "cell_type": "code",
   "execution_count": 89,
   "id": "1d7e4a38-a836-4c40-b3f9-014e0d887af1",
   "metadata": {},
   "outputs": [],
   "source": [
    "def entropy_calculator(tokenized_text, context, context_len=0, confidence=0.9):\n",
    "    nlls = []\n",
    "    \n",
    "    for sample in tqdm(tokenized_text):\n",
    "        # concatenate tensors\n",
    "        input_ids = torch.cat((context[\"input_ids\"][0][:context_len], sample[\"input_ids\"]))\n",
    "        attention_mask = torch.cat((context[\"attention_mask\"][0][:context_len], sample[\"attention_mask\"]))\n",
    "        target_ids = torch.where(attention_mask == 0, -100, input_ids) # copy input ids, ignore padding\n",
    "        with torch.no_grad():\n",
    "            outputs = model(input_ids, attention_mask=attention_mask, labels=target_ids) # the model internally shifts the target ids to the left for next-word prediction\n",
    "            neg_log_likelihood = outputs.loss # the loss is a cross-entropy loss\n",
    "            nlls.append(neg_log_likelihood)\n",
    "\n",
    "\n",
    "    h_mean, h_err = torch_compute_confidence_interval(torch.stack(nlls), confidence)\n",
    "    return h_mean, h_err"
   ]
  },
  {
   "cell_type": "code",
   "execution_count": 90,
   "id": "11a85ec9-439a-40dc-a305-c8930676a2e7",
   "metadata": {},
   "outputs": [],
   "source": [
    "context_lengths = [0, 150, 300, 450, 600, 750, 900]"
   ]
  },
  {
   "cell_type": "markdown",
   "id": "1f51aef1-e349-4068-8c7b-00a90883bf6f",
   "metadata": {},
   "source": [
    "#### User-conditioned"
   ]
  },
  {
   "cell_type": "code",
   "execution_count": 91,
   "id": "46b4a453-bc31-40c8-8ccd-295e4421be62",
   "metadata": {},
   "outputs": [
    {
     "name": "stderr",
     "output_type": "stream",
     "text": [
      "100%|█████████████████████████████████████████████████████████████████████████████████████████████████████████████████████| 250/250 [01:10<00:00,  3.53it/s]\n"
     ]
    },
    {
     "name": "stdout",
     "output_type": "stream",
     "text": [
      "Context length: 0 / H: 5.3681864738464355 +/- 0.12369419634342194\n"
     ]
    },
    {
     "name": "stderr",
     "output_type": "stream",
     "text": [
      "100%|█████████████████████████████████████████████████████████████████████████████████████████████████████████████████████| 250/250 [01:59<00:00,  2.08it/s]\n"
     ]
    },
    {
     "name": "stdout",
     "output_type": "stream",
     "text": [
      "Context length: 150 / H: 4.135119915008545 +/- 0.013863838277757168\n"
     ]
    },
    {
     "name": "stderr",
     "output_type": "stream",
     "text": [
      "100%|█████████████████████████████████████████████████████████████████████████████████████████████████████████████████████| 250/250 [02:40<00:00,  1.55it/s]\n"
     ]
    },
    {
     "name": "stdout",
     "output_type": "stream",
     "text": [
      "Context length: 300 / H: 4.247203826904297 +/- 0.0077511644922196865\n"
     ]
    },
    {
     "name": "stderr",
     "output_type": "stream",
     "text": [
      "100%|█████████████████████████████████████████████████████████████████████████████████████████████████████████████████████| 250/250 [04:01<00:00,  1.04it/s]\n"
     ]
    },
    {
     "name": "stdout",
     "output_type": "stream",
     "text": [
      "Context length: 450 / H: 4.315474033355713 +/- 0.005094702821224928\n"
     ]
    },
    {
     "name": "stderr",
     "output_type": "stream",
     "text": [
      "100%|█████████████████████████████████████████████████████████████████████████████████████████████████████████████████████| 250/250 [04:40<00:00,  1.12s/it]\n"
     ]
    },
    {
     "name": "stdout",
     "output_type": "stream",
     "text": [
      "Context length: 600 / H: 3.566904067993164 +/- 0.0034976552706211805\n"
     ]
    },
    {
     "name": "stderr",
     "output_type": "stream",
     "text": [
      "100%|█████████████████████████████████████████████████████████████████████████████████████████████████████████████████████| 250/250 [05:59<00:00,  1.44s/it]\n"
     ]
    },
    {
     "name": "stdout",
     "output_type": "stream",
     "text": [
      "Context length: 750 / H: 3.4916553497314453 +/- 0.0027571057435125113\n"
     ]
    },
    {
     "name": "stderr",
     "output_type": "stream",
     "text": [
      "100%|█████████████████████████████████████████████████████████████████████████████████████████████████████████████████████| 250/250 [07:02<00:00,  1.69s/it]"
     ]
    },
    {
     "name": "stdout",
     "output_type": "stream",
     "text": [
      "Context length: 900 / H: 3.634037494659424 +/- 0.0023712830152362585\n"
     ]
    },
    {
     "name": "stderr",
     "output_type": "stream",
     "text": [
      "\n"
     ]
    }
   ],
   "source": [
    "user_entropies = []\n",
    "\n",
    "for cl in context_lengths:\n",
    "    h, err = entropy_calculator(tokenized_samples, user_context, context_len=cl)\n",
    "    user_entropies.append((h, err))\n",
    "    print(f\"Context length: {cl} / H: {h} +/- {err}\")"
   ]
  },
  {
   "cell_type": "markdown",
   "id": "a12e45e5-5469-4387-9764-568240f8fce3",
   "metadata": {},
   "source": [
    "#### Peer-conditioned"
   ]
  },
  {
   "cell_type": "code",
   "execution_count": 92,
   "id": "146a2234-7ee6-4cd4-aaef-69c3aeb2c334",
   "metadata": {},
   "outputs": [
    {
     "name": "stderr",
     "output_type": "stream",
     "text": [
      "100%|█████████████████████████████████████████████████████████████████████████████████████████████████████████████████████| 250/250 [01:03<00:00,  3.96it/s]\n"
     ]
    },
    {
     "name": "stdout",
     "output_type": "stream",
     "text": [
      "Context length: 0 / H: 5.3681864738464355 +/- 0.12369419634342194\n"
     ]
    },
    {
     "name": "stderr",
     "output_type": "stream",
     "text": [
      "100%|█████████████████████████████████████████████████████████████████████████████████████████████████████████████████████| 250/250 [02:02<00:00,  2.04it/s]\n"
     ]
    },
    {
     "name": "stdout",
     "output_type": "stream",
     "text": [
      "Context length: 150 / H: 5.306085586547852 +/- 0.015615366399288177\n"
     ]
    },
    {
     "name": "stderr",
     "output_type": "stream",
     "text": [
      "100%|█████████████████████████████████████████████████████████████████████████████████████████████████████████████████████| 250/250 [02:52<00:00,  1.45it/s]\n"
     ]
    },
    {
     "name": "stdout",
     "output_type": "stream",
     "text": [
      "Context length: 300 / H: 4.791631698608398 +/- 0.00703542260453105\n"
     ]
    },
    {
     "name": "stderr",
     "output_type": "stream",
     "text": [
      "100%|█████████████████████████████████████████████████████████████████████████████████████████████████████████████████████| 250/250 [03:59<00:00,  1.05it/s]\n"
     ]
    },
    {
     "name": "stdout",
     "output_type": "stream",
     "text": [
      "Context length: 450 / H: 4.723911762237549 +/- 0.004986993502825499\n"
     ]
    },
    {
     "name": "stderr",
     "output_type": "stream",
     "text": [
      "100%|█████████████████████████████████████████████████████████████████████████████████████████████████████████████████████| 250/250 [04:23<00:00,  1.05s/it]\n"
     ]
    },
    {
     "name": "stdout",
     "output_type": "stream",
     "text": [
      "Context length: 600 / H: 4.697792053222656 +/- 0.003697276348248124\n"
     ]
    },
    {
     "name": "stderr",
     "output_type": "stream",
     "text": [
      "100%|█████████████████████████████████████████████████████████████████████████████████████████████████████████████████████| 250/250 [06:02<00:00,  1.45s/it]\n"
     ]
    },
    {
     "name": "stdout",
     "output_type": "stream",
     "text": [
      "Context length: 750 / H: 4.633150577545166 +/- 0.0028229316230863333\n"
     ]
    },
    {
     "name": "stderr",
     "output_type": "stream",
     "text": [
      "100%|█████████████████████████████████████████████████████████████████████████████████████████████████████████████████████| 250/250 [07:03<00:00,  1.69s/it]"
     ]
    },
    {
     "name": "stdout",
     "output_type": "stream",
     "text": [
      "Context length: 900 / H: 4.588040351867676 +/- 0.002426429418846965\n"
     ]
    },
    {
     "name": "stderr",
     "output_type": "stream",
     "text": [
      "\n"
     ]
    }
   ],
   "source": [
    "peer_entropies = []\n",
    "\n",
    "for cl in context_lengths:\n",
    "    h, err = entropy_calculator(tokenized_samples, peer_context, context_len=cl)\n",
    "    peer_entropies.append((h, err))\n",
    "    print(f\"Context length: {cl} / H: {h} +/- {err}\")"
   ]
  },
  {
   "cell_type": "markdown",
   "id": "24e3d3e2-1b07-4e1b-b8b8-c3dc1ad37f66",
   "metadata": {
    "tags": []
   },
   "source": [
    "#### Random user-conditioned"
   ]
  },
  {
   "cell_type": "code",
   "execution_count": 93,
   "id": "18a046a9-8223-484c-b4cf-b6876fa474c9",
   "metadata": {},
   "outputs": [
    {
     "name": "stderr",
     "output_type": "stream",
     "text": [
      "100%|█████████████████████████████████████████████████████████████████████████████████████████████████████████████████████| 250/250 [01:10<00:00,  3.54it/s]\n"
     ]
    },
    {
     "name": "stdout",
     "output_type": "stream",
     "text": [
      "Context length: 0 / H: 5.3681864738464355 +/- 0.12369419634342194\n"
     ]
    },
    {
     "name": "stderr",
     "output_type": "stream",
     "text": [
      "100%|█████████████████████████████████████████████████████████████████████████████████████████████████████████████████████| 250/250 [02:15<00:00,  1.84it/s]\n"
     ]
    },
    {
     "name": "stdout",
     "output_type": "stream",
     "text": [
      "Context length: 150 / H: 4.686762809753418 +/- 0.011571299284696579\n"
     ]
    },
    {
     "name": "stderr",
     "output_type": "stream",
     "text": [
      "100%|█████████████████████████████████████████████████████████████████████████████████████████████████████████████████████| 250/250 [03:07<00:00,  1.33it/s]\n"
     ]
    },
    {
     "name": "stdout",
     "output_type": "stream",
     "text": [
      "Context length: 300 / H: 4.773593902587891 +/- 0.006779051851481199\n"
     ]
    },
    {
     "name": "stderr",
     "output_type": "stream",
     "text": [
      "100%|█████████████████████████████████████████████████████████████████████████████████████████████████████████████████████| 250/250 [04:04<00:00,  1.02it/s]\n"
     ]
    },
    {
     "name": "stdout",
     "output_type": "stream",
     "text": [
      "Context length: 450 / H: 4.302032947540283 +/- 0.004130820743739605\n"
     ]
    },
    {
     "name": "stderr",
     "output_type": "stream",
     "text": [
      "100%|█████████████████████████████████████████████████████████████████████████████████████████████████████████████████████| 250/250 [05:15<00:00,  1.26s/it]\n"
     ]
    },
    {
     "name": "stdout",
     "output_type": "stream",
     "text": [
      "Context length: 600 / H: 4.349796772003174 +/- 0.003095970954746008\n"
     ]
    },
    {
     "name": "stderr",
     "output_type": "stream",
     "text": [
      "100%|█████████████████████████████████████████████████████████████████████████████████████████████████████████████████████| 250/250 [06:52<00:00,  1.65s/it]\n"
     ]
    },
    {
     "name": "stdout",
     "output_type": "stream",
     "text": [
      "Context length: 750 / H: 4.527641773223877 +/- 0.0025459635071456432\n"
     ]
    },
    {
     "name": "stderr",
     "output_type": "stream",
     "text": [
      "100%|█████████████████████████████████████████████████████████████████████████████████████████████████████████████████████| 250/250 [07:41<00:00,  1.84s/it]"
     ]
    },
    {
     "name": "stdout",
     "output_type": "stream",
     "text": [
      "Context length: 900 / H: 4.601700782775879 +/- 0.0022290311753749847\n"
     ]
    },
    {
     "name": "stderr",
     "output_type": "stream",
     "text": [
      "\n"
     ]
    }
   ],
   "source": [
    "rand_user_entropies = []\n",
    "\n",
    "for cl in context_lengths:\n",
    "    h, err = entropy_calculator(tokenized_samples, rand_user_context, context_len=cl)\n",
    "    rand_user_entropies.append((h, err))\n",
    "    print(f\"Context length: {cl} / H: {h} +/- {err}\")"
   ]
  },
  {
   "cell_type": "markdown",
   "id": "2e96dfc1-9d9a-457a-b5d7-b8645bbb160d",
   "metadata": {},
   "source": [
    "### Plotting helper\n",
    "From https://stackoverflow.com/questions/69587547/continuous-error-band-with-plotly-express-in-python"
   ]
  },
  {
   "cell_type": "code",
   "execution_count": 94,
   "id": "f099ea65-abd0-4e70-956b-01d84a106ee3",
   "metadata": {},
   "outputs": [],
   "source": [
    "import plotly.graph_objs as go\n",
    "\n",
    "def line(error_y_mode=None, **kwargs):\n",
    "    \"\"\"Extension of `plotly.express.line` to use error bands.\"\"\"\n",
    "    ERROR_MODES = {'bar','band','bars','bands',None}\n",
    "    if error_y_mode not in ERROR_MODES:\n",
    "        raise ValueError(f\"'error_y_mode' must be one of {ERROR_MODES}, received {repr(error_y_mode)}.\")\n",
    "    if error_y_mode in {'bar','bars',None}:\n",
    "        fig = px.line(**kwargs)\n",
    "    elif error_y_mode in {'band','bands'}:\n",
    "        if 'error_y' not in kwargs:\n",
    "            raise ValueError(f\"If you provide argument 'error_y_mode' you must also provide 'error_y'.\")\n",
    "        figure_with_error_bars = px.line(**kwargs)\n",
    "        fig = px.line(**{arg: val for arg,val in kwargs.items() if arg != 'error_y'})\n",
    "        for data in figure_with_error_bars.data:\n",
    "            x = list(data['x'])\n",
    "            y_upper = list(data['y'] + data['error_y']['array'])\n",
    "            y_lower = list(data['y'] - data['error_y']['array'] if data['error_y']['arrayminus'] is None else data['y'] - data['error_y']['arrayminus'])\n",
    "            color = f\"rgba({tuple(int(data['line']['color'].lstrip('#')[i:i+2], 16) for i in (0, 2, 4))},.3)\".replace('((','(').replace('),',',').replace(' ','')\n",
    "            fig.add_trace(\n",
    "                go.Scatter(\n",
    "                    x = x+x[::-1],\n",
    "                    y = y_upper+y_lower[::-1],\n",
    "                    fill = 'toself',\n",
    "                    fillcolor = color,\n",
    "                    line = dict(\n",
    "                        color = 'rgba(255,255,255,0)'\n",
    "                    ),\n",
    "                    hoverinfo = \"skip\",\n",
    "                    showlegend = False,\n",
    "                    legendgroup = data['legendgroup'],\n",
    "                    xaxis = data['xaxis'],\n",
    "                    yaxis = data['yaxis'],\n",
    "                )\n",
    "            )\n",
    "        # Reorder data as said here: https://stackoverflow.com/a/66854398/8849755\n",
    "        reordered_data = []\n",
    "        for i in range(int(len(fig.data)/2)):\n",
    "            reordered_data.append(fig.data[i+int(len(fig.data)/2)])\n",
    "            reordered_data.append(fig.data[i])\n",
    "        fig.data = tuple(reordered_data)\n",
    "    return fig"
   ]
  },
  {
   "cell_type": "code",
   "execution_count": 108,
   "id": "e21fb976-ce62-4e22-b33f-0cec70575fe1",
   "metadata": {},
   "outputs": [],
   "source": [
    "entropies = []\n",
    "\n",
    "for (h, err), cl in zip(user_entropies, context_lengths):\n",
    "    data = {}\n",
    "    data['h'] = h\n",
    "    data[\"err\"] = err\n",
    "    data[\"context\"] = \"user\"\n",
    "    data[\"l_ctx\"] = cl\n",
    "    \n",
    "    entropies.append(data)\n",
    "    \n",
    "for (h, err), cl in zip(peer_entropies, context_lengths):\n",
    "    data = {}\n",
    "    data[\"h\"] = h\n",
    "    data[\"err\"] = err\n",
    "    data[\"context\"] = \"peer\"\n",
    "    data[\"l_ctx\"] = cl\n",
    "    \n",
    "    entropies.append(data)\n",
    "    \n",
    "for (h, err), cl in zip(rand_user_entropies, context_lengths):\n",
    "    data = {}\n",
    "    data[\"h\"] = h\n",
    "    data[\"err\"] = err\n",
    "    data[\"context\"] = \"rand_user\"\n",
    "    data[\"l_ctx\"] = cl\n",
    "    \n",
    "    entropies.append(data)"
   ]
  },
  {
   "cell_type": "code",
   "execution_count": 112,
   "id": "e22bb478-986b-493f-92e4-7c0c28548ed1",
   "metadata": {},
   "outputs": [
    {
     "data": {
      "application/vnd.plotly.v1+json": {
       "config": {
        "plotlyServerURL": "https://plot.ly"
       },
       "data": [
        {
         "fill": "toself",
         "fillcolor": "rgba(99,110,250,.3)",
         "hoverinfo": "skip",
         "legendgroup": "user",
         "line": {
          "color": "rgba(255,255,255,0)"
         },
         "showlegend": false,
         "type": "scatter",
         "x": [
          0,
          150,
          300,
          450,
          600,
          750,
          900,
          900,
          750,
          600,
          450,
          300,
          150,
          0
         ],
         "xaxis": "x",
         "y": [
          5.491880893707275,
          4.148983955383301,
          4.254954814910889,
          4.320568561553955,
          3.570401668548584,
          3.494412422180176,
          3.636408805847168,
          3.6316661834716797,
          3.488898277282715,
          3.563406467437744,
          4.310379505157471,
          4.239452838897705,
          4.121255874633789,
          5.244492053985596
         ],
         "yaxis": "y"
        },
        {
         "customdata": [
          [
           0.12369419634342194
          ],
          [
           0.013863838277757168
          ],
          [
           0.0077511644922196865
          ],
          [
           0.005094702821224928
          ],
          [
           0.0034976552706211805
          ],
          [
           0.0027571057435125113
          ],
          [
           0.0023712830152362585
          ]
         ],
         "hovertemplate": "context=user<br>l_ctx=%{x}<br>h=%{y}<br>err=%{customdata[0]}<extra></extra>",
         "legendgroup": "user",
         "line": {
          "color": "#636efa",
          "dash": "solid"
         },
         "marker": {
          "symbol": "circle"
         },
         "mode": "markers+lines",
         "name": "user",
         "orientation": "h",
         "showlegend": true,
         "type": "scatter",
         "x": [
          0,
          150,
          300,
          450,
          600,
          750,
          900
         ],
         "xaxis": "x",
         "y": [
          5.3681864738464355,
          4.135119915008545,
          4.247203826904297,
          4.315474033355713,
          3.566904067993164,
          3.4916553497314453,
          3.634037494659424
         ],
         "yaxis": "y"
        },
        {
         "fill": "toself",
         "fillcolor": "rgba(239,85,59,.3)",
         "hoverinfo": "skip",
         "legendgroup": "peer",
         "line": {
          "color": "rgba(255,255,255,0)"
         },
         "showlegend": false,
         "type": "scatter",
         "x": [
          0,
          150,
          300,
          450,
          600,
          750,
          900,
          900,
          750,
          600,
          450,
          300,
          150,
          0
         ],
         "xaxis": "x",
         "y": [
          5.491880893707275,
          5.3217010498046875,
          4.798666954040527,
          4.728898525238037,
          4.701489448547363,
          4.6359734535217285,
          4.5904669761657715,
          4.58561372756958,
          4.6303277015686035,
          4.694094657897949,
          4.7189249992370605,
          4.7845964431762695,
          5.290470123291016,
          5.244492053985596
         ],
         "yaxis": "y"
        },
        {
         "customdata": [
          [
           0.12369419634342194
          ],
          [
           0.015615366399288177
          ],
          [
           0.00703542260453105
          ],
          [
           0.004986993502825499
          ],
          [
           0.003697276348248124
          ],
          [
           0.0028229316230863333
          ],
          [
           0.002426429418846965
          ]
         ],
         "hovertemplate": "context=peer<br>l_ctx=%{x}<br>h=%{y}<br>err=%{customdata[0]}<extra></extra>",
         "legendgroup": "peer",
         "line": {
          "color": "#EF553B",
          "dash": "solid"
         },
         "marker": {
          "symbol": "circle"
         },
         "mode": "markers+lines",
         "name": "peer",
         "orientation": "h",
         "showlegend": true,
         "type": "scatter",
         "x": [
          0,
          150,
          300,
          450,
          600,
          750,
          900
         ],
         "xaxis": "x",
         "y": [
          5.3681864738464355,
          5.306085586547852,
          4.791631698608398,
          4.723911762237549,
          4.697792053222656,
          4.633150577545166,
          4.588040351867676
         ],
         "yaxis": "y"
        },
        {
         "fill": "toself",
         "fillcolor": "rgba(0,204,150,.3)",
         "hoverinfo": "skip",
         "legendgroup": "rand_user",
         "line": {
          "color": "rgba(255,255,255,0)"
         },
         "showlegend": false,
         "type": "scatter",
         "x": [
          0,
          150,
          300,
          450,
          600,
          750,
          900,
          900,
          750,
          600,
          450,
          300,
          150,
          0
         ],
         "xaxis": "x",
         "y": [
          5.491880893707275,
          4.698334217071533,
          4.7803730964660645,
          4.306163787841797,
          4.352892875671387,
          4.530187606811523,
          4.6039299964904785,
          4.599471569061279,
          4.5250959396362305,
          4.346700668334961,
          4.2979021072387695,
          4.766814708709717,
          4.675191402435303,
          5.244492053985596
         ],
         "yaxis": "y"
        },
        {
         "customdata": [
          [
           0.12369419634342194
          ],
          [
           0.011571299284696579
          ],
          [
           0.006779051851481199
          ],
          [
           0.004130820743739605
          ],
          [
           0.003095970954746008
          ],
          [
           0.0025459635071456432
          ],
          [
           0.0022290311753749847
          ]
         ],
         "hovertemplate": "context=rand_user<br>l_ctx=%{x}<br>h=%{y}<br>err=%{customdata[0]}<extra></extra>",
         "legendgroup": "rand_user",
         "line": {
          "color": "#00cc96",
          "dash": "solid"
         },
         "marker": {
          "symbol": "circle"
         },
         "mode": "markers+lines",
         "name": "rand_user",
         "orientation": "h",
         "showlegend": true,
         "type": "scatter",
         "x": [
          0,
          150,
          300,
          450,
          600,
          750,
          900
         ],
         "xaxis": "x",
         "y": [
          5.3681864738464355,
          4.686762809753418,
          4.773593902587891,
          4.302032947540283,
          4.349796772003174,
          4.527641773223877,
          4.601700782775879
         ],
         "yaxis": "y"
        }
       ],
       "layout": {
        "autosize": true,
        "legend": {
         "title": {
          "text": "context"
         },
         "tracegroupgap": 0
        },
        "margin": {
         "t": 60
        },
        "template": {
         "data": {
          "bar": [
           {
            "error_x": {
             "color": "#2a3f5f"
            },
            "error_y": {
             "color": "#2a3f5f"
            },
            "marker": {
             "line": {
              "color": "#E5ECF6",
              "width": 0.5
             },
             "pattern": {
              "fillmode": "overlay",
              "size": 10,
              "solidity": 0.2
             }
            },
            "type": "bar"
           }
          ],
          "barpolar": [
           {
            "marker": {
             "line": {
              "color": "#E5ECF6",
              "width": 0.5
             },
             "pattern": {
              "fillmode": "overlay",
              "size": 10,
              "solidity": 0.2
             }
            },
            "type": "barpolar"
           }
          ],
          "carpet": [
           {
            "aaxis": {
             "endlinecolor": "#2a3f5f",
             "gridcolor": "white",
             "linecolor": "white",
             "minorgridcolor": "white",
             "startlinecolor": "#2a3f5f"
            },
            "baxis": {
             "endlinecolor": "#2a3f5f",
             "gridcolor": "white",
             "linecolor": "white",
             "minorgridcolor": "white",
             "startlinecolor": "#2a3f5f"
            },
            "type": "carpet"
           }
          ],
          "choropleth": [
           {
            "colorbar": {
             "outlinewidth": 0,
             "ticks": ""
            },
            "type": "choropleth"
           }
          ],
          "contour": [
           {
            "colorbar": {
             "outlinewidth": 0,
             "ticks": ""
            },
            "colorscale": [
             [
              0,
              "#0d0887"
             ],
             [
              0.1111111111111111,
              "#46039f"
             ],
             [
              0.2222222222222222,
              "#7201a8"
             ],
             [
              0.3333333333333333,
              "#9c179e"
             ],
             [
              0.4444444444444444,
              "#bd3786"
             ],
             [
              0.5555555555555556,
              "#d8576b"
             ],
             [
              0.6666666666666666,
              "#ed7953"
             ],
             [
              0.7777777777777778,
              "#fb9f3a"
             ],
             [
              0.8888888888888888,
              "#fdca26"
             ],
             [
              1,
              "#f0f921"
             ]
            ],
            "type": "contour"
           }
          ],
          "contourcarpet": [
           {
            "colorbar": {
             "outlinewidth": 0,
             "ticks": ""
            },
            "type": "contourcarpet"
           }
          ],
          "heatmap": [
           {
            "colorbar": {
             "outlinewidth": 0,
             "ticks": ""
            },
            "colorscale": [
             [
              0,
              "#0d0887"
             ],
             [
              0.1111111111111111,
              "#46039f"
             ],
             [
              0.2222222222222222,
              "#7201a8"
             ],
             [
              0.3333333333333333,
              "#9c179e"
             ],
             [
              0.4444444444444444,
              "#bd3786"
             ],
             [
              0.5555555555555556,
              "#d8576b"
             ],
             [
              0.6666666666666666,
              "#ed7953"
             ],
             [
              0.7777777777777778,
              "#fb9f3a"
             ],
             [
              0.8888888888888888,
              "#fdca26"
             ],
             [
              1,
              "#f0f921"
             ]
            ],
            "type": "heatmap"
           }
          ],
          "heatmapgl": [
           {
            "colorbar": {
             "outlinewidth": 0,
             "ticks": ""
            },
            "colorscale": [
             [
              0,
              "#0d0887"
             ],
             [
              0.1111111111111111,
              "#46039f"
             ],
             [
              0.2222222222222222,
              "#7201a8"
             ],
             [
              0.3333333333333333,
              "#9c179e"
             ],
             [
              0.4444444444444444,
              "#bd3786"
             ],
             [
              0.5555555555555556,
              "#d8576b"
             ],
             [
              0.6666666666666666,
              "#ed7953"
             ],
             [
              0.7777777777777778,
              "#fb9f3a"
             ],
             [
              0.8888888888888888,
              "#fdca26"
             ],
             [
              1,
              "#f0f921"
             ]
            ],
            "type": "heatmapgl"
           }
          ],
          "histogram": [
           {
            "marker": {
             "pattern": {
              "fillmode": "overlay",
              "size": 10,
              "solidity": 0.2
             }
            },
            "type": "histogram"
           }
          ],
          "histogram2d": [
           {
            "colorbar": {
             "outlinewidth": 0,
             "ticks": ""
            },
            "colorscale": [
             [
              0,
              "#0d0887"
             ],
             [
              0.1111111111111111,
              "#46039f"
             ],
             [
              0.2222222222222222,
              "#7201a8"
             ],
             [
              0.3333333333333333,
              "#9c179e"
             ],
             [
              0.4444444444444444,
              "#bd3786"
             ],
             [
              0.5555555555555556,
              "#d8576b"
             ],
             [
              0.6666666666666666,
              "#ed7953"
             ],
             [
              0.7777777777777778,
              "#fb9f3a"
             ],
             [
              0.8888888888888888,
              "#fdca26"
             ],
             [
              1,
              "#f0f921"
             ]
            ],
            "type": "histogram2d"
           }
          ],
          "histogram2dcontour": [
           {
            "colorbar": {
             "outlinewidth": 0,
             "ticks": ""
            },
            "colorscale": [
             [
              0,
              "#0d0887"
             ],
             [
              0.1111111111111111,
              "#46039f"
             ],
             [
              0.2222222222222222,
              "#7201a8"
             ],
             [
              0.3333333333333333,
              "#9c179e"
             ],
             [
              0.4444444444444444,
              "#bd3786"
             ],
             [
              0.5555555555555556,
              "#d8576b"
             ],
             [
              0.6666666666666666,
              "#ed7953"
             ],
             [
              0.7777777777777778,
              "#fb9f3a"
             ],
             [
              0.8888888888888888,
              "#fdca26"
             ],
             [
              1,
              "#f0f921"
             ]
            ],
            "type": "histogram2dcontour"
           }
          ],
          "mesh3d": [
           {
            "colorbar": {
             "outlinewidth": 0,
             "ticks": ""
            },
            "type": "mesh3d"
           }
          ],
          "parcoords": [
           {
            "line": {
             "colorbar": {
              "outlinewidth": 0,
              "ticks": ""
             }
            },
            "type": "parcoords"
           }
          ],
          "pie": [
           {
            "automargin": true,
            "type": "pie"
           }
          ],
          "scatter": [
           {
            "fillpattern": {
             "fillmode": "overlay",
             "size": 10,
             "solidity": 0.2
            },
            "type": "scatter"
           }
          ],
          "scatter3d": [
           {
            "line": {
             "colorbar": {
              "outlinewidth": 0,
              "ticks": ""
             }
            },
            "marker": {
             "colorbar": {
              "outlinewidth": 0,
              "ticks": ""
             }
            },
            "type": "scatter3d"
           }
          ],
          "scattercarpet": [
           {
            "marker": {
             "colorbar": {
              "outlinewidth": 0,
              "ticks": ""
             }
            },
            "type": "scattercarpet"
           }
          ],
          "scattergeo": [
           {
            "marker": {
             "colorbar": {
              "outlinewidth": 0,
              "ticks": ""
             }
            },
            "type": "scattergeo"
           }
          ],
          "scattergl": [
           {
            "marker": {
             "colorbar": {
              "outlinewidth": 0,
              "ticks": ""
             }
            },
            "type": "scattergl"
           }
          ],
          "scattermapbox": [
           {
            "marker": {
             "colorbar": {
              "outlinewidth": 0,
              "ticks": ""
             }
            },
            "type": "scattermapbox"
           }
          ],
          "scatterpolar": [
           {
            "marker": {
             "colorbar": {
              "outlinewidth": 0,
              "ticks": ""
             }
            },
            "type": "scatterpolar"
           }
          ],
          "scatterpolargl": [
           {
            "marker": {
             "colorbar": {
              "outlinewidth": 0,
              "ticks": ""
             }
            },
            "type": "scatterpolargl"
           }
          ],
          "scatterternary": [
           {
            "marker": {
             "colorbar": {
              "outlinewidth": 0,
              "ticks": ""
             }
            },
            "type": "scatterternary"
           }
          ],
          "surface": [
           {
            "colorbar": {
             "outlinewidth": 0,
             "ticks": ""
            },
            "colorscale": [
             [
              0,
              "#0d0887"
             ],
             [
              0.1111111111111111,
              "#46039f"
             ],
             [
              0.2222222222222222,
              "#7201a8"
             ],
             [
              0.3333333333333333,
              "#9c179e"
             ],
             [
              0.4444444444444444,
              "#bd3786"
             ],
             [
              0.5555555555555556,
              "#d8576b"
             ],
             [
              0.6666666666666666,
              "#ed7953"
             ],
             [
              0.7777777777777778,
              "#fb9f3a"
             ],
             [
              0.8888888888888888,
              "#fdca26"
             ],
             [
              1,
              "#f0f921"
             ]
            ],
            "type": "surface"
           }
          ],
          "table": [
           {
            "cells": {
             "fill": {
              "color": "#EBF0F8"
             },
             "line": {
              "color": "white"
             }
            },
            "header": {
             "fill": {
              "color": "#C8D4E3"
             },
             "line": {
              "color": "white"
             }
            },
            "type": "table"
           }
          ]
         },
         "layout": {
          "annotationdefaults": {
           "arrowcolor": "#2a3f5f",
           "arrowhead": 0,
           "arrowwidth": 1
          },
          "autotypenumbers": "strict",
          "coloraxis": {
           "colorbar": {
            "outlinewidth": 0,
            "ticks": ""
           }
          },
          "colorscale": {
           "diverging": [
            [
             0,
             "#8e0152"
            ],
            [
             0.1,
             "#c51b7d"
            ],
            [
             0.2,
             "#de77ae"
            ],
            [
             0.3,
             "#f1b6da"
            ],
            [
             0.4,
             "#fde0ef"
            ],
            [
             0.5,
             "#f7f7f7"
            ],
            [
             0.6,
             "#e6f5d0"
            ],
            [
             0.7,
             "#b8e186"
            ],
            [
             0.8,
             "#7fbc41"
            ],
            [
             0.9,
             "#4d9221"
            ],
            [
             1,
             "#276419"
            ]
           ],
           "sequential": [
            [
             0,
             "#0d0887"
            ],
            [
             0.1111111111111111,
             "#46039f"
            ],
            [
             0.2222222222222222,
             "#7201a8"
            ],
            [
             0.3333333333333333,
             "#9c179e"
            ],
            [
             0.4444444444444444,
             "#bd3786"
            ],
            [
             0.5555555555555556,
             "#d8576b"
            ],
            [
             0.6666666666666666,
             "#ed7953"
            ],
            [
             0.7777777777777778,
             "#fb9f3a"
            ],
            [
             0.8888888888888888,
             "#fdca26"
            ],
            [
             1,
             "#f0f921"
            ]
           ],
           "sequentialminus": [
            [
             0,
             "#0d0887"
            ],
            [
             0.1111111111111111,
             "#46039f"
            ],
            [
             0.2222222222222222,
             "#7201a8"
            ],
            [
             0.3333333333333333,
             "#9c179e"
            ],
            [
             0.4444444444444444,
             "#bd3786"
            ],
            [
             0.5555555555555556,
             "#d8576b"
            ],
            [
             0.6666666666666666,
             "#ed7953"
            ],
            [
             0.7777777777777778,
             "#fb9f3a"
            ],
            [
             0.8888888888888888,
             "#fdca26"
            ],
            [
             1,
             "#f0f921"
            ]
           ]
          },
          "colorway": [
           "#636efa",
           "#EF553B",
           "#00cc96",
           "#ab63fa",
           "#FFA15A",
           "#19d3f3",
           "#FF6692",
           "#B6E880",
           "#FF97FF",
           "#FECB52"
          ],
          "font": {
           "color": "#2a3f5f"
          },
          "geo": {
           "bgcolor": "white",
           "lakecolor": "white",
           "landcolor": "#E5ECF6",
           "showlakes": true,
           "showland": true,
           "subunitcolor": "white"
          },
          "hoverlabel": {
           "align": "left"
          },
          "hovermode": "closest",
          "mapbox": {
           "style": "light"
          },
          "paper_bgcolor": "white",
          "plot_bgcolor": "#E5ECF6",
          "polar": {
           "angularaxis": {
            "gridcolor": "white",
            "linecolor": "white",
            "ticks": ""
           },
           "bgcolor": "#E5ECF6",
           "radialaxis": {
            "gridcolor": "white",
            "linecolor": "white",
            "ticks": ""
           }
          },
          "scene": {
           "xaxis": {
            "backgroundcolor": "#E5ECF6",
            "gridcolor": "white",
            "gridwidth": 2,
            "linecolor": "white",
            "showbackground": true,
            "ticks": "",
            "zerolinecolor": "white"
           },
           "yaxis": {
            "backgroundcolor": "#E5ECF6",
            "gridcolor": "white",
            "gridwidth": 2,
            "linecolor": "white",
            "showbackground": true,
            "ticks": "",
            "zerolinecolor": "white"
           },
           "zaxis": {
            "backgroundcolor": "#E5ECF6",
            "gridcolor": "white",
            "gridwidth": 2,
            "linecolor": "white",
            "showbackground": true,
            "ticks": "",
            "zerolinecolor": "white"
           }
          },
          "shapedefaults": {
           "line": {
            "color": "#2a3f5f"
           }
          },
          "ternary": {
           "aaxis": {
            "gridcolor": "white",
            "linecolor": "white",
            "ticks": ""
           },
           "baxis": {
            "gridcolor": "white",
            "linecolor": "white",
            "ticks": ""
           },
           "bgcolor": "#E5ECF6",
           "caxis": {
            "gridcolor": "white",
            "linecolor": "white",
            "ticks": ""
           }
          },
          "title": {
           "x": 0.05
          },
          "xaxis": {
           "automargin": true,
           "gridcolor": "white",
           "linecolor": "white",
           "ticks": "",
           "title": {
            "standoff": 15
           },
           "zerolinecolor": "white",
           "zerolinewidth": 2
          },
          "yaxis": {
           "automargin": true,
           "gridcolor": "white",
           "linecolor": "white",
           "ticks": "",
           "title": {
            "standoff": 15
           },
           "zerolinecolor": "white",
           "zerolinewidth": 2
          }
         }
        },
        "xaxis": {
         "anchor": "y",
         "domain": [
          0,
          1
         ],
         "range": [
          0,
          900
         ],
         "title": {
          "text": "num of tokens (context)"
         },
         "type": "linear"
        },
        "yaxis": {
         "anchor": "x",
         "autorange": true,
         "domain": [
          0,
          1
         ],
         "range": [
          3.333811696745905,
          5.646967474244085
         ],
         "title": {
          "text": "entropy (nats)"
         },
         "type": "linear"
        }
       }
      },
      "image/png": "[encoded data removed]",
      "text/html": [
       "<div>                            <div id=\"7ef5aade-48ae-4578-89f9-33ad73994260\" class=\"plotly-graph-div\" style=\"height:525px; width:100%;\"></div>            <script type=\"text/javascript\">                require([\"plotly\"], function(Plotly) {                    window.PLOTLYENV=window.PLOTLYENV || {};                                    if (document.getElementById(\"7ef5aade-48ae-4578-89f9-33ad73994260\")) {                    Plotly.newPlot(                        \"7ef5aade-48ae-4578-89f9-33ad73994260\",                        [{\"fill\":\"toself\",\"fillcolor\":\"rgba(99,110,250,.3)\",\"hoverinfo\":\"skip\",\"legendgroup\":\"user\",\"line\":{\"color\":\"rgba(255,255,255,0)\"},\"showlegend\":false,\"x\":[0,150,300,450,600,750,900,900,750,600,450,300,150,0],\"xaxis\":\"x\",\"y\":[5.491880893707275,4.148983955383301,4.254954814910889,4.320568561553955,3.570401668548584,3.494412422180176,3.636408805847168,3.6316661834716797,3.488898277282715,3.563406467437744,4.310379505157471,4.239452838897705,4.121255874633789,5.244492053985596],\"yaxis\":\"y\",\"type\":\"scatter\"},{\"customdata\":[[0.12369419634342194],[0.013863838277757168],[0.0077511644922196865],[0.005094702821224928],[0.0034976552706211805],[0.0027571057435125113],[0.0023712830152362585]],\"hovertemplate\":\"context=user<br>l_ctx=%{x}<br>h=%{y}<br>err=%{customdata[0]}<extra></extra>\",\"legendgroup\":\"user\",\"line\":{\"color\":\"#636efa\",\"dash\":\"solid\"},\"marker\":{\"symbol\":\"circle\"},\"mode\":\"markers+lines\",\"name\":\"user\",\"orientation\":\"h\",\"showlegend\":true,\"x\":[0,150,300,450,600,750,900],\"xaxis\":\"x\",\"y\":[5.3681864738464355,4.135119915008545,4.247203826904297,4.315474033355713,3.566904067993164,3.4916553497314453,3.634037494659424],\"yaxis\":\"y\",\"type\":\"scatter\"},{\"fill\":\"toself\",\"fillcolor\":\"rgba(239,85,59,.3)\",\"hoverinfo\":\"skip\",\"legendgroup\":\"peer\",\"line\":{\"color\":\"rgba(255,255,255,0)\"},\"showlegend\":false,\"x\":[0,150,300,450,600,750,900,900,750,600,450,300,150,0],\"xaxis\":\"x\",\"y\":[5.491880893707275,5.3217010498046875,4.798666954040527,4.728898525238037,4.701489448547363,4.6359734535217285,4.5904669761657715,4.58561372756958,4.6303277015686035,4.694094657897949,4.7189249992370605,4.7845964431762695,5.290470123291016,5.244492053985596],\"yaxis\":\"y\",\"type\":\"scatter\"},{\"customdata\":[[0.12369419634342194],[0.015615366399288177],[0.00703542260453105],[0.004986993502825499],[0.003697276348248124],[0.0028229316230863333],[0.002426429418846965]],\"hovertemplate\":\"context=peer<br>l_ctx=%{x}<br>h=%{y}<br>err=%{customdata[0]}<extra></extra>\",\"legendgroup\":\"peer\",\"line\":{\"color\":\"#EF553B\",\"dash\":\"solid\"},\"marker\":{\"symbol\":\"circle\"},\"mode\":\"markers+lines\",\"name\":\"peer\",\"orientation\":\"h\",\"showlegend\":true,\"x\":[0,150,300,450,600,750,900],\"xaxis\":\"x\",\"y\":[5.3681864738464355,5.306085586547852,4.791631698608398,4.723911762237549,4.697792053222656,4.633150577545166,4.588040351867676],\"yaxis\":\"y\",\"type\":\"scatter\"},{\"fill\":\"toself\",\"fillcolor\":\"rgba(0,204,150,.3)\",\"hoverinfo\":\"skip\",\"legendgroup\":\"rand_user\",\"line\":{\"color\":\"rgba(255,255,255,0)\"},\"showlegend\":false,\"x\":[0,150,300,450,600,750,900,900,750,600,450,300,150,0],\"xaxis\":\"x\",\"y\":[5.491880893707275,4.698334217071533,4.7803730964660645,4.306163787841797,4.352892875671387,4.530187606811523,4.6039299964904785,4.599471569061279,4.5250959396362305,4.346700668334961,4.2979021072387695,4.766814708709717,4.675191402435303,5.244492053985596],\"yaxis\":\"y\",\"type\":\"scatter\"},{\"customdata\":[[0.12369419634342194],[0.011571299284696579],[0.006779051851481199],[0.004130820743739605],[0.003095970954746008],[0.0025459635071456432],[0.0022290311753749847]],\"hovertemplate\":\"context=rand_user<br>l_ctx=%{x}<br>h=%{y}<br>err=%{customdata[0]}<extra></extra>\",\"legendgroup\":\"rand_user\",\"line\":{\"color\":\"#00cc96\",\"dash\":\"solid\"},\"marker\":{\"symbol\":\"circle\"},\"mode\":\"markers+lines\",\"name\":\"rand_user\",\"orientation\":\"h\",\"showlegend\":true,\"x\":[0,150,300,450,600,750,900],\"xaxis\":\"x\",\"y\":[5.3681864738464355,4.686762809753418,4.773593902587891,4.302032947540283,4.349796772003174,4.527641773223877,4.601700782775879],\"yaxis\":\"y\",\"type\":\"scatter\"}],                        {\"template\":{\"data\":{\"histogram2dcontour\":[{\"type\":\"histogram2dcontour\",\"colorbar\":{\"outlinewidth\":0,\"ticks\":\"\"},\"colorscale\":[[0.0,\"#0d0887\"],[0.1111111111111111,\"#46039f\"],[0.2222222222222222,\"#7201a8\"],[0.3333333333333333,\"#9c179e\"],[0.4444444444444444,\"#bd3786\"],[0.5555555555555556,\"#d8576b\"],[0.6666666666666666,\"#ed7953\"],[0.7777777777777778,\"#fb9f3a\"],[0.8888888888888888,\"#fdca26\"],[1.0,\"#f0f921\"]]}],\"choropleth\":[{\"type\":\"choropleth\",\"colorbar\":{\"outlinewidth\":0,\"ticks\":\"\"}}],\"histogram2d\":[{\"type\":\"histogram2d\",\"colorbar\":{\"outlinewidth\":0,\"ticks\":\"\"},\"colorscale\":[[0.0,\"#0d0887\"],[0.1111111111111111,\"#46039f\"],[0.2222222222222222,\"#7201a8\"],[0.3333333333333333,\"#9c179e\"],[0.4444444444444444,\"#bd3786\"],[0.5555555555555556,\"#d8576b\"],[0.6666666666666666,\"#ed7953\"],[0.7777777777777778,\"#fb9f3a\"],[0.8888888888888888,\"#fdca26\"],[1.0,\"#f0f921\"]]}],\"heatmap\":[{\"type\":\"heatmap\",\"colorbar\":{\"outlinewidth\":0,\"ticks\":\"\"},\"colorscale\":[[0.0,\"#0d0887\"],[0.1111111111111111,\"#46039f\"],[0.2222222222222222,\"#7201a8\"],[0.3333333333333333,\"#9c179e\"],[0.4444444444444444,\"#bd3786\"],[0.5555555555555556,\"#d8576b\"],[0.6666666666666666,\"#ed7953\"],[0.7777777777777778,\"#fb9f3a\"],[0.8888888888888888,\"#fdca26\"],[1.0,\"#f0f921\"]]}],\"heatmapgl\":[{\"type\":\"heatmapgl\",\"colorbar\":{\"outlinewidth\":0,\"ticks\":\"\"},\"colorscale\":[[0.0,\"#0d0887\"],[0.1111111111111111,\"#46039f\"],[0.2222222222222222,\"#7201a8\"],[0.3333333333333333,\"#9c179e\"],[0.4444444444444444,\"#bd3786\"],[0.5555555555555556,\"#d8576b\"],[0.6666666666666666,\"#ed7953\"],[0.7777777777777778,\"#fb9f3a\"],[0.8888888888888888,\"#fdca26\"],[1.0,\"#f0f921\"]]}],\"contourcarpet\":[{\"type\":\"contourcarpet\",\"colorbar\":{\"outlinewidth\":0,\"ticks\":\"\"}}],\"contour\":[{\"type\":\"contour\",\"colorbar\":{\"outlinewidth\":0,\"ticks\":\"\"},\"colorscale\":[[0.0,\"#0d0887\"],[0.1111111111111111,\"#46039f\"],[0.2222222222222222,\"#7201a8\"],[0.3333333333333333,\"#9c179e\"],[0.4444444444444444,\"#bd3786\"],[0.5555555555555556,\"#d8576b\"],[0.6666666666666666,\"#ed7953\"],[0.7777777777777778,\"#fb9f3a\"],[0.8888888888888888,\"#fdca26\"],[1.0,\"#f0f921\"]]}],\"surface\":[{\"type\":\"surface\",\"colorbar\":{\"outlinewidth\":0,\"ticks\":\"\"},\"colorscale\":[[0.0,\"#0d0887\"],[0.1111111111111111,\"#46039f\"],[0.2222222222222222,\"#7201a8\"],[0.3333333333333333,\"#9c179e\"],[0.4444444444444444,\"#bd3786\"],[0.5555555555555556,\"#d8576b\"],[0.6666666666666666,\"#ed7953\"],[0.7777777777777778,\"#fb9f3a\"],[0.8888888888888888,\"#fdca26\"],[1.0,\"#f0f921\"]]}],\"mesh3d\":[{\"type\":\"mesh3d\",\"colorbar\":{\"outlinewidth\":0,\"ticks\":\"\"}}],\"scatter\":[{\"fillpattern\":{\"fillmode\":\"overlay\",\"size\":10,\"solidity\":0.2},\"type\":\"scatter\"}],\"parcoords\":[{\"type\":\"parcoords\",\"line\":{\"colorbar\":{\"outlinewidth\":0,\"ticks\":\"\"}}}],\"scatterpolargl\":[{\"type\":\"scatterpolargl\",\"marker\":{\"colorbar\":{\"outlinewidth\":0,\"ticks\":\"\"}}}],\"bar\":[{\"error_x\":{\"color\":\"#2a3f5f\"},\"error_y\":{\"color\":\"#2a3f5f\"},\"marker\":{\"line\":{\"color\":\"#E5ECF6\",\"width\":0.5},\"pattern\":{\"fillmode\":\"overlay\",\"size\":10,\"solidity\":0.2}},\"type\":\"bar\"}],\"scattergeo\":[{\"type\":\"scattergeo\",\"marker\":{\"colorbar\":{\"outlinewidth\":0,\"ticks\":\"\"}}}],\"scatterpolar\":[{\"type\":\"scatterpolar\",\"marker\":{\"colorbar\":{\"outlinewidth\":0,\"ticks\":\"\"}}}],\"histogram\":[{\"marker\":{\"pattern\":{\"fillmode\":\"overlay\",\"size\":10,\"solidity\":0.2}},\"type\":\"histogram\"}],\"scattergl\":[{\"type\":\"scattergl\",\"marker\":{\"colorbar\":{\"outlinewidth\":0,\"ticks\":\"\"}}}],\"scatter3d\":[{\"type\":\"scatter3d\",\"line\":{\"colorbar\":{\"outlinewidth\":0,\"ticks\":\"\"}},\"marker\":{\"colorbar\":{\"outlinewidth\":0,\"ticks\":\"\"}}}],\"scattermapbox\":[{\"type\":\"scattermapbox\",\"marker\":{\"colorbar\":{\"outlinewidth\":0,\"ticks\":\"\"}}}],\"scatterternary\":[{\"type\":\"scatterternary\",\"marker\":{\"colorbar\":{\"outlinewidth\":0,\"ticks\":\"\"}}}],\"scattercarpet\":[{\"type\":\"scattercarpet\",\"marker\":{\"colorbar\":{\"outlinewidth\":0,\"ticks\":\"\"}}}],\"carpet\":[{\"aaxis\":{\"endlinecolor\":\"#2a3f5f\",\"gridcolor\":\"white\",\"linecolor\":\"white\",\"minorgridcolor\":\"white\",\"startlinecolor\":\"#2a3f5f\"},\"baxis\":{\"endlinecolor\":\"#2a3f5f\",\"gridcolor\":\"white\",\"linecolor\":\"white\",\"minorgridcolor\":\"white\",\"startlinecolor\":\"#2a3f5f\"},\"type\":\"carpet\"}],\"table\":[{\"cells\":{\"fill\":{\"color\":\"#EBF0F8\"},\"line\":{\"color\":\"white\"}},\"header\":{\"fill\":{\"color\":\"#C8D4E3\"},\"line\":{\"color\":\"white\"}},\"type\":\"table\"}],\"barpolar\":[{\"marker\":{\"line\":{\"color\":\"#E5ECF6\",\"width\":0.5},\"pattern\":{\"fillmode\":\"overlay\",\"size\":10,\"solidity\":0.2}},\"type\":\"barpolar\"}],\"pie\":[{\"automargin\":true,\"type\":\"pie\"}]},\"layout\":{\"autotypenumbers\":\"strict\",\"colorway\":[\"#636efa\",\"#EF553B\",\"#00cc96\",\"#ab63fa\",\"#FFA15A\",\"#19d3f3\",\"#FF6692\",\"#B6E880\",\"#FF97FF\",\"#FECB52\"],\"font\":{\"color\":\"#2a3f5f\"},\"hovermode\":\"closest\",\"hoverlabel\":{\"align\":\"left\"},\"paper_bgcolor\":\"white\",\"plot_bgcolor\":\"#E5ECF6\",\"polar\":{\"bgcolor\":\"#E5ECF6\",\"angularaxis\":{\"gridcolor\":\"white\",\"linecolor\":\"white\",\"ticks\":\"\"},\"radialaxis\":{\"gridcolor\":\"white\",\"linecolor\":\"white\",\"ticks\":\"\"}},\"ternary\":{\"bgcolor\":\"#E5ECF6\",\"aaxis\":{\"gridcolor\":\"white\",\"linecolor\":\"white\",\"ticks\":\"\"},\"baxis\":{\"gridcolor\":\"white\",\"linecolor\":\"white\",\"ticks\":\"\"},\"caxis\":{\"gridcolor\":\"white\",\"linecolor\":\"white\",\"ticks\":\"\"}},\"coloraxis\":{\"colorbar\":{\"outlinewidth\":0,\"ticks\":\"\"}},\"colorscale\":{\"sequential\":[[0.0,\"#0d0887\"],[0.1111111111111111,\"#46039f\"],[0.2222222222222222,\"#7201a8\"],[0.3333333333333333,\"#9c179e\"],[0.4444444444444444,\"#bd3786\"],[0.5555555555555556,\"#d8576b\"],[0.6666666666666666,\"#ed7953\"],[0.7777777777777778,\"#fb9f3a\"],[0.8888888888888888,\"#fdca26\"],[1.0,\"#f0f921\"]],\"sequentialminus\":[[0.0,\"#0d0887\"],[0.1111111111111111,\"#46039f\"],[0.2222222222222222,\"#7201a8\"],[0.3333333333333333,\"#9c179e\"],[0.4444444444444444,\"#bd3786\"],[0.5555555555555556,\"#d8576b\"],[0.6666666666666666,\"#ed7953\"],[0.7777777777777778,\"#fb9f3a\"],[0.8888888888888888,\"#fdca26\"],[1.0,\"#f0f921\"]],\"diverging\":[[0,\"#8e0152\"],[0.1,\"#c51b7d\"],[0.2,\"#de77ae\"],[0.3,\"#f1b6da\"],[0.4,\"#fde0ef\"],[0.5,\"#f7f7f7\"],[0.6,\"#e6f5d0\"],[0.7,\"#b8e186\"],[0.8,\"#7fbc41\"],[0.9,\"#4d9221\"],[1,\"#276419\"]]},\"xaxis\":{\"gridcolor\":\"white\",\"linecolor\":\"white\",\"ticks\":\"\",\"title\":{\"standoff\":15},\"zerolinecolor\":\"white\",\"automargin\":true,\"zerolinewidth\":2},\"yaxis\":{\"gridcolor\":\"white\",\"linecolor\":\"white\",\"ticks\":\"\",\"title\":{\"standoff\":15},\"zerolinecolor\":\"white\",\"automargin\":true,\"zerolinewidth\":2},\"scene\":{\"xaxis\":{\"backgroundcolor\":\"#E5ECF6\",\"gridcolor\":\"white\",\"linecolor\":\"white\",\"showbackground\":true,\"ticks\":\"\",\"zerolinecolor\":\"white\",\"gridwidth\":2},\"yaxis\":{\"backgroundcolor\":\"#E5ECF6\",\"gridcolor\":\"white\",\"linecolor\":\"white\",\"showbackground\":true,\"ticks\":\"\",\"zerolinecolor\":\"white\",\"gridwidth\":2},\"zaxis\":{\"backgroundcolor\":\"#E5ECF6\",\"gridcolor\":\"white\",\"linecolor\":\"white\",\"showbackground\":true,\"ticks\":\"\",\"zerolinecolor\":\"white\",\"gridwidth\":2}},\"shapedefaults\":{\"line\":{\"color\":\"#2a3f5f\"}},\"annotationdefaults\":{\"arrowcolor\":\"#2a3f5f\",\"arrowhead\":0,\"arrowwidth\":1},\"geo\":{\"bgcolor\":\"white\",\"landcolor\":\"#E5ECF6\",\"subunitcolor\":\"white\",\"showland\":true,\"showlakes\":true,\"lakecolor\":\"white\"},\"title\":{\"x\":0.05},\"mapbox\":{\"style\":\"light\"}}},\"xaxis\":{\"anchor\":\"y\",\"domain\":[0.0,1.0],\"title\":{\"text\":\"num of tokens (context)\"},\"range\":[0,900]},\"yaxis\":{\"anchor\":\"x\",\"domain\":[0.0,1.0],\"title\":{\"text\":\"entropy (nats)\"}},\"legend\":{\"title\":{\"text\":\"context\"},\"tracegroupgap\":0},\"margin\":{\"t\":60}},                        {\"responsive\": true}                    ).then(function(){\n",
       "                            \n",
       "var gd = document.getElementById('7ef5aade-48ae-4578-89f9-33ad73994260');\n",
       "var x = new MutationObserver(function (mutations, observer) {{\n",
       "        var display = window.getComputedStyle(gd).display;\n",
       "        if (!display || display === 'none') {{\n",
       "            console.log([gd, 'removed!']);\n",
       "            Plotly.purge(gd);\n",
       "            observer.disconnect();\n",
       "        }}\n",
       "}});\n",
       "\n",
       "// Listen for the removal of the full notebook cells\n",
       "var notebookContainer = gd.closest('#notebook-container');\n",
       "if (notebookContainer) {{\n",
       "    x.observe(notebookContainer, {childList: true});\n",
       "}}\n",
       "\n",
       "// Listen for the clearing of the current output cell\n",
       "var outputEl = gd.closest('.output');\n",
       "if (outputEl) {{\n",
       "    x.observe(outputEl, {childList: true});\n",
       "}}\n",
       "\n",
       "                        })                };                });            </script>        </div>"
      ]
     },
     "metadata": {},
     "output_type": "display_data"
    }
   ],
   "source": [
    "fig = line(data_frame=entropies, x=\"l_ctx\", y=\"h\", error_y=\"err\", error_y_mode='bands', color=\"context\", markers=True, hover_data=[\"err\"])\n",
    "fig.update_yaxes(title=\"entropy (nats)\")\n",
    "fig.update_xaxes(title=\"num of tokens (context)\", range=(0,900))"
   ]
  },
  {
   "cell_type": "markdown",
   "id": "f71184b2-4bf3-488a-9ff7-79732add9388",
   "metadata": {},
   "source": [
    "Unfortunately PPL(user|peer data) is roughly the same as PPL(user|rand user data)..."
   ]
  },
  {
   "cell_type": "code",
   "execution_count": 120,
   "id": "986e2f33-a512-4684-aeca-c8dff7fa95d3",
   "metadata": {},
   "outputs": [],
   "source": [
    "import pandas as pd"
   ]
  },
  {
   "cell_type": "code",
   "execution_count": 121,
   "id": "ee81a786-4f42-4b6c-8715-576d767b7a5a",
   "metadata": {},
   "outputs": [],
   "source": [
    "df = pd.DataFrame.from_dict(entropies)"
   ]
  },
  {
   "cell_type": "code",
   "execution_count": 123,
   "id": "b5352534-6863-4310-8a6a-ce8932a01ffe",
   "metadata": {},
   "outputs": [
    {
     "data": {
      "text/html": [
       "<div>\n",
       "<style scoped>\n",
       "    .dataframe tbody tr th:only-of-type {\n",
       "        vertical-align: middle;\n",
       "    }\n",
       "\n",
       "    .dataframe tbody tr th {\n",
       "        vertical-align: top;\n",
       "    }\n",
       "\n",
       "    .dataframe thead th {\n",
       "        text-align: right;\n",
       "    }\n",
       "</style>\n",
       "<table border=\"1\" class=\"dataframe\">\n",
       "  <thead>\n",
       "    <tr style=\"text-align: right;\">\n",
       "      <th></th>\n",
       "      <th>h</th>\n",
       "      <th>err</th>\n",
       "      <th>context</th>\n",
       "      <th>l_ctx</th>\n",
       "    </tr>\n",
       "  </thead>\n",
       "  <tbody>\n",
       "    <tr>\n",
       "      <th>0</th>\n",
       "      <td>tensor(5.3682)</td>\n",
       "      <td>tensor(0.1237)</td>\n",
       "      <td>user</td>\n",
       "      <td>0</td>\n",
       "    </tr>\n",
       "    <tr>\n",
       "      <th>1</th>\n",
       "      <td>tensor(4.1351)</td>\n",
       "      <td>tensor(0.0139)</td>\n",
       "      <td>user</td>\n",
       "      <td>150</td>\n",
       "    </tr>\n",
       "    <tr>\n",
       "      <th>2</th>\n",
       "      <td>tensor(4.2472)</td>\n",
       "      <td>tensor(0.0078)</td>\n",
       "      <td>user</td>\n",
       "      <td>300</td>\n",
       "    </tr>\n",
       "    <tr>\n",
       "      <th>3</th>\n",
       "      <td>tensor(4.3155)</td>\n",
       "      <td>tensor(0.0051)</td>\n",
       "      <td>user</td>\n",
       "      <td>450</td>\n",
       "    </tr>\n",
       "    <tr>\n",
       "      <th>4</th>\n",
       "      <td>tensor(3.5669)</td>\n",
       "      <td>tensor(0.0035)</td>\n",
       "      <td>user</td>\n",
       "      <td>600</td>\n",
       "    </tr>\n",
       "  </tbody>\n",
       "</table>\n",
       "</div>"
      ],
      "text/plain": [
       "                h             err context  l_ctx\n",
       "0  tensor(5.3682)  tensor(0.1237)    user      0\n",
       "1  tensor(4.1351)  tensor(0.0139)    user    150\n",
       "2  tensor(4.2472)  tensor(0.0078)    user    300\n",
       "3  tensor(4.3155)  tensor(0.0051)    user    450\n",
       "4  tensor(3.5669)  tensor(0.0035)    user    600"
      ]
     },
     "execution_count": 123,
     "metadata": {},
     "output_type": "execute_result"
    }
   ],
   "source": [
    "df.head()"
   ]
  },
  {
   "cell_type": "code",
   "execution_count": 128,
   "id": "3ea46121-39e3-4e25-90cf-f81bc44fa16e",
   "metadata": {},
   "outputs": [],
   "source": [
    "df[\"ppl\"] = torch.exp(torch.stack(df[\"h\"].tolist()))"
   ]
  },
  {
   "cell_type": "code",
   "execution_count": 129,
   "id": "34e6c9c9-c585-475b-8ead-c315d395212c",
   "metadata": {},
   "outputs": [
    {
     "data": {
      "text/plain": [
       "0    214.473557\n",
       "1     62.497086\n",
       "2     69.909660\n",
       "3     74.849098\n",
       "4     35.406807\n",
       "Name: ppl, dtype: float32"
      ]
     },
     "execution_count": 129,
     "metadata": {},
     "output_type": "execute_result"
    }
   ],
   "source": [
    "df[\"ppl\"][:5]"
   ]
  },
  {
   "cell_type": "code",
   "execution_count": 131,
   "id": "60d3014c-b6d4-4248-956a-ffca3e90a39d",
   "metadata": {},
   "outputs": [
    {
     "data": {
      "application/vnd.plotly.v1+json": {
       "config": {
        "plotlyServerURL": "https://plot.ly"
       },
       "data": [
        {
         "hovertemplate": "context=user<br>l_ctx=%{x}<br>ppl=%{y}<extra></extra>",
         "legendgroup": "user",
         "line": {
          "color": "#636efa",
          "dash": "solid"
         },
         "marker": {
          "symbol": "circle"
         },
         "mode": "markers+lines",
         "name": "user",
         "orientation": "v",
         "showlegend": true,
         "type": "scatter",
         "x": [
          0,
          150,
          300,
          450,
          600,
          750,
          900
         ],
         "xaxis": "x",
         "y": [
          214.4735565185547,
          62.49708557128906,
          69.90966033935547,
          74.8490982055664,
          35.40680694580078,
          32.84026336669922,
          37.86539077758789
         ],
         "yaxis": "y"
        },
        {
         "hovertemplate": "context=peer<br>l_ctx=%{x}<br>ppl=%{y}<extra></extra>",
         "legendgroup": "peer",
         "line": {
          "color": "#EF553B",
          "dash": "solid"
         },
         "marker": {
          "symbol": "circle"
         },
         "mode": "markers+lines",
         "name": "peer",
         "orientation": "v",
         "showlegend": true,
         "type": "scatter",
         "x": [
          0,
          150,
          300,
          450,
          600,
          750,
          900
         ],
         "xaxis": "x",
         "y": [
          214.4735565185547,
          201.5596923828125,
          120.4978256225586,
          112.6078872680664,
          109.70468139648438,
          102.83755493164062,
          98.30160522460938
         ],
         "yaxis": "y"
        },
        {
         "hovertemplate": "context=rand_user<br>l_ctx=%{x}<br>ppl=%{y}<extra></extra>",
         "legendgroup": "rand_user",
         "line": {
          "color": "#00cc96",
          "dash": "solid"
         },
         "marker": {
          "symbol": "circle"
         },
         "mode": "markers+lines",
         "name": "rand_user",
         "orientation": "v",
         "showlegend": true,
         "type": "scatter",
         "x": [
          0,
          150,
          300,
          450,
          600,
          750,
          900
         ],
         "xaxis": "x",
         "y": [
          214.4735565185547,
          108.50137329101562,
          118.34379577636719,
          73.84977722167969,
          77.46271514892578,
          92.54006958007812,
          99.6536636352539
         ],
         "yaxis": "y"
        }
       ],
       "layout": {
        "autosize": true,
        "legend": {
         "title": {
          "text": "context"
         },
         "tracegroupgap": 0
        },
        "margin": {
         "t": 60
        },
        "template": {
         "data": {
          "bar": [
           {
            "error_x": {
             "color": "#2a3f5f"
            },
            "error_y": {
             "color": "#2a3f5f"
            },
            "marker": {
             "line": {
              "color": "#E5ECF6",
              "width": 0.5
             },
             "pattern": {
              "fillmode": "overlay",
              "size": 10,
              "solidity": 0.2
             }
            },
            "type": "bar"
           }
          ],
          "barpolar": [
           {
            "marker": {
             "line": {
              "color": "#E5ECF6",
              "width": 0.5
             },
             "pattern": {
              "fillmode": "overlay",
              "size": 10,
              "solidity": 0.2
             }
            },
            "type": "barpolar"
           }
          ],
          "carpet": [
           {
            "aaxis": {
             "endlinecolor": "#2a3f5f",
             "gridcolor": "white",
             "linecolor": "white",
             "minorgridcolor": "white",
             "startlinecolor": "#2a3f5f"
            },
            "baxis": {
             "endlinecolor": "#2a3f5f",
             "gridcolor": "white",
             "linecolor": "white",
             "minorgridcolor": "white",
             "startlinecolor": "#2a3f5f"
            },
            "type": "carpet"
           }
          ],
          "choropleth": [
           {
            "colorbar": {
             "outlinewidth": 0,
             "ticks": ""
            },
            "type": "choropleth"
           }
          ],
          "contour": [
           {
            "colorbar": {
             "outlinewidth": 0,
             "ticks": ""
            },
            "colorscale": [
             [
              0,
              "#0d0887"
             ],
             [
              0.1111111111111111,
              "#46039f"
             ],
             [
              0.2222222222222222,
              "#7201a8"
             ],
             [
              0.3333333333333333,
              "#9c179e"
             ],
             [
              0.4444444444444444,
              "#bd3786"
             ],
             [
              0.5555555555555556,
              "#d8576b"
             ],
             [
              0.6666666666666666,
              "#ed7953"
             ],
             [
              0.7777777777777778,
              "#fb9f3a"
             ],
             [
              0.8888888888888888,
              "#fdca26"
             ],
             [
              1,
              "#f0f921"
             ]
            ],
            "type": "contour"
           }
          ],
          "contourcarpet": [
           {
            "colorbar": {
             "outlinewidth": 0,
             "ticks": ""
            },
            "type": "contourcarpet"
           }
          ],
          "heatmap": [
           {
            "colorbar": {
             "outlinewidth": 0,
             "ticks": ""
            },
            "colorscale": [
             [
              0,
              "#0d0887"
             ],
             [
              0.1111111111111111,
              "#46039f"
             ],
             [
              0.2222222222222222,
              "#7201a8"
             ],
             [
              0.3333333333333333,
              "#9c179e"
             ],
             [
              0.4444444444444444,
              "#bd3786"
             ],
             [
              0.5555555555555556,
              "#d8576b"
             ],
             [
              0.6666666666666666,
              "#ed7953"
             ],
             [
              0.7777777777777778,
              "#fb9f3a"
             ],
             [
              0.8888888888888888,
              "#fdca26"
             ],
             [
              1,
              "#f0f921"
             ]
            ],
            "type": "heatmap"
           }
          ],
          "heatmapgl": [
           {
            "colorbar": {
             "outlinewidth": 0,
             "ticks": ""
            },
            "colorscale": [
             [
              0,
              "#0d0887"
             ],
             [
              0.1111111111111111,
              "#46039f"
             ],
             [
              0.2222222222222222,
              "#7201a8"
             ],
             [
              0.3333333333333333,
              "#9c179e"
             ],
             [
              0.4444444444444444,
              "#bd3786"
             ],
             [
              0.5555555555555556,
              "#d8576b"
             ],
             [
              0.6666666666666666,
              "#ed7953"
             ],
             [
              0.7777777777777778,
              "#fb9f3a"
             ],
             [
              0.8888888888888888,
              "#fdca26"
             ],
             [
              1,
              "#f0f921"
             ]
            ],
            "type": "heatmapgl"
           }
          ],
          "histogram": [
           {
            "marker": {
             "pattern": {
              "fillmode": "overlay",
              "size": 10,
              "solidity": 0.2
             }
            },
            "type": "histogram"
           }
          ],
          "histogram2d": [
           {
            "colorbar": {
             "outlinewidth": 0,
             "ticks": ""
            },
            "colorscale": [
             [
              0,
              "#0d0887"
             ],
             [
              0.1111111111111111,
              "#46039f"
             ],
             [
              0.2222222222222222,
              "#7201a8"
             ],
             [
              0.3333333333333333,
              "#9c179e"
             ],
             [
              0.4444444444444444,
              "#bd3786"
             ],
             [
              0.5555555555555556,
              "#d8576b"
             ],
             [
              0.6666666666666666,
              "#ed7953"
             ],
             [
              0.7777777777777778,
              "#fb9f3a"
             ],
             [
              0.8888888888888888,
              "#fdca26"
             ],
             [
              1,
              "#f0f921"
             ]
            ],
            "type": "histogram2d"
           }
          ],
          "histogram2dcontour": [
           {
            "colorbar": {
             "outlinewidth": 0,
             "ticks": ""
            },
            "colorscale": [
             [
              0,
              "#0d0887"
             ],
             [
              0.1111111111111111,
              "#46039f"
             ],
             [
              0.2222222222222222,
              "#7201a8"
             ],
             [
              0.3333333333333333,
              "#9c179e"
             ],
             [
              0.4444444444444444,
              "#bd3786"
             ],
             [
              0.5555555555555556,
              "#d8576b"
             ],
             [
              0.6666666666666666,
              "#ed7953"
             ],
             [
              0.7777777777777778,
              "#fb9f3a"
             ],
             [
              0.8888888888888888,
              "#fdca26"
             ],
             [
              1,
              "#f0f921"
             ]
            ],
            "type": "histogram2dcontour"
           }
          ],
          "mesh3d": [
           {
            "colorbar": {
             "outlinewidth": 0,
             "ticks": ""
            },
            "type": "mesh3d"
           }
          ],
          "parcoords": [
           {
            "line": {
             "colorbar": {
              "outlinewidth": 0,
              "ticks": ""
             }
            },
            "type": "parcoords"
           }
          ],
          "pie": [
           {
            "automargin": true,
            "type": "pie"
           }
          ],
          "scatter": [
           {
            "fillpattern": {
             "fillmode": "overlay",
             "size": 10,
             "solidity": 0.2
            },
            "type": "scatter"
           }
          ],
          "scatter3d": [
           {
            "line": {
             "colorbar": {
              "outlinewidth": 0,
              "ticks": ""
             }
            },
            "marker": {
             "colorbar": {
              "outlinewidth": 0,
              "ticks": ""
             }
            },
            "type": "scatter3d"
           }
          ],
          "scattercarpet": [
           {
            "marker": {
             "colorbar": {
              "outlinewidth": 0,
              "ticks": ""
             }
            },
            "type": "scattercarpet"
           }
          ],
          "scattergeo": [
           {
            "marker": {
             "colorbar": {
              "outlinewidth": 0,
              "ticks": ""
             }
            },
            "type": "scattergeo"
           }
          ],
          "scattergl": [
           {
            "marker": {
             "colorbar": {
              "outlinewidth": 0,
              "ticks": ""
             }
            },
            "type": "scattergl"
           }
          ],
          "scattermapbox": [
           {
            "marker": {
             "colorbar": {
              "outlinewidth": 0,
              "ticks": ""
             }
            },
            "type": "scattermapbox"
           }
          ],
          "scatterpolar": [
           {
            "marker": {
             "colorbar": {
              "outlinewidth": 0,
              "ticks": ""
             }
            },
            "type": "scatterpolar"
           }
          ],
          "scatterpolargl": [
           {
            "marker": {
             "colorbar": {
              "outlinewidth": 0,
              "ticks": ""
             }
            },
            "type": "scatterpolargl"
           }
          ],
          "scatterternary": [
           {
            "marker": {
             "colorbar": {
              "outlinewidth": 0,
              "ticks": ""
             }
            },
            "type": "scatterternary"
           }
          ],
          "surface": [
           {
            "colorbar": {
             "outlinewidth": 0,
             "ticks": ""
            },
            "colorscale": [
             [
              0,
              "#0d0887"
             ],
             [
              0.1111111111111111,
              "#46039f"
             ],
             [
              0.2222222222222222,
              "#7201a8"
             ],
             [
              0.3333333333333333,
              "#9c179e"
             ],
             [
              0.4444444444444444,
              "#bd3786"
             ],
             [
              0.5555555555555556,
              "#d8576b"
             ],
             [
              0.6666666666666666,
              "#ed7953"
             ],
             [
              0.7777777777777778,
              "#fb9f3a"
             ],
             [
              0.8888888888888888,
              "#fdca26"
             ],
             [
              1,
              "#f0f921"
             ]
            ],
            "type": "surface"
           }
          ],
          "table": [
           {
            "cells": {
             "fill": {
              "color": "#EBF0F8"
             },
             "line": {
              "color": "white"
             }
            },
            "header": {
             "fill": {
              "color": "#C8D4E3"
             },
             "line": {
              "color": "white"
             }
            },
            "type": "table"
           }
          ]
         },
         "layout": {
          "annotationdefaults": {
           "arrowcolor": "#2a3f5f",
           "arrowhead": 0,
           "arrowwidth": 1
          },
          "autotypenumbers": "strict",
          "coloraxis": {
           "colorbar": {
            "outlinewidth": 0,
            "ticks": ""
           }
          },
          "colorscale": {
           "diverging": [
            [
             0,
             "#8e0152"
            ],
            [
             0.1,
             "#c51b7d"
            ],
            [
             0.2,
             "#de77ae"
            ],
            [
             0.3,
             "#f1b6da"
            ],
            [
             0.4,
             "#fde0ef"
            ],
            [
             0.5,
             "#f7f7f7"
            ],
            [
             0.6,
             "#e6f5d0"
            ],
            [
             0.7,
             "#b8e186"
            ],
            [
             0.8,
             "#7fbc41"
            ],
            [
             0.9,
             "#4d9221"
            ],
            [
             1,
             "#276419"
            ]
           ],
           "sequential": [
            [
             0,
             "#0d0887"
            ],
            [
             0.1111111111111111,
             "#46039f"
            ],
            [
             0.2222222222222222,
             "#7201a8"
            ],
            [
             0.3333333333333333,
             "#9c179e"
            ],
            [
             0.4444444444444444,
             "#bd3786"
            ],
            [
             0.5555555555555556,
             "#d8576b"
            ],
            [
             0.6666666666666666,
             "#ed7953"
            ],
            [
             0.7777777777777778,
             "#fb9f3a"
            ],
            [
             0.8888888888888888,
             "#fdca26"
            ],
            [
             1,
             "#f0f921"
            ]
           ],
           "sequentialminus": [
            [
             0,
             "#0d0887"
            ],
            [
             0.1111111111111111,
             "#46039f"
            ],
            [
             0.2222222222222222,
             "#7201a8"
            ],
            [
             0.3333333333333333,
             "#9c179e"
            ],
            [
             0.4444444444444444,
             "#bd3786"
            ],
            [
             0.5555555555555556,
             "#d8576b"
            ],
            [
             0.6666666666666666,
             "#ed7953"
            ],
            [
             0.7777777777777778,
             "#fb9f3a"
            ],
            [
             0.8888888888888888,
             "#fdca26"
            ],
            [
             1,
             "#f0f921"
            ]
           ]
          },
          "colorway": [
           "#636efa",
           "#EF553B",
           "#00cc96",
           "#ab63fa",
           "#FFA15A",
           "#19d3f3",
           "#FF6692",
           "#B6E880",
           "#FF97FF",
           "#FECB52"
          ],
          "font": {
           "color": "#2a3f5f"
          },
          "geo": {
           "bgcolor": "white",
           "lakecolor": "white",
           "landcolor": "#E5ECF6",
           "showlakes": true,
           "showland": true,
           "subunitcolor": "white"
          },
          "hoverlabel": {
           "align": "left"
          },
          "hovermode": "closest",
          "mapbox": {
           "style": "light"
          },
          "paper_bgcolor": "white",
          "plot_bgcolor": "#E5ECF6",
          "polar": {
           "angularaxis": {
            "gridcolor": "white",
            "linecolor": "white",
            "ticks": ""
           },
           "bgcolor": "#E5ECF6",
           "radialaxis": {
            "gridcolor": "white",
            "linecolor": "white",
            "ticks": ""
           }
          },
          "scene": {
           "xaxis": {
            "backgroundcolor": "#E5ECF6",
            "gridcolor": "white",
            "gridwidth": 2,
            "linecolor": "white",
            "showbackground": true,
            "ticks": "",
            "zerolinecolor": "white"
           },
           "yaxis": {
            "backgroundcolor": "#E5ECF6",
            "gridcolor": "white",
            "gridwidth": 2,
            "linecolor": "white",
            "showbackground": true,
            "ticks": "",
            "zerolinecolor": "white"
           },
           "zaxis": {
            "backgroundcolor": "#E5ECF6",
            "gridcolor": "white",
            "gridwidth": 2,
            "linecolor": "white",
            "showbackground": true,
            "ticks": "",
            "zerolinecolor": "white"
           }
          },
          "shapedefaults": {
           "line": {
            "color": "#2a3f5f"
           }
          },
          "ternary": {
           "aaxis": {
            "gridcolor": "white",
            "linecolor": "white",
            "ticks": ""
           },
           "baxis": {
            "gridcolor": "white",
            "linecolor": "white",
            "ticks": ""
           },
           "bgcolor": "#E5ECF6",
           "caxis": {
            "gridcolor": "white",
            "linecolor": "white",
            "ticks": ""
           }
          },
          "title": {
           "x": 0.05
          },
          "xaxis": {
           "automargin": true,
           "gridcolor": "white",
           "linecolor": "white",
           "ticks": "",
           "title": {
            "standoff": 15
           },
           "zerolinecolor": "white",
           "zerolinewidth": 2
          },
          "yaxis": {
           "automargin": true,
           "gridcolor": "white",
           "linecolor": "white",
           "ticks": "",
           "title": {
            "standoff": 15
           },
           "zerolinecolor": "white",
           "zerolinewidth": 2
          }
         }
        },
        "xaxis": {
         "anchor": "y",
         "domain": [
          0,
          1
         ],
         "range": [
          0,
          900
         ],
         "title": {
          "text": "num of tokens (context)"
         },
         "type": "linear"
        },
        "yaxis": {
         "anchor": "x",
         "autorange": true,
         "domain": [
          0,
          1
         ],
         "range": [
          18.776793162027996,
          228.53702672322592
         ],
         "title": {
          "text": "perplexity"
         },
         "type": "linear"
        }
       }
      },
      "image/png": "[encoded data removed]",
      "text/html": [
       "<div>                            <div id=\"b2d40217-e9b6-41d8-89d6-609632dcd767\" class=\"plotly-graph-div\" style=\"height:525px; width:100%;\"></div>            <script type=\"text/javascript\">                require([\"plotly\"], function(Plotly) {                    window.PLOTLYENV=window.PLOTLYENV || {};                                    if (document.getElementById(\"b2d40217-e9b6-41d8-89d6-609632dcd767\")) {                    Plotly.newPlot(                        \"b2d40217-e9b6-41d8-89d6-609632dcd767\",                        [{\"hovertemplate\":\"context=user<br>l_ctx=%{x}<br>ppl=%{y}<extra></extra>\",\"legendgroup\":\"user\",\"line\":{\"color\":\"#636efa\",\"dash\":\"solid\"},\"marker\":{\"symbol\":\"circle\"},\"mode\":\"markers+lines\",\"name\":\"user\",\"orientation\":\"v\",\"showlegend\":true,\"x\":[0,150,300,450,600,750,900],\"xaxis\":\"x\",\"y\":[214.4735565185547,62.49708557128906,69.90966033935547,74.8490982055664,35.40680694580078,32.84026336669922,37.86539077758789],\"yaxis\":\"y\",\"type\":\"scatter\"},{\"hovertemplate\":\"context=peer<br>l_ctx=%{x}<br>ppl=%{y}<extra></extra>\",\"legendgroup\":\"peer\",\"line\":{\"color\":\"#EF553B\",\"dash\":\"solid\"},\"marker\":{\"symbol\":\"circle\"},\"mode\":\"markers+lines\",\"name\":\"peer\",\"orientation\":\"v\",\"showlegend\":true,\"x\":[0,150,300,450,600,750,900],\"xaxis\":\"x\",\"y\":[214.4735565185547,201.5596923828125,120.4978256225586,112.6078872680664,109.70468139648438,102.83755493164062,98.30160522460938],\"yaxis\":\"y\",\"type\":\"scatter\"},{\"hovertemplate\":\"context=rand_user<br>l_ctx=%{x}<br>ppl=%{y}<extra></extra>\",\"legendgroup\":\"rand_user\",\"line\":{\"color\":\"#00cc96\",\"dash\":\"solid\"},\"marker\":{\"symbol\":\"circle\"},\"mode\":\"markers+lines\",\"name\":\"rand_user\",\"orientation\":\"v\",\"showlegend\":true,\"x\":[0,150,300,450,600,750,900],\"xaxis\":\"x\",\"y\":[214.4735565185547,108.50137329101562,118.34379577636719,73.84977722167969,77.46271514892578,92.54006958007812,99.6536636352539],\"yaxis\":\"y\",\"type\":\"scatter\"}],                        {\"template\":{\"data\":{\"histogram2dcontour\":[{\"type\":\"histogram2dcontour\",\"colorbar\":{\"outlinewidth\":0,\"ticks\":\"\"},\"colorscale\":[[0.0,\"#0d0887\"],[0.1111111111111111,\"#46039f\"],[0.2222222222222222,\"#7201a8\"],[0.3333333333333333,\"#9c179e\"],[0.4444444444444444,\"#bd3786\"],[0.5555555555555556,\"#d8576b\"],[0.6666666666666666,\"#ed7953\"],[0.7777777777777778,\"#fb9f3a\"],[0.8888888888888888,\"#fdca26\"],[1.0,\"#f0f921\"]]}],\"choropleth\":[{\"type\":\"choropleth\",\"colorbar\":{\"outlinewidth\":0,\"ticks\":\"\"}}],\"histogram2d\":[{\"type\":\"histogram2d\",\"colorbar\":{\"outlinewidth\":0,\"ticks\":\"\"},\"colorscale\":[[0.0,\"#0d0887\"],[0.1111111111111111,\"#46039f\"],[0.2222222222222222,\"#7201a8\"],[0.3333333333333333,\"#9c179e\"],[0.4444444444444444,\"#bd3786\"],[0.5555555555555556,\"#d8576b\"],[0.6666666666666666,\"#ed7953\"],[0.7777777777777778,\"#fb9f3a\"],[0.8888888888888888,\"#fdca26\"],[1.0,\"#f0f921\"]]}],\"heatmap\":[{\"type\":\"heatmap\",\"colorbar\":{\"outlinewidth\":0,\"ticks\":\"\"},\"colorscale\":[[0.0,\"#0d0887\"],[0.1111111111111111,\"#46039f\"],[0.2222222222222222,\"#7201a8\"],[0.3333333333333333,\"#9c179e\"],[0.4444444444444444,\"#bd3786\"],[0.5555555555555556,\"#d8576b\"],[0.6666666666666666,\"#ed7953\"],[0.7777777777777778,\"#fb9f3a\"],[0.8888888888888888,\"#fdca26\"],[1.0,\"#f0f921\"]]}],\"heatmapgl\":[{\"type\":\"heatmapgl\",\"colorbar\":{\"outlinewidth\":0,\"ticks\":\"\"},\"colorscale\":[[0.0,\"#0d0887\"],[0.1111111111111111,\"#46039f\"],[0.2222222222222222,\"#7201a8\"],[0.3333333333333333,\"#9c179e\"],[0.4444444444444444,\"#bd3786\"],[0.5555555555555556,\"#d8576b\"],[0.6666666666666666,\"#ed7953\"],[0.7777777777777778,\"#fb9f3a\"],[0.8888888888888888,\"#fdca26\"],[1.0,\"#f0f921\"]]}],\"contourcarpet\":[{\"type\":\"contourcarpet\",\"colorbar\":{\"outlinewidth\":0,\"ticks\":\"\"}}],\"contour\":[{\"type\":\"contour\",\"colorbar\":{\"outlinewidth\":0,\"ticks\":\"\"},\"colorscale\":[[0.0,\"#0d0887\"],[0.1111111111111111,\"#46039f\"],[0.2222222222222222,\"#7201a8\"],[0.3333333333333333,\"#9c179e\"],[0.4444444444444444,\"#bd3786\"],[0.5555555555555556,\"#d8576b\"],[0.6666666666666666,\"#ed7953\"],[0.7777777777777778,\"#fb9f3a\"],[0.8888888888888888,\"#fdca26\"],[1.0,\"#f0f921\"]]}],\"surface\":[{\"type\":\"surface\",\"colorbar\":{\"outlinewidth\":0,\"ticks\":\"\"},\"colorscale\":[[0.0,\"#0d0887\"],[0.1111111111111111,\"#46039f\"],[0.2222222222222222,\"#7201a8\"],[0.3333333333333333,\"#9c179e\"],[0.4444444444444444,\"#bd3786\"],[0.5555555555555556,\"#d8576b\"],[0.6666666666666666,\"#ed7953\"],[0.7777777777777778,\"#fb9f3a\"],[0.8888888888888888,\"#fdca26\"],[1.0,\"#f0f921\"]]}],\"mesh3d\":[{\"type\":\"mesh3d\",\"colorbar\":{\"outlinewidth\":0,\"ticks\":\"\"}}],\"scatter\":[{\"fillpattern\":{\"fillmode\":\"overlay\",\"size\":10,\"solidity\":0.2},\"type\":\"scatter\"}],\"parcoords\":[{\"type\":\"parcoords\",\"line\":{\"colorbar\":{\"outlinewidth\":0,\"ticks\":\"\"}}}],\"scatterpolargl\":[{\"type\":\"scatterpolargl\",\"marker\":{\"colorbar\":{\"outlinewidth\":0,\"ticks\":\"\"}}}],\"bar\":[{\"error_x\":{\"color\":\"#2a3f5f\"},\"error_y\":{\"color\":\"#2a3f5f\"},\"marker\":{\"line\":{\"color\":\"#E5ECF6\",\"width\":0.5},\"pattern\":{\"fillmode\":\"overlay\",\"size\":10,\"solidity\":0.2}},\"type\":\"bar\"}],\"scattergeo\":[{\"type\":\"scattergeo\",\"marker\":{\"colorbar\":{\"outlinewidth\":0,\"ticks\":\"\"}}}],\"scatterpolar\":[{\"type\":\"scatterpolar\",\"marker\":{\"colorbar\":{\"outlinewidth\":0,\"ticks\":\"\"}}}],\"histogram\":[{\"marker\":{\"pattern\":{\"fillmode\":\"overlay\",\"size\":10,\"solidity\":0.2}},\"type\":\"histogram\"}],\"scattergl\":[{\"type\":\"scattergl\",\"marker\":{\"colorbar\":{\"outlinewidth\":0,\"ticks\":\"\"}}}],\"scatter3d\":[{\"type\":\"scatter3d\",\"line\":{\"colorbar\":{\"outlinewidth\":0,\"ticks\":\"\"}},\"marker\":{\"colorbar\":{\"outlinewidth\":0,\"ticks\":\"\"}}}],\"scattermapbox\":[{\"type\":\"scattermapbox\",\"marker\":{\"colorbar\":{\"outlinewidth\":0,\"ticks\":\"\"}}}],\"scatterternary\":[{\"type\":\"scatterternary\",\"marker\":{\"colorbar\":{\"outlinewidth\":0,\"ticks\":\"\"}}}],\"scattercarpet\":[{\"type\":\"scattercarpet\",\"marker\":{\"colorbar\":{\"outlinewidth\":0,\"ticks\":\"\"}}}],\"carpet\":[{\"aaxis\":{\"endlinecolor\":\"#2a3f5f\",\"gridcolor\":\"white\",\"linecolor\":\"white\",\"minorgridcolor\":\"white\",\"startlinecolor\":\"#2a3f5f\"},\"baxis\":{\"endlinecolor\":\"#2a3f5f\",\"gridcolor\":\"white\",\"linecolor\":\"white\",\"minorgridcolor\":\"white\",\"startlinecolor\":\"#2a3f5f\"},\"type\":\"carpet\"}],\"table\":[{\"cells\":{\"fill\":{\"color\":\"#EBF0F8\"},\"line\":{\"color\":\"white\"}},\"header\":{\"fill\":{\"color\":\"#C8D4E3\"},\"line\":{\"color\":\"white\"}},\"type\":\"table\"}],\"barpolar\":[{\"marker\":{\"line\":{\"color\":\"#E5ECF6\",\"width\":0.5},\"pattern\":{\"fillmode\":\"overlay\",\"size\":10,\"solidity\":0.2}},\"type\":\"barpolar\"}],\"pie\":[{\"automargin\":true,\"type\":\"pie\"}]},\"layout\":{\"autotypenumbers\":\"strict\",\"colorway\":[\"#636efa\",\"#EF553B\",\"#00cc96\",\"#ab63fa\",\"#FFA15A\",\"#19d3f3\",\"#FF6692\",\"#B6E880\",\"#FF97FF\",\"#FECB52\"],\"font\":{\"color\":\"#2a3f5f\"},\"hovermode\":\"closest\",\"hoverlabel\":{\"align\":\"left\"},\"paper_bgcolor\":\"white\",\"plot_bgcolor\":\"#E5ECF6\",\"polar\":{\"bgcolor\":\"#E5ECF6\",\"angularaxis\":{\"gridcolor\":\"white\",\"linecolor\":\"white\",\"ticks\":\"\"},\"radialaxis\":{\"gridcolor\":\"white\",\"linecolor\":\"white\",\"ticks\":\"\"}},\"ternary\":{\"bgcolor\":\"#E5ECF6\",\"aaxis\":{\"gridcolor\":\"white\",\"linecolor\":\"white\",\"ticks\":\"\"},\"baxis\":{\"gridcolor\":\"white\",\"linecolor\":\"white\",\"ticks\":\"\"},\"caxis\":{\"gridcolor\":\"white\",\"linecolor\":\"white\",\"ticks\":\"\"}},\"coloraxis\":{\"colorbar\":{\"outlinewidth\":0,\"ticks\":\"\"}},\"colorscale\":{\"sequential\":[[0.0,\"#0d0887\"],[0.1111111111111111,\"#46039f\"],[0.2222222222222222,\"#7201a8\"],[0.3333333333333333,\"#9c179e\"],[0.4444444444444444,\"#bd3786\"],[0.5555555555555556,\"#d8576b\"],[0.6666666666666666,\"#ed7953\"],[0.7777777777777778,\"#fb9f3a\"],[0.8888888888888888,\"#fdca26\"],[1.0,\"#f0f921\"]],\"sequentialminus\":[[0.0,\"#0d0887\"],[0.1111111111111111,\"#46039f\"],[0.2222222222222222,\"#7201a8\"],[0.3333333333333333,\"#9c179e\"],[0.4444444444444444,\"#bd3786\"],[0.5555555555555556,\"#d8576b\"],[0.6666666666666666,\"#ed7953\"],[0.7777777777777778,\"#fb9f3a\"],[0.8888888888888888,\"#fdca26\"],[1.0,\"#f0f921\"]],\"diverging\":[[0,\"#8e0152\"],[0.1,\"#c51b7d\"],[0.2,\"#de77ae\"],[0.3,\"#f1b6da\"],[0.4,\"#fde0ef\"],[0.5,\"#f7f7f7\"],[0.6,\"#e6f5d0\"],[0.7,\"#b8e186\"],[0.8,\"#7fbc41\"],[0.9,\"#4d9221\"],[1,\"#276419\"]]},\"xaxis\":{\"gridcolor\":\"white\",\"linecolor\":\"white\",\"ticks\":\"\",\"title\":{\"standoff\":15},\"zerolinecolor\":\"white\",\"automargin\":true,\"zerolinewidth\":2},\"yaxis\":{\"gridcolor\":\"white\",\"linecolor\":\"white\",\"ticks\":\"\",\"title\":{\"standoff\":15},\"zerolinecolor\":\"white\",\"automargin\":true,\"zerolinewidth\":2},\"scene\":{\"xaxis\":{\"backgroundcolor\":\"#E5ECF6\",\"gridcolor\":\"white\",\"linecolor\":\"white\",\"showbackground\":true,\"ticks\":\"\",\"zerolinecolor\":\"white\",\"gridwidth\":2},\"yaxis\":{\"backgroundcolor\":\"#E5ECF6\",\"gridcolor\":\"white\",\"linecolor\":\"white\",\"showbackground\":true,\"ticks\":\"\",\"zerolinecolor\":\"white\",\"gridwidth\":2},\"zaxis\":{\"backgroundcolor\":\"#E5ECF6\",\"gridcolor\":\"white\",\"linecolor\":\"white\",\"showbackground\":true,\"ticks\":\"\",\"zerolinecolor\":\"white\",\"gridwidth\":2}},\"shapedefaults\":{\"line\":{\"color\":\"#2a3f5f\"}},\"annotationdefaults\":{\"arrowcolor\":\"#2a3f5f\",\"arrowhead\":0,\"arrowwidth\":1},\"geo\":{\"bgcolor\":\"white\",\"landcolor\":\"#E5ECF6\",\"subunitcolor\":\"white\",\"showland\":true,\"showlakes\":true,\"lakecolor\":\"white\"},\"title\":{\"x\":0.05},\"mapbox\":{\"style\":\"light\"}}},\"xaxis\":{\"anchor\":\"y\",\"domain\":[0.0,1.0],\"title\":{\"text\":\"num of tokens (context)\"},\"range\":[0,900]},\"yaxis\":{\"anchor\":\"x\",\"domain\":[0.0,1.0],\"title\":{\"text\":\"perplexity\"}},\"legend\":{\"title\":{\"text\":\"context\"},\"tracegroupgap\":0},\"margin\":{\"t\":60}},                        {\"responsive\": true}                    ).then(function(){\n",
       "                            \n",
       "var gd = document.getElementById('b2d40217-e9b6-41d8-89d6-609632dcd767');\n",
       "var x = new MutationObserver(function (mutations, observer) {{\n",
       "        var display = window.getComputedStyle(gd).display;\n",
       "        if (!display || display === 'none') {{\n",
       "            console.log([gd, 'removed!']);\n",
       "            Plotly.purge(gd);\n",
       "            observer.disconnect();\n",
       "        }}\n",
       "}});\n",
       "\n",
       "// Listen for the removal of the full notebook cells\n",
       "var notebookContainer = gd.closest('#notebook-container');\n",
       "if (notebookContainer) {{\n",
       "    x.observe(notebookContainer, {childList: true});\n",
       "}}\n",
       "\n",
       "// Listen for the clearing of the current output cell\n",
       "var outputEl = gd.closest('.output');\n",
       "if (outputEl) {{\n",
       "    x.observe(outputEl, {childList: true});\n",
       "}}\n",
       "\n",
       "                        })                };                });            </script>        </div>"
      ]
     },
     "metadata": {},
     "output_type": "display_data"
    }
   ],
   "source": [
    "fig = px.line(df, x=\"l_ctx\", y=\"ppl\", color=\"context\", markers=True)\n",
    "fig.update_yaxes(title=\"perplexity\")\n",
    "fig.update_xaxes(title=\"num of tokens (context)\", range=(0,900))"
   ]
  }
 ],
 "metadata": {
  "kernelspec": {
   "display_name": "Python 3 (ipykernel)",
   "language": "python",
   "name": "python3"
  },
  "language_info": {
   "codemirror_mode": {
    "name": "ipython",
    "version": 3
   },
   "file_extension": ".py",
   "mimetype": "text/x-python",
   "name": "python",
   "nbconvert_exporter": "python",
   "pygments_lexer": "ipython3",
   "version": "3.9.15"
  }
 },
 "nbformat": 4,
 "nbformat_minor": 5
}

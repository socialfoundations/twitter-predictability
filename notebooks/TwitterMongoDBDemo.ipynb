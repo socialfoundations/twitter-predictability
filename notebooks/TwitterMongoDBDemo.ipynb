{
 "cells": [
  {
   "cell_type": "code",
   "execution_count": 1,
   "id": "73adbc9e-53e9-41c2-bfce-9cc596db7e97",
   "metadata": {},
   "outputs": [],
   "source": [
    "%load_ext dotenv\n",
    "%dotenv "
   ]
  },
  {
   "cell_type": "markdown",
   "id": "68a5c4a2-8ae8-4e7c-947b-2fed434501ca",
   "metadata": {},
   "source": [
    "# Init"
   ]
  },
  {
   "cell_type": "markdown",
   "id": "829af08b-3328-4a73-88d1-59f234860512",
   "metadata": {},
   "source": [
    "### Imports"
   ]
  },
  {
   "cell_type": "code",
   "execution_count": 3,
   "id": "3d99b315-d955-43cf-90cc-93fe66a559c0",
   "metadata": {},
   "outputs": [],
   "source": [
    "import tweepy\n",
    "from pymongo import MongoClient\n",
    "import os"
   ]
  },
  {
   "cell_type": "markdown",
   "id": "bed67c7d-6e89-459b-a4e4-afb918ca3f0d",
   "metadata": {},
   "source": [
    "### Logging"
   ]
  },
  {
   "cell_type": "code",
   "execution_count": 4,
   "id": "55f01dd4-800b-4bc6-9f8a-66ae85c7ffbc",
   "metadata": {},
   "outputs": [],
   "source": [
    "import logging\n",
    "\n",
    "logger = logging.getLogger(\"tweepy\")\n",
    "logger.setLevel(logging.DEBUG)\n",
    "handler = logging.FileHandler(filename=\"tweepy.log\")\n",
    "logger.addHandler(handler)"
   ]
  },
  {
   "cell_type": "markdown",
   "id": "e83abcc1-0079-4b68-adf5-7b49c2375257",
   "metadata": {},
   "source": [
    "### Connect to MongoDB Server"
   ]
  },
  {
   "cell_type": "code",
   "execution_count": 5,
   "id": "3f7a2be3-8025-4f09-8c31-c5c1ddc478dc",
   "metadata": {},
   "outputs": [],
   "source": [
    "mongo_conn = MongoClient(os.environ[\"MONGO_CONN\"])\n",
    "# create a twitter_demo database\n",
    "db = mongo_conn.twitter_demo"
   ]
  },
  {
   "cell_type": "markdown",
   "id": "db888c5f-be0e-4ebc-9fc5-518cf8d7210f",
   "metadata": {},
   "source": [
    "# Get random sample of users"
   ]
  },
  {
   "cell_type": "code",
   "execution_count": 6,
   "id": "d40eb7b6-c87d-4374-9335-2243a362aa9f",
   "metadata": {},
   "outputs": [],
   "source": [
    "from pymongo import ASCENDING"
   ]
  },
  {
   "cell_type": "code",
   "execution_count": 7,
   "id": "95d8b82c-9878-4679-bb68-be7c1a4e8a7c",
   "metadata": {},
   "outputs": [
    {
     "data": {
      "text/plain": [
       "'id_1'"
      ]
     },
     "execution_count": 7,
     "metadata": {},
     "output_type": "execute_result"
    }
   ],
   "source": [
    "# create a collection for the users inside the mongodb database\n",
    "user_collection = db.user_collection\n",
    "user_collection.create_index([('id', ASCENDING)], unique=True)"
   ]
  },
  {
   "cell_type": "markdown",
   "id": "3b945976-450a-4d3c-bf02-9da2795f4c4a",
   "metadata": {},
   "source": [
    "Subclass `StreamingClient` which receives the real-time incoming Tweets and saves the authors into the MongoDB Collection we created "
   ]
  },
  {
   "cell_type": "code",
   "execution_count": 32,
   "id": "e0ebbf93-9eda-4af7-a63c-343b31c339db",
   "metadata": {},
   "outputs": [],
   "source": [
    "class UserSaverClient(tweepy.StreamingClient):\n",
    "        \n",
    "    def on_includes(self, includes):\n",
    "        print(includes)\n",
    "        user_collection.insert_one(includes['users'][0].data)"
   ]
  },
  {
   "cell_type": "code",
   "execution_count": 33,
   "id": "45690936-7acf-4939-acc2-ad3fa85eca89",
   "metadata": {},
   "outputs": [],
   "source": [
    "streaming_client = UserSaverClient(bearer_token=os.environ[\"BEARER_TOKEN\"], return_type=dict, max_retries=5)"
   ]
  },
  {
   "cell_type": "markdown",
   "id": "7e116a84-7d4a-4363-bc25-aa143397fd19",
   "metadata": {},
   "source": [
    "### Create a filter rule\n",
    "\n",
    "`-is:retweet` excludes retweets\n",
    "\n",
    "`lang:en` filters for english tweets\n",
    "\n",
    "`followers_count:50` filters for twitter accounts that have at least 50 followers"
   ]
  },
  {
   "cell_type": "code",
   "execution_count": 32,
   "id": "ea4724a2-cde3-435d-9078-4b6aef5dedef",
   "metadata": {},
   "outputs": [
    {
     "data": {
      "text/plain": [
       "Response(data=[StreamRule(value='pink -is:retweet lang:en followers_count:50', tag=None, id='1612538568815116289')], includes={}, errors=[], meta={'sent': '2023-01-09T19:55:30.168Z', 'summary': {'created': 1, 'not_created': 0, 'valid': 1, 'invalid': 0}})"
      ]
     },
     "execution_count": 32,
     "metadata": {},
     "output_type": "execute_result"
    }
   ],
   "source": [
    "streaming_client.add_rules(tweepy.StreamRule(\"pink -is:retweet lang:en followers_count:50\"))"
   ]
  },
  {
   "cell_type": "code",
   "execution_count": 34,
   "id": "6068742f-7ba5-454d-a8bc-c6b79dc8c7de",
   "metadata": {},
   "outputs": [
    {
     "data": {
      "text/plain": [
       "{'data': [{'id': '1612538568815116289',\n",
       "   'value': 'pink -is:retweet lang:en followers_count:50'}],\n",
       " 'meta': {'sent': '2023-01-09T20:38:11.124Z', 'result_count': 1}}"
      ]
     },
     "execution_count": 34,
     "metadata": {},
     "output_type": "execute_result"
    }
   ],
   "source": [
    "streaming_client.get_rules()"
   ]
  },
  {
   "cell_type": "code",
   "execution_count": 35,
   "id": "4607ec2d-5764-44d4-94af-9f50957f3b95",
   "metadata": {},
   "outputs": [],
   "source": [
    "# streaming_client.delete_rules('1612532159331401728')"
   ]
  },
  {
   "cell_type": "markdown",
   "id": "01226d0a-8100-4fdb-ae37-f76f1c638379",
   "metadata": {},
   "source": [
    "### Filter\n",
    "stop after some time"
   ]
  },
  {
   "cell_type": "code",
   "execution_count": 35,
   "id": "cd01022f-a4e4-4ad4-b257-f0b78a04469d",
   "metadata": {
    "collapsed": true,
    "jupyter": {
     "outputs_hidden": true
    },
    "tags": []
   },
   "outputs": [
    {
     "name": "stdout",
     "output_type": "stream",
     "text": [
      "{'users': [<User id=29324689 name=Greg username=RealistSpeaking>]}\n",
      "{'users': [<User id=1385696951224602625 name=Nietzschean Bugs Bunny username=whiteracemvp>]}\n",
      "{'users': [<User id=2446458362 name=Andrew Smith username=theeandrewsmith>, <User id=1188197814205140992 name=dubs username=wannabe_idiot>, <User id=220484646 name=#GayWeHo West Hollywood Los Angeles @WeHoLove username=WeHoLove>]}\n",
      "{'users': [<User id=131686901 name=(꒪▿꒪) everything is terrible username=sacaitlin>, <User id=28960709 name=Mark Julio 『マークマン』 username=MarkMan23>, <User id=3182648054 name=Shibuya Kaho username=Shibukaho>]}\n",
      "{'users': [<User id=1334996274328850434 name=~Stephanie~ username=Stephanie_9226>, <User id=1224985201933197312 name=Giantess Elizabeth username=FemaleMacro>]}\n",
      "{'users': [<User id=1308415935737454593 name=ʚ chellica ɞ username=offichell>, <User id=1307486668987994114 name=nuc(leo)tide username=leo_mastix>]}\n",
      "{'users': [<User id=1458382284999241728 name=ً username=hyiegfs>, <User id=1544371068902817799 name=NEWJEANS Charts username=NewJeansCharts>]}\n"
     ]
    },
    {
     "ename": "KeyboardInterrupt",
     "evalue": "",
     "output_type": "error",
     "traceback": [
      "\u001b[0;31m---------------------------------------------------------------------------\u001b[0m",
      "\u001b[0;31mKeyboardInterrupt\u001b[0m                         Traceback (most recent call last)",
      "Cell \u001b[0;32mIn[35], line 1\u001b[0m\n\u001b[0;32m----> 1\u001b[0m \u001b[43mstreaming_client\u001b[49m\u001b[38;5;241;43m.\u001b[39;49m\u001b[43mfilter\u001b[49m\u001b[43m(\u001b[49m\u001b[43mexpansions\u001b[49m\u001b[38;5;241;43m=\u001b[39;49m\u001b[38;5;124;43m'\u001b[39;49m\u001b[38;5;124;43mauthor_id\u001b[39;49m\u001b[38;5;124;43m'\u001b[39;49m\u001b[43m)\u001b[49m\n",
      "File \u001b[0;32m~/mambaforge/envs/DL_env/lib/python3.9/site-packages/tweepy/streaming.py:806\u001b[0m, in \u001b[0;36mStreamingClient.filter\u001b[0;34m(self, threaded, **params)\u001b[0m\n\u001b[1;32m    804\u001b[0m     \u001b[38;5;28;01mreturn\u001b[39;00m \u001b[38;5;28mself\u001b[39m\u001b[38;5;241m.\u001b[39m_threaded_connect(method, endpoint, params\u001b[38;5;241m=\u001b[39mparams)\n\u001b[1;32m    805\u001b[0m \u001b[38;5;28;01melse\u001b[39;00m:\n\u001b[0;32m--> 806\u001b[0m     \u001b[38;5;28;43mself\u001b[39;49m\u001b[38;5;241;43m.\u001b[39;49m\u001b[43m_connect\u001b[49m\u001b[43m(\u001b[49m\u001b[43mmethod\u001b[49m\u001b[43m,\u001b[49m\u001b[43m \u001b[49m\u001b[43mendpoint\u001b[49m\u001b[43m,\u001b[49m\u001b[43m \u001b[49m\u001b[43mparams\u001b[49m\u001b[38;5;241;43m=\u001b[39;49m\u001b[43mparams\u001b[49m\u001b[43m)\u001b[49m\n",
      "File \u001b[0;32m~/mambaforge/envs/DL_env/lib/python3.9/site-packages/tweepy/streaming.py:626\u001b[0m, in \u001b[0;36mStreamingClient._connect\u001b[0;34m(self, method, endpoint, **kwargs)\u001b[0m\n\u001b[1;32m    624\u001b[0m \u001b[38;5;28mself\u001b[39m\u001b[38;5;241m.\u001b[39msession\u001b[38;5;241m.\u001b[39mheaders[\u001b[38;5;124m\"\u001b[39m\u001b[38;5;124mAuthorization\u001b[39m\u001b[38;5;124m\"\u001b[39m] \u001b[38;5;241m=\u001b[39m \u001b[38;5;124mf\u001b[39m\u001b[38;5;124m\"\u001b[39m\u001b[38;5;124mBearer \u001b[39m\u001b[38;5;132;01m{\u001b[39;00m\u001b[38;5;28mself\u001b[39m\u001b[38;5;241m.\u001b[39mbearer_token\u001b[38;5;132;01m}\u001b[39;00m\u001b[38;5;124m\"\u001b[39m\n\u001b[1;32m    625\u001b[0m url \u001b[38;5;241m=\u001b[39m \u001b[38;5;124mf\u001b[39m\u001b[38;5;124m\"\u001b[39m\u001b[38;5;124mhttps://api.twitter.com/2/tweets/\u001b[39m\u001b[38;5;132;01m{\u001b[39;00mendpoint\u001b[38;5;132;01m}\u001b[39;00m\u001b[38;5;124m/stream\u001b[39m\u001b[38;5;124m\"\u001b[39m\n\u001b[0;32m--> 626\u001b[0m \u001b[38;5;28;43msuper\u001b[39;49m\u001b[43m(\u001b[49m\u001b[43m)\u001b[49m\u001b[38;5;241;43m.\u001b[39;49m\u001b[43m_connect\u001b[49m\u001b[43m(\u001b[49m\u001b[43mmethod\u001b[49m\u001b[43m,\u001b[49m\u001b[43m \u001b[49m\u001b[43murl\u001b[49m\u001b[43m,\u001b[49m\u001b[43m \u001b[49m\u001b[38;5;241;43m*\u001b[39;49m\u001b[38;5;241;43m*\u001b[39;49m\u001b[43mkwargs\u001b[49m\u001b[43m)\u001b[49m\n",
      "File \u001b[0;32m~/mambaforge/envs/DL_env/lib/python3.9/site-packages/tweepy/streaming.py:90\u001b[0m, in \u001b[0;36mBaseStream._connect\u001b[0;34m(self, method, url, auth, params, headers, body, timeout)\u001b[0m\n\u001b[1;32m     87\u001b[0m \u001b[38;5;28;01mif\u001b[39;00m \u001b[38;5;129;01mnot\u001b[39;00m \u001b[38;5;28mself\u001b[39m\u001b[38;5;241m.\u001b[39mrunning:\n\u001b[1;32m     88\u001b[0m     \u001b[38;5;28;01mbreak\u001b[39;00m\n\u001b[0;32m---> 90\u001b[0m \u001b[38;5;28;01mfor\u001b[39;00m line \u001b[38;5;129;01min\u001b[39;00m resp\u001b[38;5;241m.\u001b[39miter_lines(\n\u001b[1;32m     91\u001b[0m     chunk_size\u001b[38;5;241m=\u001b[39m\u001b[38;5;28mself\u001b[39m\u001b[38;5;241m.\u001b[39mchunk_size\n\u001b[1;32m     92\u001b[0m ):\n\u001b[1;32m     93\u001b[0m     \u001b[38;5;28;01mif\u001b[39;00m line:\n\u001b[1;32m     94\u001b[0m         \u001b[38;5;28mself\u001b[39m\u001b[38;5;241m.\u001b[39mon_data(line)\n",
      "File \u001b[0;32m~/mambaforge/envs/DL_env/lib/python3.9/site-packages/requests/models.py:865\u001b[0m, in \u001b[0;36mResponse.iter_lines\u001b[0;34m(self, chunk_size, decode_unicode, delimiter)\u001b[0m\n\u001b[1;32m    856\u001b[0m \u001b[38;5;124;03m\"\"\"Iterates over the response data, one line at a time.  When\u001b[39;00m\n\u001b[1;32m    857\u001b[0m \u001b[38;5;124;03mstream=True is set on the request, this avoids reading the\u001b[39;00m\n\u001b[1;32m    858\u001b[0m \u001b[38;5;124;03mcontent at once into memory for large responses.\u001b[39;00m\n\u001b[1;32m    859\u001b[0m \n\u001b[1;32m    860\u001b[0m \u001b[38;5;124;03m.. note:: This method is not reentrant safe.\u001b[39;00m\n\u001b[1;32m    861\u001b[0m \u001b[38;5;124;03m\"\"\"\u001b[39;00m\n\u001b[1;32m    863\u001b[0m pending \u001b[38;5;241m=\u001b[39m \u001b[38;5;28;01mNone\u001b[39;00m\n\u001b[0;32m--> 865\u001b[0m \u001b[38;5;28;01mfor\u001b[39;00m chunk \u001b[38;5;129;01min\u001b[39;00m \u001b[38;5;28mself\u001b[39m\u001b[38;5;241m.\u001b[39miter_content(\n\u001b[1;32m    866\u001b[0m     chunk_size\u001b[38;5;241m=\u001b[39mchunk_size, decode_unicode\u001b[38;5;241m=\u001b[39mdecode_unicode\n\u001b[1;32m    867\u001b[0m ):\n\u001b[1;32m    869\u001b[0m     \u001b[38;5;28;01mif\u001b[39;00m pending \u001b[38;5;129;01mis\u001b[39;00m \u001b[38;5;129;01mnot\u001b[39;00m \u001b[38;5;28;01mNone\u001b[39;00m:\n\u001b[1;32m    870\u001b[0m         chunk \u001b[38;5;241m=\u001b[39m pending \u001b[38;5;241m+\u001b[39m chunk\n",
      "File \u001b[0;32m~/mambaforge/envs/DL_env/lib/python3.9/site-packages/requests/models.py:816\u001b[0m, in \u001b[0;36mResponse.iter_content.<locals>.generate\u001b[0;34m()\u001b[0m\n\u001b[1;32m    814\u001b[0m \u001b[38;5;28;01mif\u001b[39;00m \u001b[38;5;28mhasattr\u001b[39m(\u001b[38;5;28mself\u001b[39m\u001b[38;5;241m.\u001b[39mraw, \u001b[38;5;124m\"\u001b[39m\u001b[38;5;124mstream\u001b[39m\u001b[38;5;124m\"\u001b[39m):\n\u001b[1;32m    815\u001b[0m     \u001b[38;5;28;01mtry\u001b[39;00m:\n\u001b[0;32m--> 816\u001b[0m         \u001b[38;5;28;01myield from\u001b[39;00m \u001b[38;5;28mself\u001b[39m\u001b[38;5;241m.\u001b[39mraw\u001b[38;5;241m.\u001b[39mstream(chunk_size, decode_content\u001b[38;5;241m=\u001b[39m\u001b[38;5;28;01mTrue\u001b[39;00m)\n\u001b[1;32m    817\u001b[0m     \u001b[38;5;28;01mexcept\u001b[39;00m ProtocolError \u001b[38;5;28;01mas\u001b[39;00m e:\n\u001b[1;32m    818\u001b[0m         \u001b[38;5;28;01mraise\u001b[39;00m ChunkedEncodingError(e)\n",
      "File \u001b[0;32m~/mambaforge/envs/DL_env/lib/python3.9/site-packages/urllib3/response.py:624\u001b[0m, in \u001b[0;36mHTTPResponse.stream\u001b[0;34m(self, amt, decode_content)\u001b[0m\n\u001b[1;32m    608\u001b[0m \u001b[38;5;124;03m\"\"\"\u001b[39;00m\n\u001b[1;32m    609\u001b[0m \u001b[38;5;124;03mA generator wrapper for the read() method. A call will block until\u001b[39;00m\n\u001b[1;32m    610\u001b[0m \u001b[38;5;124;03m``amt`` bytes have been read from the connection or until the\u001b[39;00m\n\u001b[0;32m   (...)\u001b[0m\n\u001b[1;32m    621\u001b[0m \u001b[38;5;124;03m    'content-encoding' header.\u001b[39;00m\n\u001b[1;32m    622\u001b[0m \u001b[38;5;124;03m\"\"\"\u001b[39;00m\n\u001b[1;32m    623\u001b[0m \u001b[38;5;28;01mif\u001b[39;00m \u001b[38;5;28mself\u001b[39m\u001b[38;5;241m.\u001b[39mchunked \u001b[38;5;129;01mand\u001b[39;00m \u001b[38;5;28mself\u001b[39m\u001b[38;5;241m.\u001b[39msupports_chunked_reads():\n\u001b[0;32m--> 624\u001b[0m     \u001b[38;5;28;01mfor\u001b[39;00m line \u001b[38;5;129;01min\u001b[39;00m \u001b[38;5;28mself\u001b[39m\u001b[38;5;241m.\u001b[39mread_chunked(amt, decode_content\u001b[38;5;241m=\u001b[39mdecode_content):\n\u001b[1;32m    625\u001b[0m         \u001b[38;5;28;01myield\u001b[39;00m line\n\u001b[1;32m    626\u001b[0m \u001b[38;5;28;01melse\u001b[39;00m:\n",
      "File \u001b[0;32m~/mambaforge/envs/DL_env/lib/python3.9/site-packages/urllib3/response.py:828\u001b[0m, in \u001b[0;36mHTTPResponse.read_chunked\u001b[0;34m(self, amt, decode_content)\u001b[0m\n\u001b[1;32m    825\u001b[0m     \u001b[38;5;28;01mreturn\u001b[39;00m\n\u001b[1;32m    827\u001b[0m \u001b[38;5;28;01mwhile\u001b[39;00m \u001b[38;5;28;01mTrue\u001b[39;00m:\n\u001b[0;32m--> 828\u001b[0m     \u001b[38;5;28;43mself\u001b[39;49m\u001b[38;5;241;43m.\u001b[39;49m\u001b[43m_update_chunk_length\u001b[49m\u001b[43m(\u001b[49m\u001b[43m)\u001b[49m\n\u001b[1;32m    829\u001b[0m     \u001b[38;5;28;01mif\u001b[39;00m \u001b[38;5;28mself\u001b[39m\u001b[38;5;241m.\u001b[39mchunk_left \u001b[38;5;241m==\u001b[39m \u001b[38;5;241m0\u001b[39m:\n\u001b[1;32m    830\u001b[0m         \u001b[38;5;28;01mbreak\u001b[39;00m\n",
      "File \u001b[0;32m~/mambaforge/envs/DL_env/lib/python3.9/site-packages/urllib3/response.py:758\u001b[0m, in \u001b[0;36mHTTPResponse._update_chunk_length\u001b[0;34m(self)\u001b[0m\n\u001b[1;32m    756\u001b[0m \u001b[38;5;28;01mif\u001b[39;00m \u001b[38;5;28mself\u001b[39m\u001b[38;5;241m.\u001b[39mchunk_left \u001b[38;5;129;01mis\u001b[39;00m \u001b[38;5;129;01mnot\u001b[39;00m \u001b[38;5;28;01mNone\u001b[39;00m:\n\u001b[1;32m    757\u001b[0m     \u001b[38;5;28;01mreturn\u001b[39;00m\n\u001b[0;32m--> 758\u001b[0m line \u001b[38;5;241m=\u001b[39m \u001b[38;5;28;43mself\u001b[39;49m\u001b[38;5;241;43m.\u001b[39;49m\u001b[43m_fp\u001b[49m\u001b[38;5;241;43m.\u001b[39;49m\u001b[43mfp\u001b[49m\u001b[38;5;241;43m.\u001b[39;49m\u001b[43mreadline\u001b[49m\u001b[43m(\u001b[49m\u001b[43m)\u001b[49m\n\u001b[1;32m    759\u001b[0m line \u001b[38;5;241m=\u001b[39m line\u001b[38;5;241m.\u001b[39msplit(\u001b[38;5;124mb\u001b[39m\u001b[38;5;124m\"\u001b[39m\u001b[38;5;124m;\u001b[39m\u001b[38;5;124m\"\u001b[39m, \u001b[38;5;241m1\u001b[39m)[\u001b[38;5;241m0\u001b[39m]\n\u001b[1;32m    760\u001b[0m \u001b[38;5;28;01mtry\u001b[39;00m:\n",
      "File \u001b[0;32m~/mambaforge/envs/DL_env/lib/python3.9/socket.py:704\u001b[0m, in \u001b[0;36mSocketIO.readinto\u001b[0;34m(self, b)\u001b[0m\n\u001b[1;32m    702\u001b[0m \u001b[38;5;28;01mwhile\u001b[39;00m \u001b[38;5;28;01mTrue\u001b[39;00m:\n\u001b[1;32m    703\u001b[0m     \u001b[38;5;28;01mtry\u001b[39;00m:\n\u001b[0;32m--> 704\u001b[0m         \u001b[38;5;28;01mreturn\u001b[39;00m \u001b[38;5;28;43mself\u001b[39;49m\u001b[38;5;241;43m.\u001b[39;49m\u001b[43m_sock\u001b[49m\u001b[38;5;241;43m.\u001b[39;49m\u001b[43mrecv_into\u001b[49m\u001b[43m(\u001b[49m\u001b[43mb\u001b[49m\u001b[43m)\u001b[49m\n\u001b[1;32m    705\u001b[0m     \u001b[38;5;28;01mexcept\u001b[39;00m timeout:\n\u001b[1;32m    706\u001b[0m         \u001b[38;5;28mself\u001b[39m\u001b[38;5;241m.\u001b[39m_timeout_occurred \u001b[38;5;241m=\u001b[39m \u001b[38;5;28;01mTrue\u001b[39;00m\n",
      "File \u001b[0;32m~/mambaforge/envs/DL_env/lib/python3.9/ssl.py:1242\u001b[0m, in \u001b[0;36mSSLSocket.recv_into\u001b[0;34m(self, buffer, nbytes, flags)\u001b[0m\n\u001b[1;32m   1238\u001b[0m     \u001b[38;5;28;01mif\u001b[39;00m flags \u001b[38;5;241m!=\u001b[39m \u001b[38;5;241m0\u001b[39m:\n\u001b[1;32m   1239\u001b[0m         \u001b[38;5;28;01mraise\u001b[39;00m \u001b[38;5;167;01mValueError\u001b[39;00m(\n\u001b[1;32m   1240\u001b[0m           \u001b[38;5;124m\"\u001b[39m\u001b[38;5;124mnon-zero flags not allowed in calls to recv_into() on \u001b[39m\u001b[38;5;132;01m%s\u001b[39;00m\u001b[38;5;124m\"\u001b[39m \u001b[38;5;241m%\u001b[39m\n\u001b[1;32m   1241\u001b[0m           \u001b[38;5;28mself\u001b[39m\u001b[38;5;241m.\u001b[39m\u001b[38;5;18m__class__\u001b[39m)\n\u001b[0;32m-> 1242\u001b[0m     \u001b[38;5;28;01mreturn\u001b[39;00m \u001b[38;5;28;43mself\u001b[39;49m\u001b[38;5;241;43m.\u001b[39;49m\u001b[43mread\u001b[49m\u001b[43m(\u001b[49m\u001b[43mnbytes\u001b[49m\u001b[43m,\u001b[49m\u001b[43m \u001b[49m\u001b[43mbuffer\u001b[49m\u001b[43m)\u001b[49m\n\u001b[1;32m   1243\u001b[0m \u001b[38;5;28;01melse\u001b[39;00m:\n\u001b[1;32m   1244\u001b[0m     \u001b[38;5;28;01mreturn\u001b[39;00m \u001b[38;5;28msuper\u001b[39m()\u001b[38;5;241m.\u001b[39mrecv_into(buffer, nbytes, flags)\n",
      "File \u001b[0;32m~/mambaforge/envs/DL_env/lib/python3.9/ssl.py:1100\u001b[0m, in \u001b[0;36mSSLSocket.read\u001b[0;34m(self, len, buffer)\u001b[0m\n\u001b[1;32m   1098\u001b[0m \u001b[38;5;28;01mtry\u001b[39;00m:\n\u001b[1;32m   1099\u001b[0m     \u001b[38;5;28;01mif\u001b[39;00m buffer \u001b[38;5;129;01mis\u001b[39;00m \u001b[38;5;129;01mnot\u001b[39;00m \u001b[38;5;28;01mNone\u001b[39;00m:\n\u001b[0;32m-> 1100\u001b[0m         \u001b[38;5;28;01mreturn\u001b[39;00m \u001b[38;5;28;43mself\u001b[39;49m\u001b[38;5;241;43m.\u001b[39;49m\u001b[43m_sslobj\u001b[49m\u001b[38;5;241;43m.\u001b[39;49m\u001b[43mread\u001b[49m\u001b[43m(\u001b[49m\u001b[38;5;28;43mlen\u001b[39;49m\u001b[43m,\u001b[49m\u001b[43m \u001b[49m\u001b[43mbuffer\u001b[49m\u001b[43m)\u001b[49m\n\u001b[1;32m   1101\u001b[0m     \u001b[38;5;28;01melse\u001b[39;00m:\n\u001b[1;32m   1102\u001b[0m         \u001b[38;5;28;01mreturn\u001b[39;00m \u001b[38;5;28mself\u001b[39m\u001b[38;5;241m.\u001b[39m_sslobj\u001b[38;5;241m.\u001b[39mread(\u001b[38;5;28mlen\u001b[39m)\n",
      "\u001b[0;31mKeyboardInterrupt\u001b[0m: "
     ]
    }
   ],
   "source": [
    "streaming_client.filter(expansions='author_id')"
   ]
  },
  {
   "cell_type": "code",
   "execution_count": 8,
   "id": "da5be91d-d178-4945-bd64-1638c5372650",
   "metadata": {},
   "outputs": [
    {
     "data": {
      "text/plain": [
       "7"
      ]
     },
     "execution_count": 8,
     "metadata": {},
     "output_type": "execute_result"
    }
   ],
   "source": [
    "user_collection.estimated_document_count()"
   ]
  },
  {
   "cell_type": "code",
   "execution_count": 9,
   "id": "09504c46-8b39-4b71-8240-146ac63f278a",
   "metadata": {},
   "outputs": [
    {
     "name": "stdout",
     "output_type": "stream",
     "text": [
      "{'_id': ObjectId('63bc7b418068e9e73f2d564b'), 'id': '29324689', 'name': 'Greg', 'username': 'RealistSpeaking'}\n",
      "{'_id': ObjectId('63bc7b438068e9e73f2d564c'), 'id': '1385696951224602625', 'name': 'Nietzschean Bugs Bunny', 'username': 'whiteracemvp'}\n",
      "{'_id': ObjectId('63bc7b438068e9e73f2d564d'), 'id': '2446458362', 'name': 'Andrew Smith', 'username': 'theeandrewsmith'}\n",
      "{'_id': ObjectId('63bc7b448068e9e73f2d564e'), 'id': '131686901', 'name': '(꒪▿꒪) everything is terrible', 'username': 'sacaitlin'}\n",
      "{'_id': ObjectId('63bc7b448068e9e73f2d564f'), 'id': '1334996274328850434', 'name': '~Stephanie~', 'username': 'Stephanie_9226'}\n",
      "{'_id': ObjectId('63bc7b458068e9e73f2d5650'), 'id': '1308415935737454593', 'name': 'ʚ chellica ɞ', 'username': 'offichell'}\n",
      "{'_id': ObjectId('63bc7b468068e9e73f2d5651'), 'id': '1458382284999241728', 'name': 'ً', 'username': 'hyiegfs'}\n"
     ]
    }
   ],
   "source": [
    "for document in user_collection.find():\n",
    "    print(document)"
   ]
  },
  {
   "cell_type": "markdown",
   "id": "acf98dac-2a11-4c4d-a2a4-271cb16ac99e",
   "metadata": {},
   "source": [
    "## Get Tweets of those users"
   ]
  },
  {
   "cell_type": "code",
   "execution_count": 10,
   "id": "e385582e-fb3c-4181-90ee-e165d290d294",
   "metadata": {},
   "outputs": [
    {
     "data": {
      "text/plain": [
       "'id_1'"
      ]
     },
     "execution_count": 10,
     "metadata": {},
     "output_type": "execute_result"
    }
   ],
   "source": [
    "# create a collection for the tweets\n",
    "tweets_collection = db.tweets_collection\n",
    "tweets_collection.create_index([('id', ASCENDING)], unique=True)\n",
    "tweets_collection.create_index([('author_id', ASCENDING)], unique=False)"
   ]
  },
  {
   "cell_type": "code",
   "execution_count": 23,
   "id": "6c2cc043-ee69-4c1a-b18d-1cd42e914448",
   "metadata": {},
   "outputs": [],
   "source": [
    "# create a tweepy client\n",
    "api = tweepy.Client(bearer_token=os.environ[\"BEARER_TOKEN\"])"
   ]
  },
  {
   "cell_type": "markdown",
   "id": "42b4a19c-321b-4950-a3f3-c516c9e9b4a0",
   "metadata": {},
   "source": [
    "Get 100 tweets per user from their timeline. Additional fields to pull: creation time, public metrics."
   ]
  },
  {
   "cell_type": "code",
   "execution_count": 12,
   "id": "8d124de9-86d8-4cfb-8819-54d49d9d905c",
   "metadata": {},
   "outputs": [],
   "source": [
    "res = api.get_users_tweets(id='29324689', max_results=100, tweet_fields=['created_at', 'public_metrics'])"
   ]
  },
  {
   "cell_type": "code",
   "execution_count": 26,
   "id": "3f32b034-17ad-4fbf-82d4-b4338def2d87",
   "metadata": {
    "collapsed": true,
    "jupyter": {
     "outputs_hidden": true
    },
    "tags": []
   },
   "outputs": [
    {
     "name": "stdout",
     "output_type": "stream",
     "text": [
      "{'id': '1612698644666552322', 'public_metrics': {'retweet_count': 0, 'reply_count': 0, 'like_count': 0, 'quote_count': 0, 'impression_count': 53}, 'created_at': '2023-01-10T06:31:34.000Z', 'text': 'stay mad 😎\\U0001faf5🏻 https://t.co/OgsGfh1qP4', 'edit_history_tweet_ids': ['1612698644666552322'], '_id': ObjectId('63bd2c3dc087e1a6a40bb2ff'), 'author_id': '29324689'}\n",
      "{'id': '1612553384325959681', 'public_metrics': {'retweet_count': 0, 'reply_count': 0, 'like_count': 0, 'quote_count': 0, 'impression_count': 22}, 'created_at': '2023-01-09T20:54:21.000Z', 'text': 'OMG im so sorry but you need to work harder', 'edit_history_tweet_ids': ['1612553384325959681'], '_id': ObjectId('63bd2c3dc087e1a6a40bb300'), 'author_id': '29324689'}\n",
      "{'id': '1612552947522736128', 'public_metrics': {'retweet_count': 1534, 'reply_count': 0, 'like_count': 0, 'quote_count': 0, 'impression_count': 0}, 'created_at': '2023-01-09T20:52:37.000Z', 'text': 'RT @billboardcharts: The Billboard Global Excl. U.S. top 10 (chart dated Jan. 14, 2023)\\n\\nDetails here: https://t.co/EHFyK5Uyuq https://t.co…', 'edit_history_tweet_ids': ['1612552947522736128'], '_id': ObjectId('63bd2c3ec087e1a6a40bb301'), 'author_id': '29324689'}\n",
      "{'id': '1612552893588205569', 'public_metrics': {'retweet_count': 978, 'reply_count': 0, 'like_count': 0, 'quote_count': 0, 'impression_count': 0}, 'created_at': '2023-01-09T20:52:24.000Z', 'text': 'RT @billboardcharts: The Billboard #Global200 top 10 (chart dated Jan. 14, 2023)\\n\\nDetails here: https://t.co/Tg1iooshrC https://t.co/0nUF4v…', 'edit_history_tweet_ids': ['1612552893588205569'], '_id': ObjectId('63bd2c3ec087e1a6a40bb302'), 'author_id': '29324689'}\n",
      "{'id': '1612551321147830272', 'public_metrics': {'retweet_count': 0, 'reply_count': 0, 'like_count': 1, 'quote_count': 0, 'impression_count': 29}, 'created_at': '2023-01-09T20:46:09.000Z', 'text': 'HELLO????? https://t.co/ZZ3KMfhtmC', 'edit_history_tweet_ids': ['1612551321147830272'], '_id': ObjectId('63bd2c3ec087e1a6a40bb303'), 'author_id': '29324689'}\n",
      "{'id': '1612550005096878082', 'public_metrics': {'retweet_count': 0, 'reply_count': 0, 'like_count': 0, 'quote_count': 0, 'impression_count': 67}, 'created_at': '2023-01-09T20:40:55.000Z', 'text': 'https://t.co/daabD5Bvrv https://t.co/HkJstSBzJN', 'edit_history_tweet_ids': ['1612550005096878082'], '_id': ObjectId('63bd2c3ec087e1a6a40bb304'), 'author_id': '29324689'}\n",
      "{'id': '1612549598073217024', 'public_metrics': {'retweet_count': 0, 'reply_count': 0, 'like_count': 0, 'quote_count': 0, 'impression_count': 135}, 'created_at': '2023-01-09T20:39:18.000Z', 'text': 'only 2 songs 😎 see when you are making good music https://t.co/do1Y3AXoYt', 'edit_history_tweet_ids': ['1612549598073217024'], '_id': ObjectId('63bd2c3ec087e1a6a40bb305'), 'author_id': '29324689'}\n",
      "{'id': '1612549370892939265', 'public_metrics': {'retweet_count': 0, 'reply_count': 0, 'like_count': 1, 'quote_count': 0, 'impression_count': 173}, 'created_at': '2023-01-09T20:38:24.000Z', 'text': 'the 2 songs gagged me out like wow newjeans really are successful and famous as hell https://t.co/mUUjK4sx1B', 'edit_history_tweet_ids': ['1612549370892939265'], '_id': ObjectId('63bd2c3ec087e1a6a40bb306'), 'author_id': '29324689'}\n",
      "{'id': '1612375484733722624', 'public_metrics': {'retweet_count': 0, 'reply_count': 0, 'like_count': 2, 'quote_count': 0, 'impression_count': 273}, 'created_at': '2023-01-09T09:07:26.000Z', 'text': 'QUEENS ONLY https://t.co/2SOnV0nHMi', 'edit_history_tweet_ids': ['1612375484733722624'], '_id': ObjectId('63bd2c3ec087e1a6a40bb307'), 'author_id': '29324689'}\n",
      "{'id': '1612375362704666627', 'public_metrics': {'retweet_count': 2232, 'reply_count': 0, 'like_count': 0, 'quote_count': 0, 'impression_count': 0}, 'created_at': '2023-01-09T09:06:57.000Z', 'text': 'RT @NewJeansCharts: .@NewJeans_ADOR joins BTS as the only groups in HISTORY to have a song reach 300 hours Perfect All-Kill (PAK)! 👑 https:…', 'edit_history_tweet_ids': ['1612375362704666627'], '_id': ObjectId('63bd2c3ec087e1a6a40bb308'), 'author_id': '29324689'}\n",
      "{'id': '1612375245293490178', 'public_metrics': {'retweet_count': 2522, 'reply_count': 0, 'like_count': 0, 'quote_count': 0, 'impression_count': 0}, 'created_at': '2023-01-09T09:06:29.000Z', 'text': 'RT @NewJeansCharts: .@NewJeans_ADOR is now the girl group with the most hours of Perfect All-Kill (PAKs) in HISTORY!\\n\\n#NewJeans #뉴진스 https:…', 'edit_history_tweet_ids': ['1612375245293490178'], '_id': ObjectId('63bd2c3ec087e1a6a40bb309'), 'author_id': '29324689'}\n",
      "{'id': '1612032803587387393', 'public_metrics': {'retweet_count': 0, 'reply_count': 0, 'like_count': 0, 'quote_count': 0, 'impression_count': 60}, 'created_at': '2023-01-08T10:25:45.000Z', 'text': 'in just 5 months in their career https://t.co/gxTFFA58Lj', 'edit_history_tweet_ids': ['1612032803587387393'], '_id': ObjectId('63bd2c3ec087e1a6a40bb30a'), 'author_id': '29324689'}\n",
      "{'id': '1612032573244571649', 'public_metrics': {'retweet_count': 133, 'reply_count': 0, 'like_count': 0, 'quote_count': 0, 'impression_count': 0}, 'created_at': '2023-01-08T10:24:50.000Z', 'text': 'RT @newjified: only a week into 2023:\\n- most PAKs for a gg song in history \\n- top 10 on spotify global \\n- OMG already surpassed 600k+ sales…', 'edit_history_tweet_ids': ['1612032573244571649'], '_id': ObjectId('63bd2c3ec087e1a6a40bb30b'), 'author_id': '29324689'}\n",
      "{'id': '1612032420265758720', 'public_metrics': {'retweet_count': 25587, 'reply_count': 0, 'like_count': 0, 'quote_count': 0, 'impression_count': 0}, 'created_at': '2023-01-08T10:24:13.000Z', 'text': 'RT @NewJeans_twt: 오늘 Golden Disc Award’s에서 빛나는 버니즈를 한번 더 볼수 있었다니! It’s hard to put into words how grateful we are for the warmth and love w…', 'edit_history_tweet_ids': ['1612032420265758720'], '_id': ObjectId('63bd2c3ec087e1a6a40bb30c'), 'author_id': '29324689'}\n",
      "{'id': '1611718425843478530', 'public_metrics': {'retweet_count': 0, 'reply_count': 0, 'like_count': 0, 'quote_count': 0, 'impression_count': 31}, 'created_at': '2023-01-07T13:36:31.000Z', 'text': 'LMAO DESERVED 4th gen bgs are just ruining kpop https://t.co/cUX8BMMIsH', 'edit_history_tweet_ids': ['1611718425843478530'], '_id': ObjectId('63bd2c3ec087e1a6a40bb30d'), 'author_id': '29324689'}\n",
      "{'id': '1611695024311529472', 'public_metrics': {'retweet_count': 3836, 'reply_count': 0, 'like_count': 0, 'quote_count': 0, 'impression_count': 0}, 'created_at': '2023-01-07T12:03:32.000Z', 'text': 'RT @kchartsmaster: 🏆 Congratulations NewJeans for winning \"Best Digital Song (Bonsang)\" at the 37th Golden Disc Awards.', 'edit_history_tweet_ids': ['1611695024311529472'], '_id': ObjectId('63bd2c3ec087e1a6a40bb30e'), 'author_id': '29324689'}\n",
      "{'id': '1611694914127159296', 'public_metrics': {'retweet_count': 6389, 'reply_count': 0, 'like_count': 0, 'quote_count': 0, 'impression_count': 0}, 'created_at': '2023-01-07T12:03:06.000Z', 'text': 'RT @kchartsmaster: 🏆 Congratulations NewJeans for winning \"Rookie Award\" at the 37th Golden Disc Awards.', 'edit_history_tweet_ids': ['1611694914127159296'], '_id': ObjectId('63bd2c3ec087e1a6a40bb30f'), 'author_id': '29324689'}\n",
      "{'id': '1610744511210352640', 'public_metrics': {'retweet_count': 5330, 'reply_count': 0, 'like_count': 0, 'quote_count': 0, 'impression_count': 0}, 'created_at': '2023-01-04T21:06:32.000Z', 'text': \"RT @kchartsmaster: Idol Group songs with most Perfect All-Kill in history:\\n\\n1. #BTS, Dynamite — 610\\n2. #BraveGirls, Rollin' — 262\\n3. #BTS,…\", 'edit_history_tweet_ids': ['1610744511210352640'], '_id': ObjectId('63bd2c3ec087e1a6a40bb310'), 'author_id': '29324689'}\n",
      "{'id': '1610744427479453697', 'public_metrics': {'retweet_count': 0, 'reply_count': 0, 'like_count': 1, 'quote_count': 0, 'impression_count': 70}, 'created_at': '2023-01-04T21:06:12.000Z', 'text': 'newjeans will always dominate the kpop industry while you are complaining over their age and how they should not be debuted stupid insecure mfs 😂\\U0001faf5🏻', 'edit_history_tweet_ids': ['1610744427479453697'], '_id': ObjectId('63bd2c3ec087e1a6a40bb311'), 'author_id': '29324689'}\n",
      "{'id': '1610743692914225153', 'public_metrics': {'retweet_count': 0, 'reply_count': 1, 'like_count': 1, 'quote_count': 0, 'impression_count': 22}, 'created_at': '2023-01-04T21:03:17.000Z', 'text': '@hannijeu they cant accept the fact that these teenage girls are having their moment,  being successful in the music industry', 'edit_history_tweet_ids': ['1610743692914225153'], '_id': ObjectId('63bd2c3ec087e1a6a40bb312'), 'author_id': '29324689'}\n",
      "{'id': '1610743445072797696', 'public_metrics': {'retweet_count': 0, 'reply_count': 0, 'like_count': 0, 'quote_count': 0, 'impression_count': 26}, 'created_at': '2023-01-04T21:02:18.000Z', 'text': 'kpop stans are dumb DUMB as hell https://t.co/7EIh6TuXDk', 'edit_history_tweet_ids': ['1610743445072797696'], '_id': ObjectId('63bd2c3ec087e1a6a40bb313'), 'author_id': '29324689'}\n",
      "{'id': '1610743129682083841', 'public_metrics': {'retweet_count': 0, 'reply_count': 1, 'like_count': 0, 'quote_count': 0, 'impression_count': 153}, 'created_at': '2023-01-04T21:01:02.000Z', 'text': 'anyway newjeans you will always be famous', 'edit_history_tweet_ids': ['1610743129682083841'], '_id': ObjectId('63bd2c3ec087e1a6a40bb314'), 'author_id': '29324689'}\n",
      "{'id': '1610743054490808321', 'public_metrics': {'retweet_count': 0, 'reply_count': 0, 'like_count': 0, 'quote_count': 0, 'impression_count': 33}, 'created_at': '2023-01-04T21:00:45.000Z', 'text': 'these hates for nwjns are so forced like why do yall hate teenagers who are just doing their dream job while being successful?', 'edit_history_tweet_ids': ['1610743054490808321'], '_id': ObjectId('63bd2c3ec087e1a6a40bb315'), 'author_id': '29324689'}\n",
      "{'id': '1610742863096315904', 'public_metrics': {'retweet_count': 1231, 'reply_count': 0, 'like_count': 0, 'quote_count': 0, 'impression_count': 0}, 'created_at': '2023-01-04T20:59:59.000Z', 'text': 'RT @NewJeansCharts: .@NewJeans_ADOR (4) joins @BTS_twt (5) as the only groups to have at least 4 songs reach the top of the Spotify South K…', 'edit_history_tweet_ids': ['1610742863096315904'], '_id': ObjectId('63bd2c3ec087e1a6a40bb316'), 'author_id': '29324689'}\n",
      "{'id': '1610742497767981079', 'public_metrics': {'retweet_count': 76, 'reply_count': 0, 'like_count': 0, 'quote_count': 0, 'impression_count': 0}, 'created_at': '2023-01-04T20:58:32.000Z', 'text': 'RT @newjice: newjeanscharts admin right now\\n https://t.co/RWt8gy4NdW', 'edit_history_tweet_ids': ['1610742497767981079'], '_id': ObjectId('63bd2c3ec087e1a6a40bb317'), 'author_id': '29324689'}\n",
      "{'id': '1610742278133526528', 'public_metrics': {'retweet_count': 0, 'reply_count': 0, 'like_count': 0, 'quote_count': 0, 'impression_count': 263}, 'created_at': '2023-01-04T20:57:39.000Z', 'text': 'not even a year of their debut INSANE https://t.co/hNq0MGTddr', 'edit_history_tweet_ids': ['1610742278133526528'], '_id': ObjectId('63bd2c3ec087e1a6a40bb318'), 'author_id': '29324689'}\n",
      "{'id': '1610585890434486273', 'public_metrics': {'retweet_count': 28432, 'reply_count': 0, 'like_count': 0, 'quote_count': 0, 'impression_count': 0}, 'created_at': '2023-01-04T10:36:14.000Z', 'text': 'RT @NewJeans_twt: 버니즈~오늘은 어떤 하루를 보낼건가요?? \\n오늘도 역시 버니즈들에게 좋은 하루가 되었으면 좋겠네요 ☺️\\n+오늘의 점메추는…국수!🍜 이미 드신 분들도 계시겠지만…이미 드신 분들은 내일 점심메뉴 추천해요!!\\n#HAERIN…', 'edit_history_tweet_ids': ['1610585890434486273'], '_id': ObjectId('63bd2c3ec087e1a6a40bb319'), 'author_id': '29324689'}\n",
      "{'id': '1610432503453741056', 'public_metrics': {'retweet_count': 0, 'reply_count': 0, 'like_count': 2, 'quote_count': 0, 'impression_count': 219}, 'created_at': '2023-01-04T00:26:43.000Z', 'text': 'the mv is for you https://t.co/DrYR03qWKP https://t.co/5ATILkge2T', 'edit_history_tweet_ids': ['1610432503453741056'], '_id': ObjectId('63bd2c3ec087e1a6a40bb31a'), 'author_id': '29324689'}\n",
      "{'id': '1610431855693819904', 'public_metrics': {'retweet_count': 0, 'reply_count': 0, 'like_count': 1, 'quote_count': 0, 'impression_count': 33}, 'created_at': '2023-01-04T00:24:09.000Z', 'text': '🤭🤭 https://t.co/lG0c8SBiZk', 'edit_history_tweet_ids': ['1610431855693819904'], '_id': ObjectId('63bd2c3ec087e1a6a40bb31b'), 'author_id': '29324689'}\n",
      "{'id': '1610293523290681345', 'public_metrics': {'retweet_count': 214, 'reply_count': 0, 'like_count': 0, 'quote_count': 0, 'impression_count': 0}, 'created_at': '2023-01-03T15:14:28.000Z', 'text': 'RT @nwjnsbts: Ditto is now the FIRST and ONLY 4th Gen Song to enter Top 5 of Apple Music Global Top 100 Chart !!🎉👑\\n\\n#NewJeans #뉴진스 @NewJean…', 'edit_history_tweet_ids': ['1610293523290681345'], '_id': ObjectId('63bd2c3ec087e1a6a40bb31c'), 'author_id': '29324689'}\n",
      "{'id': '1610293219434303488', 'public_metrics': {'retweet_count': 25353, 'reply_count': 0, 'like_count': 0, 'quote_count': 0, 'impression_count': 0}, 'created_at': '2023-01-03T15:13:15.000Z', 'text': 'RT @NewJeans_twt: 버니즈~~🐰 라디오 재미있었나요😆??\\n뉴진스의 셀카가 만들어지는 과정ㅎㅎ\\n뉴진스는 한명도 빠질 수 없어!!\\n\\n#뉴진스 #NewJeans #민지 #MINJI https://t.co/ONPHS4qPSU', 'edit_history_tweet_ids': ['1610293219434303488'], '_id': ObjectId('63bd2c3ec087e1a6a40bb31d'), 'author_id': '29324689'}\n",
      "{'id': '1610175823721680897', 'public_metrics': {'retweet_count': 0, 'reply_count': 0, 'like_count': 1, 'quote_count': 0, 'impression_count': 39}, 'created_at': '2023-01-03T07:26:46.000Z', 'text': 'HELLOOOOOOO??????? https://t.co/DVruKHIcwt', 'edit_history_tweet_ids': ['1610175823721680897'], '_id': ObjectId('63bd2c3ec087e1a6a40bb31e'), 'author_id': '29324689'}\n",
      "{'id': '1609903823161823234', 'public_metrics': {'retweet_count': 0, 'reply_count': 0, 'like_count': 0, 'quote_count': 0, 'impression_count': 46}, 'created_at': '2023-01-02T13:25:56.000Z', 'text': 'not ditto outcharting omg 😭', 'edit_history_tweet_ids': ['1609903823161823234'], '_id': ObjectId('63bd2c3ec087e1a6a40bb31f'), 'author_id': '29324689'}\n",
      "{'id': '1609903736591351813', 'public_metrics': {'retweet_count': 244, 'reply_count': 0, 'like_count': 0, 'quote_count': 0, 'impression_count': 0}, 'created_at': '2023-01-02T13:25:36.000Z', 'text': \"RT @NewJeansCharts: 'Ditto' — 10:00PM KST:\\n\\n#1. MelOn (=)\\n#1. Flo (=)\\n#1. Genie (=)\\n#2. Bugs (=)\\n\\nMelOn ULs [1H]: 45,365\\nMelOn ULs [24H]: 5…\", 'edit_history_tweet_ids': ['1609903736591351813'], '_id': ObjectId('63bd2c3ec087e1a6a40bb320'), 'author_id': '29324689'}\n",
      "{'id': '1609903704471400448', 'public_metrics': {'retweet_count': 0, 'reply_count': 0, 'like_count': 0, 'quote_count': 0, 'impression_count': 259}, 'created_at': '2023-01-02T13:25:28.000Z', 'text': 'DITTO MOVE PLS I AM BEGGING https://t.co/ajRXa2qUK6', 'edit_history_tweet_ids': ['1609903704471400448'], '_id': ObjectId('63bd2c3ec087e1a6a40bb321'), 'author_id': '29324689'}\n",
      "{'id': '1609868662814674944', 'public_metrics': {'retweet_count': 0, 'reply_count': 0, 'like_count': 0, 'quote_count': 0, 'impression_count': 57}, 'created_at': '2023-01-02T11:06:13.000Z', 'text': 'the qrts 😂 YEAH THE VID IS REALLY FOR YALL https://t.co/lxLcAuYSOp', 'edit_history_tweet_ids': ['1609868662814674944'], '_id': ObjectId('63bd2c3ec087e1a6a40bb322'), 'author_id': '29324689'}\n",
      "{'id': '1609864800628248576', 'public_metrics': {'retweet_count': 0, 'reply_count': 0, 'like_count': 0, 'quote_count': 0, 'impression_count': 121}, 'created_at': '2023-01-02T10:50:52.000Z', 'text': 'times up https://t.co/V4sjC24D3F', 'edit_history_tweet_ids': ['1609864800628248576'], '_id': ObjectId('63bd2c3ec087e1a6a40bb323'), 'author_id': '29324689'}\n",
      "{'id': '1609864702821302275', 'public_metrics': {'retweet_count': 0, 'reply_count': 0, 'like_count': 0, 'quote_count': 0, 'impression_count': 29}, 'created_at': '2023-01-02T10:50:29.000Z', 'text': 'go off pretty girl https://t.co/80vPey7LiB', 'edit_history_tweet_ids': ['1609864702821302275'], '_id': ObjectId('63bd2c3ec087e1a6a40bb324'), 'author_id': '29324689'}\n",
      "{'id': '1609864572298752000', 'public_metrics': {'retweet_count': 0, 'reply_count': 0, 'like_count': 0, 'quote_count': 0, 'impression_count': 30}, 'created_at': '2023-01-02T10:49:58.000Z', 'text': '@NewJeans_twt i love you', 'edit_history_tweet_ids': ['1609864572298752000'], '_id': ObjectId('63bd2c3ec087e1a6a40bb325'), 'author_id': '29324689'}\n",
      "{'id': '1609864558625292288', 'public_metrics': {'retweet_count': 6305, 'reply_count': 0, 'like_count': 0, 'quote_count': 0, 'impression_count': 0}, 'created_at': '2023-01-02T10:49:55.000Z', 'text': 'RT @NewJeans_twt: https://t.co/WGFkvdebcg', 'edit_history_tweet_ids': ['1609864558625292288'], '_id': ObjectId('63bd2c3ec087e1a6a40bb326'), 'author_id': '29324689'}\n",
      "{'id': '1609864533019095041', 'public_metrics': {'retweet_count': 15362, 'reply_count': 0, 'like_count': 0, 'quote_count': 0, 'impression_count': 0}, 'created_at': '2023-01-02T10:49:49.000Z', 'text': 'RT @NewJeans_twt: 안녕하세요! 버니즈!! ⭐️\\n사진을 정리하다가 버니즈와의 추억이 담긴 음방 때 사진을 발견했어요!!🥺 (사진이 꽤 많아요 ㅎ)\\n2022년을 버니즈와 함께해서 더 행복했다고 꼭 다시 말해 주고 싶었어요..! 💖\\n\\n새해…', 'edit_history_tweet_ids': ['1609864533019095041'], '_id': ObjectId('63bd2c3ec087e1a6a40bb327'), 'author_id': '29324689'}\n",
      "{'id': '1609860357329391616', 'public_metrics': {'retweet_count': 0, 'reply_count': 0, 'like_count': 0, 'quote_count': 0, 'impression_count': 393}, 'created_at': '2023-01-02T10:33:13.000Z', 'text': 'IM SO PROUD https://t.co/dMrPC8mSV3', 'edit_history_tweet_ids': ['1609860357329391616'], '_id': ObjectId('63bd2c3ec087e1a6a40bb328'), 'author_id': '29324689'}\n",
      "{'id': '1609860243391148033', 'public_metrics': {'retweet_count': 1256, 'reply_count': 0, 'like_count': 0, 'quote_count': 0, 'impression_count': 0}, 'created_at': '2023-01-02T10:32:46.000Z', 'text': 'RT @kchartsmaster: Girlgroup albums with most weeks at #1 on MelOn Album Chart history:\\n\\n1. #NewJeans, NewJeans (2022) — 10 *still counting…', 'edit_history_tweet_ids': ['1609860243391148033'], '_id': ObjectId('63bd2c3ec087e1a6a40bb329'), 'author_id': '29324689'}\n",
      "{'id': '1609859877974970377', 'public_metrics': {'retweet_count': 272, 'reply_count': 0, 'like_count': 0, 'quote_count': 0, 'impression_count': 0}, 'created_at': '2023-01-02T10:31:19.000Z', 'text': 'RT @kpopggsuperior: \"OMG\" by #NewJeans earns the highest debut for a Female Artist in MelOn TOP100 Chart\\'s history (#2) 👏🎉 https://t.co/Gbr…', 'edit_history_tweet_ids': ['1609859877974970377'], '_id': ObjectId('63bd2c3ec087e1a6a40bb32a'), 'author_id': '29324689'}\n",
      "{'id': '1609859673997598721', 'public_metrics': {'retweet_count': 0, 'reply_count': 0, 'like_count': 0, 'quote_count': 0, 'impression_count': 248}, 'created_at': '2023-01-02T10:30:30.000Z', 'text': 'HISTORY https://t.co/WVgQwILpw2 https://t.co/1doTH6Es62', 'edit_history_tweet_ids': ['1609859673997598721'], '_id': ObjectId('63bd2c3ec087e1a6a40bb32b'), 'author_id': '29324689'}\n",
      "{'id': '1609859541931556865', 'public_metrics': {'retweet_count': 1225, 'reply_count': 0, 'like_count': 0, 'quote_count': 0, 'impression_count': 0}, 'created_at': '2023-01-02T10:29:59.000Z', 'text': 'RT @kchartsmaster: .@NewJeans_twt becomes the first Idol Group in history to have multiple songs spending at least 20 weeks on MelOn Weekly…', 'edit_history_tweet_ids': ['1609859541931556865'], '_id': ObjectId('63bd2c3ec087e1a6a40bb32c'), 'author_id': '29324689'}\n",
      "{'id': '1609855701224157184', 'public_metrics': {'retweet_count': 0, 'reply_count': 0, 'like_count': 0, 'quote_count': 0, 'impression_count': 116}, 'created_at': '2023-01-02T10:14:43.000Z', 'text': 'let your sister get that number 1 pls ditto https://t.co/dxV2KcC7JN', 'edit_history_tweet_ids': ['1609855701224157184'], '_id': ObjectId('63bd2c3ec087e1a6a40bb32d'), 'author_id': '29324689'}\n",
      "{'id': '1609854344601698304', 'public_metrics': {'retweet_count': 0, 'reply_count': 0, 'like_count': 0, 'quote_count': 0, 'impression_count': 61}, 'created_at': '2023-01-02T10:09:20.000Z', 'text': 'debuted in flo 😩 fucking insane https://t.co/ugCLpcuDG5', 'edit_history_tweet_ids': ['1609854344601698304'], '_id': ObjectId('63bd2c3ec087e1a6a40bb32e'), 'author_id': '29324689'}\n",
      "{'id': '1609854132357337088', 'public_metrics': {'retweet_count': 0, 'reply_count': 0, 'like_count': 0, 'quote_count': 0, 'impression_count': 18}, 'created_at': '2023-01-02T10:08:29.000Z', 'text': 'it feels so good to be a tokkis https://t.co/YhuZYfwnlU', 'edit_history_tweet_ids': ['1609854132357337088'], '_id': ObjectId('63bd2c3ec087e1a6a40bb32f'), 'author_id': '29324689'}\n",
      "{'id': '1609854047724658689', 'public_metrics': {'retweet_count': 301, 'reply_count': 0, 'like_count': 0, 'quote_count': 0, 'impression_count': 0}, 'created_at': '2023-01-02T10:08:09.000Z', 'text': 'RT @NewJeansCharts: .@NewJeans_ADOR “OMG” MV has surpassed 1,000,000 views on YouTube! \\n\\n#NewJeans #뉴진스 #NewJeans_OMG https://t.co/IpKXgpRu…', 'edit_history_tweet_ids': ['1609854047724658689'], '_id': ObjectId('63bd2c3ec087e1a6a40bb330'), 'author_id': '29324689'}\n",
      "{'id': '1609853944049856512', 'public_metrics': {'retweet_count': 0, 'reply_count': 0, 'like_count': 0, 'quote_count': 0, 'impression_count': 578}, 'created_at': '2023-01-02T10:07:44.000Z', 'text': 'atp people should be scared now https://t.co/lKFvU1RQZh', 'edit_history_tweet_ids': ['1609853944049856512'], '_id': ObjectId('63bd2c3ec087e1a6a40bb331'), 'author_id': '29324689'}\n",
      "{'id': '1609853720111771652', 'public_metrics': {'retweet_count': 0, 'reply_count': 0, 'like_count': 1, 'quote_count': 0, 'impression_count': 342}, 'created_at': '2023-01-02T10:06:51.000Z', 'text': 'see when your faves makes good music https://t.co/lKFvU1RQZh', 'edit_history_tweet_ids': ['1609853720111771652'], '_id': ObjectId('63bd2c3ec087e1a6a40bb332'), 'author_id': '29324689'}\n",
      "{'id': '1609853163603099650', 'public_metrics': {'retweet_count': 0, 'reply_count': 0, 'like_count': 1, 'quote_count': 0, 'impression_count': 43}, 'created_at': '2023-01-02T10:04:38.000Z', 'text': 'newjeans blocking newjeans', 'edit_history_tweet_ids': ['1609853163603099650'], '_id': ObjectId('63bd2c3ec087e1a6a40bb333'), 'author_id': '29324689'}\n",
      "{'id': '1609853098104872961', 'public_metrics': {'retweet_count': 0, 'reply_count': 0, 'like_count': 0, 'quote_count': 0, 'impression_count': 73}, 'created_at': '2023-01-02T10:04:22.000Z', 'text': 'DITTO PLS MOVE https://t.co/ugCLpcuDG5', 'edit_history_tweet_ids': ['1609853098104872961'], '_id': ObjectId('63bd2c3ec087e1a6a40bb334'), 'author_id': '29324689'}\n",
      "{'id': '1609852033317896192', 'public_metrics': {'retweet_count': 0, 'reply_count': 0, 'like_count': 0, 'quote_count': 0, 'impression_count': 269}, 'created_at': '2023-01-02T10:00:09.000Z', 'text': '#OMG_OUTNOW\\n#NewJeans_OMG\\n#모두를_놀라게할_뉴진스_OMG\\n#NewJeans #뉴진스 https://t.co/6TpXIxH6pp', 'edit_history_tweet_ids': ['1609852033317896192'], '_id': ObjectId('63bd2c3ec087e1a6a40bb335'), 'author_id': '29324689'}\n",
      "{'id': '1609851888551473157', 'public_metrics': {'retweet_count': 1, 'reply_count': 0, 'like_count': 5, 'quote_count': 1, 'impression_count': 567}, 'created_at': '2023-01-02T09:59:34.000Z', 'text': 'omg focused playlist + chill indie rnb songs \\n\\nhttps://t.co/rcoihDfima', 'edit_history_tweet_ids': ['1609851888551473157'], '_id': ObjectId('63bd2c3ec087e1a6a40bb336'), 'author_id': '29324689'}\n",
      "{'id': '1609847914330984448', 'public_metrics': {'retweet_count': 0, 'reply_count': 0, 'like_count': 0, 'quote_count': 0, 'impression_count': 49}, 'created_at': '2023-01-02T09:43:46.000Z', 'text': 'LITERALLY OMG https://t.co/5qA3BAzVbT', 'edit_history_tweet_ids': ['1609847914330984448'], '_id': ObjectId('63bd2c3ec087e1a6a40bb337'), 'author_id': '29324689'}\n",
      "{'id': '1609847829387964418', 'public_metrics': {'retweet_count': 0, 'reply_count': 0, 'like_count': 0, 'quote_count': 0, 'impression_count': 28}, 'created_at': '2023-01-02T09:43:26.000Z', 'text': 'hype boy thank you for your service', 'edit_history_tweet_ids': ['1609847829387964418'], '_id': ObjectId('63bd2c3ec087e1a6a40bb338'), 'author_id': '29324689'}\n",
      "{'id': '1609843486043574274', 'public_metrics': {'retweet_count': 0, 'reply_count': 0, 'like_count': 0, 'quote_count': 0, 'impression_count': 69}, 'created_at': '2023-01-02T09:26:11.000Z', 'text': \"is danielle the only one who is sane... i mean she's the only one who knows that they are newjeans?\", 'edit_history_tweet_ids': ['1609843486043574274'], '_id': ObjectId('63bd2c3ec087e1a6a40bb339'), 'author_id': '29324689'}\n",
      "{'id': '1609843030093332480', 'public_metrics': {'retweet_count': 0, 'reply_count': 0, 'like_count': 0, 'quote_count': 0, 'impression_count': 6}, 'created_at': '2023-01-02T09:24:22.000Z', 'text': '@hannicuIt MY HEAD HURTS WHILE UNDERSTANDING THE MV 😩', 'edit_history_tweet_ids': ['1609843030093332480'], '_id': ObjectId('63bd2c3ec087e1a6a40bb33a'), 'author_id': '29324689'}\n",
      "{'id': '1609842861964693509', 'public_metrics': {'retweet_count': 0, 'reply_count': 0, 'like_count': 0, 'quote_count': 0, 'impression_count': 41}, 'created_at': '2023-01-02T09:23:42.000Z', 'text': 'psych minji pls heal my mentally unstable ass', 'edit_history_tweet_ids': ['1609842861964693509'], '_id': ObjectId('63bd2c3ec087e1a6a40bb33b'), 'author_id': '29324689'}\n",
      "{'id': '1609842366231502848', 'public_metrics': {'retweet_count': 0, 'reply_count': 0, 'like_count': 0, 'quote_count': 0, 'impression_count': 7}, 'created_at': '2023-01-02T09:21:44.000Z', 'text': 'GIVE ME THEORIES', 'edit_history_tweet_ids': ['1609842366231502848'], '_id': ObjectId('63bd2c3ec087e1a6a40bb33c'), 'author_id': '29324689'}\n",
      "{'id': '1609842336586137600', 'public_metrics': {'retweet_count': 0, 'reply_count': 1, 'like_count': 0, 'quote_count': 0, 'impression_count': 39}, 'created_at': '2023-01-02T09:21:37.000Z', 'text': 'no bc what is the meaning of bear????? and the attention mv came out of nowhere????', 'edit_history_tweet_ids': ['1609842336586137600'], '_id': ObjectId('63bd2c3ec087e1a6a40bb33d'), 'author_id': '29324689'}\n",
      "{'id': '1609841925758267394', 'public_metrics': {'retweet_count': 0, 'reply_count': 0, 'like_count': 0, 'quote_count': 0, 'impression_count': 8}, 'created_at': '2023-01-02T09:19:59.000Z', 'text': 'ARE', 'edit_history_tweet_ids': ['1609841925758267394'], '_id': ObjectId('63bd2c3ec087e1a6a40bb33e'), 'author_id': '29324689'}\n",
      "{'id': '1609841886696706048', 'public_metrics': {'retweet_count': 0, 'reply_count': 0, 'like_count': 0, 'quote_count': 0, 'impression_count': 19}, 'created_at': '2023-01-02T09:19:49.000Z', 'text': 'oh my oh my god', 'edit_history_tweet_ids': ['1609841886696706048'], '_id': ObjectId('63bd2c3fc087e1a6a40bb33f'), 'author_id': '29324689'}\n",
      "{'id': '1609841748762857474', 'public_metrics': {'retweet_count': 0, 'reply_count': 1, 'like_count': 0, 'quote_count': 0, 'impression_count': 24}, 'created_at': '2023-01-02T09:19:16.000Z', 'text': 'THERE ATE A LOT OF THINGS TO UNPACK', 'edit_history_tweet_ids': ['1609841748762857474'], '_id': ObjectId('63bd2c3fc087e1a6a40bb340'), 'author_id': '29324689'}\n",
      "{'id': '1609841373104201728', 'public_metrics': {'retweet_count': 9291, 'reply_count': 0, 'like_count': 0, 'quote_count': 0, 'impression_count': 0}, 'created_at': '2023-01-02T09:17:47.000Z', 'text': \"RT @NewJeans_ADOR: [Music🎵]\\nNewJeans 'OMG'\\nAvailable Now 🐰\\n\\n🔗https://t.co/lO8xvoUA19\\n\\n#NewJeans #뉴진스 \\n#NewJeans_OMG #NewJeans_Ditto\\n#Year_o…\", 'edit_history_tweet_ids': ['1609841373104201728'], '_id': ObjectId('63bd2c3fc087e1a6a40bb341'), 'author_id': '29324689'}\n",
      "{'id': '1609840189983293441', 'public_metrics': {'retweet_count': 0, 'reply_count': 0, 'like_count': 0, 'quote_count': 0, 'impression_count': 184}, 'created_at': '2023-01-02T09:13:05.000Z', 'text': 'in just 5 months of their debut https://t.co/tJOYZAtxcs', 'edit_history_tweet_ids': ['1609840189983293441'], '_id': ObjectId('63bd2c3fc087e1a6a40bb342'), 'author_id': '29324689'}\n",
      "{'id': '1609840096001544193', 'public_metrics': {'retweet_count': 1496, 'reply_count': 0, 'like_count': 0, 'quote_count': 0, 'impression_count': 0}, 'created_at': '2023-01-02T09:12:42.000Z', 'text': 'RT @NewJeansCharts: .@NewJeans_ADOR’s “Ditto” (168 hours) is now the 4th Gen Song with the Most PAKs in HISTORY! 👑🔥\\n\\n#NewJeans #뉴진스 #NewJea…', 'edit_history_tweet_ids': ['1609840096001544193'], '_id': ObjectId('63bd2c3fc087e1a6a40bb343'), 'author_id': '29324689'}\n",
      "{'id': '1609839939612708868', 'public_metrics': {'retweet_count': 120, 'reply_count': 0, 'like_count': 0, 'quote_count': 0, 'impression_count': 0}, 'created_at': '2023-01-02T09:12:05.000Z', 'text': 'RT @stillsmvs: https://t.co/TylLxlPoDz', 'edit_history_tweet_ids': ['1609839939612708868'], '_id': ObjectId('63bd2c3fc087e1a6a40bb344'), 'author_id': '29324689'}\n",
      "{'id': '1609839418767966209', 'public_metrics': {'retweet_count': 0, 'reply_count': 0, 'like_count': 0, 'quote_count': 0, 'impression_count': 36}, 'created_at': '2023-01-02T09:10:01.000Z', 'text': 'i laughed when hanni became siri 😭', 'edit_history_tweet_ids': ['1609839418767966209'], '_id': ObjectId('63bd2c3fc087e1a6a40bb345'), 'author_id': '29324689'}\n",
      "{'id': '1609839301713592322', 'public_metrics': {'retweet_count': 0, 'reply_count': 0, 'like_count': 0, 'quote_count': 0, 'impression_count': 193}, 'created_at': '2023-01-02T09:09:33.000Z', 'text': 'NEWJEANS ‘OMG’ OUT NOW\\n#OMG_OUTNOW\\n#NewJeans_OMG\\n#모두를_놀라게할_뉴진스_OMG\\n#NewJeans #뉴진스', 'edit_history_tweet_ids': ['1609839301713592322'], '_id': ObjectId('63bd2c3fc087e1a6a40bb346'), 'author_id': '29324689'}\n",
      "{'id': '1609839242196430849', 'public_metrics': {'retweet_count': 1, 'reply_count': 0, 'like_count': 0, 'quote_count': 0, 'impression_count': 156}, 'created_at': '2023-01-02T09:09:19.000Z', 'text': 'cant wait newjeans to have a full album 😓😓', 'edit_history_tweet_ids': ['1609839242196430849'], '_id': ObjectId('63bd2c3fc087e1a6a40bb347'), 'author_id': '29324689'}\n",
      "{'id': '1609838939258617856', 'public_metrics': {'retweet_count': 0, 'reply_count': 0, 'like_count': 0, 'quote_count': 0, 'impression_count': 26}, 'created_at': '2023-01-02T09:08:07.000Z', 'text': 'OMG SOUNDS SO FUCKING GOOD PLS I GOT LSS ALREADY', 'edit_history_tweet_ids': ['1609838939258617856'], '_id': ObjectId('63bd2c3fc087e1a6a40bb348'), 'author_id': '29324689'}\n",
      "{'id': '1609838769196400642', 'public_metrics': {'retweet_count': 25622, 'reply_count': 0, 'like_count': 0, 'quote_count': 0, 'impression_count': 0}, 'created_at': '2023-01-02T09:07:26.000Z', 'text': \"RT @NewJeans_ADOR: NewJeans 'OMG' Official MV\\n\\n🔗https://t.co/OSfkFS3Nrn\\n\\n#NewJeans #뉴진스 \\n#NewJeans_OMG #NewJeans_Ditto\\n#Year_of_NewJeans\", 'edit_history_tweet_ids': ['1609838769196400642'], '_id': ObjectId('63bd2c3fc087e1a6a40bb349'), 'author_id': '29324689'}\n",
      "{'id': '1609836956971859972', 'public_metrics': {'retweet_count': 30386, 'reply_count': 0, 'like_count': 0, 'quote_count': 0, 'impression_count': 0}, 'created_at': '2023-01-02T09:00:14.000Z', 'text': \"RT @NewJeans_ADOR: \\U0001fae2 \\n\\n2023.1.2. 6PM (KST) \\n'OMG' Release\\n\\n#NewJeans #뉴진스 \\n#NewJeans_OMG #NewJeans_Ditto\\n#Year_of_NewJeans https://t.co/1yd…\", 'edit_history_tweet_ids': ['1609836956971859972'], '_id': ObjectId('63bd2c3fc087e1a6a40bb34a'), 'author_id': '29324689'}\n",
      "{'id': '1609714198283702273', 'public_metrics': {'retweet_count': 0, 'reply_count': 0, 'like_count': 0, 'quote_count': 0, 'impression_count': 22}, 'created_at': '2023-01-02T00:52:26.000Z', 'text': 'can time move a little faster 😩', 'edit_history_tweet_ids': ['1609714198283702273'], '_id': ObjectId('63bd2c3fc087e1a6a40bb34b'), 'author_id': '29324689'}\n",
      "{'id': '1609714114313728001', 'public_metrics': {'retweet_count': 1064, 'reply_count': 0, 'like_count': 0, 'quote_count': 0, 'impression_count': 0}, 'created_at': '2023-01-02T00:52:06.000Z', 'text': 'RT @NewJeansGlobal: [#ARTICLE] “Trust,hope, love” NewJeans release ‘OMG’ today!\\n\\nThe tittle track ‘OMG’ is said to be a bouncy and exciting…', 'edit_history_tweet_ids': ['1609714114313728001'], '_id': ObjectId('63bd2c3fc087e1a6a40bb34c'), 'author_id': '29324689'}\n",
      "{'id': '1609714055257948167', 'public_metrics': {'retweet_count': 264, 'reply_count': 0, 'like_count': 0, 'quote_count': 0, 'impression_count': 0}, 'created_at': '2023-01-02T00:51:52.000Z', 'text': 'RT @hannisloops: OMG is coming out today, 6PM KST. #NewJeans_OMG ᰔ ˳˚ ᰍ https://t.co/6CYBVG4lZg', 'edit_history_tweet_ids': ['1609714055257948167'], '_id': ObjectId('63bd2c3fc087e1a6a40bb34d'), 'author_id': '29324689'}\n",
      "{'id': '1609713205882019843', 'public_metrics': {'retweet_count': 0, 'reply_count': 0, 'like_count': 2, 'quote_count': 0, 'impression_count': 52}, 'created_at': '2023-01-02T00:48:29.000Z', 'text': 'my pretty girls https://t.co/Ih99fYzWSZ', 'edit_history_tweet_ids': ['1609713205882019843'], '_id': ObjectId('63bd2c3fc087e1a6a40bb34e'), 'author_id': '29324689'}\n",
      "{'id': '1609713166304571392', 'public_metrics': {'retweet_count': 17742, 'reply_count': 0, 'like_count': 0, 'quote_count': 0, 'impression_count': 0}, 'created_at': '2023-01-02T00:48:20.000Z', 'text': 'RT @NewJeans_twt: 오늘은 정말 특별한 하루가 되겠다!!!!          버니즈도 아주 Special한 하루를 보내시길 바래요!!! 💖❤️💖❤️\\n\\n#뉴진스 #NewJeans #다니엘 #DANIELLE https://t.co/nU2tV…', 'edit_history_tweet_ids': ['1609713166304571392'], '_id': ObjectId('63bd2c3fc087e1a6a40bb34f'), 'author_id': '29324689'}\n",
      "{'id': '1609713090031124481', 'public_metrics': {'retweet_count': 0, 'reply_count': 0, 'like_count': 0, 'quote_count': 0, 'impression_count': 89}, 'created_at': '2023-01-02T00:48:02.000Z', 'text': 'OMG IS COMING \\n#NewJeansOMG_DDAY\\n#NewJeans_OMG \\n#NewJeans #뉴진스 @NewJeans_ADOR', 'edit_history_tweet_ids': ['1609713090031124481'], '_id': ObjectId('63bd2c3fc087e1a6a40bb350'), 'author_id': '29324689'}\n",
      "{'id': '1609712985211310081', 'public_metrics': {'retweet_count': 0, 'reply_count': 0, 'like_count': 0, 'quote_count': 0, 'impression_count': 77}, 'created_at': '2023-01-02T00:47:37.000Z', 'text': '\"OMG is a hip-hop R&amp;B songs that mix the \\'UK Gargage\\' rhythm and trap rhythm based on hip-hop drum sauce and percussion.\"\\n\\nOH MAN NEWJEANS DIDNT COME TO PLAY', 'edit_history_tweet_ids': ['1609712985211310081'], '_id': ObjectId('63bd2c3fc087e1a6a40bb351'), 'author_id': '29324689'}\n",
      "{'id': '1609712798870933511', 'public_metrics': {'retweet_count': 30404, 'reply_count': 0, 'like_count': 0, 'quote_count': 0, 'impression_count': 0}, 'created_at': '2023-01-02T00:46:52.000Z', 'text': 'RT @NewJeans_twt: bunnies!! 🐰❤️ \\n해피 뉴 이어!! 새해복 많이 많이 받으세요! I hope you all had a lovely happy warm new year!! 💖\\n내일은… 곧… 만나요… 히히히 🤭 \\n\\n#Hanni…', 'edit_history_tweet_ids': ['1609712798870933511'], '_id': ObjectId('63bd2c3fc087e1a6a40bb352'), 'author_id': '29324689'}\n",
      "{'id': '1609712784815845376', 'public_metrics': {'retweet_count': 0, 'reply_count': 0, 'like_count': 0, 'quote_count': 0, 'impression_count': 15}, 'created_at': '2023-01-02T00:46:49.000Z', 'text': 'AAAAA SO EXCITED FOR OMG', 'edit_history_tweet_ids': ['1609712784815845376'], '_id': ObjectId('63bd2c3fc087e1a6a40bb353'), 'author_id': '29324689'}\n",
      "{'id': '1609712538178183170', 'public_metrics': {'retweet_count': 300, 'reply_count': 0, 'like_count': 0, 'quote_count': 0, 'impression_count': 0}, 'created_at': '2023-01-02T00:45:50.000Z', 'text': 'RT @NewJeansGlobal: [#UPDATE] OMG comeback goals! \\n\\nRelease date: 2023.01.02 | 6PM (KST)\\n\\nOMG NewJeans is Back AGAIN\\n#NewJeans_OMG #NewJean…', 'edit_history_tweet_ids': ['1609712538178183170'], '_id': ObjectId('63bd2c3fc087e1a6a40bb354'), 'author_id': '29324689'}\n",
      "{'id': '1609074161179308032', 'public_metrics': {'retweet_count': 0, 'reply_count': 0, 'like_count': 1, 'quote_count': 0, 'impression_count': 27}, 'created_at': '2022-12-31T06:29:09.000Z', 'text': 'she looks like a doll https://t.co/tO6tUryUMV', 'edit_history_tweet_ids': ['1609074161179308032'], '_id': ObjectId('63bd2c3fc087e1a6a40bb355'), 'author_id': '29324689'}\n",
      "{'id': '1608689585978236928', 'public_metrics': {'retweet_count': 0, 'reply_count': 0, 'like_count': 1, 'quote_count': 0, 'impression_count': 230}, 'created_at': '2022-12-30T05:00:59.000Z', 'text': 'DAMN kpop stans should speak newjeans respectfully https://t.co/XvB6t5CXbq', 'edit_history_tweet_ids': ['1608689585978236928'], '_id': ObjectId('63bd2c3fc087e1a6a40bb356'), 'author_id': '29324689'}\n",
      "{'id': '1608641536086126593', 'public_metrics': {'retweet_count': 0, 'reply_count': 0, 'like_count': 0, 'quote_count': 0, 'impression_count': 93}, 'created_at': '2022-12-30T01:50:03.000Z', 'text': \"an ateez fans speaking up about newjeans' music.... the audacity? https://t.co/w0QAyZeyNk\", 'edit_history_tweet_ids': ['1608641536086126593'], '_id': ObjectId('63bd2c3fc087e1a6a40bb357'), 'author_id': '29324689'}\n",
      "{'id': '1608641220506701827', 'public_metrics': {'retweet_count': 1450, 'reply_count': 0, 'like_count': 0, 'quote_count': 0, 'impression_count': 0}, 'created_at': '2022-12-30T01:48:48.000Z', 'text': 'RT @stillsmvs: newjeans; hurt (2022) https://t.co/wb06qq7kgJ', 'edit_history_tweet_ids': ['1608641220506701827'], '_id': ObjectId('63bd2c3fc087e1a6a40bb358'), 'author_id': '29324689'}\n",
      "{'id': '1608640905552236544', 'public_metrics': {'retweet_count': 0, 'reply_count': 0, 'like_count': 0, 'quote_count': 0, 'impression_count': 60}, 'created_at': '2022-12-30T01:47:33.000Z', 'text': 'hyein being the new ambassador of lv AND SHE IS 14 😩 SLAYED', 'edit_history_tweet_ids': ['1608640905552236544'], '_id': ObjectId('63bd2c3fc087e1a6a40bb359'), 'author_id': '29324689'}\n",
      "{'id': '1608640654237896705', 'public_metrics': {'retweet_count': 4120, 'reply_count': 0, 'like_count': 0, 'quote_count': 0, 'impression_count': 0}, 'created_at': '2022-12-30T01:46:33.000Z', 'text': 'RT @newjified: ktokkis found a youtube channel belonging to heesoo where clips that aren’t in the music video are being posted \\n\\nhttps://t.…', 'edit_history_tweet_ids': ['1608640654237896705'], '_id': ObjectId('63bd2c3fc087e1a6a40bb35a'), 'author_id': '29324689'}\n",
      "{'id': '1608640319264018433', 'public_metrics': {'retweet_count': 24962, 'reply_count': 0, 'like_count': 0, 'quote_count': 0, 'impression_count': 0}, 'created_at': '2022-12-30T01:45:13.000Z', 'text': 'RT @NewJeans_ADOR: Louis Vuitton Newest Brand Ambassador 🤎 HYEIN\\n\\n#광고 #LouisVuitton\\n#NewJeans #뉴진스 #HYEIN\\n@louisvuitton https://t.co/HLA42D…', 'edit_history_tweet_ids': ['1608640319264018433'], '_id': ObjectId('63bd2c3fc087e1a6a40bb35b'), 'author_id': '29324689'}\n",
      "{'id': '1608640260526985217', 'public_metrics': {'retweet_count': 0, 'reply_count': 0, 'like_count': 4, 'quote_count': 0, 'impression_count': 2851}, 'created_at': '2022-12-30T01:44:59.000Z', 'text': 'THE IT GIRL https://t.co/LRasZU2iKp https://t.co/E2MCgEPy2l', 'edit_history_tweet_ids': ['1608640260526985217'], '_id': ObjectId('63bd2c3fc087e1a6a40bb35c'), 'author_id': '29324689'}\n",
      "{'id': '1606319636244443136', 'public_metrics': {'retweet_count': 0, 'reply_count': 0, 'like_count': 1, 'quote_count': 0, 'impression_count': 242}, 'created_at': '2022-12-23T16:03:39.000Z', 'text': \"why dont you just find a money to pay your hospital bills instead of hating young girls on twitter? you're already a parent yet you're still being a loser over kpop https://t.co/TnqVW1Kljk\", 'edit_history_tweet_ids': ['1606319636244443136'], '_id': ObjectId('63bd2c3fc087e1a6a40bb35d'), 'author_id': '29324689'}\n",
      "{'id': '1606251841586544641', 'public_metrics': {'retweet_count': 2990, 'reply_count': 0, 'like_count': 0, 'quote_count': 0, 'impression_count': 0}, 'created_at': '2022-12-23T11:34:16.000Z', 'text': \"RT @NewJeans_ADOR: [Music🎵]\\nBunnies, guess who is the cover of A-List K-Pop! Hope you enjoy 'Ditto' @applemusic\\n\\n🔗https://t.co/iEtabdb68D…\", 'edit_history_tweet_ids': ['1606251841586544641'], '_id': ObjectId('63bd2c3fc087e1a6a40bb35e'), 'author_id': '29324689'}\n",
      "{'id': '1606251734229168128', 'public_metrics': {'retweet_count': 19440, 'reply_count': 0, 'like_count': 0, 'quote_count': 0, 'impression_count': 0}, 'created_at': '2022-12-23T11:33:50.000Z', 'text': 'RT @NewJeans_twt: 곧 있으면 happy holidayyyyyy😝\\n버니즈는 연말에 뭐하시나요??🎄\\n#NewJeans #혜인 #Hyein https://t.co/Y00lsvqNvu', 'edit_history_tweet_ids': ['1606251734229168128'], '_id': ObjectId('63bd2c3fc087e1a6a40bb35f'), 'author_id': '29324689'}\n",
      "{'id': '1606251730005504006', 'public_metrics': {'retweet_count': 0, 'reply_count': 0, 'like_count': 0, 'quote_count': 0, 'impression_count': 38}, 'created_at': '2022-12-23T11:33:49.000Z', 'text': '@NewJeans_twt ily pretty girl', 'edit_history_tweet_ids': ['1606251730005504006'], '_id': ObjectId('63bd2c3fc087e1a6a40bb360'), 'author_id': '29324689'}\n",
      "{'id': '1606251693519212545', 'public_metrics': {'retweet_count': 0, 'reply_count': 0, 'like_count': 0, 'quote_count': 0, 'impression_count': 32}, 'created_at': '2022-12-23T11:33:41.000Z', 'text': \"this is fr hyein's era idc idc\", 'edit_history_tweet_ids': ['1606251693519212545'], '_id': ObjectId('63bd2c3fc087e1a6a40bb361'), 'author_id': '29324689'}\n"
     ]
    }
   ],
   "source": [
    "for tweet in res.data:\n",
    "    # print(tweet.data)\n",
    "    data = tweet.data\n",
    "    data['author_id'] = '29324689'\n",
    "    print(data)"
   ]
  },
  {
   "cell_type": "code",
   "execution_count": 30,
   "id": "3d3e85c7-4953-49e3-a47c-c3e188c8dfae",
   "metadata": {},
   "outputs": [],
   "source": [
    "for user in user_collection.find():\n",
    "    uid = user['id']\n",
    "    res = api.get_users_tweets(id=uid, max_results=100, tweet_fields=['created_at', 'public_metrics'])\n",
    "    for tweet in res.data:\n",
    "        data = tweet.data\n",
    "        data['author_id'] = uid\n",
    "        tweets_collection.insert_one(data)"
   ]
  },
  {
   "cell_type": "code",
   "execution_count": 31,
   "id": "1e88ac44-7492-4064-a25f-1f58105b57e7",
   "metadata": {},
   "outputs": [
    {
     "data": {
      "text/plain": [
       "688"
      ]
     },
     "execution_count": 31,
     "metadata": {},
     "output_type": "execute_result"
    }
   ],
   "source": [
    "tweets_collection.estimated_document_count()"
   ]
  },
  {
   "cell_type": "code",
   "execution_count": 38,
   "id": "c334d63f-33a6-4a73-9959-3ec01bc035c6",
   "metadata": {
    "collapsed": true,
    "jupyter": {
     "outputs_hidden": true
    },
    "tags": []
   },
   "outputs": [
    {
     "name": "stdout",
     "output_type": "stream",
     "text": [
      "{'_id': ObjectId('63bd2e88c087e1a6a40bb737'), 'public_metrics': {'retweet_count': 5, 'reply_count': 0, 'like_count': 0, 'quote_count': 0, 'impression_count': 0}, 'text': 'RT @Kemelwoo: https://t.co/p6qpkIg2gK', 'id': '1612735773803008009', 'created_at': '2023-01-10T08:59:06.000Z', 'edit_history_tweet_ids': ['1612735773803008009'], 'author_id': '131686901'}\n",
      "{'_id': ObjectId('63bd2e88c087e1a6a40bb738'), 'public_metrics': {'retweet_count': 63, 'reply_count': 0, 'like_count': 0, 'quote_count': 0, 'impression_count': 0}, 'text': 'RT @timeextension64: \"Mario, where are you?!!!\"\\n\\n\"Mario Bros., new from Atari!\"\\n\\nhttps://t.co/WX2t5tDW56 https://t.co/ydFLWbvuvE', 'id': '1612735059781615618', 'created_at': '2023-01-10T08:56:16.000Z', 'edit_history_tweet_ids': ['1612735059781615618'], 'author_id': '131686901'}\n",
      "{'_id': ObjectId('63bd2e88c087e1a6a40bb739'), 'public_metrics': {'retweet_count': 0, 'reply_count': 0, 'like_count': 0, 'quote_count': 0, 'impression_count': 22}, 'text': '@shangy629 楽しみです！I am always happy to see your artwork  (b ᵔ▽ᵔ)b', 'id': '1612708680105099265', 'created_at': '2023-01-10T07:11:26.000Z', 'edit_history_tweet_ids': ['1612708680105099265'], 'author_id': '131686901'}\n",
      "{'_id': ObjectId('63bd2e88c087e1a6a40bb73a'), 'public_metrics': {'retweet_count': 0, 'reply_count': 1, 'like_count': 1, 'quote_count': 0, 'impression_count': 14}, 'text': \"@shangy629 いいね~☆ it's a great idea!\", 'id': '1612707949708820481', 'created_at': '2023-01-10T07:08:32.000Z', 'edit_history_tweet_ids': ['1612707949708820481'], 'author_id': '131686901'}\n",
      "{'_id': ObjectId('63bd2e88c087e1a6a40bb73b'), 'public_metrics': {'retweet_count': 0, 'reply_count': 1, 'like_count': 1, 'quote_count': 0, 'impression_count': 11}, 'text': '@akiba_nekoudon 全快を祈ってます！', 'id': '1612706661507932160', 'created_at': '2023-01-10T07:03:25.000Z', 'edit_history_tweet_ids': ['1612706661507932160'], 'author_id': '131686901'}\n",
      "{'_id': ObjectId('63bd2e88c087e1a6a40bb73c'), 'public_metrics': {'retweet_count': 0, 'reply_count': 0, 'like_count': 7, 'quote_count': 0, 'impression_count': 116}, 'text': '(ง ื▿ ื)ว https://t.co/jK8yFuy960', 'id': '1612706399305469956', 'created_at': '2023-01-10T07:02:22.000Z', 'edit_history_tweet_ids': ['1612706399305469956'], 'author_id': '131686901'}\n",
      "{'_id': ObjectId('63bd2e88c087e1a6a40bb73d'), 'public_metrics': {'retweet_count': 0, 'reply_count': 1, 'like_count': 1, 'quote_count': 0, 'impression_count': 26}, 'text': '@shangy629 かわいいです (*˘︶˘*).｡.:*♡', 'id': '1612705212644327424', 'created_at': '2023-01-10T06:57:39.000Z', 'edit_history_tweet_ids': ['1612705212644327424'], 'author_id': '131686901'}\n",
      "{'_id': ObjectId('63bd2e88c087e1a6a40bb73e'), 'public_metrics': {'retweet_count': 213, 'reply_count': 0, 'like_count': 0, 'quote_count': 0, 'impression_count': 0}, 'text': 'RT @daiIysailormoon: https://t.co/xAkfPTSo7U', 'id': '1612653972610752512', 'created_at': '2023-01-10T03:34:03.000Z', 'edit_history_tweet_ids': ['1612653972610752512'], 'author_id': '131686901'}\n",
      "{'_id': ObjectId('63bd2e88c087e1a6a40bb73f'), 'public_metrics': {'retweet_count': 91, 'reply_count': 0, 'like_count': 0, 'quote_count': 0, 'impression_count': 0}, 'text': 'RT @hiro046K: 公衆電話\\n\\n＃イラスト #illustrationart #AdobeFresco https://t.co/tKhwguGmuk', 'id': '1612630550723846145', 'created_at': '2023-01-10T02:00:59.000Z', 'edit_history_tweet_ids': ['1612630550723846145'], 'author_id': '131686901'}\n",
      "{'_id': ObjectId('63bd2e88c087e1a6a40bb740'), 'public_metrics': {'retweet_count': 1, 'reply_count': 0, 'like_count': 6, 'quote_count': 0, 'impression_count': 241}, 'text': '@IdolismJ https://t.co/KaxTzJh5ch', 'id': '1612619596481044483', 'created_at': '2023-01-10T01:17:27.000Z', 'edit_history_tweet_ids': ['1612619596481044483'], 'author_id': '131686901'}\n",
      "{'_id': ObjectId('63bd2e88c087e1a6a40bb741'), 'public_metrics': {'retweet_count': 0, 'reply_count': 0, 'like_count': 1, 'quote_count': 0, 'impression_count': 4}, 'text': '@mx_junebug @zylaros thank you for explaining my joke', 'id': '1612609329433026562', 'created_at': '2023-01-10T00:36:39.000Z', 'edit_history_tweet_ids': ['1612609329433026562'], 'author_id': '131686901'}\n",
      "{'_id': ObjectId('63bd2e88c087e1a6a40bb742'), 'public_metrics': {'retweet_count': 0, 'reply_count': 1, 'like_count': 0, 'quote_count': 0, 'impression_count': 8}, 'text': \"@Nerd_Shark69 this one isn't so heavy bc the wood it's made out of is lighter weight and there's probably some sort of composite involved, but it was cool prior to, y'know, cats\\n\\noh well it was never terribly comfortable because the springs were from 1956 and i can't afford to reupholster etc\", 'id': '1612606030826901506', 'created_at': '2023-01-10T00:23:33.000Z', 'edit_history_tweet_ids': ['1612606030826901506'], 'author_id': '131686901'}\n",
      "{'_id': ObjectId('63bd2e88c087e1a6a40bb743'), 'public_metrics': {'retweet_count': 0, 'reply_count': 1, 'like_count': 0, 'quote_count': 0, 'impression_count': 4}, 'text': \"@Nerd_Shark69 it was probably similar but i assure you it wasn't the same because this has the original bill of sale from when they built the furniture here from a small store, it was a custom thrift piece which is why i know the year it was made\", 'id': '1612604464539615232', 'created_at': '2023-01-10T00:17:19.000Z', 'edit_history_tweet_ids': ['1612604464539615232'], 'author_id': '131686901'}\n",
      "{'_id': ObjectId('63bd2e88c087e1a6a40bb744'), 'public_metrics': {'retweet_count': 0, 'reply_count': 1, 'like_count': 0, 'quote_count': 0, 'impression_count': 6}, 'text': '@Nerd_Shark69 I know my couch is destroyed by cats but come on it was made in 1956 https://t.co/We1D9Yg2hl', 'id': '1612602592374460416', 'created_at': '2023-01-10T00:09:53.000Z', 'edit_history_tweet_ids': ['1612602592374460416'], 'author_id': '131686901'}\n",
      "{'_id': ObjectId('63bd2e88c087e1a6a40bb745'), 'public_metrics': {'retweet_count': 0, 'reply_count': 2, 'like_count': 0, 'quote_count': 0, 'impression_count': 7}, 'text': \"@Nerd_Shark69 more like the 50s but i like mid-century modern and always have, it's not like it's a secret with my furniture lol?\", 'id': '1612602380230574082', 'created_at': '2023-01-10T00:09:02.000Z', 'edit_history_tweet_ids': ['1612602380230574082'], 'author_id': '131686901'}\n",
      "{'_id': ObjectId('63bd2e88c087e1a6a40bb746'), 'public_metrics': {'retweet_count': 0, 'reply_count': 1, 'like_count': 0, 'quote_count': 0, 'impression_count': 6}, 'text': \"@Nerd_Shark69 it's brand new so???\", 'id': '1612601974473592832', 'created_at': '2023-01-10T00:07:26.000Z', 'edit_history_tweet_ids': ['1612601974473592832'], 'author_id': '131686901'}\n",
      "{'_id': ObjectId('63bd2e88c087e1a6a40bb747'), 'public_metrics': {'retweet_count': 0, 'reply_count': 0, 'like_count': 1, 'quote_count': 0, 'impression_count': 18}, 'text': \"@philnelson it's adorable!!\", 'id': '1612586687917424642', 'created_at': '2023-01-09T23:06:41.000Z', 'edit_history_tweet_ids': ['1612586687917424642'], 'author_id': '131686901'}\n",
      "{'_id': ObjectId('63bd2e88c087e1a6a40bb748'), 'public_metrics': {'retweet_count': 0, 'reply_count': 4, 'like_count': 16, 'quote_count': 0, 'impression_count': 348}, 'text': \"look at this cute fuckin' toaster my parents got us! https://t.co/XEVNJMg7Gs\", 'id': '1612586286639976451', 'created_at': '2023-01-09T23:05:05.000Z', 'edit_history_tweet_ids': ['1612586286639976451'], 'author_id': '131686901'}\n",
      "{'_id': ObjectId('63bd2e88c087e1a6a40bb749'), 'public_metrics': {'retweet_count': 0, 'reply_count': 0, 'like_count': 2, 'quote_count': 0, 'impression_count': 20}, 'text': '@ManChest @MarkMan23 @Shibukaho between the three of us we have a nice triple slime variety pack!', 'id': '1612555548343271425', 'created_at': '2023-01-09T21:02:57.000Z', 'edit_history_tweet_ids': ['1612555548343271425'], 'author_id': '131686901'}\n",
      "{'_id': ObjectId('63bd2e88c087e1a6a40bb74a'), 'public_metrics': {'retweet_count': 1, 'reply_count': 1, 'like_count': 3, 'quote_count': 0, 'impression_count': 196}, 'text': '@MarkMan23 @Shibukaho I have little pink ones 🤭 https://t.co/lZvqPvjzmN', 'id': '1612549361530970125', 'created_at': '2023-01-09T20:38:22.000Z', 'edit_history_tweet_ids': ['1612549361530970125'], 'author_id': '131686901'}\n",
      "{'_id': ObjectId('63bd2e88c087e1a6a40bb74b'), 'public_metrics': {'retweet_count': 0, 'reply_count': 0, 'like_count': 1, 'quote_count': 0, 'impression_count': 70}, 'text': '@Randanopterix logan paul? more like most overrated conman!', 'id': '1612543528931827740', 'created_at': '2023-01-09T20:15:11.000Z', 'edit_history_tweet_ids': ['1612543528931827740'], 'author_id': '131686901'}\n",
      "{'_id': ObjectId('63bd2e88c087e1a6a40bb74c'), 'public_metrics': {'retweet_count': 0, 'reply_count': 0, 'like_count': 0, 'quote_count': 0, 'impression_count': 17}, 'text': '@silentfanatic reassurance is great if you end up with a bunch of hook campers \\n\\nthe pro move is places where it can work from another floor tbh', 'id': '1612542571040964608', 'created_at': '2023-01-09T20:11:23.000Z', 'edit_history_tweet_ids': ['1612542571040964608'], 'author_id': '131686901'}\n",
      "{'_id': ObjectId('63bd2e88c087e1a6a40bb74d'), 'public_metrics': {'retweet_count': 16, 'reply_count': 0, 'like_count': 0, 'quote_count': 0, 'impression_count': 0}, 'text': 'RT @PC98_bot: H.H.G. Heart Heat Girls // Cats Pro // PC-98 // #pc98 #CatsPro https://t.co/bxFtPE2cSA', 'id': '1612539951807078414', 'created_at': '2023-01-09T20:00:58.000Z', 'edit_history_tweet_ids': ['1612539951807078414'], 'author_id': '131686901'}\n",
      "{'_id': ObjectId('63bd2e89c087e1a6a40bb74e'), 'public_metrics': {'retweet_count': 0, 'reply_count': 0, 'like_count': 1, 'quote_count': 0, 'impression_count': 17}, 'text': '@CobrastanGuy protection from what? ze germans? https://t.co/uVgHgMxFDY', 'id': '1612539016548700162', 'created_at': '2023-01-09T19:57:15.000Z', 'edit_history_tweet_ids': ['1612539016548700162'], 'author_id': '131686901'}\n",
      "{'_id': ObjectId('63bd2e89c087e1a6a40bb74f'), 'public_metrics': {'retweet_count': 0, 'reply_count': 0, 'like_count': 0, 'quote_count': 0, 'impression_count': 34}, 'text': '@NonTrotski the what now https://t.co/D4pmwHKuZU', 'id': '1612534789990391813', 'created_at': '2023-01-09T19:40:28.000Z', 'edit_history_tweet_ids': ['1612534789990391813'], 'author_id': '131686901'}\n",
      "{'_id': ObjectId('63bd2e89c087e1a6a40bb750'), 'public_metrics': {'retweet_count': 0, 'reply_count': 0, 'like_count': 1, 'quote_count': 0, 'impression_count': 9}, 'text': \"@dershoImvik p+ really kept us on the hook for 3 years before crushing us, it's extremely misogynist https://t.co/RQk3U2VC5d\", 'id': '1612534381708541953', 'created_at': '2023-01-09T19:38:50.000Z', 'edit_history_tweet_ids': ['1612534381708541953'], 'author_id': '131686901'}\n",
      "{'_id': ObjectId('63bd2e89c087e1a6a40bb751'), 'public_metrics': {'retweet_count': 0, 'reply_count': 1, 'like_count': 1, 'quote_count': 0, 'impression_count': 11}, 'text': '@dershoImvik literally dying rn!!', 'id': '1612533364438736908', 'created_at': '2023-01-09T19:34:48.000Z', 'edit_history_tweet_ids': ['1612533364438736908'], 'author_id': '131686901'}\n",
      "{'_id': ObjectId('63bd2e89c087e1a6a40bb752'), 'public_metrics': {'retweet_count': 0, 'reply_count': 0, 'like_count': 1, 'quote_count': 0, 'impression_count': 55}, 'text': '@GoGoAndyRobo this is not what I wanted to find out when I saw workaholics trending https://t.co/kLnvlXw0Yp', 'id': '1612533010384953353', 'created_at': '2023-01-09T19:33:23.000Z', 'edit_history_tweet_ids': ['1612533010384953353'], 'author_id': '131686901'}\n",
      "{'_id': ObjectId('63bd2e89c087e1a6a40bb753'), 'public_metrics': {'retweet_count': 0, 'reply_count': 2, 'like_count': 8, 'quote_count': 0, 'impression_count': 510}, 'text': 'me finding out the workaholics movie got canceled by paramount+ https://t.co/NNN15v1Sqh', 'id': '1612532579454050304', 'created_at': '2023-01-09T19:31:41.000Z', 'edit_history_tweet_ids': ['1612532579454050304'], 'author_id': '131686901'}\n",
      "{'_id': ObjectId('63bd2e89c087e1a6a40bb754'), 'public_metrics': {'retweet_count': 0, 'reply_count': 1, 'like_count': 1, 'quote_count': 0, 'impression_count': 18}, 'text': '@chiyoko_asakura there was an English episode of the show Dark Side of the Ring that featured Onita and FMW! maybe you would find it interesting : https://t.co/1CHYKWrxOf', 'id': '1612530062921719837', 'created_at': '2023-01-09T19:21:41.000Z', 'edit_history_tweet_ids': ['1612530062921719837'], 'author_id': '131686901'}\n",
      "{'_id': ObjectId('63bd2e89c087e1a6a40bb755'), 'public_metrics': {'retweet_count': 0, 'reply_count': 1, 'like_count': 0, 'quote_count': 0, 'impression_count': 10}, 'text': '@Nerd_Shark69 they got the inverted cross right though!', 'id': '1612529416201986071', 'created_at': '2023-01-09T19:19:06.000Z', 'edit_history_tweet_ids': ['1612529416201986071'], 'author_id': '131686901'}\n",
      "{'_id': ObjectId('63bd2e89c087e1a6a40bb756'), 'public_metrics': {'retweet_count': 0, 'reply_count': 1, 'like_count': 0, 'quote_count': 0, 'impression_count': 13}, 'text': \"@Nerd_Shark69 who are they praising anyway its right side up? that's some wicca shit when they think they're making hail satan graffiti \\n\\nunless ig they're using it to represent the crucifixion honestly I'm just not sure where they're going with this\", 'id': '1612527919712309248', 'created_at': '2023-01-09T19:13:10.000Z', 'edit_history_tweet_ids': ['1612527919712309248'], 'author_id': '131686901'}\n",
      "{'_id': ObjectId('63bd2e89c087e1a6a40bb757'), 'public_metrics': {'retweet_count': 0, 'reply_count': 1, 'like_count': 1, 'quote_count': 0, 'impression_count': 28}, 'text': '@chiyoko_asakura the power of deathmatch wrestling! https://t.co/R8XyReULZS', 'id': '1612526201226027019', 'created_at': '2023-01-09T19:06:20.000Z', 'edit_history_tweet_ids': ['1612526201226027019'], 'author_id': '131686901'}\n",
      "{'_id': ObjectId('63bd2e89c087e1a6a40bb758'), 'public_metrics': {'retweet_count': 0, 'reply_count': 0, 'like_count': 1, 'quote_count': 0, 'impression_count': 12}, 'text': '@zylaros THEY WON\\'T FOOL ME WITH THAT \"SHAPEWEAR\" OH NO', 'id': '1612523252210884629', 'created_at': '2023-01-09T18:54:37.000Z', 'edit_history_tweet_ids': ['1612523252210884629'], 'author_id': '131686901'}\n",
      "{'_id': ObjectId('63bd2e89c087e1a6a40bb759'), 'public_metrics': {'retweet_count': 0, 'reply_count': 1, 'like_count': 1, 'quote_count': 0, 'impression_count': 20}, 'text': '@zylaros THESE MEN OUT HERE LIKE https://t.co/xn7FAJSsGW', 'id': '1612522015164096513', 'created_at': '2023-01-09T18:49:42.000Z', 'edit_history_tweet_ids': ['1612522015164096513'], 'author_id': '131686901'}\n",
      "{'_id': ObjectId('63bd2e89c087e1a6a40bb75a'), 'public_metrics': {'retweet_count': 111, 'reply_count': 0, 'like_count': 0, 'quote_count': 0, 'impression_count': 0}, 'text': 'RT @RuiReiChannel: 家族に誕生日を祝ってもらいました✨パックマンのチーズケーキ最高！😆👍 https://t.co/3SqnFp3XGu', 'id': '1612521330561146901', 'created_at': '2023-01-09T18:46:59.000Z', 'edit_history_tweet_ids': ['1612521330561146901'], 'author_id': '131686901'}\n",
      "{'_id': ObjectId('63bd2e89c087e1a6a40bb75b'), 'public_metrics': {'retweet_count': 0, 'reply_count': 2, 'like_count': 6, 'quote_count': 0, 'impression_count': 72}, 'text': \"@zylaros next thing you know they'll put on their MAN concealer and MAN powder \\n\\nit's all a LIE smh\", 'id': '1612521039929671681', 'created_at': '2023-01-09T18:45:49.000Z', 'edit_history_tweet_ids': ['1612521039929671681'], 'author_id': '131686901'}\n",
      "{'_id': ObjectId('63bd2e89c087e1a6a40bb75c'), 'public_metrics': {'retweet_count': 612, 'reply_count': 0, 'like_count': 0, 'quote_count': 0, 'impression_count': 0}, 'text': 'RT @u_m_a_m_i: You didn’t ask for this. Well, neither did 𝘵𝘩𝘦𝘺. https://t.co/aFDjaGflFI', 'id': '1612514021885739008', 'created_at': '2023-01-09T18:17:56.000Z', 'edit_history_tweet_ids': ['1612514021885739008'], 'author_id': '131686901'}\n",
      "{'_id': ObjectId('63bd2e89c087e1a6a40bb75d'), 'public_metrics': {'retweet_count': 0, 'reply_count': 0, 'like_count': 7, 'quote_count': 0, 'impression_count': 497}, 'text': '@DeadByBHVR all five of the stadia players!', 'id': '1612509805129920517', 'created_at': '2023-01-09T18:01:11.000Z', 'edit_history_tweet_ids': ['1612509805129920517'], 'author_id': '131686901'}\n",
      "{'_id': ObjectId('63bd2e89c087e1a6a40bb75e'), 'public_metrics': {'retweet_count': 0, 'reply_count': 1, 'like_count': 0, 'quote_count': 0, 'impression_count': 31}, 'text': \"@paulbensonsucks it sounds like they only did this in the app store. bet it's because of that 30% cut lmaooooooo\", 'id': '1612509403420188702', 'created_at': '2023-01-09T17:59:35.000Z', 'edit_history_tweet_ids': ['1612509403420188702'], 'author_id': '131686901'}\n",
      "{'_id': ObjectId('63bd2e89c087e1a6a40bb75f'), 'public_metrics': {'retweet_count': 32, 'reply_count': 0, 'like_count': 0, 'quote_count': 0, 'impression_count': 0}, 'text': 'RT @BRIGADExU_ichi: 遂にしめ縄を塗りました。\\nバチが当たらないか心配（笑）\\nそして正月に壊れた電子レンジからゲットした電線をレイアウト。\\n#AKIRA熊手 https://t.co/R80yWA5H9d', 'id': '1612507749580931072', 'created_at': '2023-01-09T17:53:01.000Z', 'edit_history_tweet_ids': ['1612507749580931072'], 'author_id': '131686901'}\n",
      "{'_id': ObjectId('63bd2e89c087e1a6a40bb760'), 'public_metrics': {'retweet_count': 2129, 'reply_count': 0, 'like_count': 0, 'quote_count': 0, 'impression_count': 0}, 'text': \"RT @daweiner: Can't believe I've never seen this commercial of Mr. T threatening racist landlords https://t.co/muRGrlzJ5h\", 'id': '1612507653447589888', 'created_at': '2023-01-09T17:52:38.000Z', 'edit_history_tweet_ids': ['1612507653447589888'], 'author_id': '131686901'}\n",
      "{'_id': ObjectId('63bd2e89c087e1a6a40bb761'), 'public_metrics': {'retweet_count': 397, 'reply_count': 0, 'like_count': 0, 'quote_count': 0, 'impression_count': 0}, 'text': 'RT @SirLARIATO: The Manami Roll!! https://t.co/N5drlE04jq', 'id': '1612507015816822784', 'created_at': '2023-01-09T17:50:06.000Z', 'edit_history_tweet_ids': ['1612507015816822784'], 'author_id': '131686901'}\n",
      "{'_id': ObjectId('63bd2e89c087e1a6a40bb762'), 'public_metrics': {'retweet_count': 0, 'reply_count': 0, 'like_count': 0, 'quote_count': 0, 'impression_count': 9}, 'text': \"@SNOOPSONTAUALA @IdolismJ iphones send reactions to text messages as separate SMS messages y'all are terrorists\", 'id': '1612505312057036827', 'created_at': '2023-01-09T17:43:19.000Z', 'edit_history_tweet_ids': ['1612505312057036827'], 'author_id': '131686901'}\n",
      "{'_id': ObjectId('63bd2e89c087e1a6a40bb763'), 'public_metrics': {'retweet_count': 11, 'reply_count': 0, 'like_count': 0, 'quote_count': 0, 'impression_count': 0}, 'text': 'RT @IdolismJ: Seven years ago, my masterpiece https://t.co/uMUR4mCM2U', 'id': '1612504886096322560', 'created_at': '2023-01-09T17:41:38.000Z', 'edit_history_tweet_ids': ['1612504886096322560'], 'author_id': '131686901'}\n",
      "{'_id': ObjectId('63bd2e89c087e1a6a40bb764'), 'public_metrics': {'retweet_count': 10, 'reply_count': 0, 'like_count': 0, 'quote_count': 0, 'impression_count': 0}, 'text': \"RT @gosokkyu: Bushiroad's launched a home game publishing label, and one of the several games they've announced is Macross Shooting Insight…\", 'id': '1612501036421500928', 'created_at': '2023-01-09T17:26:20.000Z', 'edit_history_tweet_ids': ['1612501036421500928'], 'author_id': '131686901'}\n",
      "{'_id': ObjectId('63bd2e89c087e1a6a40bb765'), 'public_metrics': {'retweet_count': 9154, 'reply_count': 0, 'like_count': 0, 'quote_count': 0, 'impression_count': 0}, 'text': 'RT @tobo_katsuo: カラミーア！🔥モンシェール！🔥\\nAddams Family(1991) fan art https://t.co/TBztvUBlCO', 'id': '1612498639175254016', 'created_at': '2023-01-09T17:16:49.000Z', 'edit_history_tweet_ids': ['1612498639175254016'], 'author_id': '131686901'}\n",
      "{'_id': ObjectId('63bd2e89c087e1a6a40bb766'), 'public_metrics': {'retweet_count': 0, 'reply_count': 1, 'like_count': 2, 'quote_count': 0, 'impression_count': 71}, 'text': '@AgentAnnK will you make a dress or a hat', 'id': '1612485754411687937', 'created_at': '2023-01-09T16:25:37.000Z', 'edit_history_tweet_ids': ['1612485754411687937'], 'author_id': '131686901'}\n",
      "{'_id': ObjectId('63bd2e89c087e1a6a40bb767'), 'public_metrics': {'retweet_count': 0, 'reply_count': 0, 'like_count': 1, 'quote_count': 0, 'impression_count': 14}, 'text': \"@TarZangief alas, I don't really raid anymore after dude started shit with me, ain't worth my sleep schedule\\n\\nI still play but ripperoni\", 'id': '1612371625852260355', 'created_at': '2023-01-09T08:52:06.000Z', 'edit_history_tweet_ids': ['1612371625852260355'], 'author_id': '131686901'}\n",
      "{'_id': ObjectId('63bd2e89c087e1a6a40bb768'), 'public_metrics': {'retweet_count': 0, 'reply_count': 1, 'like_count': 1, 'quote_count': 0, 'impression_count': 68}, 'text': \"@TarZangief ain't nobody watch my ass play dbd\", 'id': '1612369693356032002', 'created_at': '2023-01-09T08:44:25.000Z', 'edit_history_tweet_ids': ['1612369693356032002'], 'author_id': '131686901'}\n",
      "{'_id': ObjectId('63bd2e89c087e1a6a40bb769'), 'public_metrics': {'retweet_count': 0, 'reply_count': 0, 'like_count': 2, 'quote_count': 0, 'impression_count': 111}, 'text': \"@_meisaki_ she be like 'unite &amp; fight?' 👁👄👁\", 'id': '1612360681176825856', 'created_at': '2023-01-09T08:08:37.000Z', 'edit_history_tweet_ids': ['1612360681176825856'], 'author_id': '131686901'}\n",
      "{'_id': ObjectId('63bd2e89c087e1a6a40bb76a'), 'public_metrics': {'retweet_count': 0, 'reply_count': 0, 'like_count': 1, 'quote_count': 0, 'impression_count': 20}, 'text': '@NateMing lush shit smells great', 'id': '1612316278558973953', 'created_at': '2023-01-09T05:12:10.000Z', 'edit_history_tweet_ids': ['1612316278558973953'], 'author_id': '131686901'}\n",
      "{'_id': ObjectId('63bd2e89c087e1a6a40bb76b'), 'public_metrics': {'retweet_count': 26, 'reply_count': 0, 'like_count': 0, 'quote_count': 0, 'impression_count': 0}, 'text': 'RT @itsvedatime: WATCH 🎥! I asked a bunch of wrestlers one important question! Feat: @AllieKATCH @EFFYlives @maki_itoh @darksheikftf @Sawye…', 'id': '1612300518038142976', 'created_at': '2023-01-09T04:09:33.000Z', 'edit_history_tweet_ids': ['1612300518038142976'], 'author_id': '131686901'}\n",
      "{'_id': ObjectId('63bd2e89c087e1a6a40bb76c'), 'public_metrics': {'retweet_count': 0, 'reply_count': 2, 'like_count': 7, 'quote_count': 0, 'impression_count': 410}, 'text': 'i am a simple woman https://t.co/JRlrX0lqbC https://t.co/HosL9WJptx', 'id': '1612300394876796930', 'created_at': '2023-01-09T04:09:03.000Z', 'edit_history_tweet_ids': ['1612300394876796930'], 'author_id': '131686901'}\n",
      "{'_id': ObjectId('63bd2e89c087e1a6a40bb76d'), 'public_metrics': {'retweet_count': 28, 'reply_count': 0, 'like_count': 0, 'quote_count': 0, 'impression_count': 0}, 'text': 'RT @sukesankoba: 昨日、なかなか連絡が取れなかった編集者（ゲームライター）時代の友人と約10年ぶりにLINEで繋がって話した。\\nそしたら、なんか呂律もあまり回ってなくて、今は無職で、いわゆる引きこもり状態なのだという……。続く\\n#レトロゲーム #ゲーム #編集者…', 'id': '1612295193885114368', 'created_at': '2023-01-09T03:48:23.000Z', 'edit_history_tweet_ids': ['1612295193885114368'], 'author_id': '131686901'}\n",
      "{'_id': ObjectId('63bd2e89c087e1a6a40bb76e'), 'public_metrics': {'retweet_count': 0, 'reply_count': 0, 'like_count': 1, 'quote_count': 0, 'impression_count': 6}, 'text': '@YouOldSoAndSo @UFO_canada way ahead of you on that one my man', 'id': '1612236678323933184', 'created_at': '2023-01-08T23:55:52.000Z', 'edit_history_tweet_ids': ['1612236678323933184'], 'author_id': '131686901'}\n",
      "{'_id': ObjectId('63bd2e89c087e1a6a40bb76f'), 'public_metrics': {'retweet_count': 0, 'reply_count': 1, 'like_count': 10, 'quote_count': 1, 'impression_count': 255}, 'text': 'who has two thumbs and a PS5? merry crimble 👁👄👁 https://t.co/xgFMiPBGNX', 'id': '1612200885811036160', 'created_at': '2023-01-08T21:33:39.000Z', 'edit_history_tweet_ids': ['1612200885811036160'], 'author_id': '131686901'}\n",
      "{'_id': ObjectId('63bd2e89c087e1a6a40bb770'), 'public_metrics': {'retweet_count': 0, 'reply_count': 1, 'like_count': 2, 'quote_count': 0, 'impression_count': 23}, 'text': '@UFO_canada UFO is good! CAT is both one of my nicknames and also I love cats so 🤷\\u200d♀️ my middle name is rose and I like it but also lame initials \\n\\nmakes me think of old cartoon https://t.co/imM6NgLQDP', 'id': '1612186969592807424', 'created_at': '2023-01-08T20:38:21.000Z', 'edit_history_tweet_ids': ['1612186969592807424'], 'author_id': '131686901'}\n",
      "{'_id': ObjectId('63bd2e89c087e1a6a40bb771'), 'public_metrics': {'retweet_count': 0, 'reply_count': 1, 'like_count': 3, 'quote_count': 0, 'impression_count': 203}, 'text': 'also I never went to a reunion! the last time they wanted to go hang out in a casino in indiana and pay like $100 to do it and I went lol no', 'id': '1612185767987609604', 'created_at': '2023-01-08T20:33:34.000Z', 'edit_history_tweet_ids': ['1612185767987609604'], 'author_id': '131686901'}\n",
      "{'_id': ObjectId('63bd2e89c087e1a6a40bb772'), 'public_metrics': {'retweet_count': 0, 'reply_count': 1, 'like_count': 1, 'quote_count': 0, 'impression_count': 208}, 'text': 'I still have plenty of friends from back then but none of them from my school 🥴', 'id': '1612185250313953280', 'created_at': '2023-01-08T20:31:31.000Z', 'edit_history_tweet_ids': ['1612185250313953280'], 'author_id': '131686901'}\n",
      "{'_id': ObjectId('63bd2e89c087e1a6a40bb773'), 'public_metrics': {'retweet_count': 0, 'reply_count': 1, 'like_count': 1, 'quote_count': 0, 'impression_count': 376}, 'text': \"the answer is no\\n\\nit'd be, like, one if I didn't move schools and graduated with @musashi2199 https://t.co/mgewD5NiHX\", 'id': '1612185036677070848', 'created_at': '2023-01-08T20:30:40.000Z', 'edit_history_tweet_ids': ['1612185036677070848'], 'author_id': '131686901'}\n",
      "{'_id': ObjectId('63bd2e89c087e1a6a40bb774'), 'public_metrics': {'retweet_count': 1, 'reply_count': 2, 'like_count': 1, 'quote_count': 0, 'impression_count': 324}, 'text': \"i'm CAT bc let's be real CRO sucks https://t.co/cbuupfcfn1\", 'id': '1612184607050420224', 'created_at': '2023-01-08T20:28:57.000Z', 'edit_history_tweet_ids': ['1612184607050420224'], 'author_id': '131686901'}\n",
      "{'_id': ObjectId('63bd2e89c087e1a6a40bb775'), 'public_metrics': {'retweet_count': 13012, 'reply_count': 0, 'like_count': 0, 'quote_count': 0, 'impression_count': 0}, 'text': 'RT @32_Archangel: I am happy that so many people have seen my work. I love the \"kawaii\" culture of Japan. I believe that Gundam can be cute…', 'id': '1612184334328274945', 'created_at': '2023-01-08T20:27:52.000Z', 'edit_history_tweet_ids': ['1612184334328274945'], 'author_id': '131686901'}\n",
      "{'_id': ObjectId('63bd2e89c087e1a6a40bb776'), 'public_metrics': {'retweet_count': 0, 'reply_count': 0, 'like_count': 1, 'quote_count': 0, 'impression_count': 216}, 'text': \"@DinosaurDracula this is amazing, I'm super jealous!\", 'id': '1612182340670726146', 'created_at': '2023-01-08T20:19:57.000Z', 'edit_history_tweet_ids': ['1612182340670726146'], 'author_id': '131686901'}\n",
      "{'_id': ObjectId('63bd2e89c087e1a6a40bb777'), 'public_metrics': {'retweet_count': 0, 'reply_count': 0, 'like_count': 1, 'quote_count': 0, 'impression_count': 18}, 'text': '@shwauby I love their tent!', 'id': '1612175926330281984', 'created_at': '2023-01-08T19:54:28.000Z', 'edit_history_tweet_ids': ['1612175926330281984'], 'author_id': '131686901'}\n",
      "{'_id': ObjectId('63bd2e89c087e1a6a40bb778'), 'public_metrics': {'retweet_count': 16, 'reply_count': 0, 'like_count': 0, 'quote_count': 0, 'impression_count': 0}, 'text': 'RT @weekly_Natsupoi: smile poi😄\\n12-29-2022 Ryogoku_kokugikan\\n #natsupoi #meltear #STARDOM https://t.co/eE4ZTCuvLb', 'id': '1612174912411828224', 'created_at': '2023-01-08T19:50:26.000Z', 'edit_history_tweet_ids': ['1612174912411828224'], 'author_id': '131686901'}\n",
      "{'_id': ObjectId('63bd2e89c087e1a6a40bb779'), 'public_metrics': {'retweet_count': 0, 'reply_count': 1, 'like_count': 25, 'quote_count': 0, 'impression_count': 1301}, 'text': '@punished_cait glue-sniffing conspiracy theorists that also want to do tarot readings for you', 'id': '1612141598703292416', 'created_at': '2023-01-08T17:38:03.000Z', 'edit_history_tweet_ids': ['1612141598703292416'], 'author_id': '131686901'}\n",
      "{'_id': ObjectId('63bd2e89c087e1a6a40bb77a'), 'public_metrics': {'retweet_count': 283, 'reply_count': 0, 'like_count': 0, 'quote_count': 0, 'impression_count': 0}, 'text': 'RT @bigkiller0118: #筋トレ好きな人と繋がりたい\\n#モフモフとムキムキ\\n#XJAPAN https://t.co/B8iICtjZD8', 'id': '1612130820872962050', 'created_at': '2023-01-08T16:55:14.000Z', 'edit_history_tweet_ids': ['1612130820872962050'], 'author_id': '131686901'}\n",
      "{'_id': ObjectId('63bd2e89c087e1a6a40bb77b'), 'public_metrics': {'retweet_count': 0, 'reply_count': 0, 'like_count': 0, 'quote_count': 0, 'impression_count': 20}, 'text': \"@Ryoh85647337 hey @CiaranRH93, isn't that you? 🤭\", 'id': '1611989244452421632', 'created_at': '2023-01-08T07:32:39.000Z', 'edit_history_tweet_ids': ['1611989244452421632'], 'author_id': '131686901'}\n",
      "{'_id': ObjectId('63bd2e89c087e1a6a40bb77c'), 'public_metrics': {'retweet_count': 0, 'reply_count': 0, 'like_count': 1, 'quote_count': 0, 'impression_count': 9}, 'text': '@SpaceCake_Doll well when you find the real perfect one let the rest of us know 🥴', 'id': '1611976021296791552', 'created_at': '2023-01-08T06:40:07.000Z', 'edit_history_tweet_ids': ['1611976021296791552'], 'author_id': '131686901'}\n",
      "{'_id': ObjectId('63bd2e89c087e1a6a40bb77d'), 'public_metrics': {'retweet_count': 426, 'reply_count': 0, 'like_count': 0, 'quote_count': 0, 'impression_count': 0}, 'text': 'RT @slimyswampghost: curled up in the hearth https://t.co/esQoAG3Vf6', 'id': '1611939384030371841', 'created_at': '2023-01-08T04:14:32.000Z', 'edit_history_tweet_ids': ['1611939384030371841'], 'author_id': '131686901'}\n",
      "{'_id': ObjectId('63bd2e89c087e1a6a40bb77e'), 'public_metrics': {'retweet_count': 0, 'reply_count': 0, 'like_count': 0, 'quote_count': 0, 'impression_count': 39}, 'text': '@BlackpoolCombat I think they would put omega in a title match first, as long as he still has the US title', 'id': '1611924842831306752', 'created_at': '2023-01-08T03:16:45.000Z', 'edit_history_tweet_ids': ['1611924842831306752'], 'author_id': '131686901'}\n",
      "{'_id': ObjectId('63bd2e8ac087e1a6a40bb77f'), 'public_metrics': {'retweet_count': 71, 'reply_count': 0, 'like_count': 0, 'quote_count': 0, 'impression_count': 0}, 'text': 'RT @vintagepuro: Manami Toyota x Toshiyo Yamada. The brutal art of submission wrestling. ☠️🖼 https://t.co/biV1sA4J4Y', 'id': '1611919958920908802', 'created_at': '2023-01-08T02:57:20.000Z', 'edit_history_tweet_ids': ['1611919958920908802'], 'author_id': '131686901'}\n",
      "{'_id': ObjectId('63bd2e8ac087e1a6a40bb780'), 'public_metrics': {'retweet_count': 19, 'reply_count': 0, 'like_count': 0, 'quote_count': 0, 'impression_count': 0}, 'text': 'RT @traceyfanclub: favorite piece i made in 2022 🥀 https://t.co/w0GS2kx8WG', 'id': '1611902676119474176', 'created_at': '2023-01-08T01:48:40.000Z', 'edit_history_tweet_ids': ['1611902676119474176'], 'author_id': '131686901'}\n",
      "{'_id': ObjectId('63bd2e8ac087e1a6a40bb781'), 'public_metrics': {'retweet_count': 18, 'reply_count': 0, 'like_count': 0, 'quote_count': 0, 'impression_count': 0}, 'text': 'RT @gampy: マスキングインクと透明水彩でブルース・ブラザース。 https://t.co/cHFKb0o8ua', 'id': '1611901605640638466', 'created_at': '2023-01-08T01:44:25.000Z', 'edit_history_tweet_ids': ['1611901605640638466'], 'author_id': '131686901'}\n",
      "{'_id': ObjectId('63bd2e8ac087e1a6a40bb782'), 'public_metrics': {'retweet_count': 33, 'reply_count': 0, 'like_count': 0, 'quote_count': 0, 'impression_count': 0}, 'text': 'RT @doratles: 神戸大会ありがとう☺️\\n年始から来れた！会えた！うれしい！\\n\\nぽむは生贄になりましたが…白昼夢は全く歯が立たないわけではなかったぞ！\\nウェストランドウォーパーリーもアドラちゃんもAmazing🌎\\n\\nタッグトーナメントも行くぜっっ\\n#tjpw #白昼夢…', 'id': '1611900291485663232', 'created_at': '2023-01-08T01:39:11.000Z', 'edit_history_tweet_ids': ['1611900291485663232'], 'author_id': '131686901'}\n",
      "{'_id': ObjectId('63bd2e8ac087e1a6a40bb783'), 'public_metrics': {'retweet_count': 0, 'reply_count': 0, 'like_count': 2, 'quote_count': 0, 'impression_count': 34}, 'text': '@griph I want it more the more I look at it', 'id': '1611887136407437312', 'created_at': '2023-01-08T00:46:55.000Z', 'edit_history_tweet_ids': ['1611887136407437312'], 'author_id': '131686901'}\n",
      "{'_id': ObjectId('63bd2e8ac087e1a6a40bb784'), 'public_metrics': {'retweet_count': 206, 'reply_count': 0, 'like_count': 0, 'quote_count': 0, 'impression_count': 0}, 'text': 'RT @AxeThembro: Thread has killed me https://t.co/JwPtKQLDLI', 'id': '1611886945248104448', 'created_at': '2023-01-08T00:46:09.000Z', 'edit_history_tweet_ids': ['1611886945248104448'], 'author_id': '131686901'}\n",
      "{'_id': ObjectId('63bd2e8ac087e1a6a40bb785'), 'public_metrics': {'retweet_count': 348, 'reply_count': 0, 'like_count': 0, 'quote_count': 0, 'impression_count': 0}, 'text': 'RT @akStarCarrot: So we can all agree Kenny Omega’s #Sephiroth entrance at #WrestleKingdom was the absolute best, right? “One-Winged Angel”…', 'id': '1611882105482670081', 'created_at': '2023-01-08T00:26:55.000Z', 'edit_history_tweet_ids': ['1611882105482670081'], 'author_id': '131686901'}\n",
      "{'_id': ObjectId('63bd2e8ac087e1a6a40bb786'), 'public_metrics': {'retweet_count': 0, 'reply_count': 0, 'like_count': 0, 'quote_count': 0, 'impression_count': 59}, 'text': '@geoffEXE astro ez', 'id': '1611880453522210817', 'created_at': '2023-01-08T00:20:22.000Z', 'edit_history_tweet_ids': ['1611880453522210817'], 'author_id': '131686901'}\n",
      "{'_id': ObjectId('63bd2e8ac087e1a6a40bb787'), 'public_metrics': {'retweet_count': 6, 'reply_count': 0, 'like_count': 0, 'quote_count': 0, 'impression_count': 0}, 'text': 'RT @griph: special occasions https://t.co/XDARGcgniu', 'id': '1611879675483021315', 'created_at': '2023-01-08T00:17:16.000Z', 'edit_history_tweet_ids': ['1611879675483021315'], 'author_id': '131686901'}\n",
      "{'_id': ObjectId('63bd2e8ac087e1a6a40bb788'), 'public_metrics': {'retweet_count': 0, 'reply_count': 1, 'like_count': 0, 'quote_count': 0, 'impression_count': 92}, 'text': '@Chrontendo I remember about 2 minutes of it I saw on, like, TNT or TBS while waiting for wrestling and cam had to tell me what it was every time I saw it', 'id': '1611803532520296449', 'created_at': '2023-01-07T19:14:42.000Z', 'edit_history_tweet_ids': ['1611803532520296449'], 'author_id': '131686901'}\n",
      "{'_id': ObjectId('63bd2e8ac087e1a6a40bb789'), 'public_metrics': {'retweet_count': 0, 'reply_count': 0, 'like_count': 0, 'quote_count': 0, 'impression_count': 118}, 'text': \"@MinovskyArticle who makes flash that's literally just peko-chan from the logo 🙄\", 'id': '1611796883940294660', 'created_at': '2023-01-07T18:48:17.000Z', 'edit_history_tweet_ids': ['1611796883940294660'], 'author_id': '131686901'}\n",
      "{'_id': ObjectId('63bd2e8ac087e1a6a40bb78a'), 'public_metrics': {'retweet_count': 75, 'reply_count': 0, 'like_count': 0, 'quote_count': 0, 'impression_count': 0}, 'text': 'RT @DrTomTilley: When re-cycling, soccer, and obscure Japanese arcade games collide you get Under-Armadillo Racing!😁 https://t.co/FyfNxRnUo1', 'id': '1611791787017834496', 'created_at': '2023-01-07T18:28:02.000Z', 'edit_history_tweet_ids': ['1611791787017834496'], 'author_id': '131686901'}\n",
      "{'_id': ObjectId('63bd2e8ac087e1a6a40bb78b'), 'public_metrics': {'retweet_count': 0, 'reply_count': 0, 'like_count': 2, 'quote_count': 0, 'impression_count': 271}, 'text': 'love to see @TheKipSabian absolutely thriving https://t.co/x1U8Kqsizh', 'id': '1611586318349524995', 'created_at': '2023-01-07T04:51:34.000Z', 'edit_history_tweet_ids': ['1611586318349524995'], 'author_id': '131686901'}\n",
      "{'_id': ObjectId('63bd2e8ac087e1a6a40bb78c'), 'public_metrics': {'retweet_count': 0, 'reply_count': 0, 'like_count': 1, 'quote_count': 0, 'impression_count': 14}, 'text': '@zylaros https://t.co/oFUbYcmwiZ', 'id': '1611584766876205056', 'created_at': '2023-01-07T04:45:24.000Z', 'edit_history_tweet_ids': ['1611584766876205056'], 'author_id': '131686901'}\n",
      "{'_id': ObjectId('63bd2e8ac087e1a6a40bb78d'), 'public_metrics': {'retweet_count': 0, 'reply_count': 0, 'like_count': 0, 'quote_count': 0, 'impression_count': 285}, 'text': '🔥🔥🔥 https://t.co/gAe5gbkysf', 'id': '1611575694680592385', 'created_at': '2023-01-07T04:09:21.000Z', 'edit_history_tweet_ids': ['1611575694680592385'], 'author_id': '131686901'}\n",
      "{'_id': ObjectId('63bd2e8ac087e1a6a40bb78e'), 'public_metrics': {'retweet_count': 0, 'reply_count': 0, 'like_count': 0, 'quote_count': 0, 'impression_count': 137}, 'text': \"and then how 'bout some angry ska https://t.co/oooIamzupS\", 'id': '1611525362113986561', 'created_at': '2023-01-07T00:49:21.000Z', 'edit_history_tweet_ids': ['1611525362113986561'], 'author_id': '131686901'}\n",
      "{'_id': ObjectId('63bd2e8ac087e1a6a40bb78f'), 'public_metrics': {'retweet_count': 0, 'reply_count': 1, 'like_count': 0, 'quote_count': 0, 'impression_count': 176}, 'text': 'my favorite cover of running up that hill https://t.co/qMDBOaJhtp', 'id': '1611525163727884292', 'created_at': '2023-01-07T00:48:34.000Z', 'edit_history_tweet_ids': ['1611525163727884292'], 'author_id': '131686901'}\n",
      "{'_id': ObjectId('63bd2e8ac087e1a6a40bb790'), 'public_metrics': {'retweet_count': 0, 'reply_count': 0, 'like_count': 0, 'quote_count': 0, 'impression_count': 8}, 'text': \"@silentfanatic haha it's ok! I just really do like her choreo! she does it all herself.\", 'id': '1611523470105661440', 'created_at': '2023-01-07T00:41:50.000Z', 'edit_history_tweet_ids': ['1611523470105661440'], 'author_id': '131686901'}\n",
      "{'_id': ObjectId('63bd2e8ac087e1a6a40bb791'), 'public_metrics': {'retweet_count': 0, 'reply_count': 1, 'like_count': 0, 'quote_count': 0, 'impression_count': 138}, 'text': 'forever in love with night club https://t.co/8MBCWU7Zah', 'id': '1611522635254435842', 'created_at': '2023-01-07T00:38:31.000Z', 'edit_history_tweet_ids': ['1611522635254435842'], 'author_id': '131686901'}\n",
      "{'_id': ObjectId('63bd2e8ac087e1a6a40bb792'), 'public_metrics': {'retweet_count': 0, 'reply_count': 1, 'like_count': 1, 'quote_count': 0, 'impression_count': 165}, 'text': \"also some FEMM. i meant to start doing this for the new year so i'm catching up a little, haha  https://t.co/suwAObICVn\", 'id': '1611521605808652289', 'created_at': '2023-01-07T00:34:26.000Z', 'edit_history_tweet_ids': ['1611521605808652289'], 'author_id': '131686901'}\n",
      "{'_id': ObjectId('63bd2e8ac087e1a6a40bb793'), 'public_metrics': {'retweet_count': 0, 'reply_count': 1, 'like_count': 0, 'quote_count': 0, 'impression_count': 16}, 'text': '@silentfanatic her choreo is good and fun :(', 'id': '1611520430350733314', 'created_at': '2023-01-07T00:29:45.000Z', 'edit_history_tweet_ids': ['1611520430350733314'], 'author_id': '131686901'}\n",
      "{'_id': ObjectId('63bd2e8ac087e1a6a40bb794'), 'public_metrics': {'retweet_count': 0, 'reply_count': 1, 'like_count': 1, 'quote_count': 0, 'impression_count': 179}, 'text': \"and if you like that one here's another from her. going to try to remember to post a song a day or something that i like. https://t.co/lBZPdOJbNe\", 'id': '1611519151096401921', 'created_at': '2023-01-07T00:24:40.000Z', 'edit_history_tweet_ids': ['1611519151096401921'], 'author_id': '131686901'}\n",
      "{'_id': ObjectId('63bd2e8ac087e1a6a40bb795'), 'public_metrics': {'retweet_count': 0, 'reply_count': 1, 'like_count': 2, 'quote_count': 0, 'impression_count': 463}, 'text': \"today's song is koto. listen to koto! σ(≧ε≦σ) ♡ https://t.co/XEcGQ8YBq6\", 'id': '1611518785550172163', 'created_at': '2023-01-07T00:23:13.000Z', 'edit_history_tweet_ids': ['1611518785550172163'], 'author_id': '131686901'}\n",
      "{'_id': ObjectId('63bd2e8ac087e1a6a40bb796'), 'public_metrics': {'retweet_count': 285, 'reply_count': 0, 'like_count': 0, 'quote_count': 0, 'impression_count': 0}, 'text': 'RT @PuroresuFlow: One of my favorite shots from WK17!\\n\\nKenny Omega vs. Will Ospreay \\n\\n📸 @Russumuck https://t.co/UlTCez2fep', 'id': '1611514685022519298', 'created_at': '2023-01-07T00:06:56.000Z', 'edit_history_tweet_ids': ['1611514685022519298'], 'author_id': '131686901'}\n",
      "{'_id': ObjectId('63bd2e8ac087e1a6a40bb797'), 'public_metrics': {'retweet_count': 0, 'reply_count': 1, 'like_count': 0, 'quote_count': 0, 'impression_count': 19}, 'text': \"@623piercing よかった！ I'm just glad you are in good health!\", 'id': '1611510712097972225', 'created_at': '2023-01-06T23:51:08.000Z', 'edit_history_tweet_ids': ['1611510712097972225'], 'author_id': '131686901'}\n",
      "{'_id': ObjectId('63bd2e8ac087e1a6a40bb798'), 'public_metrics': {'retweet_count': 6, 'reply_count': 0, 'like_count': 0, 'quote_count': 0, 'impression_count': 0}, 'text': 'RT @missmonstermel: Baku are up in the shop! Use the link in my profile to purchase or find more information on these original wall hanging…', 'id': '1611502614553985024', 'created_at': '2023-01-06T23:18:58.000Z', 'edit_history_tweet_ids': ['1611502614553985024'], 'author_id': '131686901'}\n",
      "{'_id': ObjectId('63bd2e8ac087e1a6a40bb799'), 'public_metrics': {'retweet_count': 0, 'reply_count': 1, 'like_count': 0, 'quote_count': 0, 'impression_count': 41}, 'text': '@623piercing 早期回復を祈っています!', 'id': '1611498142855307268', 'created_at': '2023-01-06T23:01:12.000Z', 'edit_history_tweet_ids': ['1611498142855307268'], 'author_id': '131686901'}\n",
      "{'_id': ObjectId('63bd2e8ac087e1a6a40bb79a'), 'public_metrics': {'retweet_count': 0, 'reply_count': 1, 'like_count': 4, 'quote_count': 0, 'impression_count': 485}, 'text': '@LittleVMills that\\'s what you get for ordering sweet tea\\n\\nalso the american south makes \"sweet tea\" that is just sugar sludge', 'id': '1611442693984423983', 'created_at': '2023-01-06T19:20:52.000Z', 'edit_history_tweet_ids': ['1611442693984423983'], 'author_id': '131686901'}\n"
     ]
    }
   ],
   "source": [
    "# filter tweets of a specific user\n",
    "for tweet in tweets_collection.find({\"author_id\":'131686901'}):\n",
    "    print(tweet)"
   ]
  },
  {
   "cell_type": "code",
   "execution_count": null,
   "id": "70106a86-ae6e-415e-9d78-f4993736c3bb",
   "metadata": {},
   "outputs": [],
   "source": []
  }
 ],
 "metadata": {
  "kernelspec": {
   "display_name": "Python 3 (ipykernel)",
   "language": "python",
   "name": "python3"
  },
  "language_info": {
   "codemirror_mode": {
    "name": "ipython",
    "version": 3
   },
   "file_extension": ".py",
   "mimetype": "text/x-python",
   "name": "python",
   "nbconvert_exporter": "python",
   "pygments_lexer": "ipython3",
   "version": "3.9.15"
  }
 },
 "nbformat": 4,
 "nbformat_minor": 5
}

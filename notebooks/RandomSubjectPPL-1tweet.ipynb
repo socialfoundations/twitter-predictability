{
 "cells": [
  {
   "cell_type": "code",
   "execution_count": 1,
   "id": "472c989d-709a-4fa7-928d-7b1cd1710b8f",
   "metadata": {},
   "outputs": [],
   "source": [
    "%load_ext dotenv\n",
    "%dotenv "
   ]
  },
  {
   "cell_type": "code",
   "execution_count": 2,
   "id": "ad675463-5014-4620-b62f-995119ad3fb6",
   "metadata": {},
   "outputs": [],
   "source": [
    "from pymongo import MongoClient\n",
    "import os\n",
    "from datasets import Dataset\n",
    "import re\n",
    "from transformers import AutoTokenizer, AutoModelForCausalLM\n",
    "import torch\n",
    "import plotly.express as px\n",
    "from tqdm import tqdm\n",
    "import pandas as pd"
   ]
  },
  {
   "cell_type": "code",
   "execution_count": 3,
   "id": "a44cb101-e41c-4f23-8743-4682ad05cca3",
   "metadata": {},
   "outputs": [],
   "source": [
    "ID = \"1308026329\"\n",
    "MODEL_ID = \"gpt2\""
   ]
  },
  {
   "cell_type": "code",
   "execution_count": 4,
   "id": "bbe79a37-b5d4-4ad4-87d5-f9e671c1e391",
   "metadata": {},
   "outputs": [],
   "source": [
    "mongo_conn = MongoClient(os.environ[\"MONGO_CONN\"])\n",
    "db = mongo_conn.twitter  # our database\n",
    "\n",
    "subjects_collection = db[\"subjects_collection\"]\n",
    "timelines_collection = db[\"timelines_collection\"]\n",
    "peers_collection = db[\"peers_collection\"]"
   ]
  },
  {
   "cell_type": "markdown",
   "id": "19aa395f-ca88-489d-a598-5d90f402816d",
   "metadata": {},
   "source": [
    "# User"
   ]
  },
  {
   "cell_type": "code",
   "execution_count": 5,
   "id": "058a898c-1531-4594-8c32-4a3270a6e095",
   "metadata": {},
   "outputs": [
    {
     "data": {
      "text/plain": [
       "{'_id': ObjectId('63de1efed7f30964c36bb079'),\n",
       " 'created_at': '2013-03-27T16:58:10.000Z',\n",
       " 'description': 'Forever reading too many books at once while trying to find the perfect red lip. 👌🏼 bookstagram @starless.reader 📚',\n",
       " 'entities': {'url': {'urls': [{'start': 0,\n",
       "     'end': 23,\n",
       "     'url': 'https://t.co/UCwYGISyGI',\n",
       "     'expanded_url': 'http://www.shewritesaboutbooks.com',\n",
       "     'display_url': 'shewritesaboutbooks.com'}]},\n",
       "  'description': {'mentions': [{'start': 96,\n",
       "     'end': 105,\n",
       "     'username': 'starless'}]}},\n",
       " 'id': '1308026329',\n",
       " 'location': 'Perth, Australia',\n",
       " 'name': 'Ｓａｍａｎｔｈａ．💜',\n",
       " 'profile_image_url': 'https://pbs.twimg.com/profile_images/839815038844063744/rUZwGFvu_normal.jpg',\n",
       " 'protected': False,\n",
       " 'public_metrics': {'followers_count': 857,\n",
       "  'following_count': 826,\n",
       "  'tweet_count': 8750,\n",
       "  'listed_count': 14},\n",
       " 'url': 'https://t.co/UCwYGISyGI',\n",
       " 'username': 'starless_reader',\n",
       " 'verified': False,\n",
       " 'verified_type': 'none',\n",
       " 'timeline_tweets_count': 648}"
      ]
     },
     "execution_count": 5,
     "metadata": {},
     "output_type": "execute_result"
    }
   ],
   "source": [
    "subject = subjects_collection.find_one({\"id\": ID})\n",
    "subject"
   ]
  },
  {
   "cell_type": "markdown",
   "id": "c0a6416a-2f46-4673-a0a0-0ddb68cbf451",
   "metadata": {},
   "source": [
    "# User tweets"
   ]
  },
  {
   "cell_type": "code",
   "execution_count": 6,
   "id": "5f2419d1-35d1-4a02-bec2-838d6fa2a5f2",
   "metadata": {},
   "outputs": [
    {
     "name": "stdout",
     "output_type": "stream",
     "text": [
      "@PaperFury I’m taking this as a personal attack now. 😂😂 https://t.co/wRzxfTzTpH\n",
      "@PaperFury I did not ask to be called out like that 😂 https://t.co/lvHYjvAvgL\n",
      "The absolute best news to wake up to! 🥳🥳🥳🥳 https://t.co/SK3braPmNf\n",
      "🥳🥳🥳🥳 https://t.co/yAtO3LsHMq\n",
      "@bookswithneeks As someone who is reading it and enjoying it… You’ll probably hate it 😂😂\n",
      "A mood https://t.co/3ZEwWopeAY\n",
      "@PaperFury All day, every day 💁🏻‍♀️💁🏻‍♀️\n",
      "@PaperFury Still a ten 💁🏻‍♀️\n",
      "@PaperFury Omg 😂😂😂😂😂\n",
      "@shleyreads Ummmm gross?!\n"
     ]
    }
   ],
   "source": [
    "user_tweets = list(timelines_collection.find({\"author_id\": ID, \"referenced_tweets.type\": {\"$ne\": \"retweeted\"}}, {\"_id\": 0}))\n",
    "\n",
    "for tweet, _ in zip(user_tweets, range(10)):\n",
    "    print(tweet[\"text\"])"
   ]
  },
  {
   "cell_type": "code",
   "execution_count": 7,
   "id": "b2a01246-d546-4408-b4ba-2c0e5ae6fb46",
   "metadata": {},
   "outputs": [
    {
     "data": {
      "text/plain": [
       "{'created_at': '2023-01-16T13:25:49.000Z',\n",
       " 'in_reply_to_user_id': '1381015116',\n",
       " 'entities': {'mentions': [{'start': 0,\n",
       "    'end': 10,\n",
       "    'username': 'PaperFury',\n",
       "    'id': '1381015116'}],\n",
       "  'urls': [{'start': 56,\n",
       "    'end': 79,\n",
       "    'url': 'https://t.co/wRzxfTzTpH',\n",
       "    'expanded_url': 'https://twitter.com/PaperFury/status/1614975937589968897',\n",
       "    'display_url': 'twitter.com/PaperFury/stat…'}]},\n",
       " 'public_metrics': {'retweet_count': 0,\n",
       "  'reply_count': 0,\n",
       "  'like_count': 0,\n",
       "  'quote_count': 0,\n",
       "  'impression_count': 19},\n",
       " 'referenced_tweets': [{'type': 'quoted', 'id': '1614975937589968897'}],\n",
       " 'possibly_sensitive': False,\n",
       " 'lang': 'en',\n",
       " 'author_id': '1308026329',\n",
       " 'edit_history_tweet_ids': ['1614977223655829505'],\n",
       " 'edit_controls': {'edits_remaining': 5,\n",
       "  'is_edit_eligible': True,\n",
       "  'editable_until': datetime.datetime(2023, 1, 16, 13, 55, 49)},\n",
       " 'conversation_id': '1614977223655829505',\n",
       " 'text': '@PaperFury I’m taking this as a personal attack now. 😂😂 https://t.co/wRzxfTzTpH',\n",
       " 'id': '1614977223655829505',\n",
       " 'reply_settings': 'everyone',\n",
       " 'queried_at': '2023-03-23T11:21:32.244441'}"
      ]
     },
     "execution_count": 7,
     "metadata": {},
     "output_type": "execute_result"
    }
   ],
   "source": [
    "user_tweets[0]"
   ]
  },
  {
   "cell_type": "markdown",
   "id": "68c5bdd6-7184-4980-98a2-690c5fb413ca",
   "metadata": {},
   "source": [
    "## Dataset"
   ]
  },
  {
   "cell_type": "code",
   "execution_count": 8,
   "id": "dc6d30ea-8c84-4921-9954-0617629f03ae",
   "metadata": {},
   "outputs": [],
   "source": [
    "tweets_dataset = Dataset.from_list(user_tweets)"
   ]
  },
  {
   "cell_type": "code",
   "execution_count": 9,
   "id": "85be0f9f-8f70-4282-a400-26890e4d6f77",
   "metadata": {},
   "outputs": [
    {
     "data": {
      "text/plain": [
       "Dataset({\n",
       "    features: ['created_at', 'in_reply_to_user_id', 'entities', 'public_metrics', 'referenced_tweets', 'possibly_sensitive', 'lang', 'author_id', 'edit_history_tweet_ids', 'edit_controls', 'conversation_id', 'text', 'id', 'reply_settings', 'queried_at'],\n",
       "    num_rows: 659\n",
       "})"
      ]
     },
     "execution_count": 9,
     "metadata": {},
     "output_type": "execute_result"
    }
   ],
   "source": [
    "tweets_dataset"
   ]
  },
  {
   "cell_type": "code",
   "execution_count": 10,
   "id": "5cb3c45e-e983-4f96-bf19-8117d5a664cd",
   "metadata": {},
   "outputs": [],
   "source": [
    "sample = tweets_dataset.select(range(25))"
   ]
  },
  {
   "cell_type": "code",
   "execution_count": 11,
   "id": "08c490b3-b3cd-4adc-b2d0-f25a4809bcc7",
   "metadata": {},
   "outputs": [
    {
     "name": "stdout",
     "output_type": "stream",
     "text": [
      "@PaperFury I’m taking this as a personal attack now. 😂😂 https://t.co/wRzxfTzTpH\n",
      "@PaperFury I did not ask to be called out like that 😂 https://t.co/lvHYjvAvgL\n",
      "The absolute best news to wake up to! 🥳🥳🥳🥳 https://t.co/SK3braPmNf\n",
      "🥳🥳🥳🥳 https://t.co/yAtO3LsHMq\n",
      "@bookswithneeks As someone who is reading it and enjoying it… You’ll probably hate it 😂😂\n",
      "A mood https://t.co/3ZEwWopeAY\n",
      "@PaperFury All day, every day 💁🏻‍♀️💁🏻‍♀️\n",
      "@PaperFury Still a ten 💁🏻‍♀️\n",
      "@PaperFury Omg 😂😂😂😂😂\n",
      "@shleyreads Ummmm gross?!\n",
      "Ahhhhh that’s so exciting 🥳🥳🥳🥳 https://t.co/XOD2dxg8gH\n",
      "@shleyreads YES YOU CAN\n",
      "@shleyreads … buy it\n",
      "@shleyreads @srpntsxscorpios We have never my claimed otherwise 💁🏻‍♀️😂\n",
      "@shleyreads Buuuuuuuy them Ashley 😂\n",
      "@bookswithneeks Oh I will keep you updated 😂😂\n",
      "@bookswithneeks I really wish I could tell you but I am 3 episodes in and can’t figure it out 🤷🏻‍♀️😂\n",
      "@shleyreads ASHLEY IS THIS THE HOT DAD?\n",
      "@srpntsxscorpios 😂😂😂😂😂\n",
      "@srpntsxscorpios Woman go to bed, you’ll find out soon enough 😂😂😂\n",
      "@shleyreads ASHLEY YOU BABE 😍😍😍\n",
      "Or, and just a thought, we could not steal books and potentially ruin authors careers. 🤷🏻‍♀️ https://t.co/IhBbe3eiFo\n",
      "@thatidiotfrank Rude 😂😂😂😂\n",
      "@hannahplusone You’d think that would be common sense 😂\n",
      "@PaperFury I have never said otherwise 💁🏻‍♀️😂\n"
     ]
    }
   ],
   "source": [
    "for tweet in sample:\n",
    "    print(tweet[\"text\"])"
   ]
  },
  {
   "cell_type": "markdown",
   "id": "10530ea2-6c85-402c-b668-44090279137b",
   "metadata": {},
   "source": [
    "### Preprocess text"
   ]
  },
  {
   "cell_type": "code",
   "execution_count": 12,
   "id": "3712571b-17db-4bd6-ae0b-139ab3b8b241",
   "metadata": {},
   "outputs": [],
   "source": [
    "def remove_urls(x):\n",
    "    return {\"text\": re.sub(r\"http\\S+\", \"\", x[\"text\"])}\n",
    "\n",
    "def remove_extra_spaces(x):\n",
    "    return {\"text\": \" \".join(x[\"text\"].split())}"
   ]
  },
  {
   "cell_type": "code",
   "execution_count": 13,
   "id": "117bf671-60c1-494b-a70c-26b6fdf8842c",
   "metadata": {},
   "outputs": [
    {
     "data": {
      "application/vnd.jupyter.widget-view+json": {
       "model_id": "931bbff6708d47aab61e180cb466fe29",
       "version_major": 2,
       "version_minor": 0
      },
      "text/plain": [
       "  0%|          | 0/25 [00:00<?, ?ex/s]"
      ]
     },
     "metadata": {},
     "output_type": "display_data"
    },
    {
     "data": {
      "application/vnd.jupyter.widget-view+json": {
       "model_id": "2a184c0b391a484fa2fcc44ee37926af",
       "version_major": 2,
       "version_minor": 0
      },
      "text/plain": [
       "  0%|          | 0/25 [00:00<?, ?ex/s]"
      ]
     },
     "metadata": {},
     "output_type": "display_data"
    }
   ],
   "source": [
    "updated_sample = sample.map(remove_urls).map(remove_extra_spaces)"
   ]
  },
  {
   "cell_type": "code",
   "execution_count": 14,
   "id": "83c5ad26-d86e-444f-919a-a2a1e201d539",
   "metadata": {},
   "outputs": [
    {
     "name": "stdout",
     "output_type": "stream",
     "text": [
      "@PaperFury I’m taking this as a personal attack now. 😂😂\n",
      "@PaperFury I did not ask to be called out like that 😂\n",
      "The absolute best news to wake up to! 🥳🥳🥳🥳\n",
      "🥳🥳🥳🥳\n",
      "@bookswithneeks As someone who is reading it and enjoying it… You’ll probably hate it 😂😂\n",
      "A mood\n",
      "@PaperFury All day, every day 💁🏻‍♀️💁🏻‍♀️\n",
      "@PaperFury Still a ten 💁🏻‍♀️\n",
      "@PaperFury Omg 😂😂😂😂😂\n",
      "@shleyreads Ummmm gross?!\n",
      "Ahhhhh that’s so exciting 🥳🥳🥳🥳\n",
      "@shleyreads YES YOU CAN\n",
      "@shleyreads … buy it\n",
      "@shleyreads @srpntsxscorpios We have never my claimed otherwise 💁🏻‍♀️😂\n",
      "@shleyreads Buuuuuuuy them Ashley 😂\n",
      "@bookswithneeks Oh I will keep you updated 😂😂\n",
      "@bookswithneeks I really wish I could tell you but I am 3 episodes in and can’t figure it out 🤷🏻‍♀️😂\n",
      "@shleyreads ASHLEY IS THIS THE HOT DAD?\n",
      "@srpntsxscorpios 😂😂😂😂😂\n",
      "@srpntsxscorpios Woman go to bed, you’ll find out soon enough 😂😂😂\n",
      "@shleyreads ASHLEY YOU BABE 😍😍😍\n",
      "Or, and just a thought, we could not steal books and potentially ruin authors careers. 🤷🏻‍♀️\n",
      "@thatidiotfrank Rude 😂😂😂😂\n",
      "@hannahplusone You’d think that would be common sense 😂\n",
      "@PaperFury I have never said otherwise 💁🏻‍♀️😂\n"
     ]
    }
   ],
   "source": [
    "for tweet in updated_sample:\n",
    "    print(tweet[\"text\"])"
   ]
  },
  {
   "cell_type": "markdown",
   "id": "8012c222-7312-49c8-99e4-7401e0fb324f",
   "metadata": {},
   "source": [
    "### Tokenization"
   ]
  },
  {
   "cell_type": "code",
   "execution_count": 15,
   "id": "e8944482-c9d1-468a-aa54-ed460a872d22",
   "metadata": {},
   "outputs": [],
   "source": [
    "tokenizer = AutoTokenizer.from_pretrained(MODEL_ID)"
   ]
  },
  {
   "cell_type": "code",
   "execution_count": 16,
   "id": "a872ba11-59f9-4d09-9031-292eed40f4ac",
   "metadata": {},
   "outputs": [
    {
     "name": "stdout",
     "output_type": "stream",
     "text": [
      "@PaperFury I’m taking this as a personal attack now. 😂😂\n",
      "['@', 'Paper', 'F', 'ury', 'ĠI', 'âĢ', 'Ļ', 'm', 'Ġtaking', 'Ġthis', 'Ġas', 'Ġa', 'Ġpersonal', 'Ġattack', 'Ġnow', '.', 'ĠðŁĺ', 'Ĥ', 'ðŁĺ', 'Ĥ']\n",
      "[31, 42950, 37, 1601, 314, 447, 247, 76, 2263, 428, 355, 257, 2614, 1368, 783, 13, 30325, 224, 47249, 224]\n"
     ]
    }
   ],
   "source": [
    "text = updated_sample[0][\"text\"]\n",
    "text_tokenized = tokenizer.tokenize(text)\n",
    "ids = tokenizer.convert_tokens_to_ids(text_tokenized)\n",
    "print(text)\n",
    "print(text_tokenized)\n",
    "print(ids)"
   ]
  },
  {
   "cell_type": "code",
   "execution_count": 17,
   "id": "e0d3378b-fa7e-430b-8241-1b43687fd196",
   "metadata": {},
   "outputs": [
    {
     "name": "stdout",
     "output_type": "stream",
     "text": [
      "@PaperFury I’m taking this as a personal attack now. 😂😂\n"
     ]
    }
   ],
   "source": [
    "decoded = tokenizer.decode(ids)\n",
    "print(decoded)"
   ]
  },
  {
   "cell_type": "code",
   "execution_count": 18,
   "id": "fe767428-90f5-4881-961a-19a2114bae81",
   "metadata": {},
   "outputs": [
    {
     "data": {
      "text/plain": [
       "'left'"
      ]
     },
     "execution_count": 18,
     "metadata": {},
     "output_type": "execute_result"
    }
   ],
   "source": [
    "tokenizer.truncation_side = \"left\"\n",
    "tokenizer.truncation_side"
   ]
  },
  {
   "cell_type": "markdown",
   "id": "12cc28d8-f1a5-421d-bf20-bfddaaba7e81",
   "metadata": {},
   "source": [
    "### Model"
   ]
  },
  {
   "cell_type": "code",
   "execution_count": 22,
   "id": "46f38a66-5ac1-4caf-b77a-2aceb5b1101f",
   "metadata": {},
   "outputs": [],
   "source": [
    "model = AutoModelForCausalLM.from_pretrained(MODEL_ID)"
   ]
  },
  {
   "cell_type": "markdown",
   "id": "31ca1be8-719d-4839-82cd-a8f831cb693a",
   "metadata": {},
   "source": [
    "#### Perplexity"
   ]
  },
  {
   "cell_type": "code",
   "execution_count": 60,
   "id": "82485380-54de-4797-bd74-c86a9c1a3271",
   "metadata": {},
   "outputs": [
    {
     "data": {
      "text/plain": [
       "{'input_ids': tensor([[   31, 42950,    37,  1601,   314,   447,   247,    76,  2263,   428,\n",
       "           355,   257,  2614,  1368,   783,    13, 30325,   224, 47249,   224]]), 'attention_mask': tensor([[1, 1, 1, 1, 1, 1, 1, 1, 1, 1, 1, 1, 1, 1, 1, 1, 1, 1, 1, 1]])}"
      ]
     },
     "execution_count": 60,
     "metadata": {},
     "output_type": "execute_result"
    }
   ],
   "source": [
    "inp = tokenizer(text, return_tensors=\"pt\")\n",
    "inp"
   ]
  },
  {
   "cell_type": "code",
   "execution_count": 61,
   "id": "4deef1f3-2d7f-455a-9ac6-3bb0509a4b8b",
   "metadata": {},
   "outputs": [],
   "source": [
    "input_ids = inp.input_ids\n",
    "\n",
    "target_ids = input_ids.clone()"
   ]
  },
  {
   "cell_type": "code",
   "execution_count": 62,
   "id": "a73cfeba-8c70-46fa-bc74-b4263bf97fca",
   "metadata": {},
   "outputs": [
    {
     "data": {
      "text/plain": [
       "torch.Size([1, 20])"
      ]
     },
     "execution_count": 62,
     "metadata": {},
     "output_type": "execute_result"
    }
   ],
   "source": [
    "input_ids.shape"
   ]
  },
  {
   "cell_type": "code",
   "execution_count": 63,
   "id": "6fefa6ac-2cfd-4268-aa7c-79e91ba0c9f9",
   "metadata": {},
   "outputs": [],
   "source": [
    "with torch.no_grad():\n",
    "    outputs = model(input_ids, labels=target_ids) # the model internally shifts the target ids to the left for next-word prediction\n",
    "    neg_log_likelihood = outputs.loss # the loss is a cross-entropy loss"
   ]
  },
  {
   "cell_type": "code",
   "execution_count": 64,
   "id": "a5d06c7b-f7d2-4046-bab1-81244f65a04d",
   "metadata": {},
   "outputs": [
    {
     "data": {
      "text/plain": [
       "tensor([[[-34.1510, -32.9267, -34.6145,  ..., -41.9141, -42.4946, -33.3369],\n",
       "         [-64.7886, -62.2584, -65.0270,  ..., -73.8592, -73.8884, -64.6169],\n",
       "         [-67.0678, -65.1252, -62.4221,  ..., -77.4963, -75.9399, -65.8218],\n",
       "         ...,\n",
       "         [-87.7823, -85.1541, -82.5312,  ..., -98.6305, -97.4418, -83.2104],\n",
       "         [-48.7254, -50.0082, -46.7284,  ..., -58.2389, -57.6016, -49.1910],\n",
       "         [-74.0530, -72.1501, -71.1299,  ..., -85.7036, -84.5447, -71.3885]]])"
      ]
     },
     "execution_count": 64,
     "metadata": {},
     "output_type": "execute_result"
    }
   ],
   "source": [
    "outputs.logits"
   ]
  },
  {
   "cell_type": "code",
   "execution_count": 65,
   "id": "e000b802-382b-4460-ada3-03424bcf6e04",
   "metadata": {},
   "outputs": [
    {
     "data": {
      "text/plain": [
       "torch.Size([1, 20, 50257])"
      ]
     },
     "execution_count": 65,
     "metadata": {},
     "output_type": "execute_result"
    }
   ],
   "source": [
    "outputs.logits.shape"
   ]
  },
  {
   "cell_type": "markdown",
   "id": "123f15c2-4bf3-4ff9-a86d-ce5a00073484",
   "metadata": {},
   "source": [
    "Size: [batch_size, num_predicted_tokens, vocab_size]"
   ]
  },
  {
   "cell_type": "code",
   "execution_count": 67,
   "id": "72d4b034-42b1-40de-820a-166410c3e7f5",
   "metadata": {},
   "outputs": [
    {
     "data": {
      "text/plain": [
       "tensor(5.1768)"
      ]
     },
     "execution_count": 67,
     "metadata": {},
     "output_type": "execute_result"
    }
   ],
   "source": [
    "outputs.loss"
   ]
  },
  {
   "cell_type": "code",
   "execution_count": 86,
   "id": "ced72ac5-dd0f-45e9-9be3-f369c5b6afaa",
   "metadata": {},
   "outputs": [],
   "source": [
    "from torch.nn import CrossEntropyLoss\n",
    "loss_fct = CrossEntropyLoss(reduction=\"none\")"
   ]
  },
  {
   "cell_type": "code",
   "execution_count": 82,
   "id": "4bf63d67-d61d-485f-8fc3-f656ca6920d0",
   "metadata": {},
   "outputs": [
    {
     "name": "stdout",
     "output_type": "stream",
     "text": [
      "tensor([[42950,    37,  1601,   314,   447,   247,    76,  2263,   428,   355,\n",
      "           257,  2614,  1368,   783,    13, 30325,   224, 47249,   224]])\n",
      "tensor([[[-34.1510, -32.9267, -34.6145,  ..., -41.9141, -42.4946, -33.3369],\n",
      "         [-64.7886, -62.2584, -65.0270,  ..., -73.8592, -73.8884, -64.6169],\n",
      "         [-67.0678, -65.1252, -62.4221,  ..., -77.4963, -75.9399, -65.8218],\n",
      "         ...,\n",
      "         [-58.4186, -58.1354, -55.1670,  ..., -66.4870, -67.2714, -56.9353],\n",
      "         [-87.7823, -85.1541, -82.5312,  ..., -98.6305, -97.4418, -83.2104],\n",
      "         [-48.7254, -50.0082, -46.7284,  ..., -58.2389, -57.6016, -49.1910]]])\n"
     ]
    }
   ],
   "source": [
    "shifted_labels = target_ids[..., 1:].contiguous()\n",
    "shifted_logits = outputs.logits[..., :-1, :].contiguous()\n",
    "\n",
    "print(shifted_labels)\n",
    "print(shifted_logits)"
   ]
  },
  {
   "cell_type": "code",
   "execution_count": 83,
   "id": "589a246f-e616-4861-8f04-ffd394c207d5",
   "metadata": {},
   "outputs": [
    {
     "data": {
      "text/plain": [
       "torch.Size([1, 19, 50257])"
      ]
     },
     "execution_count": 83,
     "metadata": {},
     "output_type": "execute_result"
    }
   ],
   "source": [
    "shifted_logits.shape"
   ]
  },
  {
   "cell_type": "code",
   "execution_count": 87,
   "id": "17b23b83-ad0f-4f67-9b17-af3de8555a4a",
   "metadata": {},
   "outputs": [
    {
     "name": "stdout",
     "output_type": "stream",
     "text": [
      "tensor([11.4267,  6.8624,  5.7911,  7.7863, 12.7187,  8.5493,  4.4899,  6.4299,\n",
      "         2.8883,  3.9914,  0.7380,  3.3331,  3.8581,  7.1239,  1.1248,  7.7123,\n",
      "         2.2923,  1.0810,  0.1616])\n",
      "tensor(5.1768)\n"
     ]
    }
   ],
   "source": [
    "loss = loss_fct(shifted_logits.view(-1, shifted_logits.size(-1)), shifted_labels.view(-1))\n",
    "\n",
    "print(loss)\n",
    "print(loss.mean())"
   ]
  },
  {
   "cell_type": "code",
   "execution_count": 26,
   "id": "f798dbad-4ce9-4fcb-b3e3-b8b8f345d455",
   "metadata": {},
   "outputs": [
    {
     "name": "stdout",
     "output_type": "stream",
     "text": [
      "Text:  @PaperFury I’m taking this as a personal attack now. 😂😂\n",
      "Perplexity:  177.11534118652344\n"
     ]
    }
   ],
   "source": [
    "ppl = torch.exp(neg_log_likelihood).item()\n",
    "print(\"Text: \", text)\n",
    "print(\"Perplexity: \", ppl)"
   ]
  },
  {
   "cell_type": "markdown",
   "id": "ddce4dd2-75ce-4128-9bbf-630f4e255fab",
   "metadata": {},
   "source": [
    "#### Perplexity with context\n",
    "\n",
    "Where context is < 1024 tokens"
   ]
  },
  {
   "cell_type": "code",
   "execution_count": 27,
   "id": "9be04ce0-6b79-4f51-a20f-d2953c7761f2",
   "metadata": {},
   "outputs": [
    {
     "name": "stdout",
     "output_type": "stream",
     "text": [
      "Full text:  @PaperFury I have never said otherwise 💁🏻‍♀️😂 @hannahplusone You’d think that would be common sense 😂 @thatidiotfrank Rude 😂😂😂😂 Or, and just a thought, we could not steal books and potentially ruin authors careers. 🤷🏻‍♀️ @shleyreads ASHLEY YOU BABE 😍😍😍 @srpntsxscorpios Woman go to bed, you’ll find out soon enough 😂😂😂 @srpntsxscorpios 😂😂😂😂😂 @shleyreads ASHLEY IS THIS THE HOT DAD? @bookswithneeks I really wish I could tell you but I am 3 episodes in and can’t figure it out 🤷🏻‍♀️😂 @bookswithneeks Oh I will keep you updated 😂😂 @shleyreads Buuuuuuuy them Ashley 😂 @shleyreads @srpntsxscorpios We have never my claimed otherwise 💁🏻‍♀️😂 @shleyreads … buy it @shleyreads YES YOU CAN Ahhhhh that’s so exciting 🥳🥳🥳🥳 @shleyreads Ummmm gross?! @PaperFury Omg 😂😂😂😂😂 @PaperFury Still a ten 💁🏻‍♀️ @PaperFury All day, every day 💁🏻‍♀️💁🏻‍♀️ A mood @bookswithneeks As someone who is reading it and enjoying it… You’ll probably hate it 😂😂 🥳🥳🥳🥳 The absolute best news to wake up to! 🥳🥳🥳🥳 @PaperFury I did not ask to be called out like that 😂 @PaperFury I’m taking this as a personal attack now. 😂😂\n"
     ]
    }
   ],
   "source": [
    "tokens_in_text = input_ids.shape[1] # how many tokens to calculate ppl on\n",
    "\n",
    "full_text = \" \".join(reversed(updated_sample[:][\"text\"]))\n",
    "\n",
    "print(\"Full text: \", full_text)"
   ]
  },
  {
   "cell_type": "code",
   "execution_count": 28,
   "id": "d568cd06-e6cf-4217-a5b0-df6284cab1a4",
   "metadata": {
    "collapsed": true,
    "jupyter": {
     "outputs_hidden": true
    },
    "tags": []
   },
   "outputs": [
    {
     "name": "stdout",
     "output_type": "stream",
     "text": [
      "{'input_ids': tensor([[   31, 42950,    37,  1601,   314,   423,  1239,   531,  4306, 12520,\n",
      "           240,   223,  8582,   237,   119,   447,   235, 17992,   222, 37929,\n",
      "         47249,   224,  2488,    71, 25761,  9541,   505,   921,   447,   247,\n",
      "            67,   892,   326,   561,   307,  2219,  2565, 30325,   224,  2488,\n",
      "          5562,   312,  5151,  8310,   962,   371,  2507, 30325,   224, 47249,\n",
      "           224, 47249,   224, 47249,   224,  1471,    11,   290,   655,   257,\n",
      "          1807,    11,   356,   714,   407,  8711,  3835,   290,  6196, 16866,\n",
      "          7035, 16179,    13, 12520,    97,   115,  8582,   237,   119,   447,\n",
      "           235, 17992,   222, 37929,  2488,  1477,  1636, 40779,  7054,    39,\n",
      "         25173,  7013,   347,  6242,    36, 30325,   235, 47249,   235, 47249,\n",
      "           235,  2488, 27891,    79,   429,    82,    87,  1416, 16300,  4267,\n",
      "         14381,   467,   284,  3996,    11,   345,   447,   247,   297,  1064,\n",
      "           503,  2582,  1576, 30325,   224, 47249,   224, 47249,   224,  2488,\n",
      "         27891,    79,   429,    82,    87,  1416, 16300,  4267, 30325,   224,\n",
      "         47249,   224, 47249,   224, 47249,   224, 47249,   224,  2488,  1477,\n",
      "          1636, 40779,  7054,    39, 25173,  3180, 12680,  3336, 44607,   360,\n",
      "          2885,    30,  2488,  2070,  2032,   342,   710,  2573,   314,  1107,\n",
      "          4601,   314,   714,  1560,   345,   475,   314,   716,   513,  8640,\n",
      "           287,   290,   460,   447,   247,    83,  3785,   340,   503, 12520,\n",
      "            97,   115,  8582,   237,   119,   447,   235, 17992,   222, 37929,\n",
      "         47249,   224,  2488,  2070,  2032,   342,   710,  2573,  3966,   314,\n",
      "           481,  1394,   345,  6153, 30325,   224, 47249,   224,  2488,  1477,\n",
      "          1636, 40779,  9842, 12303, 12303,    84,  4669,   606, 20899, 30325,\n",
      "           224,  2488,  1477,  1636, 40779,  2488, 27891,    79,   429,    82,\n",
      "            87,  1416, 16300,  4267,   775,   423,  1239,   616,  4752,  4306,\n",
      "         12520,   240,   223,  8582,   237,   119,   447,   235, 17992,   222,\n",
      "         37929, 47249,   224,  2488,  1477,  1636, 40779,  3926,  2822,   340,\n",
      "          2488,  1477,  1636, 40779, 21560,  7013, 15628,  7900, 36607,   326,\n",
      "           447,   247,    82,   523,  7895, 12520,    98,   111,  8582,    98,\n",
      "           111,  8582,    98,   111,  8582,    98,   111,  2488,  1477,  1636,\n",
      "         40779,   471, 40133, 10319, 12248,  2488, 42950,    37,  1601,   440,\n",
      "         11296, 30325,   224, 47249,   224, 47249,   224, 47249,   224, 47249,\n",
      "           224,  2488, 42950,    37,  1601,  7831,   257,  3478, 12520,   240,\n",
      "           223,  8582,   237,   119,   447,   235, 17992,   222, 37929,  2488,\n",
      "         42950,    37,  1601,  1439,  1110,    11,   790,  1110, 12520,   240,\n",
      "           223,  8582,   237,   119,   447,   235, 17992,   222, 37929,  8582,\n",
      "           240,   223,  8582,   237,   119,   447,   235, 17992,   222, 37929,\n",
      "           317, 10038,  2488,  2070,  2032,   342,   710,  2573,  1081,  2130,\n",
      "           508,   318,  3555,   340,   290, 13226,   340,  1399,   921,   447,\n",
      "           247,   297,  2192,  5465,   340, 30325,   224, 47249,   224, 12520,\n",
      "            98,   111,  8582,    98,   111,  8582,    98,   111,  8582,    98,\n",
      "           111,   383,  4112,  1266,  1705,   284,  7765,   510,   284,     0,\n",
      "         12520,    98,   111,  8582,    98,   111,  8582,    98,   111,  8582,\n",
      "            98,   111,  2488, 42950,    37,  1601,   314,   750,   407,  1265,\n",
      "           284,   307,  1444,   503,   588,   326, 30325,   224,  2488, 42950,\n",
      "            37,  1601,   314,   447,   247,    76,  2263,   428,   355,   257,\n",
      "          2614,  1368,   783,    13, 30325,   224, 47249,   224]]), 'attention_mask': tensor([[1, 1, 1, 1, 1, 1, 1, 1, 1, 1, 1, 1, 1, 1, 1, 1, 1, 1, 1, 1, 1, 1, 1, 1,\n",
      "         1, 1, 1, 1, 1, 1, 1, 1, 1, 1, 1, 1, 1, 1, 1, 1, 1, 1, 1, 1, 1, 1, 1, 1,\n",
      "         1, 1, 1, 1, 1, 1, 1, 1, 1, 1, 1, 1, 1, 1, 1, 1, 1, 1, 1, 1, 1, 1, 1, 1,\n",
      "         1, 1, 1, 1, 1, 1, 1, 1, 1, 1, 1, 1, 1, 1, 1, 1, 1, 1, 1, 1, 1, 1, 1, 1,\n",
      "         1, 1, 1, 1, 1, 1, 1, 1, 1, 1, 1, 1, 1, 1, 1, 1, 1, 1, 1, 1, 1, 1, 1, 1,\n",
      "         1, 1, 1, 1, 1, 1, 1, 1, 1, 1, 1, 1, 1, 1, 1, 1, 1, 1, 1, 1, 1, 1, 1, 1,\n",
      "         1, 1, 1, 1, 1, 1, 1, 1, 1, 1, 1, 1, 1, 1, 1, 1, 1, 1, 1, 1, 1, 1, 1, 1,\n",
      "         1, 1, 1, 1, 1, 1, 1, 1, 1, 1, 1, 1, 1, 1, 1, 1, 1, 1, 1, 1, 1, 1, 1, 1,\n",
      "         1, 1, 1, 1, 1, 1, 1, 1, 1, 1, 1, 1, 1, 1, 1, 1, 1, 1, 1, 1, 1, 1, 1, 1,\n",
      "         1, 1, 1, 1, 1, 1, 1, 1, 1, 1, 1, 1, 1, 1, 1, 1, 1, 1, 1, 1, 1, 1, 1, 1,\n",
      "         1, 1, 1, 1, 1, 1, 1, 1, 1, 1, 1, 1, 1, 1, 1, 1, 1, 1, 1, 1, 1, 1, 1, 1,\n",
      "         1, 1, 1, 1, 1, 1, 1, 1, 1, 1, 1, 1, 1, 1, 1, 1, 1, 1, 1, 1, 1, 1, 1, 1,\n",
      "         1, 1, 1, 1, 1, 1, 1, 1, 1, 1, 1, 1, 1, 1, 1, 1, 1, 1, 1, 1, 1, 1, 1, 1,\n",
      "         1, 1, 1, 1, 1, 1, 1, 1, 1, 1, 1, 1, 1, 1, 1, 1, 1, 1, 1, 1, 1, 1, 1, 1,\n",
      "         1, 1, 1, 1, 1, 1, 1, 1, 1, 1, 1, 1, 1, 1, 1, 1, 1, 1, 1, 1, 1, 1, 1, 1,\n",
      "         1, 1, 1, 1, 1, 1, 1, 1, 1, 1, 1, 1, 1, 1, 1, 1, 1, 1, 1, 1, 1, 1, 1, 1,\n",
      "         1, 1, 1, 1, 1, 1, 1, 1, 1, 1, 1, 1, 1, 1, 1, 1, 1, 1, 1, 1, 1, 1, 1, 1,\n",
      "         1, 1, 1, 1, 1, 1, 1, 1, 1, 1, 1, 1, 1, 1, 1, 1, 1, 1, 1, 1, 1, 1, 1, 1,\n",
      "         1, 1, 1, 1, 1, 1, 1, 1, 1, 1, 1, 1, 1, 1, 1, 1, 1, 1, 1, 1, 1, 1, 1, 1,\n",
      "         1, 1, 1, 1, 1, 1, 1, 1, 1, 1, 1, 1]])}\n"
     ]
    }
   ],
   "source": [
    "inp = tokenizer(full_text, return_tensors=\"pt\")\n",
    "\n",
    "print(inp)"
   ]
  },
  {
   "cell_type": "code",
   "execution_count": 29,
   "id": "b4d43ef4-cb12-4a4a-92e1-95f81ff09a9b",
   "metadata": {},
   "outputs": [
    {
     "data": {
      "text/plain": [
       "'@PaperFury I have never said otherwise 💁🏻\\u200d♀️😂 @hannahplusone You’d think that would be common sense 😂 @thatidiotfrank Rude 😂😂😂😂 Or, and just a thought, we could not steal books and potentially ruin authors careers. 🤷🏻\\u200d♀️ @shleyreads ASHLEY YOU BABE 😍😍😍 @srpntsxscorpios Woman go to bed, you’ll find out soon enough 😂😂😂 @srpntsxscorpios 😂😂😂😂😂 @shleyreads ASHLEY IS THIS THE HOT DAD? @bookswithneeks I really wish I could tell you but I am 3 episodes in and can’t figure it out 🤷🏻\\u200d♀️😂 @bookswithneeks Oh I will keep you updated 😂😂 @shleyreads Buuuuuuuy them Ashley 😂 @shleyreads @srpntsxscorpios We have never my claimed otherwise 💁🏻\\u200d♀️😂 @shleyreads … buy it @shleyreads YES YOU CAN Ahhhhh that’s so exciting 🥳🥳🥳🥳 @shleyreads Ummmm gross?! @PaperFury Omg 😂😂😂😂😂 @PaperFury Still a ten 💁🏻\\u200d♀️ @PaperFury All day, every day 💁🏻\\u200d♀️💁🏻\\u200d♀️ A mood @bookswithneeks As someone who is reading it and enjoying it… You’ll probably hate it 😂😂 🥳🥳🥳🥳 The absolute best news to wake up to! 🥳🥳🥳🥳 @PaperFury I did not ask to be called out like that 😂'"
      ]
     },
     "execution_count": 29,
     "metadata": {},
     "output_type": "execute_result"
    }
   ],
   "source": [
    "tokenizer.decode(inp.input_ids[:, :-tokens_in_text].flatten())"
   ]
  },
  {
   "cell_type": "code",
   "execution_count": 30,
   "id": "72bcce3c-bf3d-474d-a75d-d408807194c2",
   "metadata": {},
   "outputs": [],
   "source": [
    "input_ids = inp.input_ids\n",
    "target_ids = input_ids.clone()\n",
    "target_ids[:, :-tokens_in_text] = -100 # ignore the context when calculating the perplexity"
   ]
  },
  {
   "cell_type": "code",
   "execution_count": 31,
   "id": "428045c9-af2b-4f43-9d91-ff843a2f5795",
   "metadata": {},
   "outputs": [
    {
     "name": "stdout",
     "output_type": "stream",
     "text": [
      "Context (24 tweets):\n",
      "@PaperFury I did not ask to be called out like that 😂 The absolute best news to wake up to! 🥳🥳🥳🥳 🥳🥳🥳🥳 @bookswithneeks As someone who is reading it and enjoying it… You’ll probably hate it 😂😂 A mood @PaperFury All day, every day 💁🏻‍♀️💁🏻‍♀️ @PaperFury Still a ten 💁🏻‍♀️ @PaperFury Omg 😂😂😂😂😂 @shleyreads Ummmm gross?! Ahhhhh that’s so exciting 🥳🥳🥳🥳 @shleyreads YES YOU CAN @shleyreads … buy it @shleyreads @srpntsxscorpios We have never my claimed otherwise 💁🏻‍♀️😂 @shleyreads Buuuuuuuy them Ashley 😂 @bookswithneeks Oh I will keep you updated 😂😂 @bookswithneeks I really wish I could tell you but I am 3 episodes in and can’t figure it out 🤷🏻‍♀️😂 @shleyreads ASHLEY IS THIS THE HOT DAD? @srpntsxscorpios 😂😂😂😂😂 @srpntsxscorpios Woman go to bed, you’ll find out soon enough 😂😂😂 @shleyreads ASHLEY YOU BABE 😍😍😍 Or, and just a thought, we could not steal books and potentially ruin authors careers. 🤷🏻‍♀️ @thatidiotfrank Rude 😂😂😂😂 @hannahplusone You’d think that would be common sense 😂 @PaperFury I have never said otherwise 💁🏻‍♀️😂\n",
      "\n",
      "Text:  @PaperFury I’m taking this as a personal attack now. 😂😂\n",
      "Perplexity:  11.968624114990234\n"
     ]
    }
   ],
   "source": [
    "with torch.no_grad():\n",
    "    outputs = model(input_ids, labels=target_ids) # the model internally shifts the target ids to the left for next-word prediction\n",
    "    neg_log_likelihood = outputs.loss # the loss is a cross-entropy loss\n",
    "    \n",
    "ppl = torch.exp(neg_log_likelihood).item()\n",
    "context_tweets = updated_sample[1:][\"text\"]\n",
    "print(\"Context (%d tweets):\\n%s\\n\" % (len(context_tweets), \" \".join(context_tweets)))\n",
    "print(\"Text: \", text)\n",
    "print(\"Perplexity: \", ppl)"
   ]
  },
  {
   "cell_type": "markdown",
   "id": "c46fa054-7e41-4d8b-8730-3473bba4837f",
   "metadata": {},
   "source": [
    "We have managed to bring down the perplexity of 177 down to 12!"
   ]
  },
  {
   "cell_type": "markdown",
   "id": "0d3e8226-0366-4315-8057-8a8df02ef0e2",
   "metadata": {},
   "source": [
    "#### Perplexity with increasing context"
   ]
  },
  {
   "cell_type": "code",
   "execution_count": 32,
   "id": "1d7e4a38-a836-4c40-b3f9-014e0d887af1",
   "metadata": {},
   "outputs": [],
   "source": [
    "def ppl_calculator(text, context):\n",
    "    text_tokens = tokenizer.tokenize(text)\n",
    "    tokens_in_text = len(text_tokens) # how many tokens to calculate ppl on\n",
    "    \n",
    "    if context != \"\":\n",
    "        full_text = \" \".join([context, text])\n",
    "    else:\n",
    "        full_text = text\n",
    "        \n",
    "    assert tokenizer.truncation_side == \"left\"\n",
    "    \n",
    "    inp = tokenizer(full_text, return_tensors=\"pt\", truncation=True) # truncation ensures the length is 1024 at most!\n",
    "    input_ids = inp.input_ids\n",
    "    target_ids = input_ids.clone()\n",
    "    target_ids[:, :-tokens_in_text] = -100 # ignore the context when calculating the perplexity\n",
    "    \n",
    "    with torch.no_grad():\n",
    "        outputs = model(input_ids, labels=target_ids) # the model internally shifts the target ids to the left for next-word prediction\n",
    "        neg_log_likelihood = outputs.loss # the loss is a cross-entropy loss\n",
    "    \n",
    "    ppl = torch.exp(neg_log_likelihood).item()\n",
    "    return ppl"
   ]
  },
  {
   "cell_type": "code",
   "execution_count": 33,
   "id": "e9edbb7f-230e-4d97-a514-1ebdf07b6c08",
   "metadata": {},
   "outputs": [
    {
     "name": "stdout",
     "output_type": "stream",
     "text": [
      "@PaperFury I’m taking this as a personal attack now. 😂😂\n"
     ]
    }
   ],
   "source": [
    "print(text)"
   ]
  },
  {
   "cell_type": "code",
   "execution_count": 34,
   "id": "ff2f11ad-4cc4-42e1-a1e4-34db65f282f4",
   "metadata": {},
   "outputs": [
    {
     "data": {
      "text/plain": [
       "177.11534118652344"
      ]
     },
     "execution_count": 34,
     "metadata": {},
     "output_type": "execute_result"
    }
   ],
   "source": [
    "ppl_calculator(text, context=\"\")"
   ]
  },
  {
   "cell_type": "code",
   "execution_count": 35,
   "id": "14107700-cb7a-4809-860f-0aeaa88c9773",
   "metadata": {},
   "outputs": [
    {
     "name": "stdout",
     "output_type": "stream",
     "text": [
      "@PaperFury I have never said otherwise 💁🏻‍♀️😂 @hannahplusone You’d think that would be common sense 😂 @thatidiotfrank Rude 😂😂😂😂 Or, and just a thought, we could not steal books and potentially ruin authors careers. 🤷🏻‍♀️ @shleyreads ASHLEY YOU BABE 😍😍😍 @srpntsxscorpios Woman go to bed, you’ll find out soon enough 😂😂😂 @srpntsxscorpios 😂😂😂😂😂 @shleyreads ASHLEY IS THIS THE HOT DAD? @bookswithneeks I really wish I could tell you but I am 3 episodes in and can’t figure it out 🤷🏻‍♀️😂 @bookswithneeks Oh I will keep you updated 😂😂 @shleyreads Buuuuuuuy them Ashley 😂 @shleyreads @srpntsxscorpios We have never my claimed otherwise 💁🏻‍♀️😂 @shleyreads … buy it @shleyreads YES YOU CAN Ahhhhh that’s so exciting 🥳🥳🥳🥳 @shleyreads Ummmm gross?! @PaperFury Omg 😂😂😂😂😂 @PaperFury Still a ten 💁🏻‍♀️ @PaperFury All day, every day 💁🏻‍♀️💁🏻‍♀️ A mood @bookswithneeks As someone who is reading it and enjoying it… You’ll probably hate it 😂😂 🥳🥳🥳🥳 The absolute best news to wake up to! 🥳🥳🥳🥳 @PaperFury I did not ask to be called out like that 😂\n"
     ]
    }
   ],
   "source": [
    "context = \" \".join(reversed(updated_sample[1:][\"text\"]))\n",
    "print(context)"
   ]
  },
  {
   "cell_type": "code",
   "execution_count": 36,
   "id": "1faf6c81-18e7-4272-ab72-603bea2c8778",
   "metadata": {},
   "outputs": [
    {
     "data": {
      "text/plain": [
       "11.968624114990234"
      ]
     },
     "execution_count": 36,
     "metadata": {},
     "output_type": "execute_result"
    }
   ],
   "source": [
    "ppl_calculator(text, context=context)"
   ]
  },
  {
   "cell_type": "markdown",
   "id": "1c110949-0de2-40ee-af5d-6f2ffff604b0",
   "metadata": {},
   "source": [
    "Let's see how fast the perplexity decreases as we add on more and more tweets!"
   ]
  },
  {
   "cell_type": "code",
   "execution_count": 37,
   "id": "5c1f0e89-9566-4c03-bed9-aecc5e9a8fb2",
   "metadata": {},
   "outputs": [
    {
     "name": "stdout",
     "output_type": "stream",
     "text": [
      "[177.11534118652344, 32.52310562133789, 32.2797966003418, 33.430545806884766, 14.65011978149414, 16.053264617919922, 17.15653419494629, 17.18528938293457, 16.103225708007812, 15.72437858581543, 14.890024185180664, 14.99577808380127, 14.805232048034668, 14.475643157958984, 13.40746784210205, 14.060617446899414, 12.99242877960205, 12.673209190368652, 12.484917640686035, 12.708534240722656, 12.753255844116211, 12.975131034851074, 12.757884979248047, 11.622344970703125, 11.968624114990234]\n"
     ]
    }
   ],
   "source": [
    "ppl_list = []\n",
    "\n",
    "for n_tweets in range(25):\n",
    "    context = \" \".join(reversed(updated_sample[1:1+n_tweets][\"text\"]))\n",
    "    \n",
    "    ppl_list.append(ppl_calculator(text, context))\n",
    "\n",
    "print(ppl_list)"
   ]
  },
  {
   "cell_type": "code",
   "execution_count": 53,
   "id": "df8e53ae-52cc-468b-9834-136530320f58",
   "metadata": {},
   "outputs": [
    {
     "data": {
      "application/vnd.plotly.v1+json": {
       "config": {
        "plotlyServerURL": "https://plot.ly"
       },
       "data": [
        {
         "hovertemplate": "variable=0<br>index=%{x}<br>value=%{y}<extra></extra>",
         "legendgroup": "0",
         "line": {
          "color": "#636efa",
          "dash": "solid"
         },
         "marker": {
          "symbol": "circle"
         },
         "mode": "markers+lines",
         "name": "0",
         "orientation": "v",
         "showlegend": true,
         "type": "scatter",
         "x": [
          0,
          1,
          2,
          3,
          4,
          5,
          6,
          7,
          8,
          9,
          10,
          11,
          12,
          13,
          14,
          15,
          16,
          17,
          18,
          19,
          20,
          21,
          22,
          23,
          24
         ],
         "xaxis": "x",
         "y": [
          177.11534118652344,
          32.52310562133789,
          32.2797966003418,
          33.430545806884766,
          14.65011978149414,
          16.053264617919922,
          17.15653419494629,
          17.18528938293457,
          16.103225708007812,
          15.72437858581543,
          14.890024185180664,
          14.99577808380127,
          14.805232048034668,
          14.475643157958984,
          13.40746784210205,
          14.060617446899414,
          12.99242877960205,
          12.673209190368652,
          12.484917640686035,
          12.708534240722656,
          12.753255844116211,
          12.975131034851074,
          12.757884979248047,
          11.622344970703125,
          11.968624114990234
         ],
         "yaxis": "y"
        }
       ],
       "layout": {
        "autosize": true,
        "legend": {
         "title": {
          "text": "variable"
         },
         "tracegroupgap": 0
        },
        "template": {
         "data": {
          "bar": [
           {
            "error_x": {
             "color": "#2a3f5f"
            },
            "error_y": {
             "color": "#2a3f5f"
            },
            "marker": {
             "line": {
              "color": "#E5ECF6",
              "width": 0.5
             },
             "pattern": {
              "fillmode": "overlay",
              "size": 10,
              "solidity": 0.2
             }
            },
            "type": "bar"
           }
          ],
          "barpolar": [
           {
            "marker": {
             "line": {
              "color": "#E5ECF6",
              "width": 0.5
             },
             "pattern": {
              "fillmode": "overlay",
              "size": 10,
              "solidity": 0.2
             }
            },
            "type": "barpolar"
           }
          ],
          "carpet": [
           {
            "aaxis": {
             "endlinecolor": "#2a3f5f",
             "gridcolor": "white",
             "linecolor": "white",
             "minorgridcolor": "white",
             "startlinecolor": "#2a3f5f"
            },
            "baxis": {
             "endlinecolor": "#2a3f5f",
             "gridcolor": "white",
             "linecolor": "white",
             "minorgridcolor": "white",
             "startlinecolor": "#2a3f5f"
            },
            "type": "carpet"
           }
          ],
          "choropleth": [
           {
            "colorbar": {
             "outlinewidth": 0,
             "ticks": ""
            },
            "type": "choropleth"
           }
          ],
          "contour": [
           {
            "colorbar": {
             "outlinewidth": 0,
             "ticks": ""
            },
            "colorscale": [
             [
              0,
              "#0d0887"
             ],
             [
              0.1111111111111111,
              "#46039f"
             ],
             [
              0.2222222222222222,
              "#7201a8"
             ],
             [
              0.3333333333333333,
              "#9c179e"
             ],
             [
              0.4444444444444444,
              "#bd3786"
             ],
             [
              0.5555555555555556,
              "#d8576b"
             ],
             [
              0.6666666666666666,
              "#ed7953"
             ],
             [
              0.7777777777777778,
              "#fb9f3a"
             ],
             [
              0.8888888888888888,
              "#fdca26"
             ],
             [
              1,
              "#f0f921"
             ]
            ],
            "type": "contour"
           }
          ],
          "contourcarpet": [
           {
            "colorbar": {
             "outlinewidth": 0,
             "ticks": ""
            },
            "type": "contourcarpet"
           }
          ],
          "heatmap": [
           {
            "colorbar": {
             "outlinewidth": 0,
             "ticks": ""
            },
            "colorscale": [
             [
              0,
              "#0d0887"
             ],
             [
              0.1111111111111111,
              "#46039f"
             ],
             [
              0.2222222222222222,
              "#7201a8"
             ],
             [
              0.3333333333333333,
              "#9c179e"
             ],
             [
              0.4444444444444444,
              "#bd3786"
             ],
             [
              0.5555555555555556,
              "#d8576b"
             ],
             [
              0.6666666666666666,
              "#ed7953"
             ],
             [
              0.7777777777777778,
              "#fb9f3a"
             ],
             [
              0.8888888888888888,
              "#fdca26"
             ],
             [
              1,
              "#f0f921"
             ]
            ],
            "type": "heatmap"
           }
          ],
          "heatmapgl": [
           {
            "colorbar": {
             "outlinewidth": 0,
             "ticks": ""
            },
            "colorscale": [
             [
              0,
              "#0d0887"
             ],
             [
              0.1111111111111111,
              "#46039f"
             ],
             [
              0.2222222222222222,
              "#7201a8"
             ],
             [
              0.3333333333333333,
              "#9c179e"
             ],
             [
              0.4444444444444444,
              "#bd3786"
             ],
             [
              0.5555555555555556,
              "#d8576b"
             ],
             [
              0.6666666666666666,
              "#ed7953"
             ],
             [
              0.7777777777777778,
              "#fb9f3a"
             ],
             [
              0.8888888888888888,
              "#fdca26"
             ],
             [
              1,
              "#f0f921"
             ]
            ],
            "type": "heatmapgl"
           }
          ],
          "histogram": [
           {
            "marker": {
             "pattern": {
              "fillmode": "overlay",
              "size": 10,
              "solidity": 0.2
             }
            },
            "type": "histogram"
           }
          ],
          "histogram2d": [
           {
            "colorbar": {
             "outlinewidth": 0,
             "ticks": ""
            },
            "colorscale": [
             [
              0,
              "#0d0887"
             ],
             [
              0.1111111111111111,
              "#46039f"
             ],
             [
              0.2222222222222222,
              "#7201a8"
             ],
             [
              0.3333333333333333,
              "#9c179e"
             ],
             [
              0.4444444444444444,
              "#bd3786"
             ],
             [
              0.5555555555555556,
              "#d8576b"
             ],
             [
              0.6666666666666666,
              "#ed7953"
             ],
             [
              0.7777777777777778,
              "#fb9f3a"
             ],
             [
              0.8888888888888888,
              "#fdca26"
             ],
             [
              1,
              "#f0f921"
             ]
            ],
            "type": "histogram2d"
           }
          ],
          "histogram2dcontour": [
           {
            "colorbar": {
             "outlinewidth": 0,
             "ticks": ""
            },
            "colorscale": [
             [
              0,
              "#0d0887"
             ],
             [
              0.1111111111111111,
              "#46039f"
             ],
             [
              0.2222222222222222,
              "#7201a8"
             ],
             [
              0.3333333333333333,
              "#9c179e"
             ],
             [
              0.4444444444444444,
              "#bd3786"
             ],
             [
              0.5555555555555556,
              "#d8576b"
             ],
             [
              0.6666666666666666,
              "#ed7953"
             ],
             [
              0.7777777777777778,
              "#fb9f3a"
             ],
             [
              0.8888888888888888,
              "#fdca26"
             ],
             [
              1,
              "#f0f921"
             ]
            ],
            "type": "histogram2dcontour"
           }
          ],
          "mesh3d": [
           {
            "colorbar": {
             "outlinewidth": 0,
             "ticks": ""
            },
            "type": "mesh3d"
           }
          ],
          "parcoords": [
           {
            "line": {
             "colorbar": {
              "outlinewidth": 0,
              "ticks": ""
             }
            },
            "type": "parcoords"
           }
          ],
          "pie": [
           {
            "automargin": true,
            "type": "pie"
           }
          ],
          "scatter": [
           {
            "fillpattern": {
             "fillmode": "overlay",
             "size": 10,
             "solidity": 0.2
            },
            "type": "scatter"
           }
          ],
          "scatter3d": [
           {
            "line": {
             "colorbar": {
              "outlinewidth": 0,
              "ticks": ""
             }
            },
            "marker": {
             "colorbar": {
              "outlinewidth": 0,
              "ticks": ""
             }
            },
            "type": "scatter3d"
           }
          ],
          "scattercarpet": [
           {
            "marker": {
             "colorbar": {
              "outlinewidth": 0,
              "ticks": ""
             }
            },
            "type": "scattercarpet"
           }
          ],
          "scattergeo": [
           {
            "marker": {
             "colorbar": {
              "outlinewidth": 0,
              "ticks": ""
             }
            },
            "type": "scattergeo"
           }
          ],
          "scattergl": [
           {
            "marker": {
             "colorbar": {
              "outlinewidth": 0,
              "ticks": ""
             }
            },
            "type": "scattergl"
           }
          ],
          "scattermapbox": [
           {
            "marker": {
             "colorbar": {
              "outlinewidth": 0,
              "ticks": ""
             }
            },
            "type": "scattermapbox"
           }
          ],
          "scatterpolar": [
           {
            "marker": {
             "colorbar": {
              "outlinewidth": 0,
              "ticks": ""
             }
            },
            "type": "scatterpolar"
           }
          ],
          "scatterpolargl": [
           {
            "marker": {
             "colorbar": {
              "outlinewidth": 0,
              "ticks": ""
             }
            },
            "type": "scatterpolargl"
           }
          ],
          "scatterternary": [
           {
            "marker": {
             "colorbar": {
              "outlinewidth": 0,
              "ticks": ""
             }
            },
            "type": "scatterternary"
           }
          ],
          "surface": [
           {
            "colorbar": {
             "outlinewidth": 0,
             "ticks": ""
            },
            "colorscale": [
             [
              0,
              "#0d0887"
             ],
             [
              0.1111111111111111,
              "#46039f"
             ],
             [
              0.2222222222222222,
              "#7201a8"
             ],
             [
              0.3333333333333333,
              "#9c179e"
             ],
             [
              0.4444444444444444,
              "#bd3786"
             ],
             [
              0.5555555555555556,
              "#d8576b"
             ],
             [
              0.6666666666666666,
              "#ed7953"
             ],
             [
              0.7777777777777778,
              "#fb9f3a"
             ],
             [
              0.8888888888888888,
              "#fdca26"
             ],
             [
              1,
              "#f0f921"
             ]
            ],
            "type": "surface"
           }
          ],
          "table": [
           {
            "cells": {
             "fill": {
              "color": "#EBF0F8"
             },
             "line": {
              "color": "white"
             }
            },
            "header": {
             "fill": {
              "color": "#C8D4E3"
             },
             "line": {
              "color": "white"
             }
            },
            "type": "table"
           }
          ]
         },
         "layout": {
          "annotationdefaults": {
           "arrowcolor": "#2a3f5f",
           "arrowhead": 0,
           "arrowwidth": 1
          },
          "autotypenumbers": "strict",
          "coloraxis": {
           "colorbar": {
            "outlinewidth": 0,
            "ticks": ""
           }
          },
          "colorscale": {
           "diverging": [
            [
             0,
             "#8e0152"
            ],
            [
             0.1,
             "#c51b7d"
            ],
            [
             0.2,
             "#de77ae"
            ],
            [
             0.3,
             "#f1b6da"
            ],
            [
             0.4,
             "#fde0ef"
            ],
            [
             0.5,
             "#f7f7f7"
            ],
            [
             0.6,
             "#e6f5d0"
            ],
            [
             0.7,
             "#b8e186"
            ],
            [
             0.8,
             "#7fbc41"
            ],
            [
             0.9,
             "#4d9221"
            ],
            [
             1,
             "#276419"
            ]
           ],
           "sequential": [
            [
             0,
             "#0d0887"
            ],
            [
             0.1111111111111111,
             "#46039f"
            ],
            [
             0.2222222222222222,
             "#7201a8"
            ],
            [
             0.3333333333333333,
             "#9c179e"
            ],
            [
             0.4444444444444444,
             "#bd3786"
            ],
            [
             0.5555555555555556,
             "#d8576b"
            ],
            [
             0.6666666666666666,
             "#ed7953"
            ],
            [
             0.7777777777777778,
             "#fb9f3a"
            ],
            [
             0.8888888888888888,
             "#fdca26"
            ],
            [
             1,
             "#f0f921"
            ]
           ],
           "sequentialminus": [
            [
             0,
             "#0d0887"
            ],
            [
             0.1111111111111111,
             "#46039f"
            ],
            [
             0.2222222222222222,
             "#7201a8"
            ],
            [
             0.3333333333333333,
             "#9c179e"
            ],
            [
             0.4444444444444444,
             "#bd3786"
            ],
            [
             0.5555555555555556,
             "#d8576b"
            ],
            [
             0.6666666666666666,
             "#ed7953"
            ],
            [
             0.7777777777777778,
             "#fb9f3a"
            ],
            [
             0.8888888888888888,
             "#fdca26"
            ],
            [
             1,
             "#f0f921"
            ]
           ]
          },
          "colorway": [
           "#636efa",
           "#EF553B",
           "#00cc96",
           "#ab63fa",
           "#FFA15A",
           "#19d3f3",
           "#FF6692",
           "#B6E880",
           "#FF97FF",
           "#FECB52"
          ],
          "font": {
           "color": "#2a3f5f"
          },
          "geo": {
           "bgcolor": "white",
           "lakecolor": "white",
           "landcolor": "#E5ECF6",
           "showlakes": true,
           "showland": true,
           "subunitcolor": "white"
          },
          "hoverlabel": {
           "align": "left"
          },
          "hovermode": "closest",
          "mapbox": {
           "style": "light"
          },
          "paper_bgcolor": "white",
          "plot_bgcolor": "#E5ECF6",
          "polar": {
           "angularaxis": {
            "gridcolor": "white",
            "linecolor": "white",
            "ticks": ""
           },
           "bgcolor": "#E5ECF6",
           "radialaxis": {
            "gridcolor": "white",
            "linecolor": "white",
            "ticks": ""
           }
          },
          "scene": {
           "xaxis": {
            "backgroundcolor": "#E5ECF6",
            "gridcolor": "white",
            "gridwidth": 2,
            "linecolor": "white",
            "showbackground": true,
            "ticks": "",
            "zerolinecolor": "white"
           },
           "yaxis": {
            "backgroundcolor": "#E5ECF6",
            "gridcolor": "white",
            "gridwidth": 2,
            "linecolor": "white",
            "showbackground": true,
            "ticks": "",
            "zerolinecolor": "white"
           },
           "zaxis": {
            "backgroundcolor": "#E5ECF6",
            "gridcolor": "white",
            "gridwidth": 2,
            "linecolor": "white",
            "showbackground": true,
            "ticks": "",
            "zerolinecolor": "white"
           }
          },
          "shapedefaults": {
           "line": {
            "color": "#2a3f5f"
           }
          },
          "ternary": {
           "aaxis": {
            "gridcolor": "white",
            "linecolor": "white",
            "ticks": ""
           },
           "baxis": {
            "gridcolor": "white",
            "linecolor": "white",
            "ticks": ""
           },
           "bgcolor": "#E5ECF6",
           "caxis": {
            "gridcolor": "white",
            "linecolor": "white",
            "ticks": ""
           }
          },
          "title": {
           "x": 0.05
          },
          "xaxis": {
           "automargin": true,
           "gridcolor": "white",
           "linecolor": "white",
           "ticks": "",
           "title": {
            "standoff": 15
           },
           "zerolinecolor": "white",
           "zerolinewidth": 2
          },
          "yaxis": {
           "automargin": true,
           "gridcolor": "white",
           "linecolor": "white",
           "ticks": "",
           "title": {
            "standoff": 15
           },
           "zerolinecolor": "white",
           "zerolinewidth": 2
          }
         }
        },
        "title": {
         "text": "PPL(@PaperFury I’m taking this as a personal attack now. 😂😂)"
        },
        "xaxis": {
         "anchor": "y",
         "domain": [
          0,
          1
         ],
         "range": [
          0,
          25
         ],
         "title": {
          "text": "num of tweets (context)"
         },
         "type": "linear"
        },
        "yaxis": {
         "anchor": "x",
         "autorange": true,
         "domain": [
          0,
          1
         ],
         "range": [
          -2.0348440373985515,
          190.77253019462512
         ],
         "title": {
          "text": "perplexity"
         },
         "type": "linear"
        }
       }
      },
      "image/png": "[encoded data removed]",
      "text/html": [
       "<div>                            <div id=\"9f61c2a1-b568-46fc-b319-2cf6740a6d30\" class=\"plotly-graph-div\" style=\"height:525px; width:100%;\"></div>            <script type=\"text/javascript\">                require([\"plotly\"], function(Plotly) {                    window.PLOTLYENV=window.PLOTLYENV || {};                                    if (document.getElementById(\"9f61c2a1-b568-46fc-b319-2cf6740a6d30\")) {                    Plotly.newPlot(                        \"9f61c2a1-b568-46fc-b319-2cf6740a6d30\",                        [{\"hovertemplate\":\"variable=0<br>index=%{x}<br>value=%{y}<extra></extra>\",\"legendgroup\":\"0\",\"line\":{\"color\":\"#636efa\",\"dash\":\"solid\"},\"marker\":{\"symbol\":\"circle\"},\"mode\":\"markers+lines\",\"name\":\"0\",\"orientation\":\"v\",\"showlegend\":true,\"x\":[0,1,2,3,4,5,6,7,8,9,10,11,12,13,14,15,16,17,18,19,20,21,22,23,24],\"xaxis\":\"x\",\"y\":[177.11534118652344,32.52310562133789,32.2797966003418,33.430545806884766,14.65011978149414,16.053264617919922,17.15653419494629,17.18528938293457,16.103225708007812,15.72437858581543,14.890024185180664,14.99577808380127,14.805232048034668,14.475643157958984,13.40746784210205,14.060617446899414,12.99242877960205,12.673209190368652,12.484917640686035,12.708534240722656,12.753255844116211,12.975131034851074,12.757884979248047,11.622344970703125,11.968624114990234],\"yaxis\":\"y\",\"type\":\"scatter\"}],                        {\"template\":{\"data\":{\"histogram2dcontour\":[{\"type\":\"histogram2dcontour\",\"colorbar\":{\"outlinewidth\":0,\"ticks\":\"\"},\"colorscale\":[[0.0,\"#0d0887\"],[0.1111111111111111,\"#46039f\"],[0.2222222222222222,\"#7201a8\"],[0.3333333333333333,\"#9c179e\"],[0.4444444444444444,\"#bd3786\"],[0.5555555555555556,\"#d8576b\"],[0.6666666666666666,\"#ed7953\"],[0.7777777777777778,\"#fb9f3a\"],[0.8888888888888888,\"#fdca26\"],[1.0,\"#f0f921\"]]}],\"choropleth\":[{\"type\":\"choropleth\",\"colorbar\":{\"outlinewidth\":0,\"ticks\":\"\"}}],\"histogram2d\":[{\"type\":\"histogram2d\",\"colorbar\":{\"outlinewidth\":0,\"ticks\":\"\"},\"colorscale\":[[0.0,\"#0d0887\"],[0.1111111111111111,\"#46039f\"],[0.2222222222222222,\"#7201a8\"],[0.3333333333333333,\"#9c179e\"],[0.4444444444444444,\"#bd3786\"],[0.5555555555555556,\"#d8576b\"],[0.6666666666666666,\"#ed7953\"],[0.7777777777777778,\"#fb9f3a\"],[0.8888888888888888,\"#fdca26\"],[1.0,\"#f0f921\"]]}],\"heatmap\":[{\"type\":\"heatmap\",\"colorbar\":{\"outlinewidth\":0,\"ticks\":\"\"},\"colorscale\":[[0.0,\"#0d0887\"],[0.1111111111111111,\"#46039f\"],[0.2222222222222222,\"#7201a8\"],[0.3333333333333333,\"#9c179e\"],[0.4444444444444444,\"#bd3786\"],[0.5555555555555556,\"#d8576b\"],[0.6666666666666666,\"#ed7953\"],[0.7777777777777778,\"#fb9f3a\"],[0.8888888888888888,\"#fdca26\"],[1.0,\"#f0f921\"]]}],\"heatmapgl\":[{\"type\":\"heatmapgl\",\"colorbar\":{\"outlinewidth\":0,\"ticks\":\"\"},\"colorscale\":[[0.0,\"#0d0887\"],[0.1111111111111111,\"#46039f\"],[0.2222222222222222,\"#7201a8\"],[0.3333333333333333,\"#9c179e\"],[0.4444444444444444,\"#bd3786\"],[0.5555555555555556,\"#d8576b\"],[0.6666666666666666,\"#ed7953\"],[0.7777777777777778,\"#fb9f3a\"],[0.8888888888888888,\"#fdca26\"],[1.0,\"#f0f921\"]]}],\"contourcarpet\":[{\"type\":\"contourcarpet\",\"colorbar\":{\"outlinewidth\":0,\"ticks\":\"\"}}],\"contour\":[{\"type\":\"contour\",\"colorbar\":{\"outlinewidth\":0,\"ticks\":\"\"},\"colorscale\":[[0.0,\"#0d0887\"],[0.1111111111111111,\"#46039f\"],[0.2222222222222222,\"#7201a8\"],[0.3333333333333333,\"#9c179e\"],[0.4444444444444444,\"#bd3786\"],[0.5555555555555556,\"#d8576b\"],[0.6666666666666666,\"#ed7953\"],[0.7777777777777778,\"#fb9f3a\"],[0.8888888888888888,\"#fdca26\"],[1.0,\"#f0f921\"]]}],\"surface\":[{\"type\":\"surface\",\"colorbar\":{\"outlinewidth\":0,\"ticks\":\"\"},\"colorscale\":[[0.0,\"#0d0887\"],[0.1111111111111111,\"#46039f\"],[0.2222222222222222,\"#7201a8\"],[0.3333333333333333,\"#9c179e\"],[0.4444444444444444,\"#bd3786\"],[0.5555555555555556,\"#d8576b\"],[0.6666666666666666,\"#ed7953\"],[0.7777777777777778,\"#fb9f3a\"],[0.8888888888888888,\"#fdca26\"],[1.0,\"#f0f921\"]]}],\"mesh3d\":[{\"type\":\"mesh3d\",\"colorbar\":{\"outlinewidth\":0,\"ticks\":\"\"}}],\"scatter\":[{\"fillpattern\":{\"fillmode\":\"overlay\",\"size\":10,\"solidity\":0.2},\"type\":\"scatter\"}],\"parcoords\":[{\"type\":\"parcoords\",\"line\":{\"colorbar\":{\"outlinewidth\":0,\"ticks\":\"\"}}}],\"scatterpolargl\":[{\"type\":\"scatterpolargl\",\"marker\":{\"colorbar\":{\"outlinewidth\":0,\"ticks\":\"\"}}}],\"bar\":[{\"error_x\":{\"color\":\"#2a3f5f\"},\"error_y\":{\"color\":\"#2a3f5f\"},\"marker\":{\"line\":{\"color\":\"#E5ECF6\",\"width\":0.5},\"pattern\":{\"fillmode\":\"overlay\",\"size\":10,\"solidity\":0.2}},\"type\":\"bar\"}],\"scattergeo\":[{\"type\":\"scattergeo\",\"marker\":{\"colorbar\":{\"outlinewidth\":0,\"ticks\":\"\"}}}],\"scatterpolar\":[{\"type\":\"scatterpolar\",\"marker\":{\"colorbar\":{\"outlinewidth\":0,\"ticks\":\"\"}}}],\"histogram\":[{\"marker\":{\"pattern\":{\"fillmode\":\"overlay\",\"size\":10,\"solidity\":0.2}},\"type\":\"histogram\"}],\"scattergl\":[{\"type\":\"scattergl\",\"marker\":{\"colorbar\":{\"outlinewidth\":0,\"ticks\":\"\"}}}],\"scatter3d\":[{\"type\":\"scatter3d\",\"line\":{\"colorbar\":{\"outlinewidth\":0,\"ticks\":\"\"}},\"marker\":{\"colorbar\":{\"outlinewidth\":0,\"ticks\":\"\"}}}],\"scattermapbox\":[{\"type\":\"scattermapbox\",\"marker\":{\"colorbar\":{\"outlinewidth\":0,\"ticks\":\"\"}}}],\"scatterternary\":[{\"type\":\"scatterternary\",\"marker\":{\"colorbar\":{\"outlinewidth\":0,\"ticks\":\"\"}}}],\"scattercarpet\":[{\"type\":\"scattercarpet\",\"marker\":{\"colorbar\":{\"outlinewidth\":0,\"ticks\":\"\"}}}],\"carpet\":[{\"aaxis\":{\"endlinecolor\":\"#2a3f5f\",\"gridcolor\":\"white\",\"linecolor\":\"white\",\"minorgridcolor\":\"white\",\"startlinecolor\":\"#2a3f5f\"},\"baxis\":{\"endlinecolor\":\"#2a3f5f\",\"gridcolor\":\"white\",\"linecolor\":\"white\",\"minorgridcolor\":\"white\",\"startlinecolor\":\"#2a3f5f\"},\"type\":\"carpet\"}],\"table\":[{\"cells\":{\"fill\":{\"color\":\"#EBF0F8\"},\"line\":{\"color\":\"white\"}},\"header\":{\"fill\":{\"color\":\"#C8D4E3\"},\"line\":{\"color\":\"white\"}},\"type\":\"table\"}],\"barpolar\":[{\"marker\":{\"line\":{\"color\":\"#E5ECF6\",\"width\":0.5},\"pattern\":{\"fillmode\":\"overlay\",\"size\":10,\"solidity\":0.2}},\"type\":\"barpolar\"}],\"pie\":[{\"automargin\":true,\"type\":\"pie\"}]},\"layout\":{\"autotypenumbers\":\"strict\",\"colorway\":[\"#636efa\",\"#EF553B\",\"#00cc96\",\"#ab63fa\",\"#FFA15A\",\"#19d3f3\",\"#FF6692\",\"#B6E880\",\"#FF97FF\",\"#FECB52\"],\"font\":{\"color\":\"#2a3f5f\"},\"hovermode\":\"closest\",\"hoverlabel\":{\"align\":\"left\"},\"paper_bgcolor\":\"white\",\"plot_bgcolor\":\"#E5ECF6\",\"polar\":{\"bgcolor\":\"#E5ECF6\",\"angularaxis\":{\"gridcolor\":\"white\",\"linecolor\":\"white\",\"ticks\":\"\"},\"radialaxis\":{\"gridcolor\":\"white\",\"linecolor\":\"white\",\"ticks\":\"\"}},\"ternary\":{\"bgcolor\":\"#E5ECF6\",\"aaxis\":{\"gridcolor\":\"white\",\"linecolor\":\"white\",\"ticks\":\"\"},\"baxis\":{\"gridcolor\":\"white\",\"linecolor\":\"white\",\"ticks\":\"\"},\"caxis\":{\"gridcolor\":\"white\",\"linecolor\":\"white\",\"ticks\":\"\"}},\"coloraxis\":{\"colorbar\":{\"outlinewidth\":0,\"ticks\":\"\"}},\"colorscale\":{\"sequential\":[[0.0,\"#0d0887\"],[0.1111111111111111,\"#46039f\"],[0.2222222222222222,\"#7201a8\"],[0.3333333333333333,\"#9c179e\"],[0.4444444444444444,\"#bd3786\"],[0.5555555555555556,\"#d8576b\"],[0.6666666666666666,\"#ed7953\"],[0.7777777777777778,\"#fb9f3a\"],[0.8888888888888888,\"#fdca26\"],[1.0,\"#f0f921\"]],\"sequentialminus\":[[0.0,\"#0d0887\"],[0.1111111111111111,\"#46039f\"],[0.2222222222222222,\"#7201a8\"],[0.3333333333333333,\"#9c179e\"],[0.4444444444444444,\"#bd3786\"],[0.5555555555555556,\"#d8576b\"],[0.6666666666666666,\"#ed7953\"],[0.7777777777777778,\"#fb9f3a\"],[0.8888888888888888,\"#fdca26\"],[1.0,\"#f0f921\"]],\"diverging\":[[0,\"#8e0152\"],[0.1,\"#c51b7d\"],[0.2,\"#de77ae\"],[0.3,\"#f1b6da\"],[0.4,\"#fde0ef\"],[0.5,\"#f7f7f7\"],[0.6,\"#e6f5d0\"],[0.7,\"#b8e186\"],[0.8,\"#7fbc41\"],[0.9,\"#4d9221\"],[1,\"#276419\"]]},\"xaxis\":{\"gridcolor\":\"white\",\"linecolor\":\"white\",\"ticks\":\"\",\"title\":{\"standoff\":15},\"zerolinecolor\":\"white\",\"automargin\":true,\"zerolinewidth\":2},\"yaxis\":{\"gridcolor\":\"white\",\"linecolor\":\"white\",\"ticks\":\"\",\"title\":{\"standoff\":15},\"zerolinecolor\":\"white\",\"automargin\":true,\"zerolinewidth\":2},\"scene\":{\"xaxis\":{\"backgroundcolor\":\"#E5ECF6\",\"gridcolor\":\"white\",\"linecolor\":\"white\",\"showbackground\":true,\"ticks\":\"\",\"zerolinecolor\":\"white\",\"gridwidth\":2},\"yaxis\":{\"backgroundcolor\":\"#E5ECF6\",\"gridcolor\":\"white\",\"linecolor\":\"white\",\"showbackground\":true,\"ticks\":\"\",\"zerolinecolor\":\"white\",\"gridwidth\":2},\"zaxis\":{\"backgroundcolor\":\"#E5ECF6\",\"gridcolor\":\"white\",\"linecolor\":\"white\",\"showbackground\":true,\"ticks\":\"\",\"zerolinecolor\":\"white\",\"gridwidth\":2}},\"shapedefaults\":{\"line\":{\"color\":\"#2a3f5f\"}},\"annotationdefaults\":{\"arrowcolor\":\"#2a3f5f\",\"arrowhead\":0,\"arrowwidth\":1},\"geo\":{\"bgcolor\":\"white\",\"landcolor\":\"#E5ECF6\",\"subunitcolor\":\"white\",\"showland\":true,\"showlakes\":true,\"lakecolor\":\"white\"},\"title\":{\"x\":0.05},\"mapbox\":{\"style\":\"light\"}}},\"xaxis\":{\"anchor\":\"y\",\"domain\":[0.0,1.0],\"title\":{\"text\":\"num of tweets (context)\"},\"range\":[0,25]},\"yaxis\":{\"anchor\":\"x\",\"domain\":[0.0,1.0],\"title\":{\"text\":\"perplexity\"}},\"legend\":{\"title\":{\"text\":\"variable\"},\"tracegroupgap\":0},\"title\":{\"text\":\"PPL(@PaperFury I\\u2019m taking this as a personal attack now. \\ud83d\\ude02\\ud83d\\ude02)\"}},                        {\"responsive\": true}                    ).then(function(){\n",
       "                            \n",
       "var gd = document.getElementById('9f61c2a1-b568-46fc-b319-2cf6740a6d30');\n",
       "var x = new MutationObserver(function (mutations, observer) {{\n",
       "        var display = window.getComputedStyle(gd).display;\n",
       "        if (!display || display === 'none') {{\n",
       "            console.log([gd, 'removed!']);\n",
       "            Plotly.purge(gd);\n",
       "            observer.disconnect();\n",
       "        }}\n",
       "}});\n",
       "\n",
       "// Listen for the removal of the full notebook cells\n",
       "var notebookContainer = gd.closest('#notebook-container');\n",
       "if (notebookContainer) {{\n",
       "    x.observe(notebookContainer, {childList: true});\n",
       "}}\n",
       "\n",
       "// Listen for the clearing of the current output cell\n",
       "var outputEl = gd.closest('.output');\n",
       "if (outputEl) {{\n",
       "    x.observe(outputEl, {childList: true});\n",
       "}}\n",
       "\n",
       "                        })                };                });            </script>        </div>"
      ]
     },
     "metadata": {},
     "output_type": "display_data"
    }
   ],
   "source": [
    "fig = px.line(ppl_list, markers=True, title=f\"PPL({text})\")\n",
    "\n",
    "fig.update_yaxes(title=\"perplexity\")\n",
    "fig.update_xaxes(title=\"num of tweets (context)\", range=(0,25))"
   ]
  },
  {
   "cell_type": "markdown",
   "id": "ecbfa0fe-b392-42ca-8848-82b625e0cd7d",
   "metadata": {},
   "source": [
    "~~Btw getting perplexity down to ~12 is very good, especially since Bagrow et al. (2019)'s average user had an entropy of $h=6$, which means that the perplexity was $2^h=64$. An interpreteation of this is that the model is as confused as having to predict uniformly randomly among 64 words. Our model on the other hand is only as confused as having to choose uniformly randomly among 12 words!~~\n",
    "\n",
    "~~In conclusion, the non-finetuned, context-fed gpt-2 model is able to beat Bagrow et al.'s \"best algorithm\" estimate!~~\n",
    "\n",
    "You can't compare the two results - Bagrow et al. uses word-level entropy, we use token-level. They measure information in bits, here it's in nats. They have a vocabulary of 5000, we have 50000. The list goes on."
   ]
  },
  {
   "cell_type": "markdown",
   "id": "148b3f4b-3f24-413e-9470-fdcf0be59041",
   "metadata": {},
   "source": [
    "# Peer tweets"
   ]
  },
  {
   "cell_type": "markdown",
   "id": "10e5a8a8-678a-4068-9013-2f7ecc80ed1d",
   "metadata": {},
   "source": [
    "## Peers"
   ]
  },
  {
   "cell_type": "code",
   "execution_count": 39,
   "id": "d16a3452-2926-43dc-8851-6bd9bcdf6e9d",
   "metadata": {},
   "outputs": [
    {
     "data": {
      "text/plain": [
       "'1308026329'"
      ]
     },
     "execution_count": 39,
     "metadata": {},
     "output_type": "execute_result"
    }
   ],
   "source": [
    "subject[\"id\"]"
   ]
  },
  {
   "cell_type": "code",
   "execution_count": 40,
   "id": "d39d8ee3-3ede-4697-b52c-c2d144a21145",
   "metadata": {},
   "outputs": [
    {
     "name": "stdout",
     "output_type": "stream",
     "text": [
      "username: thatidiotfrank / mentioned 79 times / num tweets: 99\n",
      "username: tea_readss / mentioned 51 times / num tweets: 96\n",
      "username: PaperFury / mentioned 40 times / num tweets: 94\n",
      "username: thecosyreader / mentioned 14 times / num tweets: 90\n",
      "username: SundayLuxe / mentioned 9 times / num tweets: 28\n",
      "username: shleyreads / mentioned 7 times / num tweets: 98\n",
      "username: sofiaecasanova / mentioned 7 times / num tweets: 85\n",
      "username: Explore_a_thon / mentioned 6 times / num tweets: 100\n",
      "username: bookswithneeks / mentioned 5 times / num tweets: 97\n",
      "username: ashmcl_ / mentioned 5 times / num tweets: 94\n",
      "username: udeadah / mentioned 4 times / num tweets: 83\n",
      "username: DateaBook / mentioned 4 times / num tweets: 100\n"
     ]
    }
   ],
   "source": [
    "peers_list = list(peers_collection.find({\"mentioned_by.id\": subject[\"id\"]}, {\"_id\": 0}))\n",
    "\n",
    "for peer in peers_list:\n",
    "    mention = next( filter(lambda x: x[\"id\"] == subject[\"id\"] , peer[\"mentioned_by\"]), None )\n",
    "    print(f\"username: {peer['username']} / mentioned {mention['num_mentions']} times / num tweets: {peer['timeline_tweets_count']}\")"
   ]
  },
  {
   "cell_type": "markdown",
   "id": "e72cbdad-e658-48ae-baf8-aa27eb1d018e",
   "metadata": {},
   "source": [
    "There are 12 peers, so if we get 3 tweets each we should have more than enough to reproduce the above results..."
   ]
  },
  {
   "cell_type": "code",
   "execution_count": 41,
   "id": "27c1425d-56cf-425b-9b93-8f42aba1af8f",
   "metadata": {},
   "outputs": [],
   "source": [
    "peer_tweets = []\n",
    "for peer in peers_list:\n",
    "    user_tweets = list(timelines_collection.find({\"author_id\": peer['id'], \"referenced_tweets.type\": {\"$ne\": \"retweeted\"}}, {\"_id\": 0}).limit(3))\n",
    "    peer_tweets.extend(user_tweets)"
   ]
  },
  {
   "cell_type": "markdown",
   "id": "becca2dc-8904-414e-b9f0-1afe0516a202",
   "metadata": {},
   "source": [
    "### Peers dataset"
   ]
  },
  {
   "cell_type": "code",
   "execution_count": 42,
   "id": "f0fa8bb2-15d8-4cec-8167-d209626f7207",
   "metadata": {},
   "outputs": [
    {
     "name": "stdout",
     "output_type": "stream",
     "text": [
      "@389514735: i’m so glad i started making reaction videos on youtube and i love making those videos but the comments i get on that channel are something else compared to booktube omfg\n",
      "@1060512485319438336: I’ve been to the climbing gym like 4 times maybe now and each time between me coming is at least a month so any progress I make is lost and basically all of this is to say I suck at climbing like so damn bad it’s kinda embarrassing\n",
      "@1073702576418304000: Full offence if you’re on school holidays right now I hate you\n",
      "I’m over work telling me to take my excess leave but then turning around and saying JK THERE ISN’T ANY AVAILABLE\n"
     ]
    }
   ],
   "source": [
    "peers_dataset = Dataset.from_list(peer_tweets).shuffle(56)\n",
    "\n",
    "for tweet in peers_dataset.select(range(3)):\n",
    "    print(f\"@{tweet['author_id']}: {tweet['text']}\")"
   ]
  },
  {
   "cell_type": "markdown",
   "id": "2b4cbf8e-b27d-4e18-a09d-0d0f77e4814d",
   "metadata": {},
   "source": [
    "#### Preprocess"
   ]
  },
  {
   "cell_type": "code",
   "execution_count": 43,
   "id": "2d702385-1222-4ceb-b276-5e1f758473d3",
   "metadata": {},
   "outputs": [
    {
     "data": {
      "application/vnd.jupyter.widget-view+json": {
       "model_id": "a55fc0d0901c4ff2b946ddbd6ec01582",
       "version_major": 2,
       "version_minor": 0
      },
      "text/plain": [
       "  0%|          | 0/36 [00:00<?, ?ex/s]"
      ]
     },
     "metadata": {},
     "output_type": "display_data"
    },
    {
     "data": {
      "application/vnd.jupyter.widget-view+json": {
       "model_id": "30e63a959be84ef1990b0d3950d7311f",
       "version_major": 2,
       "version_minor": 0
      },
      "text/plain": [
       "  0%|          | 0/36 [00:00<?, ?ex/s]"
      ]
     },
     "metadata": {},
     "output_type": "display_data"
    }
   ],
   "source": [
    "peers_dataset = peers_dataset.map(remove_urls).map(remove_extra_spaces)"
   ]
  },
  {
   "cell_type": "markdown",
   "id": "7fe0ca83-f69d-4caa-835c-509ccbcfb787",
   "metadata": {},
   "source": [
    "### Perplexity on a mixed set of peer tweets"
   ]
  },
  {
   "cell_type": "code",
   "execution_count": 44,
   "id": "0a7e7ac9-94a7-4f76-9dff-afa4cd22be6c",
   "metadata": {},
   "outputs": [
    {
     "data": {
      "text/plain": [
       "'@PaperFury I’m taking this as a personal attack now. 😂😂'"
      ]
     },
     "execution_count": 44,
     "metadata": {},
     "output_type": "execute_result"
    }
   ],
   "source": [
    "text"
   ]
  },
  {
   "cell_type": "code",
   "execution_count": 45,
   "id": "53d5ce66-a550-4796-a7ba-27295bd3be13",
   "metadata": {},
   "outputs": [],
   "source": [
    "peer_ppl_list = []\n",
    "\n",
    "for n_tweets in range(25):\n",
    "    context = \" \".join(reversed(peers_dataset[:n_tweets][\"text\"]))\n",
    "    \n",
    "    peer_ppl_list.append(ppl_calculator(text, context))"
   ]
  },
  {
   "cell_type": "code",
   "execution_count": 54,
   "id": "b69a565b-ee2c-4f03-8655-808be6e514da",
   "metadata": {},
   "outputs": [
    {
     "data": {
      "application/vnd.plotly.v1+json": {
       "config": {
        "plotlyServerURL": "https://plot.ly"
       },
       "data": [
        {
         "hovertemplate": "variable=0<br>index=%{x}<br>value=%{y}<extra></extra>",
         "legendgroup": "0",
         "line": {
          "color": "#636efa",
          "dash": "solid"
         },
         "marker": {
          "symbol": "circle"
         },
         "mode": "markers+lines",
         "name": "0",
         "orientation": "v",
         "showlegend": true,
         "type": "scatter",
         "x": [
          0,
          1,
          2,
          3,
          4,
          5,
          6,
          7,
          8,
          9,
          10,
          11,
          12,
          13,
          14,
          15,
          16,
          17,
          18,
          19,
          20,
          21,
          22,
          23,
          24
         ],
         "xaxis": "x",
         "y": [
          177.11534118652344,
          58.30949401855469,
          56.97774124145508,
          43.468605041503906,
          32.724822998046875,
          31.660566329956055,
          32.98227310180664,
          31.505584716796875,
          31.608169555664062,
          31.60826873779297,
          32.01243209838867,
          32.10383605957031,
          32.6787223815918,
          32.83623123168945,
          33.37002182006836,
          33.898258209228516,
          32.18319320678711,
          32.526432037353516,
          31.405553817749023,
          31.034393310546875,
          31.31633758544922,
          30.96250343322754,
          31.018163681030273,
          32.04538345336914,
          32.7384033203125
         ],
         "yaxis": "y"
        }
       ],
       "layout": {
        "autosize": true,
        "legend": {
         "title": {
          "text": "variable"
         },
         "tracegroupgap": 0
        },
        "template": {
         "data": {
          "bar": [
           {
            "error_x": {
             "color": "#2a3f5f"
            },
            "error_y": {
             "color": "#2a3f5f"
            },
            "marker": {
             "line": {
              "color": "#E5ECF6",
              "width": 0.5
             },
             "pattern": {
              "fillmode": "overlay",
              "size": 10,
              "solidity": 0.2
             }
            },
            "type": "bar"
           }
          ],
          "barpolar": [
           {
            "marker": {
             "line": {
              "color": "#E5ECF6",
              "width": 0.5
             },
             "pattern": {
              "fillmode": "overlay",
              "size": 10,
              "solidity": 0.2
             }
            },
            "type": "barpolar"
           }
          ],
          "carpet": [
           {
            "aaxis": {
             "endlinecolor": "#2a3f5f",
             "gridcolor": "white",
             "linecolor": "white",
             "minorgridcolor": "white",
             "startlinecolor": "#2a3f5f"
            },
            "baxis": {
             "endlinecolor": "#2a3f5f",
             "gridcolor": "white",
             "linecolor": "white",
             "minorgridcolor": "white",
             "startlinecolor": "#2a3f5f"
            },
            "type": "carpet"
           }
          ],
          "choropleth": [
           {
            "colorbar": {
             "outlinewidth": 0,
             "ticks": ""
            },
            "type": "choropleth"
           }
          ],
          "contour": [
           {
            "colorbar": {
             "outlinewidth": 0,
             "ticks": ""
            },
            "colorscale": [
             [
              0,
              "#0d0887"
             ],
             [
              0.1111111111111111,
              "#46039f"
             ],
             [
              0.2222222222222222,
              "#7201a8"
             ],
             [
              0.3333333333333333,
              "#9c179e"
             ],
             [
              0.4444444444444444,
              "#bd3786"
             ],
             [
              0.5555555555555556,
              "#d8576b"
             ],
             [
              0.6666666666666666,
              "#ed7953"
             ],
             [
              0.7777777777777778,
              "#fb9f3a"
             ],
             [
              0.8888888888888888,
              "#fdca26"
             ],
             [
              1,
              "#f0f921"
             ]
            ],
            "type": "contour"
           }
          ],
          "contourcarpet": [
           {
            "colorbar": {
             "outlinewidth": 0,
             "ticks": ""
            },
            "type": "contourcarpet"
           }
          ],
          "heatmap": [
           {
            "colorbar": {
             "outlinewidth": 0,
             "ticks": ""
            },
            "colorscale": [
             [
              0,
              "#0d0887"
             ],
             [
              0.1111111111111111,
              "#46039f"
             ],
             [
              0.2222222222222222,
              "#7201a8"
             ],
             [
              0.3333333333333333,
              "#9c179e"
             ],
             [
              0.4444444444444444,
              "#bd3786"
             ],
             [
              0.5555555555555556,
              "#d8576b"
             ],
             [
              0.6666666666666666,
              "#ed7953"
             ],
             [
              0.7777777777777778,
              "#fb9f3a"
             ],
             [
              0.8888888888888888,
              "#fdca26"
             ],
             [
              1,
              "#f0f921"
             ]
            ],
            "type": "heatmap"
           }
          ],
          "heatmapgl": [
           {
            "colorbar": {
             "outlinewidth": 0,
             "ticks": ""
            },
            "colorscale": [
             [
              0,
              "#0d0887"
             ],
             [
              0.1111111111111111,
              "#46039f"
             ],
             [
              0.2222222222222222,
              "#7201a8"
             ],
             [
              0.3333333333333333,
              "#9c179e"
             ],
             [
              0.4444444444444444,
              "#bd3786"
             ],
             [
              0.5555555555555556,
              "#d8576b"
             ],
             [
              0.6666666666666666,
              "#ed7953"
             ],
             [
              0.7777777777777778,
              "#fb9f3a"
             ],
             [
              0.8888888888888888,
              "#fdca26"
             ],
             [
              1,
              "#f0f921"
             ]
            ],
            "type": "heatmapgl"
           }
          ],
          "histogram": [
           {
            "marker": {
             "pattern": {
              "fillmode": "overlay",
              "size": 10,
              "solidity": 0.2
             }
            },
            "type": "histogram"
           }
          ],
          "histogram2d": [
           {
            "colorbar": {
             "outlinewidth": 0,
             "ticks": ""
            },
            "colorscale": [
             [
              0,
              "#0d0887"
             ],
             [
              0.1111111111111111,
              "#46039f"
             ],
             [
              0.2222222222222222,
              "#7201a8"
             ],
             [
              0.3333333333333333,
              "#9c179e"
             ],
             [
              0.4444444444444444,
              "#bd3786"
             ],
             [
              0.5555555555555556,
              "#d8576b"
             ],
             [
              0.6666666666666666,
              "#ed7953"
             ],
             [
              0.7777777777777778,
              "#fb9f3a"
             ],
             [
              0.8888888888888888,
              "#fdca26"
             ],
             [
              1,
              "#f0f921"
             ]
            ],
            "type": "histogram2d"
           }
          ],
          "histogram2dcontour": [
           {
            "colorbar": {
             "outlinewidth": 0,
             "ticks": ""
            },
            "colorscale": [
             [
              0,
              "#0d0887"
             ],
             [
              0.1111111111111111,
              "#46039f"
             ],
             [
              0.2222222222222222,
              "#7201a8"
             ],
             [
              0.3333333333333333,
              "#9c179e"
             ],
             [
              0.4444444444444444,
              "#bd3786"
             ],
             [
              0.5555555555555556,
              "#d8576b"
             ],
             [
              0.6666666666666666,
              "#ed7953"
             ],
             [
              0.7777777777777778,
              "#fb9f3a"
             ],
             [
              0.8888888888888888,
              "#fdca26"
             ],
             [
              1,
              "#f0f921"
             ]
            ],
            "type": "histogram2dcontour"
           }
          ],
          "mesh3d": [
           {
            "colorbar": {
             "outlinewidth": 0,
             "ticks": ""
            },
            "type": "mesh3d"
           }
          ],
          "parcoords": [
           {
            "line": {
             "colorbar": {
              "outlinewidth": 0,
              "ticks": ""
             }
            },
            "type": "parcoords"
           }
          ],
          "pie": [
           {
            "automargin": true,
            "type": "pie"
           }
          ],
          "scatter": [
           {
            "fillpattern": {
             "fillmode": "overlay",
             "size": 10,
             "solidity": 0.2
            },
            "type": "scatter"
           }
          ],
          "scatter3d": [
           {
            "line": {
             "colorbar": {
              "outlinewidth": 0,
              "ticks": ""
             }
            },
            "marker": {
             "colorbar": {
              "outlinewidth": 0,
              "ticks": ""
             }
            },
            "type": "scatter3d"
           }
          ],
          "scattercarpet": [
           {
            "marker": {
             "colorbar": {
              "outlinewidth": 0,
              "ticks": ""
             }
            },
            "type": "scattercarpet"
           }
          ],
          "scattergeo": [
           {
            "marker": {
             "colorbar": {
              "outlinewidth": 0,
              "ticks": ""
             }
            },
            "type": "scattergeo"
           }
          ],
          "scattergl": [
           {
            "marker": {
             "colorbar": {
              "outlinewidth": 0,
              "ticks": ""
             }
            },
            "type": "scattergl"
           }
          ],
          "scattermapbox": [
           {
            "marker": {
             "colorbar": {
              "outlinewidth": 0,
              "ticks": ""
             }
            },
            "type": "scattermapbox"
           }
          ],
          "scatterpolar": [
           {
            "marker": {
             "colorbar": {
              "outlinewidth": 0,
              "ticks": ""
             }
            },
            "type": "scatterpolar"
           }
          ],
          "scatterpolargl": [
           {
            "marker": {
             "colorbar": {
              "outlinewidth": 0,
              "ticks": ""
             }
            },
            "type": "scatterpolargl"
           }
          ],
          "scatterternary": [
           {
            "marker": {
             "colorbar": {
              "outlinewidth": 0,
              "ticks": ""
             }
            },
            "type": "scatterternary"
           }
          ],
          "surface": [
           {
            "colorbar": {
             "outlinewidth": 0,
             "ticks": ""
            },
            "colorscale": [
             [
              0,
              "#0d0887"
             ],
             [
              0.1111111111111111,
              "#46039f"
             ],
             [
              0.2222222222222222,
              "#7201a8"
             ],
             [
              0.3333333333333333,
              "#9c179e"
             ],
             [
              0.4444444444444444,
              "#bd3786"
             ],
             [
              0.5555555555555556,
              "#d8576b"
             ],
             [
              0.6666666666666666,
              "#ed7953"
             ],
             [
              0.7777777777777778,
              "#fb9f3a"
             ],
             [
              0.8888888888888888,
              "#fdca26"
             ],
             [
              1,
              "#f0f921"
             ]
            ],
            "type": "surface"
           }
          ],
          "table": [
           {
            "cells": {
             "fill": {
              "color": "#EBF0F8"
             },
             "line": {
              "color": "white"
             }
            },
            "header": {
             "fill": {
              "color": "#C8D4E3"
             },
             "line": {
              "color": "white"
             }
            },
            "type": "table"
           }
          ]
         },
         "layout": {
          "annotationdefaults": {
           "arrowcolor": "#2a3f5f",
           "arrowhead": 0,
           "arrowwidth": 1
          },
          "autotypenumbers": "strict",
          "coloraxis": {
           "colorbar": {
            "outlinewidth": 0,
            "ticks": ""
           }
          },
          "colorscale": {
           "diverging": [
            [
             0,
             "#8e0152"
            ],
            [
             0.1,
             "#c51b7d"
            ],
            [
             0.2,
             "#de77ae"
            ],
            [
             0.3,
             "#f1b6da"
            ],
            [
             0.4,
             "#fde0ef"
            ],
            [
             0.5,
             "#f7f7f7"
            ],
            [
             0.6,
             "#e6f5d0"
            ],
            [
             0.7,
             "#b8e186"
            ],
            [
             0.8,
             "#7fbc41"
            ],
            [
             0.9,
             "#4d9221"
            ],
            [
             1,
             "#276419"
            ]
           ],
           "sequential": [
            [
             0,
             "#0d0887"
            ],
            [
             0.1111111111111111,
             "#46039f"
            ],
            [
             0.2222222222222222,
             "#7201a8"
            ],
            [
             0.3333333333333333,
             "#9c179e"
            ],
            [
             0.4444444444444444,
             "#bd3786"
            ],
            [
             0.5555555555555556,
             "#d8576b"
            ],
            [
             0.6666666666666666,
             "#ed7953"
            ],
            [
             0.7777777777777778,
             "#fb9f3a"
            ],
            [
             0.8888888888888888,
             "#fdca26"
            ],
            [
             1,
             "#f0f921"
            ]
           ],
           "sequentialminus": [
            [
             0,
             "#0d0887"
            ],
            [
             0.1111111111111111,
             "#46039f"
            ],
            [
             0.2222222222222222,
             "#7201a8"
            ],
            [
             0.3333333333333333,
             "#9c179e"
            ],
            [
             0.4444444444444444,
             "#bd3786"
            ],
            [
             0.5555555555555556,
             "#d8576b"
            ],
            [
             0.6666666666666666,
             "#ed7953"
            ],
            [
             0.7777777777777778,
             "#fb9f3a"
            ],
            [
             0.8888888888888888,
             "#fdca26"
            ],
            [
             1,
             "#f0f921"
            ]
           ]
          },
          "colorway": [
           "#636efa",
           "#EF553B",
           "#00cc96",
           "#ab63fa",
           "#FFA15A",
           "#19d3f3",
           "#FF6692",
           "#B6E880",
           "#FF97FF",
           "#FECB52"
          ],
          "font": {
           "color": "#2a3f5f"
          },
          "geo": {
           "bgcolor": "white",
           "lakecolor": "white",
           "landcolor": "#E5ECF6",
           "showlakes": true,
           "showland": true,
           "subunitcolor": "white"
          },
          "hoverlabel": {
           "align": "left"
          },
          "hovermode": "closest",
          "mapbox": {
           "style": "light"
          },
          "paper_bgcolor": "white",
          "plot_bgcolor": "#E5ECF6",
          "polar": {
           "angularaxis": {
            "gridcolor": "white",
            "linecolor": "white",
            "ticks": ""
           },
           "bgcolor": "#E5ECF6",
           "radialaxis": {
            "gridcolor": "white",
            "linecolor": "white",
            "ticks": ""
           }
          },
          "scene": {
           "xaxis": {
            "backgroundcolor": "#E5ECF6",
            "gridcolor": "white",
            "gridwidth": 2,
            "linecolor": "white",
            "showbackground": true,
            "ticks": "",
            "zerolinecolor": "white"
           },
           "yaxis": {
            "backgroundcolor": "#E5ECF6",
            "gridcolor": "white",
            "gridwidth": 2,
            "linecolor": "white",
            "showbackground": true,
            "ticks": "",
            "zerolinecolor": "white"
           },
           "zaxis": {
            "backgroundcolor": "#E5ECF6",
            "gridcolor": "white",
            "gridwidth": 2,
            "linecolor": "white",
            "showbackground": true,
            "ticks": "",
            "zerolinecolor": "white"
           }
          },
          "shapedefaults": {
           "line": {
            "color": "#2a3f5f"
           }
          },
          "ternary": {
           "aaxis": {
            "gridcolor": "white",
            "linecolor": "white",
            "ticks": ""
           },
           "baxis": {
            "gridcolor": "white",
            "linecolor": "white",
            "ticks": ""
           },
           "bgcolor": "#E5ECF6",
           "caxis": {
            "gridcolor": "white",
            "linecolor": "white",
            "ticks": ""
           }
          },
          "title": {
           "x": 0.05
          },
          "xaxis": {
           "automargin": true,
           "gridcolor": "white",
           "linecolor": "white",
           "ticks": "",
           "title": {
            "standoff": 15
           },
           "zerolinecolor": "white",
           "zerolinewidth": 2
          },
          "yaxis": {
           "automargin": true,
           "gridcolor": "white",
           "linecolor": "white",
           "ticks": "",
           "title": {
            "standoff": 15
           },
           "zerolinecolor": "white",
           "zerolinewidth": 2
          }
         }
        },
        "title": {
         "text": "PPL(@PaperFury I’m taking this as a personal attack now. 😂😂)"
        },
        "xaxis": {
         "anchor": "y",
         "domain": [
          0,
          1
         ],
         "range": [
          0,
          25
         ],
         "title": {
          "text": "num of tweets (context)"
         },
         "type": "linear"
        },
        "yaxis": {
         "anchor": "x",
         "autorange": true,
         "domain": [
          0,
          1
         ],
         "range": [
          18.901346919606034,
          189.17649770014495
         ],
         "title": {
          "text": "perplexity"
         },
         "type": "linear"
        }
       }
      },
      "image/png": "[encoded data removed]",
      "text/html": [
       "<div>                            <div id=\"eadd71f4-bd57-42ab-be54-fd35671f82ae\" class=\"plotly-graph-div\" style=\"height:525px; width:100%;\"></div>            <script type=\"text/javascript\">                require([\"plotly\"], function(Plotly) {                    window.PLOTLYENV=window.PLOTLYENV || {};                                    if (document.getElementById(\"eadd71f4-bd57-42ab-be54-fd35671f82ae\")) {                    Plotly.newPlot(                        \"eadd71f4-bd57-42ab-be54-fd35671f82ae\",                        [{\"hovertemplate\":\"variable=0<br>index=%{x}<br>value=%{y}<extra></extra>\",\"legendgroup\":\"0\",\"line\":{\"color\":\"#636efa\",\"dash\":\"solid\"},\"marker\":{\"symbol\":\"circle\"},\"mode\":\"markers+lines\",\"name\":\"0\",\"orientation\":\"v\",\"showlegend\":true,\"x\":[0,1,2,3,4,5,6,7,8,9,10,11,12,13,14,15,16,17,18,19,20,21,22,23,24],\"xaxis\":\"x\",\"y\":[177.11534118652344,58.30949401855469,56.97774124145508,43.468605041503906,32.724822998046875,31.660566329956055,32.98227310180664,31.505584716796875,31.608169555664062,31.60826873779297,32.01243209838867,32.10383605957031,32.6787223815918,32.83623123168945,33.37002182006836,33.898258209228516,32.18319320678711,32.526432037353516,31.405553817749023,31.034393310546875,31.31633758544922,30.96250343322754,31.018163681030273,32.04538345336914,32.7384033203125],\"yaxis\":\"y\",\"type\":\"scatter\"}],                        {\"template\":{\"data\":{\"histogram2dcontour\":[{\"type\":\"histogram2dcontour\",\"colorbar\":{\"outlinewidth\":0,\"ticks\":\"\"},\"colorscale\":[[0.0,\"#0d0887\"],[0.1111111111111111,\"#46039f\"],[0.2222222222222222,\"#7201a8\"],[0.3333333333333333,\"#9c179e\"],[0.4444444444444444,\"#bd3786\"],[0.5555555555555556,\"#d8576b\"],[0.6666666666666666,\"#ed7953\"],[0.7777777777777778,\"#fb9f3a\"],[0.8888888888888888,\"#fdca26\"],[1.0,\"#f0f921\"]]}],\"choropleth\":[{\"type\":\"choropleth\",\"colorbar\":{\"outlinewidth\":0,\"ticks\":\"\"}}],\"histogram2d\":[{\"type\":\"histogram2d\",\"colorbar\":{\"outlinewidth\":0,\"ticks\":\"\"},\"colorscale\":[[0.0,\"#0d0887\"],[0.1111111111111111,\"#46039f\"],[0.2222222222222222,\"#7201a8\"],[0.3333333333333333,\"#9c179e\"],[0.4444444444444444,\"#bd3786\"],[0.5555555555555556,\"#d8576b\"],[0.6666666666666666,\"#ed7953\"],[0.7777777777777778,\"#fb9f3a\"],[0.8888888888888888,\"#fdca26\"],[1.0,\"#f0f921\"]]}],\"heatmap\":[{\"type\":\"heatmap\",\"colorbar\":{\"outlinewidth\":0,\"ticks\":\"\"},\"colorscale\":[[0.0,\"#0d0887\"],[0.1111111111111111,\"#46039f\"],[0.2222222222222222,\"#7201a8\"],[0.3333333333333333,\"#9c179e\"],[0.4444444444444444,\"#bd3786\"],[0.5555555555555556,\"#d8576b\"],[0.6666666666666666,\"#ed7953\"],[0.7777777777777778,\"#fb9f3a\"],[0.8888888888888888,\"#fdca26\"],[1.0,\"#f0f921\"]]}],\"heatmapgl\":[{\"type\":\"heatmapgl\",\"colorbar\":{\"outlinewidth\":0,\"ticks\":\"\"},\"colorscale\":[[0.0,\"#0d0887\"],[0.1111111111111111,\"#46039f\"],[0.2222222222222222,\"#7201a8\"],[0.3333333333333333,\"#9c179e\"],[0.4444444444444444,\"#bd3786\"],[0.5555555555555556,\"#d8576b\"],[0.6666666666666666,\"#ed7953\"],[0.7777777777777778,\"#fb9f3a\"],[0.8888888888888888,\"#fdca26\"],[1.0,\"#f0f921\"]]}],\"contourcarpet\":[{\"type\":\"contourcarpet\",\"colorbar\":{\"outlinewidth\":0,\"ticks\":\"\"}}],\"contour\":[{\"type\":\"contour\",\"colorbar\":{\"outlinewidth\":0,\"ticks\":\"\"},\"colorscale\":[[0.0,\"#0d0887\"],[0.1111111111111111,\"#46039f\"],[0.2222222222222222,\"#7201a8\"],[0.3333333333333333,\"#9c179e\"],[0.4444444444444444,\"#bd3786\"],[0.5555555555555556,\"#d8576b\"],[0.6666666666666666,\"#ed7953\"],[0.7777777777777778,\"#fb9f3a\"],[0.8888888888888888,\"#fdca26\"],[1.0,\"#f0f921\"]]}],\"surface\":[{\"type\":\"surface\",\"colorbar\":{\"outlinewidth\":0,\"ticks\":\"\"},\"colorscale\":[[0.0,\"#0d0887\"],[0.1111111111111111,\"#46039f\"],[0.2222222222222222,\"#7201a8\"],[0.3333333333333333,\"#9c179e\"],[0.4444444444444444,\"#bd3786\"],[0.5555555555555556,\"#d8576b\"],[0.6666666666666666,\"#ed7953\"],[0.7777777777777778,\"#fb9f3a\"],[0.8888888888888888,\"#fdca26\"],[1.0,\"#f0f921\"]]}],\"mesh3d\":[{\"type\":\"mesh3d\",\"colorbar\":{\"outlinewidth\":0,\"ticks\":\"\"}}],\"scatter\":[{\"fillpattern\":{\"fillmode\":\"overlay\",\"size\":10,\"solidity\":0.2},\"type\":\"scatter\"}],\"parcoords\":[{\"type\":\"parcoords\",\"line\":{\"colorbar\":{\"outlinewidth\":0,\"ticks\":\"\"}}}],\"scatterpolargl\":[{\"type\":\"scatterpolargl\",\"marker\":{\"colorbar\":{\"outlinewidth\":0,\"ticks\":\"\"}}}],\"bar\":[{\"error_x\":{\"color\":\"#2a3f5f\"},\"error_y\":{\"color\":\"#2a3f5f\"},\"marker\":{\"line\":{\"color\":\"#E5ECF6\",\"width\":0.5},\"pattern\":{\"fillmode\":\"overlay\",\"size\":10,\"solidity\":0.2}},\"type\":\"bar\"}],\"scattergeo\":[{\"type\":\"scattergeo\",\"marker\":{\"colorbar\":{\"outlinewidth\":0,\"ticks\":\"\"}}}],\"scatterpolar\":[{\"type\":\"scatterpolar\",\"marker\":{\"colorbar\":{\"outlinewidth\":0,\"ticks\":\"\"}}}],\"histogram\":[{\"marker\":{\"pattern\":{\"fillmode\":\"overlay\",\"size\":10,\"solidity\":0.2}},\"type\":\"histogram\"}],\"scattergl\":[{\"type\":\"scattergl\",\"marker\":{\"colorbar\":{\"outlinewidth\":0,\"ticks\":\"\"}}}],\"scatter3d\":[{\"type\":\"scatter3d\",\"line\":{\"colorbar\":{\"outlinewidth\":0,\"ticks\":\"\"}},\"marker\":{\"colorbar\":{\"outlinewidth\":0,\"ticks\":\"\"}}}],\"scattermapbox\":[{\"type\":\"scattermapbox\",\"marker\":{\"colorbar\":{\"outlinewidth\":0,\"ticks\":\"\"}}}],\"scatterternary\":[{\"type\":\"scatterternary\",\"marker\":{\"colorbar\":{\"outlinewidth\":0,\"ticks\":\"\"}}}],\"scattercarpet\":[{\"type\":\"scattercarpet\",\"marker\":{\"colorbar\":{\"outlinewidth\":0,\"ticks\":\"\"}}}],\"carpet\":[{\"aaxis\":{\"endlinecolor\":\"#2a3f5f\",\"gridcolor\":\"white\",\"linecolor\":\"white\",\"minorgridcolor\":\"white\",\"startlinecolor\":\"#2a3f5f\"},\"baxis\":{\"endlinecolor\":\"#2a3f5f\",\"gridcolor\":\"white\",\"linecolor\":\"white\",\"minorgridcolor\":\"white\",\"startlinecolor\":\"#2a3f5f\"},\"type\":\"carpet\"}],\"table\":[{\"cells\":{\"fill\":{\"color\":\"#EBF0F8\"},\"line\":{\"color\":\"white\"}},\"header\":{\"fill\":{\"color\":\"#C8D4E3\"},\"line\":{\"color\":\"white\"}},\"type\":\"table\"}],\"barpolar\":[{\"marker\":{\"line\":{\"color\":\"#E5ECF6\",\"width\":0.5},\"pattern\":{\"fillmode\":\"overlay\",\"size\":10,\"solidity\":0.2}},\"type\":\"barpolar\"}],\"pie\":[{\"automargin\":true,\"type\":\"pie\"}]},\"layout\":{\"autotypenumbers\":\"strict\",\"colorway\":[\"#636efa\",\"#EF553B\",\"#00cc96\",\"#ab63fa\",\"#FFA15A\",\"#19d3f3\",\"#FF6692\",\"#B6E880\",\"#FF97FF\",\"#FECB52\"],\"font\":{\"color\":\"#2a3f5f\"},\"hovermode\":\"closest\",\"hoverlabel\":{\"align\":\"left\"},\"paper_bgcolor\":\"white\",\"plot_bgcolor\":\"#E5ECF6\",\"polar\":{\"bgcolor\":\"#E5ECF6\",\"angularaxis\":{\"gridcolor\":\"white\",\"linecolor\":\"white\",\"ticks\":\"\"},\"radialaxis\":{\"gridcolor\":\"white\",\"linecolor\":\"white\",\"ticks\":\"\"}},\"ternary\":{\"bgcolor\":\"#E5ECF6\",\"aaxis\":{\"gridcolor\":\"white\",\"linecolor\":\"white\",\"ticks\":\"\"},\"baxis\":{\"gridcolor\":\"white\",\"linecolor\":\"white\",\"ticks\":\"\"},\"caxis\":{\"gridcolor\":\"white\",\"linecolor\":\"white\",\"ticks\":\"\"}},\"coloraxis\":{\"colorbar\":{\"outlinewidth\":0,\"ticks\":\"\"}},\"colorscale\":{\"sequential\":[[0.0,\"#0d0887\"],[0.1111111111111111,\"#46039f\"],[0.2222222222222222,\"#7201a8\"],[0.3333333333333333,\"#9c179e\"],[0.4444444444444444,\"#bd3786\"],[0.5555555555555556,\"#d8576b\"],[0.6666666666666666,\"#ed7953\"],[0.7777777777777778,\"#fb9f3a\"],[0.8888888888888888,\"#fdca26\"],[1.0,\"#f0f921\"]],\"sequentialminus\":[[0.0,\"#0d0887\"],[0.1111111111111111,\"#46039f\"],[0.2222222222222222,\"#7201a8\"],[0.3333333333333333,\"#9c179e\"],[0.4444444444444444,\"#bd3786\"],[0.5555555555555556,\"#d8576b\"],[0.6666666666666666,\"#ed7953\"],[0.7777777777777778,\"#fb9f3a\"],[0.8888888888888888,\"#fdca26\"],[1.0,\"#f0f921\"]],\"diverging\":[[0,\"#8e0152\"],[0.1,\"#c51b7d\"],[0.2,\"#de77ae\"],[0.3,\"#f1b6da\"],[0.4,\"#fde0ef\"],[0.5,\"#f7f7f7\"],[0.6,\"#e6f5d0\"],[0.7,\"#b8e186\"],[0.8,\"#7fbc41\"],[0.9,\"#4d9221\"],[1,\"#276419\"]]},\"xaxis\":{\"gridcolor\":\"white\",\"linecolor\":\"white\",\"ticks\":\"\",\"title\":{\"standoff\":15},\"zerolinecolor\":\"white\",\"automargin\":true,\"zerolinewidth\":2},\"yaxis\":{\"gridcolor\":\"white\",\"linecolor\":\"white\",\"ticks\":\"\",\"title\":{\"standoff\":15},\"zerolinecolor\":\"white\",\"automargin\":true,\"zerolinewidth\":2},\"scene\":{\"xaxis\":{\"backgroundcolor\":\"#E5ECF6\",\"gridcolor\":\"white\",\"linecolor\":\"white\",\"showbackground\":true,\"ticks\":\"\",\"zerolinecolor\":\"white\",\"gridwidth\":2},\"yaxis\":{\"backgroundcolor\":\"#E5ECF6\",\"gridcolor\":\"white\",\"linecolor\":\"white\",\"showbackground\":true,\"ticks\":\"\",\"zerolinecolor\":\"white\",\"gridwidth\":2},\"zaxis\":{\"backgroundcolor\":\"#E5ECF6\",\"gridcolor\":\"white\",\"linecolor\":\"white\",\"showbackground\":true,\"ticks\":\"\",\"zerolinecolor\":\"white\",\"gridwidth\":2}},\"shapedefaults\":{\"line\":{\"color\":\"#2a3f5f\"}},\"annotationdefaults\":{\"arrowcolor\":\"#2a3f5f\",\"arrowhead\":0,\"arrowwidth\":1},\"geo\":{\"bgcolor\":\"white\",\"landcolor\":\"#E5ECF6\",\"subunitcolor\":\"white\",\"showland\":true,\"showlakes\":true,\"lakecolor\":\"white\"},\"title\":{\"x\":0.05},\"mapbox\":{\"style\":\"light\"}}},\"xaxis\":{\"anchor\":\"y\",\"domain\":[0.0,1.0],\"title\":{\"text\":\"num of tweets (context)\"},\"range\":[0,25]},\"yaxis\":{\"anchor\":\"x\",\"domain\":[0.0,1.0],\"title\":{\"text\":\"perplexity\"}},\"legend\":{\"title\":{\"text\":\"variable\"},\"tracegroupgap\":0},\"title\":{\"text\":\"PPL(@PaperFury I\\u2019m taking this as a personal attack now. \\ud83d\\ude02\\ud83d\\ude02)\"}},                        {\"responsive\": true}                    ).then(function(){\n",
       "                            \n",
       "var gd = document.getElementById('eadd71f4-bd57-42ab-be54-fd35671f82ae');\n",
       "var x = new MutationObserver(function (mutations, observer) {{\n",
       "        var display = window.getComputedStyle(gd).display;\n",
       "        if (!display || display === 'none') {{\n",
       "            console.log([gd, 'removed!']);\n",
       "            Plotly.purge(gd);\n",
       "            observer.disconnect();\n",
       "        }}\n",
       "}});\n",
       "\n",
       "// Listen for the removal of the full notebook cells\n",
       "var notebookContainer = gd.closest('#notebook-container');\n",
       "if (notebookContainer) {{\n",
       "    x.observe(notebookContainer, {childList: true});\n",
       "}}\n",
       "\n",
       "// Listen for the clearing of the current output cell\n",
       "var outputEl = gd.closest('.output');\n",
       "if (outputEl) {{\n",
       "    x.observe(outputEl, {childList: true});\n",
       "}}\n",
       "\n",
       "                        })                };                });            </script>        </div>"
      ]
     },
     "metadata": {},
     "output_type": "display_data"
    }
   ],
   "source": [
    "fig = px.line(peer_ppl_list, markers=True, title=f\"PPL({text})\")\n",
    "\n",
    "fig.update_yaxes(title=\"perplexity\")\n",
    "fig.update_xaxes(title=\"num of tweets (context)\", range=(0,25))"
   ]
  },
  {
   "cell_type": "markdown",
   "id": "af99e572-3614-48ea-b137-533037c30b41",
   "metadata": {},
   "source": [
    "With the peer's tweets as context, we could only go down to 32. \n",
    "\n",
    "However,\n",
    "- convergence was similar (around 5)\n",
    "- adding more tweets doesn't seem to improve results"
   ]
  },
  {
   "cell_type": "markdown",
   "id": "bf8f3258-f856-410e-a5ed-162be3a93eb6",
   "metadata": {
    "tags": []
   },
   "source": [
    "### Perplexity on individual peer tweets"
   ]
  },
  {
   "cell_type": "code",
   "execution_count": 50,
   "id": "e56ea3ce-de28-4709-b982-b7a93e521fdc",
   "metadata": {
    "collapsed": true,
    "jupyter": {
     "outputs_hidden": true
    },
    "tags": []
   },
   "outputs": [
    {
     "name": "stderr",
     "output_type": "stream",
     "text": [
      "  0%|                                                                                                                                | 0/12 [00:00<?, ?it/s]"
     ]
    },
    {
     "data": {
      "application/vnd.jupyter.widget-view+json": {
       "model_id": "a719d84d0959485ca93092da9ee007b8",
       "version_major": 2,
       "version_minor": 0
      },
      "text/plain": [
       "  0%|          | 0/25 [00:00<?, ?ex/s]"
      ]
     },
     "metadata": {},
     "output_type": "display_data"
    },
    {
     "data": {
      "application/vnd.jupyter.widget-view+json": {
       "model_id": "bf4d4a5f712a4681b2e43fcf306f2f32",
       "version_major": 2,
       "version_minor": 0
      },
      "text/plain": [
       "  0%|          | 0/25 [00:00<?, ?ex/s]"
      ]
     },
     "metadata": {},
     "output_type": "display_data"
    },
    {
     "name": "stderr",
     "output_type": "stream",
     "text": [
      "  8%|██████████                                                                                                              | 1/12 [00:18<03:20, 18.19s/it]"
     ]
    },
    {
     "data": {
      "application/vnd.jupyter.widget-view+json": {
       "model_id": "095e8b800ffc446e981781037f637402",
       "version_major": 2,
       "version_minor": 0
      },
      "text/plain": [
       "  0%|          | 0/25 [00:00<?, ?ex/s]"
      ]
     },
     "metadata": {},
     "output_type": "display_data"
    },
    {
     "data": {
      "application/vnd.jupyter.widget-view+json": {
       "model_id": "fc32db6293e0437d881bdc687e303d1a",
       "version_major": 2,
       "version_minor": 0
      },
      "text/plain": [
       "  0%|          | 0/25 [00:00<?, ?ex/s]"
      ]
     },
     "metadata": {},
     "output_type": "display_data"
    },
    {
     "name": "stderr",
     "output_type": "stream",
     "text": [
      " 17%|████████████████████                                                                                                    | 2/12 [00:32<02:41, 16.17s/it]"
     ]
    },
    {
     "data": {
      "application/vnd.jupyter.widget-view+json": {
       "model_id": "a360bc88f58b43c093842895c379d9f2",
       "version_major": 2,
       "version_minor": 0
      },
      "text/plain": [
       "  0%|          | 0/25 [00:00<?, ?ex/s]"
      ]
     },
     "metadata": {},
     "output_type": "display_data"
    },
    {
     "data": {
      "application/vnd.jupyter.widget-view+json": {
       "model_id": "4e4e0c33d27747cc8288766461a2027c",
       "version_major": 2,
       "version_minor": 0
      },
      "text/plain": [
       "  0%|          | 0/25 [00:00<?, ?ex/s]"
      ]
     },
     "metadata": {},
     "output_type": "display_data"
    },
    {
     "name": "stderr",
     "output_type": "stream",
     "text": [
      " 25%|██████████████████████████████                                                                                          | 3/12 [00:50<02:29, 16.60s/it]"
     ]
    },
    {
     "data": {
      "application/vnd.jupyter.widget-view+json": {
       "model_id": "b112cfd10e104c5b90551e4b8bab61f2",
       "version_major": 2,
       "version_minor": 0
      },
      "text/plain": [
       "  0%|          | 0/25 [00:00<?, ?ex/s]"
      ]
     },
     "metadata": {},
     "output_type": "display_data"
    },
    {
     "data": {
      "application/vnd.jupyter.widget-view+json": {
       "model_id": "d4ccccf6363746a5b5267c40d954529c",
       "version_major": 2,
       "version_minor": 0
      },
      "text/plain": [
       "  0%|          | 0/25 [00:00<?, ?ex/s]"
      ]
     },
     "metadata": {},
     "output_type": "display_data"
    },
    {
     "name": "stderr",
     "output_type": "stream",
     "text": [
      " 33%|████████████████████████████████████████                                                                                | 4/12 [01:03<02:01, 15.20s/it]"
     ]
    },
    {
     "data": {
      "application/vnd.jupyter.widget-view+json": {
       "model_id": "1314ced44f344743be70b91fc4ccfe84",
       "version_major": 2,
       "version_minor": 0
      },
      "text/plain": [
       "  0%|          | 0/25 [00:00<?, ?ex/s]"
      ]
     },
     "metadata": {},
     "output_type": "display_data"
    },
    {
     "data": {
      "application/vnd.jupyter.widget-view+json": {
       "model_id": "9ad8fc6194b040329440470209e00c41",
       "version_major": 2,
       "version_minor": 0
      },
      "text/plain": [
       "  0%|          | 0/25 [00:00<?, ?ex/s]"
      ]
     },
     "metadata": {},
     "output_type": "display_data"
    },
    {
     "name": "stderr",
     "output_type": "stream",
     "text": [
      " 42%|██████████████████████████████████████████████████                                                                      | 5/12 [01:18<01:47, 15.29s/it]"
     ]
    },
    {
     "data": {
      "application/vnd.jupyter.widget-view+json": {
       "model_id": "505642669a5e4481a9da50cb2fe51c49",
       "version_major": 2,
       "version_minor": 0
      },
      "text/plain": [
       "  0%|          | 0/25 [00:00<?, ?ex/s]"
      ]
     },
     "metadata": {},
     "output_type": "display_data"
    },
    {
     "data": {
      "application/vnd.jupyter.widget-view+json": {
       "model_id": "4b67e78f7a9741448bf73b5b17511726",
       "version_major": 2,
       "version_minor": 0
      },
      "text/plain": [
       "  0%|          | 0/25 [00:00<?, ?ex/s]"
      ]
     },
     "metadata": {},
     "output_type": "display_data"
    },
    {
     "name": "stderr",
     "output_type": "stream",
     "text": [
      " 50%|████████████████████████████████████████████████████████████                                                            | 6/12 [01:30<01:24, 14.11s/it]"
     ]
    },
    {
     "data": {
      "application/vnd.jupyter.widget-view+json": {
       "model_id": "8e44a29f9fbb4d0aa7f5f1148ab892b6",
       "version_major": 2,
       "version_minor": 0
      },
      "text/plain": [
       "  0%|          | 0/25 [00:00<?, ?ex/s]"
      ]
     },
     "metadata": {},
     "output_type": "display_data"
    },
    {
     "data": {
      "application/vnd.jupyter.widget-view+json": {
       "model_id": "4cefd5a8737e450caca61e50d0d895e6",
       "version_major": 2,
       "version_minor": 0
      },
      "text/plain": [
       "  0%|          | 0/25 [00:00<?, ?ex/s]"
      ]
     },
     "metadata": {},
     "output_type": "display_data"
    },
    {
     "name": "stderr",
     "output_type": "stream",
     "text": [
      " 58%|██████████████████████████████████████████████████████████████████████                                                  | 7/12 [01:39<01:01, 12.40s/it]"
     ]
    },
    {
     "data": {
      "application/vnd.jupyter.widget-view+json": {
       "model_id": "5071171c8ac340cdaa4f39efefc15241",
       "version_major": 2,
       "version_minor": 0
      },
      "text/plain": [
       "  0%|          | 0/25 [00:00<?, ?ex/s]"
      ]
     },
     "metadata": {},
     "output_type": "display_data"
    },
    {
     "data": {
      "application/vnd.jupyter.widget-view+json": {
       "model_id": "d6a353d5f55247a8832b682e71f48cdb",
       "version_major": 2,
       "version_minor": 0
      },
      "text/plain": [
       "  0%|          | 0/25 [00:00<?, ?ex/s]"
      ]
     },
     "metadata": {},
     "output_type": "display_data"
    },
    {
     "name": "stderr",
     "output_type": "stream",
     "text": [
      " 67%|████████████████████████████████████████████████████████████████████████████████                                        | 8/12 [02:04<01:05, 16.44s/it]"
     ]
    },
    {
     "data": {
      "application/vnd.jupyter.widget-view+json": {
       "model_id": "ff37383cd1664778aaf0ad0a6859bc9e",
       "version_major": 2,
       "version_minor": 0
      },
      "text/plain": [
       "  0%|          | 0/25 [00:00<?, ?ex/s]"
      ]
     },
     "metadata": {},
     "output_type": "display_data"
    },
    {
     "data": {
      "application/vnd.jupyter.widget-view+json": {
       "model_id": "6daa7a9ed0f44a0a8255f160878b3e86",
       "version_major": 2,
       "version_minor": 0
      },
      "text/plain": [
       "  0%|          | 0/25 [00:00<?, ?ex/s]"
      ]
     },
     "metadata": {},
     "output_type": "display_data"
    },
    {
     "name": "stderr",
     "output_type": "stream",
     "text": [
      " 75%|██████████████████████████████████████████████████████████████████████████████████████████                              | 9/12 [02:22<00:51, 17.00s/it]"
     ]
    },
    {
     "data": {
      "application/vnd.jupyter.widget-view+json": {
       "model_id": "9776dde996244f01bebf27b8ae6e5f54",
       "version_major": 2,
       "version_minor": 0
      },
      "text/plain": [
       "  0%|          | 0/25 [00:00<?, ?ex/s]"
      ]
     },
     "metadata": {},
     "output_type": "display_data"
    },
    {
     "data": {
      "application/vnd.jupyter.widget-view+json": {
       "model_id": "7a45bdc2783c4d90a31a5a39a51886c8",
       "version_major": 2,
       "version_minor": 0
      },
      "text/plain": [
       "  0%|          | 0/25 [00:00<?, ?ex/s]"
      ]
     },
     "metadata": {},
     "output_type": "display_data"
    },
    {
     "name": "stderr",
     "output_type": "stream",
     "text": [
      " 83%|███████████████████████████████████████████████████████████████████████████████████████████████████▏                   | 10/12 [02:34<00:30, 15.41s/it]"
     ]
    },
    {
     "data": {
      "application/vnd.jupyter.widget-view+json": {
       "model_id": "4b3ffc8dc75f4f5b8492f8b6cded669c",
       "version_major": 2,
       "version_minor": 0
      },
      "text/plain": [
       "  0%|          | 0/25 [00:00<?, ?ex/s]"
      ]
     },
     "metadata": {},
     "output_type": "display_data"
    },
    {
     "data": {
      "application/vnd.jupyter.widget-view+json": {
       "model_id": "855fb666f5eb4e748ad866bd82ac476c",
       "version_major": 2,
       "version_minor": 0
      },
      "text/plain": [
       "  0%|          | 0/25 [00:00<?, ?ex/s]"
      ]
     },
     "metadata": {},
     "output_type": "display_data"
    },
    {
     "name": "stderr",
     "output_type": "stream",
     "text": [
      " 92%|█████████████████████████████████████████████████████████████████████████████████████████████████████████████          | 11/12 [02:45<00:13, 13.94s/it]"
     ]
    },
    {
     "data": {
      "application/vnd.jupyter.widget-view+json": {
       "model_id": "385bb89156294d6fb5b26f478a318eec",
       "version_major": 2,
       "version_minor": 0
      },
      "text/plain": [
       "  0%|          | 0/25 [00:00<?, ?ex/s]"
      ]
     },
     "metadata": {},
     "output_type": "display_data"
    },
    {
     "data": {
      "application/vnd.jupyter.widget-view+json": {
       "model_id": "2d7fffcdf2974e63a1880e9fd3f85d2b",
       "version_major": 2,
       "version_minor": 0
      },
      "text/plain": [
       "  0%|          | 0/25 [00:00<?, ?ex/s]"
      ]
     },
     "metadata": {},
     "output_type": "display_data"
    },
    {
     "name": "stderr",
     "output_type": "stream",
     "text": [
      "100%|███████████████████████████████████████████████████████████████████████████████████████████████████████████████████████| 12/12 [03:14<00:00, 16.24s/it]\n"
     ]
    }
   ],
   "source": [
    "ppl_per_peer = []\n",
    "\n",
    "for peer in tqdm(peers_list):\n",
    "    mention = next( filter(lambda x: x[\"id\"] == subject[\"id\"] , peer[\"mentioned_by\"]), None )\n",
    "    \n",
    "    peer_tweets = list(timelines_collection.find({\"author_id\": peer['id'], \"referenced_tweets.type\": {\"$ne\": \"retweeted\"}}, {\"_id\": 0}).limit(25))\n",
    "    peer_tweets = Dataset.from_list(peer_tweets).map(remove_urls).map(remove_extra_spaces)\n",
    "    \n",
    "    for n_tweets in range(25):\n",
    "        context = \" \".join(reversed(peer_tweets[:n_tweets][\"text\"]))\n",
    "        ppl = ppl_calculator(text, context)\n",
    "        \n",
    "        data = {}\n",
    "        data['id'] = peer['id']\n",
    "        data['username'] = peer['username']\n",
    "        data['rank'] = mention['rank']\n",
    "        data['mentions'] = mention['num_mentions']\n",
    "        data['n_tweets'] = n_tweets\n",
    "        data['perplexity'] = ppl\n",
    "        \n",
    "        ppl_per_peer.append(data)"
   ]
  },
  {
   "cell_type": "code",
   "execution_count": 55,
   "id": "4962deff-4631-4350-992a-c963b38d063e",
   "metadata": {},
   "outputs": [
    {
     "data": {
      "application/vnd.plotly.v1+json": {
       "config": {
        "plotlyServerURL": "https://plot.ly"
       },
       "data": [
        {
         "customdata": [
          [
           1,
           79
          ],
          [
           1,
           79
          ],
          [
           1,
           79
          ],
          [
           1,
           79
          ],
          [
           1,
           79
          ],
          [
           1,
           79
          ],
          [
           1,
           79
          ],
          [
           1,
           79
          ],
          [
           1,
           79
          ],
          [
           1,
           79
          ],
          [
           1,
           79
          ],
          [
           1,
           79
          ],
          [
           1,
           79
          ],
          [
           1,
           79
          ],
          [
           1,
           79
          ],
          [
           1,
           79
          ],
          [
           1,
           79
          ],
          [
           1,
           79
          ],
          [
           1,
           79
          ],
          [
           1,
           79
          ],
          [
           1,
           79
          ],
          [
           1,
           79
          ],
          [
           1,
           79
          ],
          [
           1,
           79
          ],
          [
           1,
           79
          ]
         ],
         "hovertemplate": "<b>%{hovertext}</b><br><br>username=thatidiotfrank<br>n_tweets=%{x}<br>perplexity=%{y}<br>rank=%{customdata[0]}<br>mentions=%{customdata[1]}<extra></extra>",
         "hovertext": [
          "thatidiotfrank",
          "thatidiotfrank",
          "thatidiotfrank",
          "thatidiotfrank",
          "thatidiotfrank",
          "thatidiotfrank",
          "thatidiotfrank",
          "thatidiotfrank",
          "thatidiotfrank",
          "thatidiotfrank",
          "thatidiotfrank",
          "thatidiotfrank",
          "thatidiotfrank",
          "thatidiotfrank",
          "thatidiotfrank",
          "thatidiotfrank",
          "thatidiotfrank",
          "thatidiotfrank",
          "thatidiotfrank",
          "thatidiotfrank",
          "thatidiotfrank",
          "thatidiotfrank",
          "thatidiotfrank",
          "thatidiotfrank",
          "thatidiotfrank"
         ],
         "legendgroup": "thatidiotfrank",
         "line": {
          "color": "#636efa",
          "dash": "solid"
         },
         "marker": {
          "symbol": "circle"
         },
         "mode": "markers+lines",
         "name": "thatidiotfrank",
         "orientation": "v",
         "showlegend": true,
         "type": "scatter",
         "x": [
          0,
          1,
          2,
          3,
          4,
          5,
          6,
          7,
          8,
          9,
          10,
          11,
          12,
          13,
          14,
          15,
          16,
          17,
          18,
          19,
          20,
          21,
          22,
          23,
          24
         ],
         "xaxis": "x",
         "y": [
          177.11534118652344,
          168.0760955810547,
          66.38079833984375,
          68.917236328125,
          64.7426528930664,
          55.323429107666016,
          47.16968536376953,
          48.64759063720703,
          45.4980583190918,
          44.65541076660156,
          42.69835662841797,
          42.51516342163086,
          43.70942687988281,
          44.56864929199219,
          44.614013671875,
          45.08927917480469,
          45.629981994628906,
          45.16792297363281,
          42.57478713989258,
          41.915645599365234,
          43.197662353515625,
          43.62733459472656,
          43.65022277832031,
          43.220741271972656,
          42.16720199584961
         ],
         "yaxis": "y"
        },
        {
         "customdata": [
          [
           2,
           51
          ],
          [
           2,
           51
          ],
          [
           2,
           51
          ],
          [
           2,
           51
          ],
          [
           2,
           51
          ],
          [
           2,
           51
          ],
          [
           2,
           51
          ],
          [
           2,
           51
          ],
          [
           2,
           51
          ],
          [
           2,
           51
          ],
          [
           2,
           51
          ],
          [
           2,
           51
          ],
          [
           2,
           51
          ],
          [
           2,
           51
          ],
          [
           2,
           51
          ],
          [
           2,
           51
          ],
          [
           2,
           51
          ],
          [
           2,
           51
          ],
          [
           2,
           51
          ],
          [
           2,
           51
          ],
          [
           2,
           51
          ],
          [
           2,
           51
          ],
          [
           2,
           51
          ],
          [
           2,
           51
          ],
          [
           2,
           51
          ]
         ],
         "hovertemplate": "<b>%{hovertext}</b><br><br>username=tea_readss<br>n_tweets=%{x}<br>perplexity=%{y}<br>rank=%{customdata[0]}<br>mentions=%{customdata[1]}<extra></extra>",
         "hovertext": [
          "tea_readss",
          "tea_readss",
          "tea_readss",
          "tea_readss",
          "tea_readss",
          "tea_readss",
          "tea_readss",
          "tea_readss",
          "tea_readss",
          "tea_readss",
          "tea_readss",
          "tea_readss",
          "tea_readss",
          "tea_readss",
          "tea_readss",
          "tea_readss",
          "tea_readss",
          "tea_readss",
          "tea_readss",
          "tea_readss",
          "tea_readss",
          "tea_readss",
          "tea_readss",
          "tea_readss",
          "tea_readss"
         ],
         "legendgroup": "tea_readss",
         "line": {
          "color": "#EF553B",
          "dash": "solid"
         },
         "marker": {
          "symbol": "circle"
         },
         "mode": "markers+lines",
         "name": "tea_readss",
         "orientation": "v",
         "showlegend": true,
         "type": "scatter",
         "x": [
          0,
          1,
          2,
          3,
          4,
          5,
          6,
          7,
          8,
          9,
          10,
          11,
          12,
          13,
          14,
          15,
          16,
          17,
          18,
          19,
          20,
          21,
          22,
          23,
          24
         ],
         "xaxis": "x",
         "y": [
          177.11534118652344,
          128.00732421875,
          35.169734954833984,
          35.970375061035156,
          38.633949279785156,
          40.17449188232422,
          38.84086608886719,
          40.05281448364258,
          39.729164123535156,
          40.28688049316406,
          40.5938720703125,
          41.4390983581543,
          42.79619598388672,
          42.29506301879883,
          41.43484878540039,
          45.05607604980469,
          43.658538818359375,
          43.18943405151367,
          42.86378479003906,
          43.22810745239258,
          43.830814361572266,
          41.61933135986328,
          42.124183654785156,
          41.72898483276367,
          44.0311279296875
         ],
         "yaxis": "y"
        },
        {
         "customdata": [
          [
           3,
           40
          ],
          [
           3,
           40
          ],
          [
           3,
           40
          ],
          [
           3,
           40
          ],
          [
           3,
           40
          ],
          [
           3,
           40
          ],
          [
           3,
           40
          ],
          [
           3,
           40
          ],
          [
           3,
           40
          ],
          [
           3,
           40
          ],
          [
           3,
           40
          ],
          [
           3,
           40
          ],
          [
           3,
           40
          ],
          [
           3,
           40
          ],
          [
           3,
           40
          ],
          [
           3,
           40
          ],
          [
           3,
           40
          ],
          [
           3,
           40
          ],
          [
           3,
           40
          ],
          [
           3,
           40
          ],
          [
           3,
           40
          ],
          [
           3,
           40
          ],
          [
           3,
           40
          ],
          [
           3,
           40
          ],
          [
           3,
           40
          ]
         ],
         "hovertemplate": "<b>%{hovertext}</b><br><br>username=PaperFury<br>n_tweets=%{x}<br>perplexity=%{y}<br>rank=%{customdata[0]}<br>mentions=%{customdata[1]}<extra></extra>",
         "hovertext": [
          "PaperFury",
          "PaperFury",
          "PaperFury",
          "PaperFury",
          "PaperFury",
          "PaperFury",
          "PaperFury",
          "PaperFury",
          "PaperFury",
          "PaperFury",
          "PaperFury",
          "PaperFury",
          "PaperFury",
          "PaperFury",
          "PaperFury",
          "PaperFury",
          "PaperFury",
          "PaperFury",
          "PaperFury",
          "PaperFury",
          "PaperFury",
          "PaperFury",
          "PaperFury",
          "PaperFury",
          "PaperFury"
         ],
         "legendgroup": "PaperFury",
         "line": {
          "color": "#00cc96",
          "dash": "solid"
         },
         "marker": {
          "symbol": "circle"
         },
         "mode": "markers+lines",
         "name": "PaperFury",
         "orientation": "v",
         "showlegend": true,
         "type": "scatter",
         "x": [
          0,
          1,
          2,
          3,
          4,
          5,
          6,
          7,
          8,
          9,
          10,
          11,
          12,
          13,
          14,
          15,
          16,
          17,
          18,
          19,
          20,
          21,
          22,
          23,
          24
         ],
         "xaxis": "x",
         "y": [
          177.11534118652344,
          147.04270935058594,
          115.80915069580078,
          108.93626403808594,
          107.05152893066406,
          109.36070251464844,
          108.98484802246094,
          110.64347839355469,
          109.81605529785156,
          105.2654800415039,
          108.35603332519531,
          110.13363647460938,
          112.74064636230469,
          116.02659606933594,
          115.46392059326172,
          117.25481414794922,
          114.62389373779297,
          105.26045989990234,
          104.14472198486328,
          109.22437286376953,
          110.55335235595703,
          109.08482360839844,
          110.39115905761719,
          104.98696899414062,
          107.82366943359375
         ],
         "yaxis": "y"
        },
        {
         "customdata": [
          [
           5,
           14
          ],
          [
           5,
           14
          ],
          [
           5,
           14
          ],
          [
           5,
           14
          ],
          [
           5,
           14
          ],
          [
           5,
           14
          ],
          [
           5,
           14
          ],
          [
           5,
           14
          ],
          [
           5,
           14
          ],
          [
           5,
           14
          ],
          [
           5,
           14
          ],
          [
           5,
           14
          ],
          [
           5,
           14
          ],
          [
           5,
           14
          ],
          [
           5,
           14
          ],
          [
           5,
           14
          ],
          [
           5,
           14
          ],
          [
           5,
           14
          ],
          [
           5,
           14
          ],
          [
           5,
           14
          ],
          [
           5,
           14
          ],
          [
           5,
           14
          ],
          [
           5,
           14
          ],
          [
           5,
           14
          ],
          [
           5,
           14
          ]
         ],
         "hovertemplate": "<b>%{hovertext}</b><br><br>username=thecosyreader<br>n_tweets=%{x}<br>perplexity=%{y}<br>rank=%{customdata[0]}<br>mentions=%{customdata[1]}<extra></extra>",
         "hovertext": [
          "thecosyreader",
          "thecosyreader",
          "thecosyreader",
          "thecosyreader",
          "thecosyreader",
          "thecosyreader",
          "thecosyreader",
          "thecosyreader",
          "thecosyreader",
          "thecosyreader",
          "thecosyreader",
          "thecosyreader",
          "thecosyreader",
          "thecosyreader",
          "thecosyreader",
          "thecosyreader",
          "thecosyreader",
          "thecosyreader",
          "thecosyreader",
          "thecosyreader",
          "thecosyreader",
          "thecosyreader",
          "thecosyreader",
          "thecosyreader",
          "thecosyreader"
         ],
         "legendgroup": "thecosyreader",
         "line": {
          "color": "#ab63fa",
          "dash": "solid"
         },
         "marker": {
          "symbol": "circle"
         },
         "mode": "markers+lines",
         "name": "thecosyreader",
         "orientation": "v",
         "showlegend": true,
         "type": "scatter",
         "x": [
          0,
          1,
          2,
          3,
          4,
          5,
          6,
          7,
          8,
          9,
          10,
          11,
          12,
          13,
          14,
          15,
          16,
          17,
          18,
          19,
          20,
          21,
          22,
          23,
          24
         ],
         "xaxis": "x",
         "y": [
          177.11534118652344,
          133.8043975830078,
          129.6944122314453,
          127.0075912475586,
          116.7320327758789,
          117.0664291381836,
          119.2199478149414,
          119.06037139892578,
          115.35270690917969,
          104.32524871826172,
          92.11589050292969,
          93.5970687866211,
          86.44438934326172,
          96.1833267211914,
          98.83511352539062,
          96.19676971435547,
          94.17269134521484,
          97.9132308959961,
          97.9596939086914,
          99.63826751708984,
          98.18355560302734,
          94.76825714111328,
          97.30262756347656,
          98.80155944824219,
          99.8859634399414
         ],
         "yaxis": "y"
        },
        {
         "customdata": [
          [
           6,
           9
          ],
          [
           6,
           9
          ],
          [
           6,
           9
          ],
          [
           6,
           9
          ],
          [
           6,
           9
          ],
          [
           6,
           9
          ],
          [
           6,
           9
          ],
          [
           6,
           9
          ],
          [
           6,
           9
          ],
          [
           6,
           9
          ],
          [
           6,
           9
          ],
          [
           6,
           9
          ],
          [
           6,
           9
          ],
          [
           6,
           9
          ],
          [
           6,
           9
          ],
          [
           6,
           9
          ],
          [
           6,
           9
          ],
          [
           6,
           9
          ],
          [
           6,
           9
          ],
          [
           6,
           9
          ],
          [
           6,
           9
          ],
          [
           6,
           9
          ],
          [
           6,
           9
          ],
          [
           6,
           9
          ],
          [
           6,
           9
          ]
         ],
         "hovertemplate": "<b>%{hovertext}</b><br><br>username=SundayLuxe<br>n_tweets=%{x}<br>perplexity=%{y}<br>rank=%{customdata[0]}<br>mentions=%{customdata[1]}<extra></extra>",
         "hovertext": [
          "SundayLuxe",
          "SundayLuxe",
          "SundayLuxe",
          "SundayLuxe",
          "SundayLuxe",
          "SundayLuxe",
          "SundayLuxe",
          "SundayLuxe",
          "SundayLuxe",
          "SundayLuxe",
          "SundayLuxe",
          "SundayLuxe",
          "SundayLuxe",
          "SundayLuxe",
          "SundayLuxe",
          "SundayLuxe",
          "SundayLuxe",
          "SundayLuxe",
          "SundayLuxe",
          "SundayLuxe",
          "SundayLuxe",
          "SundayLuxe",
          "SundayLuxe",
          "SundayLuxe",
          "SundayLuxe"
         ],
         "legendgroup": "SundayLuxe",
         "line": {
          "color": "#FFA15A",
          "dash": "solid"
         },
         "marker": {
          "symbol": "circle"
         },
         "mode": "markers+lines",
         "name": "SundayLuxe",
         "orientation": "v",
         "showlegend": true,
         "type": "scatter",
         "x": [
          0,
          1,
          2,
          3,
          4,
          5,
          6,
          7,
          8,
          9,
          10,
          11,
          12,
          13,
          14,
          15,
          16,
          17,
          18,
          19,
          20,
          21,
          22,
          23,
          24
         ],
         "xaxis": "x",
         "y": [
          177.11534118652344,
          40.17121887207031,
          35.5968132019043,
          30.582853317260742,
          28.549591064453125,
          27.78493881225586,
          28.301742553710938,
          28.922910690307617,
          29.412553787231445,
          31.892675399780273,
          33.220802307128906,
          33.007572174072266,
          33.48196029663086,
          29.06448745727539,
          28.490440368652344,
          30.17639923095703,
          29.234207153320312,
          29.563003540039062,
          29.906349182128906,
          29.442800521850586,
          29.110258102416992,
          28.36768341064453,
          27.84116554260254,
          27.794248580932617,
          27.865556716918945
         ],
         "yaxis": "y"
        },
        {
         "customdata": [
          [
           7,
           7
          ],
          [
           7,
           7
          ],
          [
           7,
           7
          ],
          [
           7,
           7
          ],
          [
           7,
           7
          ],
          [
           7,
           7
          ],
          [
           7,
           7
          ],
          [
           7,
           7
          ],
          [
           7,
           7
          ],
          [
           7,
           7
          ],
          [
           7,
           7
          ],
          [
           7,
           7
          ],
          [
           7,
           7
          ],
          [
           7,
           7
          ],
          [
           7,
           7
          ],
          [
           7,
           7
          ],
          [
           7,
           7
          ],
          [
           7,
           7
          ],
          [
           7,
           7
          ],
          [
           7,
           7
          ],
          [
           7,
           7
          ],
          [
           7,
           7
          ],
          [
           7,
           7
          ],
          [
           7,
           7
          ],
          [
           7,
           7
          ]
         ],
         "hovertemplate": "<b>%{hovertext}</b><br><br>username=shleyreads<br>n_tweets=%{x}<br>perplexity=%{y}<br>rank=%{customdata[0]}<br>mentions=%{customdata[1]}<extra></extra>",
         "hovertext": [
          "shleyreads",
          "shleyreads",
          "shleyreads",
          "shleyreads",
          "shleyreads",
          "shleyreads",
          "shleyreads",
          "shleyreads",
          "shleyreads",
          "shleyreads",
          "shleyreads",
          "shleyreads",
          "shleyreads",
          "shleyreads",
          "shleyreads",
          "shleyreads",
          "shleyreads",
          "shleyreads",
          "shleyreads",
          "shleyreads",
          "shleyreads",
          "shleyreads",
          "shleyreads",
          "shleyreads",
          "shleyreads"
         ],
         "legendgroup": "shleyreads",
         "line": {
          "color": "#19d3f3",
          "dash": "solid"
         },
         "marker": {
          "symbol": "circle"
         },
         "mode": "markers+lines",
         "name": "shleyreads",
         "orientation": "v",
         "showlegend": true,
         "type": "scatter",
         "x": [
          0,
          1,
          2,
          3,
          4,
          5,
          6,
          7,
          8,
          9,
          10,
          11,
          12,
          13,
          14,
          15,
          16,
          17,
          18,
          19,
          20,
          21,
          22,
          23,
          24
         ],
         "xaxis": "x",
         "y": [
          177.11534118652344,
          142.42181396484375,
          132.8443603515625,
          115.84461212158203,
          114.44847106933594,
          115.3952865600586,
          57.39360809326172,
          59.29558181762695,
          41.78712463378906,
          40.73842239379883,
          35.364986419677734,
          33.960838317871094,
          34.52471923828125,
          33.66655731201172,
          33.23138427734375,
          32.19904327392578,
          32.64850616455078,
          32.255977630615234,
          30.440866470336914,
          31.1765079498291,
          32.1070671081543,
          31.44727325439453,
          31.191696166992188,
          31.28162384033203,
          32.963478088378906
         ],
         "yaxis": "y"
        },
        {
         "customdata": [
          [
           8,
           7
          ],
          [
           8,
           7
          ],
          [
           8,
           7
          ],
          [
           8,
           7
          ],
          [
           8,
           7
          ],
          [
           8,
           7
          ],
          [
           8,
           7
          ],
          [
           8,
           7
          ],
          [
           8,
           7
          ],
          [
           8,
           7
          ],
          [
           8,
           7
          ],
          [
           8,
           7
          ],
          [
           8,
           7
          ],
          [
           8,
           7
          ],
          [
           8,
           7
          ],
          [
           8,
           7
          ],
          [
           8,
           7
          ],
          [
           8,
           7
          ],
          [
           8,
           7
          ],
          [
           8,
           7
          ],
          [
           8,
           7
          ],
          [
           8,
           7
          ],
          [
           8,
           7
          ],
          [
           8,
           7
          ],
          [
           8,
           7
          ]
         ],
         "hovertemplate": "<b>%{hovertext}</b><br><br>username=sofiaecasanova<br>n_tweets=%{x}<br>perplexity=%{y}<br>rank=%{customdata[0]}<br>mentions=%{customdata[1]}<extra></extra>",
         "hovertext": [
          "sofiaecasanova",
          "sofiaecasanova",
          "sofiaecasanova",
          "sofiaecasanova",
          "sofiaecasanova",
          "sofiaecasanova",
          "sofiaecasanova",
          "sofiaecasanova",
          "sofiaecasanova",
          "sofiaecasanova",
          "sofiaecasanova",
          "sofiaecasanova",
          "sofiaecasanova",
          "sofiaecasanova",
          "sofiaecasanova",
          "sofiaecasanova",
          "sofiaecasanova",
          "sofiaecasanova",
          "sofiaecasanova",
          "sofiaecasanova",
          "sofiaecasanova",
          "sofiaecasanova",
          "sofiaecasanova",
          "sofiaecasanova",
          "sofiaecasanova"
         ],
         "legendgroup": "sofiaecasanova",
         "line": {
          "color": "#FF6692",
          "dash": "solid"
         },
         "marker": {
          "symbol": "circle"
         },
         "mode": "markers+lines",
         "name": "sofiaecasanova",
         "orientation": "v",
         "showlegend": true,
         "type": "scatter",
         "x": [
          0,
          1,
          2,
          3,
          4,
          5,
          6,
          7,
          8,
          9,
          10,
          11,
          12,
          13,
          14,
          15,
          16,
          17,
          18,
          19,
          20,
          21,
          22,
          23,
          24
         ],
         "xaxis": "x",
         "y": [
          177.11534118652344,
          138.5460662841797,
          122.96551513671875,
          118.29521942138672,
          107.87360382080078,
          93.51806640625,
          91.18682098388672,
          90.81511688232422,
          35.17422103881836,
          31.415739059448242,
          32.38888168334961,
          32.90024948120117,
          34.142154693603516,
          37.023441314697266,
          36.43771743774414,
          36.24654769897461,
          36.033714294433594,
          36.18035125732422,
          36.47188186645508,
          35.68516159057617,
          35.61906433105469,
          35.809207916259766,
          35.95630645751953,
          35.49472427368164,
          33.54977798461914
         ],
         "yaxis": "y"
        },
        {
         "customdata": [
          [
           10,
           6
          ],
          [
           10,
           6
          ],
          [
           10,
           6
          ],
          [
           10,
           6
          ],
          [
           10,
           6
          ],
          [
           10,
           6
          ],
          [
           10,
           6
          ],
          [
           10,
           6
          ],
          [
           10,
           6
          ],
          [
           10,
           6
          ],
          [
           10,
           6
          ],
          [
           10,
           6
          ],
          [
           10,
           6
          ],
          [
           10,
           6
          ],
          [
           10,
           6
          ],
          [
           10,
           6
          ],
          [
           10,
           6
          ],
          [
           10,
           6
          ],
          [
           10,
           6
          ],
          [
           10,
           6
          ],
          [
           10,
           6
          ],
          [
           10,
           6
          ],
          [
           10,
           6
          ],
          [
           10,
           6
          ],
          [
           10,
           6
          ]
         ],
         "hovertemplate": "<b>%{hovertext}</b><br><br>username=Explore_a_thon<br>n_tweets=%{x}<br>perplexity=%{y}<br>rank=%{customdata[0]}<br>mentions=%{customdata[1]}<extra></extra>",
         "hovertext": [
          "Explore_a_thon",
          "Explore_a_thon",
          "Explore_a_thon",
          "Explore_a_thon",
          "Explore_a_thon",
          "Explore_a_thon",
          "Explore_a_thon",
          "Explore_a_thon",
          "Explore_a_thon",
          "Explore_a_thon",
          "Explore_a_thon",
          "Explore_a_thon",
          "Explore_a_thon",
          "Explore_a_thon",
          "Explore_a_thon",
          "Explore_a_thon",
          "Explore_a_thon",
          "Explore_a_thon",
          "Explore_a_thon",
          "Explore_a_thon",
          "Explore_a_thon",
          "Explore_a_thon",
          "Explore_a_thon",
          "Explore_a_thon",
          "Explore_a_thon"
         ],
         "legendgroup": "Explore_a_thon",
         "line": {
          "color": "#B6E880",
          "dash": "solid"
         },
         "marker": {
          "symbol": "circle"
         },
         "mode": "markers+lines",
         "name": "Explore_a_thon",
         "orientation": "v",
         "showlegend": true,
         "type": "scatter",
         "x": [
          0,
          1,
          2,
          3,
          4,
          5,
          6,
          7,
          8,
          9,
          10,
          11,
          12,
          13,
          14,
          15,
          16,
          17,
          18,
          19,
          20,
          21,
          22,
          23,
          24
         ],
         "xaxis": "x",
         "y": [
          177.11534118652344,
          129.40005493164062,
          36.8397331237793,
          32.81367874145508,
          31.388607025146484,
          33.0994758605957,
          33.298240661621094,
          28.16890525817871,
          28.369375228881836,
          27.905778884887695,
          27.22458839416504,
          25.892250061035156,
          25.9185848236084,
          24.02295684814453,
          23.115886688232422,
          23.580934524536133,
          23.21556282043457,
          23.34977912902832,
          23.0687255859375,
          22.42831802368164,
          22.26072120666504,
          20.841537475585938,
          20.751955032348633,
          20.57567024230957,
          20.533531188964844
         ],
         "yaxis": "y"
        },
        {
         "customdata": [
          [
           11,
           5
          ],
          [
           11,
           5
          ],
          [
           11,
           5
          ],
          [
           11,
           5
          ],
          [
           11,
           5
          ],
          [
           11,
           5
          ],
          [
           11,
           5
          ],
          [
           11,
           5
          ],
          [
           11,
           5
          ],
          [
           11,
           5
          ],
          [
           11,
           5
          ],
          [
           11,
           5
          ],
          [
           11,
           5
          ],
          [
           11,
           5
          ],
          [
           11,
           5
          ],
          [
           11,
           5
          ],
          [
           11,
           5
          ],
          [
           11,
           5
          ],
          [
           11,
           5
          ],
          [
           11,
           5
          ],
          [
           11,
           5
          ],
          [
           11,
           5
          ],
          [
           11,
           5
          ],
          [
           11,
           5
          ],
          [
           11,
           5
          ]
         ],
         "hovertemplate": "<b>%{hovertext}</b><br><br>username=bookswithneeks<br>n_tweets=%{x}<br>perplexity=%{y}<br>rank=%{customdata[0]}<br>mentions=%{customdata[1]}<extra></extra>",
         "hovertext": [
          "bookswithneeks",
          "bookswithneeks",
          "bookswithneeks",
          "bookswithneeks",
          "bookswithneeks",
          "bookswithneeks",
          "bookswithneeks",
          "bookswithneeks",
          "bookswithneeks",
          "bookswithneeks",
          "bookswithneeks",
          "bookswithneeks",
          "bookswithneeks",
          "bookswithneeks",
          "bookswithneeks",
          "bookswithneeks",
          "bookswithneeks",
          "bookswithneeks",
          "bookswithneeks",
          "bookswithneeks",
          "bookswithneeks",
          "bookswithneeks",
          "bookswithneeks",
          "bookswithneeks",
          "bookswithneeks"
         ],
         "legendgroup": "bookswithneeks",
         "line": {
          "color": "#FF97FF",
          "dash": "solid"
         },
         "marker": {
          "symbol": "circle"
         },
         "mode": "markers+lines",
         "name": "bookswithneeks",
         "orientation": "v",
         "showlegend": true,
         "type": "scatter",
         "x": [
          0,
          1,
          2,
          3,
          4,
          5,
          6,
          7,
          8,
          9,
          10,
          11,
          12,
          13,
          14,
          15,
          16,
          17,
          18,
          19,
          20,
          21,
          22,
          23,
          24
         ],
         "xaxis": "x",
         "y": [
          177.11534118652344,
          58.30949401855469,
          43.4813117980957,
          36.79056167602539,
          37.907501220703125,
          31.565876007080078,
          33.17432403564453,
          35.513084411621094,
          36.58440399169922,
          36.45908737182617,
          38.27756118774414,
          38.32236862182617,
          37.428009033203125,
          36.71201705932617,
          34.88111114501953,
          33.844120025634766,
          33.47611999511719,
          33.40350341796875,
          34.07170104980469,
          33.9962043762207,
          34.47646713256836,
          34.440582275390625,
          35.03395080566406,
          33.645503997802734,
          33.75788879394531
         ],
         "yaxis": "y"
        },
        {
         "customdata": [
          [
           12,
           5
          ],
          [
           12,
           5
          ],
          [
           12,
           5
          ],
          [
           12,
           5
          ],
          [
           12,
           5
          ],
          [
           12,
           5
          ],
          [
           12,
           5
          ],
          [
           12,
           5
          ],
          [
           12,
           5
          ],
          [
           12,
           5
          ],
          [
           12,
           5
          ],
          [
           12,
           5
          ],
          [
           12,
           5
          ],
          [
           12,
           5
          ],
          [
           12,
           5
          ],
          [
           12,
           5
          ],
          [
           12,
           5
          ],
          [
           12,
           5
          ],
          [
           12,
           5
          ],
          [
           12,
           5
          ],
          [
           12,
           5
          ],
          [
           12,
           5
          ],
          [
           12,
           5
          ],
          [
           12,
           5
          ],
          [
           12,
           5
          ]
         ],
         "hovertemplate": "<b>%{hovertext}</b><br><br>username=ashmcl_<br>n_tweets=%{x}<br>perplexity=%{y}<br>rank=%{customdata[0]}<br>mentions=%{customdata[1]}<extra></extra>",
         "hovertext": [
          "ashmcl_",
          "ashmcl_",
          "ashmcl_",
          "ashmcl_",
          "ashmcl_",
          "ashmcl_",
          "ashmcl_",
          "ashmcl_",
          "ashmcl_",
          "ashmcl_",
          "ashmcl_",
          "ashmcl_",
          "ashmcl_",
          "ashmcl_",
          "ashmcl_",
          "ashmcl_",
          "ashmcl_",
          "ashmcl_",
          "ashmcl_",
          "ashmcl_",
          "ashmcl_",
          "ashmcl_",
          "ashmcl_",
          "ashmcl_",
          "ashmcl_"
         ],
         "legendgroup": "ashmcl_",
         "line": {
          "color": "#FECB52",
          "dash": "solid"
         },
         "marker": {
          "symbol": "circle"
         },
         "mode": "markers+lines",
         "name": "ashmcl_",
         "orientation": "v",
         "showlegend": true,
         "type": "scatter",
         "x": [
          0,
          1,
          2,
          3,
          4,
          5,
          6,
          7,
          8,
          9,
          10,
          11,
          12,
          13,
          14,
          15,
          16,
          17,
          18,
          19,
          20,
          21,
          22,
          23,
          24
         ],
         "xaxis": "x",
         "y": [
          177.11534118652344,
          146.1570281982422,
          65.41133117675781,
          65.21431732177734,
          55.53254318237305,
          48.54374694824219,
          49.94354248046875,
          51.613121032714844,
          51.23843002319336,
          45.94615936279297,
          45.900054931640625,
          46.859840393066406,
          47.48617172241211,
          48.23978042602539,
          47.49825668334961,
          46.63398361206055,
          46.78282928466797,
          43.93730545043945,
          43.1306266784668,
          43.41264343261719,
          43.551612854003906,
          42.756656646728516,
          43.62635803222656,
          46.09552764892578,
          45.699039459228516
         ],
         "yaxis": "y"
        },
        {
         "customdata": [
          [
           13,
           4
          ],
          [
           13,
           4
          ],
          [
           13,
           4
          ],
          [
           13,
           4
          ],
          [
           13,
           4
          ],
          [
           13,
           4
          ],
          [
           13,
           4
          ],
          [
           13,
           4
          ],
          [
           13,
           4
          ],
          [
           13,
           4
          ],
          [
           13,
           4
          ],
          [
           13,
           4
          ],
          [
           13,
           4
          ],
          [
           13,
           4
          ],
          [
           13,
           4
          ],
          [
           13,
           4
          ],
          [
           13,
           4
          ],
          [
           13,
           4
          ],
          [
           13,
           4
          ],
          [
           13,
           4
          ],
          [
           13,
           4
          ],
          [
           13,
           4
          ],
          [
           13,
           4
          ],
          [
           13,
           4
          ],
          [
           13,
           4
          ]
         ],
         "hovertemplate": "<b>%{hovertext}</b><br><br>username=udeadah<br>n_tweets=%{x}<br>perplexity=%{y}<br>rank=%{customdata[0]}<br>mentions=%{customdata[1]}<extra></extra>",
         "hovertext": [
          "udeadah",
          "udeadah",
          "udeadah",
          "udeadah",
          "udeadah",
          "udeadah",
          "udeadah",
          "udeadah",
          "udeadah",
          "udeadah",
          "udeadah",
          "udeadah",
          "udeadah",
          "udeadah",
          "udeadah",
          "udeadah",
          "udeadah",
          "udeadah",
          "udeadah",
          "udeadah",
          "udeadah",
          "udeadah",
          "udeadah",
          "udeadah",
          "udeadah"
         ],
         "legendgroup": "udeadah",
         "line": {
          "color": "#636efa",
          "dash": "solid"
         },
         "marker": {
          "symbol": "circle"
         },
         "mode": "markers+lines",
         "name": "udeadah",
         "orientation": "v",
         "showlegend": true,
         "type": "scatter",
         "x": [
          0,
          1,
          2,
          3,
          4,
          5,
          6,
          7,
          8,
          9,
          10,
          11,
          12,
          13,
          14,
          15,
          16,
          17,
          18,
          19,
          20,
          21,
          22,
          23,
          24
         ],
         "xaxis": "x",
         "y": [
          177.11534118652344,
          112.95405578613281,
          98.0594711303711,
          111.6944351196289,
          126.16110229492188,
          124.00330352783203,
          130.3657684326172,
          134.3150177001953,
          140.04672241210938,
          136.349853515625,
          133.27479553222656,
          131.79278564453125,
          126.258056640625,
          122.34590911865234,
          131.00506591796875,
          127.37731170654297,
          131.48507690429688,
          138.19241333007812,
          136.4686279296875,
          139.5648651123047,
          135.50608825683594,
          134.469970703125,
          134.426513671875,
          121.01363372802734,
          115.43353271484375
         ],
         "yaxis": "y"
        },
        {
         "customdata": [
          [
           15,
           4
          ],
          [
           15,
           4
          ],
          [
           15,
           4
          ],
          [
           15,
           4
          ],
          [
           15,
           4
          ],
          [
           15,
           4
          ],
          [
           15,
           4
          ],
          [
           15,
           4
          ],
          [
           15,
           4
          ],
          [
           15,
           4
          ],
          [
           15,
           4
          ],
          [
           15,
           4
          ],
          [
           15,
           4
          ],
          [
           15,
           4
          ],
          [
           15,
           4
          ],
          [
           15,
           4
          ],
          [
           15,
           4
          ],
          [
           15,
           4
          ],
          [
           15,
           4
          ],
          [
           15,
           4
          ],
          [
           15,
           4
          ],
          [
           15,
           4
          ],
          [
           15,
           4
          ],
          [
           15,
           4
          ],
          [
           15,
           4
          ]
         ],
         "hovertemplate": "<b>%{hovertext}</b><br><br>username=DateaBook<br>n_tweets=%{x}<br>perplexity=%{y}<br>rank=%{customdata[0]}<br>mentions=%{customdata[1]}<extra></extra>",
         "hovertext": [
          "DateaBook",
          "DateaBook",
          "DateaBook",
          "DateaBook",
          "DateaBook",
          "DateaBook",
          "DateaBook",
          "DateaBook",
          "DateaBook",
          "DateaBook",
          "DateaBook",
          "DateaBook",
          "DateaBook",
          "DateaBook",
          "DateaBook",
          "DateaBook",
          "DateaBook",
          "DateaBook",
          "DateaBook",
          "DateaBook",
          "DateaBook",
          "DateaBook",
          "DateaBook",
          "DateaBook",
          "DateaBook"
         ],
         "legendgroup": "DateaBook",
         "line": {
          "color": "#EF553B",
          "dash": "solid"
         },
         "marker": {
          "symbol": "circle"
         },
         "mode": "markers+lines",
         "name": "DateaBook",
         "orientation": "v",
         "showlegend": true,
         "type": "scatter",
         "x": [
          0,
          1,
          2,
          3,
          4,
          5,
          6,
          7,
          8,
          9,
          10,
          11,
          12,
          13,
          14,
          15,
          16,
          17,
          18,
          19,
          20,
          21,
          22,
          23,
          24
         ],
         "xaxis": "x",
         "y": [
          177.11534118652344,
          164.80776977539062,
          168.9291534423828,
          166.4224853515625,
          165.83880615234375,
          84.97471618652344,
          101.17501068115234,
          97.49207305908203,
          84.74095916748047,
          85.66596984863281,
          88.4706039428711,
          93.24492645263672,
          97.01349639892578,
          95.5347671508789,
          93.08673095703125,
          96.73532104492188,
          95.83183288574219,
          94.07709503173828,
          89.42566680908203,
          92.8769302368164,
          88.33587646484375,
          88.33587646484375,
          88.33587646484375,
          88.33587646484375,
          88.33587646484375
         ],
         "yaxis": "y"
        }
       ],
       "layout": {
        "autosize": true,
        "legend": {
         "title": {
          "text": "username"
         },
         "tracegroupgap": 0
        },
        "template": {
         "data": {
          "bar": [
           {
            "error_x": {
             "color": "#2a3f5f"
            },
            "error_y": {
             "color": "#2a3f5f"
            },
            "marker": {
             "line": {
              "color": "#E5ECF6",
              "width": 0.5
             },
             "pattern": {
              "fillmode": "overlay",
              "size": 10,
              "solidity": 0.2
             }
            },
            "type": "bar"
           }
          ],
          "barpolar": [
           {
            "marker": {
             "line": {
              "color": "#E5ECF6",
              "width": 0.5
             },
             "pattern": {
              "fillmode": "overlay",
              "size": 10,
              "solidity": 0.2
             }
            },
            "type": "barpolar"
           }
          ],
          "carpet": [
           {
            "aaxis": {
             "endlinecolor": "#2a3f5f",
             "gridcolor": "white",
             "linecolor": "white",
             "minorgridcolor": "white",
             "startlinecolor": "#2a3f5f"
            },
            "baxis": {
             "endlinecolor": "#2a3f5f",
             "gridcolor": "white",
             "linecolor": "white",
             "minorgridcolor": "white",
             "startlinecolor": "#2a3f5f"
            },
            "type": "carpet"
           }
          ],
          "choropleth": [
           {
            "colorbar": {
             "outlinewidth": 0,
             "ticks": ""
            },
            "type": "choropleth"
           }
          ],
          "contour": [
           {
            "colorbar": {
             "outlinewidth": 0,
             "ticks": ""
            },
            "colorscale": [
             [
              0,
              "#0d0887"
             ],
             [
              0.1111111111111111,
              "#46039f"
             ],
             [
              0.2222222222222222,
              "#7201a8"
             ],
             [
              0.3333333333333333,
              "#9c179e"
             ],
             [
              0.4444444444444444,
              "#bd3786"
             ],
             [
              0.5555555555555556,
              "#d8576b"
             ],
             [
              0.6666666666666666,
              "#ed7953"
             ],
             [
              0.7777777777777778,
              "#fb9f3a"
             ],
             [
              0.8888888888888888,
              "#fdca26"
             ],
             [
              1,
              "#f0f921"
             ]
            ],
            "type": "contour"
           }
          ],
          "contourcarpet": [
           {
            "colorbar": {
             "outlinewidth": 0,
             "ticks": ""
            },
            "type": "contourcarpet"
           }
          ],
          "heatmap": [
           {
            "colorbar": {
             "outlinewidth": 0,
             "ticks": ""
            },
            "colorscale": [
             [
              0,
              "#0d0887"
             ],
             [
              0.1111111111111111,
              "#46039f"
             ],
             [
              0.2222222222222222,
              "#7201a8"
             ],
             [
              0.3333333333333333,
              "#9c179e"
             ],
             [
              0.4444444444444444,
              "#bd3786"
             ],
             [
              0.5555555555555556,
              "#d8576b"
             ],
             [
              0.6666666666666666,
              "#ed7953"
             ],
             [
              0.7777777777777778,
              "#fb9f3a"
             ],
             [
              0.8888888888888888,
              "#fdca26"
             ],
             [
              1,
              "#f0f921"
             ]
            ],
            "type": "heatmap"
           }
          ],
          "heatmapgl": [
           {
            "colorbar": {
             "outlinewidth": 0,
             "ticks": ""
            },
            "colorscale": [
             [
              0,
              "#0d0887"
             ],
             [
              0.1111111111111111,
              "#46039f"
             ],
             [
              0.2222222222222222,
              "#7201a8"
             ],
             [
              0.3333333333333333,
              "#9c179e"
             ],
             [
              0.4444444444444444,
              "#bd3786"
             ],
             [
              0.5555555555555556,
              "#d8576b"
             ],
             [
              0.6666666666666666,
              "#ed7953"
             ],
             [
              0.7777777777777778,
              "#fb9f3a"
             ],
             [
              0.8888888888888888,
              "#fdca26"
             ],
             [
              1,
              "#f0f921"
             ]
            ],
            "type": "heatmapgl"
           }
          ],
          "histogram": [
           {
            "marker": {
             "pattern": {
              "fillmode": "overlay",
              "size": 10,
              "solidity": 0.2
             }
            },
            "type": "histogram"
           }
          ],
          "histogram2d": [
           {
            "colorbar": {
             "outlinewidth": 0,
             "ticks": ""
            },
            "colorscale": [
             [
              0,
              "#0d0887"
             ],
             [
              0.1111111111111111,
              "#46039f"
             ],
             [
              0.2222222222222222,
              "#7201a8"
             ],
             [
              0.3333333333333333,
              "#9c179e"
             ],
             [
              0.4444444444444444,
              "#bd3786"
             ],
             [
              0.5555555555555556,
              "#d8576b"
             ],
             [
              0.6666666666666666,
              "#ed7953"
             ],
             [
              0.7777777777777778,
              "#fb9f3a"
             ],
             [
              0.8888888888888888,
              "#fdca26"
             ],
             [
              1,
              "#f0f921"
             ]
            ],
            "type": "histogram2d"
           }
          ],
          "histogram2dcontour": [
           {
            "colorbar": {
             "outlinewidth": 0,
             "ticks": ""
            },
            "colorscale": [
             [
              0,
              "#0d0887"
             ],
             [
              0.1111111111111111,
              "#46039f"
             ],
             [
              0.2222222222222222,
              "#7201a8"
             ],
             [
              0.3333333333333333,
              "#9c179e"
             ],
             [
              0.4444444444444444,
              "#bd3786"
             ],
             [
              0.5555555555555556,
              "#d8576b"
             ],
             [
              0.6666666666666666,
              "#ed7953"
             ],
             [
              0.7777777777777778,
              "#fb9f3a"
             ],
             [
              0.8888888888888888,
              "#fdca26"
             ],
             [
              1,
              "#f0f921"
             ]
            ],
            "type": "histogram2dcontour"
           }
          ],
          "mesh3d": [
           {
            "colorbar": {
             "outlinewidth": 0,
             "ticks": ""
            },
            "type": "mesh3d"
           }
          ],
          "parcoords": [
           {
            "line": {
             "colorbar": {
              "outlinewidth": 0,
              "ticks": ""
             }
            },
            "type": "parcoords"
           }
          ],
          "pie": [
           {
            "automargin": true,
            "type": "pie"
           }
          ],
          "scatter": [
           {
            "fillpattern": {
             "fillmode": "overlay",
             "size": 10,
             "solidity": 0.2
            },
            "type": "scatter"
           }
          ],
          "scatter3d": [
           {
            "line": {
             "colorbar": {
              "outlinewidth": 0,
              "ticks": ""
             }
            },
            "marker": {
             "colorbar": {
              "outlinewidth": 0,
              "ticks": ""
             }
            },
            "type": "scatter3d"
           }
          ],
          "scattercarpet": [
           {
            "marker": {
             "colorbar": {
              "outlinewidth": 0,
              "ticks": ""
             }
            },
            "type": "scattercarpet"
           }
          ],
          "scattergeo": [
           {
            "marker": {
             "colorbar": {
              "outlinewidth": 0,
              "ticks": ""
             }
            },
            "type": "scattergeo"
           }
          ],
          "scattergl": [
           {
            "marker": {
             "colorbar": {
              "outlinewidth": 0,
              "ticks": ""
             }
            },
            "type": "scattergl"
           }
          ],
          "scattermapbox": [
           {
            "marker": {
             "colorbar": {
              "outlinewidth": 0,
              "ticks": ""
             }
            },
            "type": "scattermapbox"
           }
          ],
          "scatterpolar": [
           {
            "marker": {
             "colorbar": {
              "outlinewidth": 0,
              "ticks": ""
             }
            },
            "type": "scatterpolar"
           }
          ],
          "scatterpolargl": [
           {
            "marker": {
             "colorbar": {
              "outlinewidth": 0,
              "ticks": ""
             }
            },
            "type": "scatterpolargl"
           }
          ],
          "scatterternary": [
           {
            "marker": {
             "colorbar": {
              "outlinewidth": 0,
              "ticks": ""
             }
            },
            "type": "scatterternary"
           }
          ],
          "surface": [
           {
            "colorbar": {
             "outlinewidth": 0,
             "ticks": ""
            },
            "colorscale": [
             [
              0,
              "#0d0887"
             ],
             [
              0.1111111111111111,
              "#46039f"
             ],
             [
              0.2222222222222222,
              "#7201a8"
             ],
             [
              0.3333333333333333,
              "#9c179e"
             ],
             [
              0.4444444444444444,
              "#bd3786"
             ],
             [
              0.5555555555555556,
              "#d8576b"
             ],
             [
              0.6666666666666666,
              "#ed7953"
             ],
             [
              0.7777777777777778,
              "#fb9f3a"
             ],
             [
              0.8888888888888888,
              "#fdca26"
             ],
             [
              1,
              "#f0f921"
             ]
            ],
            "type": "surface"
           }
          ],
          "table": [
           {
            "cells": {
             "fill": {
              "color": "#EBF0F8"
             },
             "line": {
              "color": "white"
             }
            },
            "header": {
             "fill": {
              "color": "#C8D4E3"
             },
             "line": {
              "color": "white"
             }
            },
            "type": "table"
           }
          ]
         },
         "layout": {
          "annotationdefaults": {
           "arrowcolor": "#2a3f5f",
           "arrowhead": 0,
           "arrowwidth": 1
          },
          "autotypenumbers": "strict",
          "coloraxis": {
           "colorbar": {
            "outlinewidth": 0,
            "ticks": ""
           }
          },
          "colorscale": {
           "diverging": [
            [
             0,
             "#8e0152"
            ],
            [
             0.1,
             "#c51b7d"
            ],
            [
             0.2,
             "#de77ae"
            ],
            [
             0.3,
             "#f1b6da"
            ],
            [
             0.4,
             "#fde0ef"
            ],
            [
             0.5,
             "#f7f7f7"
            ],
            [
             0.6,
             "#e6f5d0"
            ],
            [
             0.7,
             "#b8e186"
            ],
            [
             0.8,
             "#7fbc41"
            ],
            [
             0.9,
             "#4d9221"
            ],
            [
             1,
             "#276419"
            ]
           ],
           "sequential": [
            [
             0,
             "#0d0887"
            ],
            [
             0.1111111111111111,
             "#46039f"
            ],
            [
             0.2222222222222222,
             "#7201a8"
            ],
            [
             0.3333333333333333,
             "#9c179e"
            ],
            [
             0.4444444444444444,
             "#bd3786"
            ],
            [
             0.5555555555555556,
             "#d8576b"
            ],
            [
             0.6666666666666666,
             "#ed7953"
            ],
            [
             0.7777777777777778,
             "#fb9f3a"
            ],
            [
             0.8888888888888888,
             "#fdca26"
            ],
            [
             1,
             "#f0f921"
            ]
           ],
           "sequentialminus": [
            [
             0,
             "#0d0887"
            ],
            [
             0.1111111111111111,
             "#46039f"
            ],
            [
             0.2222222222222222,
             "#7201a8"
            ],
            [
             0.3333333333333333,
             "#9c179e"
            ],
            [
             0.4444444444444444,
             "#bd3786"
            ],
            [
             0.5555555555555556,
             "#d8576b"
            ],
            [
             0.6666666666666666,
             "#ed7953"
            ],
            [
             0.7777777777777778,
             "#fb9f3a"
            ],
            [
             0.8888888888888888,
             "#fdca26"
            ],
            [
             1,
             "#f0f921"
            ]
           ]
          },
          "colorway": [
           "#636efa",
           "#EF553B",
           "#00cc96",
           "#ab63fa",
           "#FFA15A",
           "#19d3f3",
           "#FF6692",
           "#B6E880",
           "#FF97FF",
           "#FECB52"
          ],
          "font": {
           "color": "#2a3f5f"
          },
          "geo": {
           "bgcolor": "white",
           "lakecolor": "white",
           "landcolor": "#E5ECF6",
           "showlakes": true,
           "showland": true,
           "subunitcolor": "white"
          },
          "hoverlabel": {
           "align": "left"
          },
          "hovermode": "closest",
          "mapbox": {
           "style": "light"
          },
          "paper_bgcolor": "white",
          "plot_bgcolor": "#E5ECF6",
          "polar": {
           "angularaxis": {
            "gridcolor": "white",
            "linecolor": "white",
            "ticks": ""
           },
           "bgcolor": "#E5ECF6",
           "radialaxis": {
            "gridcolor": "white",
            "linecolor": "white",
            "ticks": ""
           }
          },
          "scene": {
           "xaxis": {
            "backgroundcolor": "#E5ECF6",
            "gridcolor": "white",
            "gridwidth": 2,
            "linecolor": "white",
            "showbackground": true,
            "ticks": "",
            "zerolinecolor": "white"
           },
           "yaxis": {
            "backgroundcolor": "#E5ECF6",
            "gridcolor": "white",
            "gridwidth": 2,
            "linecolor": "white",
            "showbackground": true,
            "ticks": "",
            "zerolinecolor": "white"
           },
           "zaxis": {
            "backgroundcolor": "#E5ECF6",
            "gridcolor": "white",
            "gridwidth": 2,
            "linecolor": "white",
            "showbackground": true,
            "ticks": "",
            "zerolinecolor": "white"
           }
          },
          "shapedefaults": {
           "line": {
            "color": "#2a3f5f"
           }
          },
          "ternary": {
           "aaxis": {
            "gridcolor": "white",
            "linecolor": "white",
            "ticks": ""
           },
           "baxis": {
            "gridcolor": "white",
            "linecolor": "white",
            "ticks": ""
           },
           "bgcolor": "#E5ECF6",
           "caxis": {
            "gridcolor": "white",
            "linecolor": "white",
            "ticks": ""
           }
          },
          "title": {
           "x": 0.05
          },
          "xaxis": {
           "automargin": true,
           "gridcolor": "white",
           "linecolor": "white",
           "ticks": "",
           "title": {
            "standoff": 15
           },
           "zerolinecolor": "white",
           "zerolinewidth": 2
          },
          "yaxis": {
           "automargin": true,
           "gridcolor": "white",
           "linecolor": "white",
           "ticks": "",
           "title": {
            "standoff": 15
           },
           "zerolinecolor": "white",
           "zerolinewidth": 2
          }
         }
        },
        "title": {
         "text": "PPL(@PaperFury I’m taking this as a personal attack now. 😂😂)"
        },
        "xaxis": {
         "anchor": "y",
         "domain": [
          0,
          1
         ],
         "range": [
          0,
          25
         ],
         "title": {
          "text": "num of tweets (context)"
         },
         "type": "linear"
        },
        "yaxis": {
         "anchor": "x",
         "autorange": true,
         "domain": [
          0,
          1
         ],
         "range": [
          7.611731334797387,
          190.0371410406909
         ],
         "title": {
          "text": "perplexity"
         },
         "type": "linear"
        }
       }
      },
      "image/png": "[encoded data removed]",
      "text/html": [
       "<div>                            <div id=\"172af3f3-f1ac-4afd-a037-504c2b0f5f07\" class=\"plotly-graph-div\" style=\"height:525px; width:100%;\"></div>            <script type=\"text/javascript\">                require([\"plotly\"], function(Plotly) {                    window.PLOTLYENV=window.PLOTLYENV || {};                                    if (document.getElementById(\"172af3f3-f1ac-4afd-a037-504c2b0f5f07\")) {                    Plotly.newPlot(                        \"172af3f3-f1ac-4afd-a037-504c2b0f5f07\",                        [{\"customdata\":[[1,79],[1,79],[1,79],[1,79],[1,79],[1,79],[1,79],[1,79],[1,79],[1,79],[1,79],[1,79],[1,79],[1,79],[1,79],[1,79],[1,79],[1,79],[1,79],[1,79],[1,79],[1,79],[1,79],[1,79],[1,79]],\"hovertemplate\":\"<b>%{hovertext}</b><br><br>username=thatidiotfrank<br>n_tweets=%{x}<br>perplexity=%{y}<br>rank=%{customdata[0]}<br>mentions=%{customdata[1]}<extra></extra>\",\"hovertext\":[\"thatidiotfrank\",\"thatidiotfrank\",\"thatidiotfrank\",\"thatidiotfrank\",\"thatidiotfrank\",\"thatidiotfrank\",\"thatidiotfrank\",\"thatidiotfrank\",\"thatidiotfrank\",\"thatidiotfrank\",\"thatidiotfrank\",\"thatidiotfrank\",\"thatidiotfrank\",\"thatidiotfrank\",\"thatidiotfrank\",\"thatidiotfrank\",\"thatidiotfrank\",\"thatidiotfrank\",\"thatidiotfrank\",\"thatidiotfrank\",\"thatidiotfrank\",\"thatidiotfrank\",\"thatidiotfrank\",\"thatidiotfrank\",\"thatidiotfrank\"],\"legendgroup\":\"thatidiotfrank\",\"line\":{\"color\":\"#636efa\",\"dash\":\"solid\"},\"marker\":{\"symbol\":\"circle\"},\"mode\":\"markers+lines\",\"name\":\"thatidiotfrank\",\"orientation\":\"v\",\"showlegend\":true,\"x\":[0,1,2,3,4,5,6,7,8,9,10,11,12,13,14,15,16,17,18,19,20,21,22,23,24],\"xaxis\":\"x\",\"y\":[177.11534118652344,168.0760955810547,66.38079833984375,68.917236328125,64.7426528930664,55.323429107666016,47.16968536376953,48.64759063720703,45.4980583190918,44.65541076660156,42.69835662841797,42.51516342163086,43.70942687988281,44.56864929199219,44.614013671875,45.08927917480469,45.629981994628906,45.16792297363281,42.57478713989258,41.915645599365234,43.197662353515625,43.62733459472656,43.65022277832031,43.220741271972656,42.16720199584961],\"yaxis\":\"y\",\"type\":\"scatter\"},{\"customdata\":[[2,51],[2,51],[2,51],[2,51],[2,51],[2,51],[2,51],[2,51],[2,51],[2,51],[2,51],[2,51],[2,51],[2,51],[2,51],[2,51],[2,51],[2,51],[2,51],[2,51],[2,51],[2,51],[2,51],[2,51],[2,51]],\"hovertemplate\":\"<b>%{hovertext}</b><br><br>username=tea_readss<br>n_tweets=%{x}<br>perplexity=%{y}<br>rank=%{customdata[0]}<br>mentions=%{customdata[1]}<extra></extra>\",\"hovertext\":[\"tea_readss\",\"tea_readss\",\"tea_readss\",\"tea_readss\",\"tea_readss\",\"tea_readss\",\"tea_readss\",\"tea_readss\",\"tea_readss\",\"tea_readss\",\"tea_readss\",\"tea_readss\",\"tea_readss\",\"tea_readss\",\"tea_readss\",\"tea_readss\",\"tea_readss\",\"tea_readss\",\"tea_readss\",\"tea_readss\",\"tea_readss\",\"tea_readss\",\"tea_readss\",\"tea_readss\",\"tea_readss\"],\"legendgroup\":\"tea_readss\",\"line\":{\"color\":\"#EF553B\",\"dash\":\"solid\"},\"marker\":{\"symbol\":\"circle\"},\"mode\":\"markers+lines\",\"name\":\"tea_readss\",\"orientation\":\"v\",\"showlegend\":true,\"x\":[0,1,2,3,4,5,6,7,8,9,10,11,12,13,14,15,16,17,18,19,20,21,22,23,24],\"xaxis\":\"x\",\"y\":[177.11534118652344,128.00732421875,35.169734954833984,35.970375061035156,38.633949279785156,40.17449188232422,38.84086608886719,40.05281448364258,39.729164123535156,40.28688049316406,40.5938720703125,41.4390983581543,42.79619598388672,42.29506301879883,41.43484878540039,45.05607604980469,43.658538818359375,43.18943405151367,42.86378479003906,43.22810745239258,43.830814361572266,41.61933135986328,42.124183654785156,41.72898483276367,44.0311279296875],\"yaxis\":\"y\",\"type\":\"scatter\"},{\"customdata\":[[3,40],[3,40],[3,40],[3,40],[3,40],[3,40],[3,40],[3,40],[3,40],[3,40],[3,40],[3,40],[3,40],[3,40],[3,40],[3,40],[3,40],[3,40],[3,40],[3,40],[3,40],[3,40],[3,40],[3,40],[3,40]],\"hovertemplate\":\"<b>%{hovertext}</b><br><br>username=PaperFury<br>n_tweets=%{x}<br>perplexity=%{y}<br>rank=%{customdata[0]}<br>mentions=%{customdata[1]}<extra></extra>\",\"hovertext\":[\"PaperFury\",\"PaperFury\",\"PaperFury\",\"PaperFury\",\"PaperFury\",\"PaperFury\",\"PaperFury\",\"PaperFury\",\"PaperFury\",\"PaperFury\",\"PaperFury\",\"PaperFury\",\"PaperFury\",\"PaperFury\",\"PaperFury\",\"PaperFury\",\"PaperFury\",\"PaperFury\",\"PaperFury\",\"PaperFury\",\"PaperFury\",\"PaperFury\",\"PaperFury\",\"PaperFury\",\"PaperFury\"],\"legendgroup\":\"PaperFury\",\"line\":{\"color\":\"#00cc96\",\"dash\":\"solid\"},\"marker\":{\"symbol\":\"circle\"},\"mode\":\"markers+lines\",\"name\":\"PaperFury\",\"orientation\":\"v\",\"showlegend\":true,\"x\":[0,1,2,3,4,5,6,7,8,9,10,11,12,13,14,15,16,17,18,19,20,21,22,23,24],\"xaxis\":\"x\",\"y\":[177.11534118652344,147.04270935058594,115.80915069580078,108.93626403808594,107.05152893066406,109.36070251464844,108.98484802246094,110.64347839355469,109.81605529785156,105.2654800415039,108.35603332519531,110.13363647460938,112.74064636230469,116.02659606933594,115.46392059326172,117.25481414794922,114.62389373779297,105.26045989990234,104.14472198486328,109.22437286376953,110.55335235595703,109.08482360839844,110.39115905761719,104.98696899414062,107.82366943359375],\"yaxis\":\"y\",\"type\":\"scatter\"},{\"customdata\":[[5,14],[5,14],[5,14],[5,14],[5,14],[5,14],[5,14],[5,14],[5,14],[5,14],[5,14],[5,14],[5,14],[5,14],[5,14],[5,14],[5,14],[5,14],[5,14],[5,14],[5,14],[5,14],[5,14],[5,14],[5,14]],\"hovertemplate\":\"<b>%{hovertext}</b><br><br>username=thecosyreader<br>n_tweets=%{x}<br>perplexity=%{y}<br>rank=%{customdata[0]}<br>mentions=%{customdata[1]}<extra></extra>\",\"hovertext\":[\"thecosyreader\",\"thecosyreader\",\"thecosyreader\",\"thecosyreader\",\"thecosyreader\",\"thecosyreader\",\"thecosyreader\",\"thecosyreader\",\"thecosyreader\",\"thecosyreader\",\"thecosyreader\",\"thecosyreader\",\"thecosyreader\",\"thecosyreader\",\"thecosyreader\",\"thecosyreader\",\"thecosyreader\",\"thecosyreader\",\"thecosyreader\",\"thecosyreader\",\"thecosyreader\",\"thecosyreader\",\"thecosyreader\",\"thecosyreader\",\"thecosyreader\"],\"legendgroup\":\"thecosyreader\",\"line\":{\"color\":\"#ab63fa\",\"dash\":\"solid\"},\"marker\":{\"symbol\":\"circle\"},\"mode\":\"markers+lines\",\"name\":\"thecosyreader\",\"orientation\":\"v\",\"showlegend\":true,\"x\":[0,1,2,3,4,5,6,7,8,9,10,11,12,13,14,15,16,17,18,19,20,21,22,23,24],\"xaxis\":\"x\",\"y\":[177.11534118652344,133.8043975830078,129.6944122314453,127.0075912475586,116.7320327758789,117.0664291381836,119.2199478149414,119.06037139892578,115.35270690917969,104.32524871826172,92.11589050292969,93.5970687866211,86.44438934326172,96.1833267211914,98.83511352539062,96.19676971435547,94.17269134521484,97.9132308959961,97.9596939086914,99.63826751708984,98.18355560302734,94.76825714111328,97.30262756347656,98.80155944824219,99.8859634399414],\"yaxis\":\"y\",\"type\":\"scatter\"},{\"customdata\":[[6,9],[6,9],[6,9],[6,9],[6,9],[6,9],[6,9],[6,9],[6,9],[6,9],[6,9],[6,9],[6,9],[6,9],[6,9],[6,9],[6,9],[6,9],[6,9],[6,9],[6,9],[6,9],[6,9],[6,9],[6,9]],\"hovertemplate\":\"<b>%{hovertext}</b><br><br>username=SundayLuxe<br>n_tweets=%{x}<br>perplexity=%{y}<br>rank=%{customdata[0]}<br>mentions=%{customdata[1]}<extra></extra>\",\"hovertext\":[\"SundayLuxe\",\"SundayLuxe\",\"SundayLuxe\",\"SundayLuxe\",\"SundayLuxe\",\"SundayLuxe\",\"SundayLuxe\",\"SundayLuxe\",\"SundayLuxe\",\"SundayLuxe\",\"SundayLuxe\",\"SundayLuxe\",\"SundayLuxe\",\"SundayLuxe\",\"SundayLuxe\",\"SundayLuxe\",\"SundayLuxe\",\"SundayLuxe\",\"SundayLuxe\",\"SundayLuxe\",\"SundayLuxe\",\"SundayLuxe\",\"SundayLuxe\",\"SundayLuxe\",\"SundayLuxe\"],\"legendgroup\":\"SundayLuxe\",\"line\":{\"color\":\"#FFA15A\",\"dash\":\"solid\"},\"marker\":{\"symbol\":\"circle\"},\"mode\":\"markers+lines\",\"name\":\"SundayLuxe\",\"orientation\":\"v\",\"showlegend\":true,\"x\":[0,1,2,3,4,5,6,7,8,9,10,11,12,13,14,15,16,17,18,19,20,21,22,23,24],\"xaxis\":\"x\",\"y\":[177.11534118652344,40.17121887207031,35.5968132019043,30.582853317260742,28.549591064453125,27.78493881225586,28.301742553710938,28.922910690307617,29.412553787231445,31.892675399780273,33.220802307128906,33.007572174072266,33.48196029663086,29.06448745727539,28.490440368652344,30.17639923095703,29.234207153320312,29.563003540039062,29.906349182128906,29.442800521850586,29.110258102416992,28.36768341064453,27.84116554260254,27.794248580932617,27.865556716918945],\"yaxis\":\"y\",\"type\":\"scatter\"},{\"customdata\":[[7,7],[7,7],[7,7],[7,7],[7,7],[7,7],[7,7],[7,7],[7,7],[7,7],[7,7],[7,7],[7,7],[7,7],[7,7],[7,7],[7,7],[7,7],[7,7],[7,7],[7,7],[7,7],[7,7],[7,7],[7,7]],\"hovertemplate\":\"<b>%{hovertext}</b><br><br>username=shleyreads<br>n_tweets=%{x}<br>perplexity=%{y}<br>rank=%{customdata[0]}<br>mentions=%{customdata[1]}<extra></extra>\",\"hovertext\":[\"shleyreads\",\"shleyreads\",\"shleyreads\",\"shleyreads\",\"shleyreads\",\"shleyreads\",\"shleyreads\",\"shleyreads\",\"shleyreads\",\"shleyreads\",\"shleyreads\",\"shleyreads\",\"shleyreads\",\"shleyreads\",\"shleyreads\",\"shleyreads\",\"shleyreads\",\"shleyreads\",\"shleyreads\",\"shleyreads\",\"shleyreads\",\"shleyreads\",\"shleyreads\",\"shleyreads\",\"shleyreads\"],\"legendgroup\":\"shleyreads\",\"line\":{\"color\":\"#19d3f3\",\"dash\":\"solid\"},\"marker\":{\"symbol\":\"circle\"},\"mode\":\"markers+lines\",\"name\":\"shleyreads\",\"orientation\":\"v\",\"showlegend\":true,\"x\":[0,1,2,3,4,5,6,7,8,9,10,11,12,13,14,15,16,17,18,19,20,21,22,23,24],\"xaxis\":\"x\",\"y\":[177.11534118652344,142.42181396484375,132.8443603515625,115.84461212158203,114.44847106933594,115.3952865600586,57.39360809326172,59.29558181762695,41.78712463378906,40.73842239379883,35.364986419677734,33.960838317871094,34.52471923828125,33.66655731201172,33.23138427734375,32.19904327392578,32.64850616455078,32.255977630615234,30.440866470336914,31.1765079498291,32.1070671081543,31.44727325439453,31.191696166992188,31.28162384033203,32.963478088378906],\"yaxis\":\"y\",\"type\":\"scatter\"},{\"customdata\":[[8,7],[8,7],[8,7],[8,7],[8,7],[8,7],[8,7],[8,7],[8,7],[8,7],[8,7],[8,7],[8,7],[8,7],[8,7],[8,7],[8,7],[8,7],[8,7],[8,7],[8,7],[8,7],[8,7],[8,7],[8,7]],\"hovertemplate\":\"<b>%{hovertext}</b><br><br>username=sofiaecasanova<br>n_tweets=%{x}<br>perplexity=%{y}<br>rank=%{customdata[0]}<br>mentions=%{customdata[1]}<extra></extra>\",\"hovertext\":[\"sofiaecasanova\",\"sofiaecasanova\",\"sofiaecasanova\",\"sofiaecasanova\",\"sofiaecasanova\",\"sofiaecasanova\",\"sofiaecasanova\",\"sofiaecasanova\",\"sofiaecasanova\",\"sofiaecasanova\",\"sofiaecasanova\",\"sofiaecasanova\",\"sofiaecasanova\",\"sofiaecasanova\",\"sofiaecasanova\",\"sofiaecasanova\",\"sofiaecasanova\",\"sofiaecasanova\",\"sofiaecasanova\",\"sofiaecasanova\",\"sofiaecasanova\",\"sofiaecasanova\",\"sofiaecasanova\",\"sofiaecasanova\",\"sofiaecasanova\"],\"legendgroup\":\"sofiaecasanova\",\"line\":{\"color\":\"#FF6692\",\"dash\":\"solid\"},\"marker\":{\"symbol\":\"circle\"},\"mode\":\"markers+lines\",\"name\":\"sofiaecasanova\",\"orientation\":\"v\",\"showlegend\":true,\"x\":[0,1,2,3,4,5,6,7,8,9,10,11,12,13,14,15,16,17,18,19,20,21,22,23,24],\"xaxis\":\"x\",\"y\":[177.11534118652344,138.5460662841797,122.96551513671875,118.29521942138672,107.87360382080078,93.51806640625,91.18682098388672,90.81511688232422,35.17422103881836,31.415739059448242,32.38888168334961,32.90024948120117,34.142154693603516,37.023441314697266,36.43771743774414,36.24654769897461,36.033714294433594,36.18035125732422,36.47188186645508,35.68516159057617,35.61906433105469,35.809207916259766,35.95630645751953,35.49472427368164,33.54977798461914],\"yaxis\":\"y\",\"type\":\"scatter\"},{\"customdata\":[[10,6],[10,6],[10,6],[10,6],[10,6],[10,6],[10,6],[10,6],[10,6],[10,6],[10,6],[10,6],[10,6],[10,6],[10,6],[10,6],[10,6],[10,6],[10,6],[10,6],[10,6],[10,6],[10,6],[10,6],[10,6]],\"hovertemplate\":\"<b>%{hovertext}</b><br><br>username=Explore_a_thon<br>n_tweets=%{x}<br>perplexity=%{y}<br>rank=%{customdata[0]}<br>mentions=%{customdata[1]}<extra></extra>\",\"hovertext\":[\"Explore_a_thon\",\"Explore_a_thon\",\"Explore_a_thon\",\"Explore_a_thon\",\"Explore_a_thon\",\"Explore_a_thon\",\"Explore_a_thon\",\"Explore_a_thon\",\"Explore_a_thon\",\"Explore_a_thon\",\"Explore_a_thon\",\"Explore_a_thon\",\"Explore_a_thon\",\"Explore_a_thon\",\"Explore_a_thon\",\"Explore_a_thon\",\"Explore_a_thon\",\"Explore_a_thon\",\"Explore_a_thon\",\"Explore_a_thon\",\"Explore_a_thon\",\"Explore_a_thon\",\"Explore_a_thon\",\"Explore_a_thon\",\"Explore_a_thon\"],\"legendgroup\":\"Explore_a_thon\",\"line\":{\"color\":\"#B6E880\",\"dash\":\"solid\"},\"marker\":{\"symbol\":\"circle\"},\"mode\":\"markers+lines\",\"name\":\"Explore_a_thon\",\"orientation\":\"v\",\"showlegend\":true,\"x\":[0,1,2,3,4,5,6,7,8,9,10,11,12,13,14,15,16,17,18,19,20,21,22,23,24],\"xaxis\":\"x\",\"y\":[177.11534118652344,129.40005493164062,36.8397331237793,32.81367874145508,31.388607025146484,33.0994758605957,33.298240661621094,28.16890525817871,28.369375228881836,27.905778884887695,27.22458839416504,25.892250061035156,25.9185848236084,24.02295684814453,23.115886688232422,23.580934524536133,23.21556282043457,23.34977912902832,23.0687255859375,22.42831802368164,22.26072120666504,20.841537475585938,20.751955032348633,20.57567024230957,20.533531188964844],\"yaxis\":\"y\",\"type\":\"scatter\"},{\"customdata\":[[11,5],[11,5],[11,5],[11,5],[11,5],[11,5],[11,5],[11,5],[11,5],[11,5],[11,5],[11,5],[11,5],[11,5],[11,5],[11,5],[11,5],[11,5],[11,5],[11,5],[11,5],[11,5],[11,5],[11,5],[11,5]],\"hovertemplate\":\"<b>%{hovertext}</b><br><br>username=bookswithneeks<br>n_tweets=%{x}<br>perplexity=%{y}<br>rank=%{customdata[0]}<br>mentions=%{customdata[1]}<extra></extra>\",\"hovertext\":[\"bookswithneeks\",\"bookswithneeks\",\"bookswithneeks\",\"bookswithneeks\",\"bookswithneeks\",\"bookswithneeks\",\"bookswithneeks\",\"bookswithneeks\",\"bookswithneeks\",\"bookswithneeks\",\"bookswithneeks\",\"bookswithneeks\",\"bookswithneeks\",\"bookswithneeks\",\"bookswithneeks\",\"bookswithneeks\",\"bookswithneeks\",\"bookswithneeks\",\"bookswithneeks\",\"bookswithneeks\",\"bookswithneeks\",\"bookswithneeks\",\"bookswithneeks\",\"bookswithneeks\",\"bookswithneeks\"],\"legendgroup\":\"bookswithneeks\",\"line\":{\"color\":\"#FF97FF\",\"dash\":\"solid\"},\"marker\":{\"symbol\":\"circle\"},\"mode\":\"markers+lines\",\"name\":\"bookswithneeks\",\"orientation\":\"v\",\"showlegend\":true,\"x\":[0,1,2,3,4,5,6,7,8,9,10,11,12,13,14,15,16,17,18,19,20,21,22,23,24],\"xaxis\":\"x\",\"y\":[177.11534118652344,58.30949401855469,43.4813117980957,36.79056167602539,37.907501220703125,31.565876007080078,33.17432403564453,35.513084411621094,36.58440399169922,36.45908737182617,38.27756118774414,38.32236862182617,37.428009033203125,36.71201705932617,34.88111114501953,33.844120025634766,33.47611999511719,33.40350341796875,34.07170104980469,33.9962043762207,34.47646713256836,34.440582275390625,35.03395080566406,33.645503997802734,33.75788879394531],\"yaxis\":\"y\",\"type\":\"scatter\"},{\"customdata\":[[12,5],[12,5],[12,5],[12,5],[12,5],[12,5],[12,5],[12,5],[12,5],[12,5],[12,5],[12,5],[12,5],[12,5],[12,5],[12,5],[12,5],[12,5],[12,5],[12,5],[12,5],[12,5],[12,5],[12,5],[12,5]],\"hovertemplate\":\"<b>%{hovertext}</b><br><br>username=ashmcl_<br>n_tweets=%{x}<br>perplexity=%{y}<br>rank=%{customdata[0]}<br>mentions=%{customdata[1]}<extra></extra>\",\"hovertext\":[\"ashmcl_\",\"ashmcl_\",\"ashmcl_\",\"ashmcl_\",\"ashmcl_\",\"ashmcl_\",\"ashmcl_\",\"ashmcl_\",\"ashmcl_\",\"ashmcl_\",\"ashmcl_\",\"ashmcl_\",\"ashmcl_\",\"ashmcl_\",\"ashmcl_\",\"ashmcl_\",\"ashmcl_\",\"ashmcl_\",\"ashmcl_\",\"ashmcl_\",\"ashmcl_\",\"ashmcl_\",\"ashmcl_\",\"ashmcl_\",\"ashmcl_\"],\"legendgroup\":\"ashmcl_\",\"line\":{\"color\":\"#FECB52\",\"dash\":\"solid\"},\"marker\":{\"symbol\":\"circle\"},\"mode\":\"markers+lines\",\"name\":\"ashmcl_\",\"orientation\":\"v\",\"showlegend\":true,\"x\":[0,1,2,3,4,5,6,7,8,9,10,11,12,13,14,15,16,17,18,19,20,21,22,23,24],\"xaxis\":\"x\",\"y\":[177.11534118652344,146.1570281982422,65.41133117675781,65.21431732177734,55.53254318237305,48.54374694824219,49.94354248046875,51.613121032714844,51.23843002319336,45.94615936279297,45.900054931640625,46.859840393066406,47.48617172241211,48.23978042602539,47.49825668334961,46.63398361206055,46.78282928466797,43.93730545043945,43.1306266784668,43.41264343261719,43.551612854003906,42.756656646728516,43.62635803222656,46.09552764892578,45.699039459228516],\"yaxis\":\"y\",\"type\":\"scatter\"},{\"customdata\":[[13,4],[13,4],[13,4],[13,4],[13,4],[13,4],[13,4],[13,4],[13,4],[13,4],[13,4],[13,4],[13,4],[13,4],[13,4],[13,4],[13,4],[13,4],[13,4],[13,4],[13,4],[13,4],[13,4],[13,4],[13,4]],\"hovertemplate\":\"<b>%{hovertext}</b><br><br>username=udeadah<br>n_tweets=%{x}<br>perplexity=%{y}<br>rank=%{customdata[0]}<br>mentions=%{customdata[1]}<extra></extra>\",\"hovertext\":[\"udeadah\",\"udeadah\",\"udeadah\",\"udeadah\",\"udeadah\",\"udeadah\",\"udeadah\",\"udeadah\",\"udeadah\",\"udeadah\",\"udeadah\",\"udeadah\",\"udeadah\",\"udeadah\",\"udeadah\",\"udeadah\",\"udeadah\",\"udeadah\",\"udeadah\",\"udeadah\",\"udeadah\",\"udeadah\",\"udeadah\",\"udeadah\",\"udeadah\"],\"legendgroup\":\"udeadah\",\"line\":{\"color\":\"#636efa\",\"dash\":\"solid\"},\"marker\":{\"symbol\":\"circle\"},\"mode\":\"markers+lines\",\"name\":\"udeadah\",\"orientation\":\"v\",\"showlegend\":true,\"x\":[0,1,2,3,4,5,6,7,8,9,10,11,12,13,14,15,16,17,18,19,20,21,22,23,24],\"xaxis\":\"x\",\"y\":[177.11534118652344,112.95405578613281,98.0594711303711,111.6944351196289,126.16110229492188,124.00330352783203,130.3657684326172,134.3150177001953,140.04672241210938,136.349853515625,133.27479553222656,131.79278564453125,126.258056640625,122.34590911865234,131.00506591796875,127.37731170654297,131.48507690429688,138.19241333007812,136.4686279296875,139.5648651123047,135.50608825683594,134.469970703125,134.426513671875,121.01363372802734,115.43353271484375],\"yaxis\":\"y\",\"type\":\"scatter\"},{\"customdata\":[[15,4],[15,4],[15,4],[15,4],[15,4],[15,4],[15,4],[15,4],[15,4],[15,4],[15,4],[15,4],[15,4],[15,4],[15,4],[15,4],[15,4],[15,4],[15,4],[15,4],[15,4],[15,4],[15,4],[15,4],[15,4]],\"hovertemplate\":\"<b>%{hovertext}</b><br><br>username=DateaBook<br>n_tweets=%{x}<br>perplexity=%{y}<br>rank=%{customdata[0]}<br>mentions=%{customdata[1]}<extra></extra>\",\"hovertext\":[\"DateaBook\",\"DateaBook\",\"DateaBook\",\"DateaBook\",\"DateaBook\",\"DateaBook\",\"DateaBook\",\"DateaBook\",\"DateaBook\",\"DateaBook\",\"DateaBook\",\"DateaBook\",\"DateaBook\",\"DateaBook\",\"DateaBook\",\"DateaBook\",\"DateaBook\",\"DateaBook\",\"DateaBook\",\"DateaBook\",\"DateaBook\",\"DateaBook\",\"DateaBook\",\"DateaBook\",\"DateaBook\"],\"legendgroup\":\"DateaBook\",\"line\":{\"color\":\"#EF553B\",\"dash\":\"solid\"},\"marker\":{\"symbol\":\"circle\"},\"mode\":\"markers+lines\",\"name\":\"DateaBook\",\"orientation\":\"v\",\"showlegend\":true,\"x\":[0,1,2,3,4,5,6,7,8,9,10,11,12,13,14,15,16,17,18,19,20,21,22,23,24],\"xaxis\":\"x\",\"y\":[177.11534118652344,164.80776977539062,168.9291534423828,166.4224853515625,165.83880615234375,84.97471618652344,101.17501068115234,97.49207305908203,84.74095916748047,85.66596984863281,88.4706039428711,93.24492645263672,97.01349639892578,95.5347671508789,93.08673095703125,96.73532104492188,95.83183288574219,94.07709503173828,89.42566680908203,92.8769302368164,88.33587646484375,88.33587646484375,88.33587646484375,88.33587646484375,88.33587646484375],\"yaxis\":\"y\",\"type\":\"scatter\"}],                        {\"template\":{\"data\":{\"histogram2dcontour\":[{\"type\":\"histogram2dcontour\",\"colorbar\":{\"outlinewidth\":0,\"ticks\":\"\"},\"colorscale\":[[0.0,\"#0d0887\"],[0.1111111111111111,\"#46039f\"],[0.2222222222222222,\"#7201a8\"],[0.3333333333333333,\"#9c179e\"],[0.4444444444444444,\"#bd3786\"],[0.5555555555555556,\"#d8576b\"],[0.6666666666666666,\"#ed7953\"],[0.7777777777777778,\"#fb9f3a\"],[0.8888888888888888,\"#fdca26\"],[1.0,\"#f0f921\"]]}],\"choropleth\":[{\"type\":\"choropleth\",\"colorbar\":{\"outlinewidth\":0,\"ticks\":\"\"}}],\"histogram2d\":[{\"type\":\"histogram2d\",\"colorbar\":{\"outlinewidth\":0,\"ticks\":\"\"},\"colorscale\":[[0.0,\"#0d0887\"],[0.1111111111111111,\"#46039f\"],[0.2222222222222222,\"#7201a8\"],[0.3333333333333333,\"#9c179e\"],[0.4444444444444444,\"#bd3786\"],[0.5555555555555556,\"#d8576b\"],[0.6666666666666666,\"#ed7953\"],[0.7777777777777778,\"#fb9f3a\"],[0.8888888888888888,\"#fdca26\"],[1.0,\"#f0f921\"]]}],\"heatmap\":[{\"type\":\"heatmap\",\"colorbar\":{\"outlinewidth\":0,\"ticks\":\"\"},\"colorscale\":[[0.0,\"#0d0887\"],[0.1111111111111111,\"#46039f\"],[0.2222222222222222,\"#7201a8\"],[0.3333333333333333,\"#9c179e\"],[0.4444444444444444,\"#bd3786\"],[0.5555555555555556,\"#d8576b\"],[0.6666666666666666,\"#ed7953\"],[0.7777777777777778,\"#fb9f3a\"],[0.8888888888888888,\"#fdca26\"],[1.0,\"#f0f921\"]]}],\"heatmapgl\":[{\"type\":\"heatmapgl\",\"colorbar\":{\"outlinewidth\":0,\"ticks\":\"\"},\"colorscale\":[[0.0,\"#0d0887\"],[0.1111111111111111,\"#46039f\"],[0.2222222222222222,\"#7201a8\"],[0.3333333333333333,\"#9c179e\"],[0.4444444444444444,\"#bd3786\"],[0.5555555555555556,\"#d8576b\"],[0.6666666666666666,\"#ed7953\"],[0.7777777777777778,\"#fb9f3a\"],[0.8888888888888888,\"#fdca26\"],[1.0,\"#f0f921\"]]}],\"contourcarpet\":[{\"type\":\"contourcarpet\",\"colorbar\":{\"outlinewidth\":0,\"ticks\":\"\"}}],\"contour\":[{\"type\":\"contour\",\"colorbar\":{\"outlinewidth\":0,\"ticks\":\"\"},\"colorscale\":[[0.0,\"#0d0887\"],[0.1111111111111111,\"#46039f\"],[0.2222222222222222,\"#7201a8\"],[0.3333333333333333,\"#9c179e\"],[0.4444444444444444,\"#bd3786\"],[0.5555555555555556,\"#d8576b\"],[0.6666666666666666,\"#ed7953\"],[0.7777777777777778,\"#fb9f3a\"],[0.8888888888888888,\"#fdca26\"],[1.0,\"#f0f921\"]]}],\"surface\":[{\"type\":\"surface\",\"colorbar\":{\"outlinewidth\":0,\"ticks\":\"\"},\"colorscale\":[[0.0,\"#0d0887\"],[0.1111111111111111,\"#46039f\"],[0.2222222222222222,\"#7201a8\"],[0.3333333333333333,\"#9c179e\"],[0.4444444444444444,\"#bd3786\"],[0.5555555555555556,\"#d8576b\"],[0.6666666666666666,\"#ed7953\"],[0.7777777777777778,\"#fb9f3a\"],[0.8888888888888888,\"#fdca26\"],[1.0,\"#f0f921\"]]}],\"mesh3d\":[{\"type\":\"mesh3d\",\"colorbar\":{\"outlinewidth\":0,\"ticks\":\"\"}}],\"scatter\":[{\"fillpattern\":{\"fillmode\":\"overlay\",\"size\":10,\"solidity\":0.2},\"type\":\"scatter\"}],\"parcoords\":[{\"type\":\"parcoords\",\"line\":{\"colorbar\":{\"outlinewidth\":0,\"ticks\":\"\"}}}],\"scatterpolargl\":[{\"type\":\"scatterpolargl\",\"marker\":{\"colorbar\":{\"outlinewidth\":0,\"ticks\":\"\"}}}],\"bar\":[{\"error_x\":{\"color\":\"#2a3f5f\"},\"error_y\":{\"color\":\"#2a3f5f\"},\"marker\":{\"line\":{\"color\":\"#E5ECF6\",\"width\":0.5},\"pattern\":{\"fillmode\":\"overlay\",\"size\":10,\"solidity\":0.2}},\"type\":\"bar\"}],\"scattergeo\":[{\"type\":\"scattergeo\",\"marker\":{\"colorbar\":{\"outlinewidth\":0,\"ticks\":\"\"}}}],\"scatterpolar\":[{\"type\":\"scatterpolar\",\"marker\":{\"colorbar\":{\"outlinewidth\":0,\"ticks\":\"\"}}}],\"histogram\":[{\"marker\":{\"pattern\":{\"fillmode\":\"overlay\",\"size\":10,\"solidity\":0.2}},\"type\":\"histogram\"}],\"scattergl\":[{\"type\":\"scattergl\",\"marker\":{\"colorbar\":{\"outlinewidth\":0,\"ticks\":\"\"}}}],\"scatter3d\":[{\"type\":\"scatter3d\",\"line\":{\"colorbar\":{\"outlinewidth\":0,\"ticks\":\"\"}},\"marker\":{\"colorbar\":{\"outlinewidth\":0,\"ticks\":\"\"}}}],\"scattermapbox\":[{\"type\":\"scattermapbox\",\"marker\":{\"colorbar\":{\"outlinewidth\":0,\"ticks\":\"\"}}}],\"scatterternary\":[{\"type\":\"scatterternary\",\"marker\":{\"colorbar\":{\"outlinewidth\":0,\"ticks\":\"\"}}}],\"scattercarpet\":[{\"type\":\"scattercarpet\",\"marker\":{\"colorbar\":{\"outlinewidth\":0,\"ticks\":\"\"}}}],\"carpet\":[{\"aaxis\":{\"endlinecolor\":\"#2a3f5f\",\"gridcolor\":\"white\",\"linecolor\":\"white\",\"minorgridcolor\":\"white\",\"startlinecolor\":\"#2a3f5f\"},\"baxis\":{\"endlinecolor\":\"#2a3f5f\",\"gridcolor\":\"white\",\"linecolor\":\"white\",\"minorgridcolor\":\"white\",\"startlinecolor\":\"#2a3f5f\"},\"type\":\"carpet\"}],\"table\":[{\"cells\":{\"fill\":{\"color\":\"#EBF0F8\"},\"line\":{\"color\":\"white\"}},\"header\":{\"fill\":{\"color\":\"#C8D4E3\"},\"line\":{\"color\":\"white\"}},\"type\":\"table\"}],\"barpolar\":[{\"marker\":{\"line\":{\"color\":\"#E5ECF6\",\"width\":0.5},\"pattern\":{\"fillmode\":\"overlay\",\"size\":10,\"solidity\":0.2}},\"type\":\"barpolar\"}],\"pie\":[{\"automargin\":true,\"type\":\"pie\"}]},\"layout\":{\"autotypenumbers\":\"strict\",\"colorway\":[\"#636efa\",\"#EF553B\",\"#00cc96\",\"#ab63fa\",\"#FFA15A\",\"#19d3f3\",\"#FF6692\",\"#B6E880\",\"#FF97FF\",\"#FECB52\"],\"font\":{\"color\":\"#2a3f5f\"},\"hovermode\":\"closest\",\"hoverlabel\":{\"align\":\"left\"},\"paper_bgcolor\":\"white\",\"plot_bgcolor\":\"#E5ECF6\",\"polar\":{\"bgcolor\":\"#E5ECF6\",\"angularaxis\":{\"gridcolor\":\"white\",\"linecolor\":\"white\",\"ticks\":\"\"},\"radialaxis\":{\"gridcolor\":\"white\",\"linecolor\":\"white\",\"ticks\":\"\"}},\"ternary\":{\"bgcolor\":\"#E5ECF6\",\"aaxis\":{\"gridcolor\":\"white\",\"linecolor\":\"white\",\"ticks\":\"\"},\"baxis\":{\"gridcolor\":\"white\",\"linecolor\":\"white\",\"ticks\":\"\"},\"caxis\":{\"gridcolor\":\"white\",\"linecolor\":\"white\",\"ticks\":\"\"}},\"coloraxis\":{\"colorbar\":{\"outlinewidth\":0,\"ticks\":\"\"}},\"colorscale\":{\"sequential\":[[0.0,\"#0d0887\"],[0.1111111111111111,\"#46039f\"],[0.2222222222222222,\"#7201a8\"],[0.3333333333333333,\"#9c179e\"],[0.4444444444444444,\"#bd3786\"],[0.5555555555555556,\"#d8576b\"],[0.6666666666666666,\"#ed7953\"],[0.7777777777777778,\"#fb9f3a\"],[0.8888888888888888,\"#fdca26\"],[1.0,\"#f0f921\"]],\"sequentialminus\":[[0.0,\"#0d0887\"],[0.1111111111111111,\"#46039f\"],[0.2222222222222222,\"#7201a8\"],[0.3333333333333333,\"#9c179e\"],[0.4444444444444444,\"#bd3786\"],[0.5555555555555556,\"#d8576b\"],[0.6666666666666666,\"#ed7953\"],[0.7777777777777778,\"#fb9f3a\"],[0.8888888888888888,\"#fdca26\"],[1.0,\"#f0f921\"]],\"diverging\":[[0,\"#8e0152\"],[0.1,\"#c51b7d\"],[0.2,\"#de77ae\"],[0.3,\"#f1b6da\"],[0.4,\"#fde0ef\"],[0.5,\"#f7f7f7\"],[0.6,\"#e6f5d0\"],[0.7,\"#b8e186\"],[0.8,\"#7fbc41\"],[0.9,\"#4d9221\"],[1,\"#276419\"]]},\"xaxis\":{\"gridcolor\":\"white\",\"linecolor\":\"white\",\"ticks\":\"\",\"title\":{\"standoff\":15},\"zerolinecolor\":\"white\",\"automargin\":true,\"zerolinewidth\":2},\"yaxis\":{\"gridcolor\":\"white\",\"linecolor\":\"white\",\"ticks\":\"\",\"title\":{\"standoff\":15},\"zerolinecolor\":\"white\",\"automargin\":true,\"zerolinewidth\":2},\"scene\":{\"xaxis\":{\"backgroundcolor\":\"#E5ECF6\",\"gridcolor\":\"white\",\"linecolor\":\"white\",\"showbackground\":true,\"ticks\":\"\",\"zerolinecolor\":\"white\",\"gridwidth\":2},\"yaxis\":{\"backgroundcolor\":\"#E5ECF6\",\"gridcolor\":\"white\",\"linecolor\":\"white\",\"showbackground\":true,\"ticks\":\"\",\"zerolinecolor\":\"white\",\"gridwidth\":2},\"zaxis\":{\"backgroundcolor\":\"#E5ECF6\",\"gridcolor\":\"white\",\"linecolor\":\"white\",\"showbackground\":true,\"ticks\":\"\",\"zerolinecolor\":\"white\",\"gridwidth\":2}},\"shapedefaults\":{\"line\":{\"color\":\"#2a3f5f\"}},\"annotationdefaults\":{\"arrowcolor\":\"#2a3f5f\",\"arrowhead\":0,\"arrowwidth\":1},\"geo\":{\"bgcolor\":\"white\",\"landcolor\":\"#E5ECF6\",\"subunitcolor\":\"white\",\"showland\":true,\"showlakes\":true,\"lakecolor\":\"white\"},\"title\":{\"x\":0.05},\"mapbox\":{\"style\":\"light\"}}},\"xaxis\":{\"anchor\":\"y\",\"domain\":[0.0,1.0],\"title\":{\"text\":\"num of tweets (context)\"},\"range\":[0,25]},\"yaxis\":{\"anchor\":\"x\",\"domain\":[0.0,1.0],\"title\":{\"text\":\"perplexity\"}},\"legend\":{\"title\":{\"text\":\"username\"},\"tracegroupgap\":0},\"title\":{\"text\":\"PPL(@PaperFury I\\u2019m taking this as a personal attack now. \\ud83d\\ude02\\ud83d\\ude02)\"}},                        {\"responsive\": true}                    ).then(function(){\n",
       "                            \n",
       "var gd = document.getElementById('172af3f3-f1ac-4afd-a037-504c2b0f5f07');\n",
       "var x = new MutationObserver(function (mutations, observer) {{\n",
       "        var display = window.getComputedStyle(gd).display;\n",
       "        if (!display || display === 'none') {{\n",
       "            console.log([gd, 'removed!']);\n",
       "            Plotly.purge(gd);\n",
       "            observer.disconnect();\n",
       "        }}\n",
       "}});\n",
       "\n",
       "// Listen for the removal of the full notebook cells\n",
       "var notebookContainer = gd.closest('#notebook-container');\n",
       "if (notebookContainer) {{\n",
       "    x.observe(notebookContainer, {childList: true});\n",
       "}}\n",
       "\n",
       "// Listen for the clearing of the current output cell\n",
       "var outputEl = gd.closest('.output');\n",
       "if (outputEl) {{\n",
       "    x.observe(outputEl, {childList: true});\n",
       "}}\n",
       "\n",
       "                        })                };                });            </script>        </div>"
      ]
     },
     "metadata": {},
     "output_type": "display_data"
    }
   ],
   "source": [
    "fig = px.line(ppl_per_peer, y=\"perplexity\", x=\"n_tweets\", markers=True, color=\"username\", hover_name=\"username\", hover_data=[\"rank\", \"mentions\"], title=f\"PPL({text})\")\n",
    "\n",
    "fig.update_yaxes(title=\"perplexity\")\n",
    "fig.update_xaxes(title=\"num of tweets (context)\", range=(0,25))"
   ]
  },
  {
   "cell_type": "markdown",
   "id": "f4118307-1a71-4ed2-9ba2-c78f07fbea5b",
   "metadata": {},
   "source": [
    "There is no clear relationship between frequently mentioning someone and their tweets lowering the perplexity...\n",
    "\n",
    "But, the convergence around 5 tweets does hold quite well!"
   ]
  },
  {
   "cell_type": "markdown",
   "id": "0b17b96f-80f7-4653-be97-3329f8adb4c5",
   "metadata": {},
   "source": [
    "# Tweets from random users"
   ]
  },
  {
   "cell_type": "code",
   "execution_count": 91,
   "id": "21afea9a-8d48-4c59-b637-e5e4543f5551",
   "metadata": {},
   "outputs": [
    {
     "name": "stdout",
     "output_type": "stream",
     "text": [
      "username: hyukaireen\n",
      "username: prettyredlips21\n",
      "username: DevilishEnd\n",
      "username: STLChildrens\n",
      "username: JawnO\n",
      "username: dieboldcomics\n",
      "username: LagoonTrading\n",
      "username: mfarrellsports\n",
      "username: simonsinek\n",
      "username: persiika\n",
      "username: MiaOBrienTV\n",
      "username: pjmtrendingsong\n",
      "username: nbilka\n",
      "username: mindykaling\n",
      "username: LLinWood\n",
      "@187680645: Discernment. https://t.co/4chSstOVkR\n",
      "@170021040: 3-Point Stance: these dudes are gonna be under pressure \n",
      "\n",
      "https://t.co/DvbeHvGPki\n",
      "@15970050: Directions are instructions given to explain HOW.\n",
      "Direction is a vision offered to explain WHY.\n"
     ]
    },
    {
     "data": {
      "application/vnd.jupyter.widget-view+json": {
       "model_id": "7c5a3b2ed8034a6d9b9657381d820132",
       "version_major": 2,
       "version_minor": 0
      },
      "text/plain": [
       "  0%|          | 0/45 [00:00<?, ?ex/s]"
      ]
     },
     "metadata": {},
     "output_type": "display_data"
    },
    {
     "data": {
      "application/vnd.jupyter.widget-view+json": {
       "model_id": "25fd8e57d41d439882fdc031170472ce",
       "version_major": 2,
       "version_minor": 0
      },
      "text/plain": [
       "  0%|          | 0/45 [00:00<?, ?ex/s]"
      ]
     },
     "metadata": {},
     "output_type": "display_data"
    }
   ],
   "source": [
    "rand_user_list = list(peers_collection.aggregate([ { \"$sample\": { \"size\": 15 } } ]))\n",
    "\n",
    "for peer in rand_user_list:\n",
    "    print(f\"username: {peer['username']}\")\n",
    "\n",
    "rand_user_tweets = []\n",
    "for peer in rand_user_list:\n",
    "    user_tweets = list(timelines_collection.find({\"author_id\": peer['id'], \"referenced_tweets.type\": {\"$ne\": \"retweeted\"}}, {\"_id\": 0}).limit(3))\n",
    "    rand_user_tweets.extend(user_tweets)\n",
    "\n",
    "### Peers dataset\n",
    "\n",
    "rand_user_dataset = Dataset.from_list(rand_user_tweets).shuffle(56)\n",
    "\n",
    "for tweet in rand_user_dataset.select(range(3)):\n",
    "    print(f\"@{tweet['author_id']}: {tweet['text']}\")\n",
    "\n",
    "#### Preprocess\n",
    "\n",
    "rand_user_dataset = rand_user_dataset.map(remove_urls).map(remove_extra_spaces)"
   ]
  },
  {
   "cell_type": "code",
   "execution_count": 92,
   "id": "678b67f1-7ab6-4db2-8b03-e9c862a62866",
   "metadata": {},
   "outputs": [
    {
     "data": {
      "application/vnd.plotly.v1+json": {
       "config": {
        "plotlyServerURL": "https://plot.ly"
       },
       "data": [
        {
         "hovertemplate": "variable=0<br>index=%{x}<br>value=%{y}<extra></extra>",
         "legendgroup": "0",
         "line": {
          "color": "#636efa",
          "dash": "solid"
         },
         "marker": {
          "symbol": "circle"
         },
         "mode": "markers+lines",
         "name": "0",
         "orientation": "v",
         "showlegend": true,
         "type": "scatter",
         "x": [
          0,
          1,
          2,
          3,
          4,
          5,
          6,
          7,
          8,
          9,
          10,
          11,
          12,
          13,
          14,
          15,
          16,
          17,
          18,
          19,
          20,
          21,
          22,
          23,
          24
         ],
         "xaxis": "x",
         "y": [
          177.11534118652344,
          134.17669677734375,
          124.14618682861328,
          167.097900390625,
          137.3681640625,
          141.71517944335938,
          126.03495788574219,
          118.73754119873047,
          68.82859802246094,
          67.14691162109375,
          67.88217163085938,
          68.89713287353516,
          70.76959228515625,
          72.22478485107422,
          69.28277587890625,
          70.94241333007812,
          71.69864654541016,
          71.46773529052734,
          70.91217803955078,
          71.50556945800781,
          72.79305267333984,
          75.1872787475586,
          74.24420166015625,
          75.61827087402344,
          74.53215789794922
         ],
         "yaxis": "y"
        }
       ],
       "layout": {
        "autosize": true,
        "legend": {
         "title": {
          "text": "variable"
         },
         "tracegroupgap": 0
        },
        "template": {
         "data": {
          "bar": [
           {
            "error_x": {
             "color": "#2a3f5f"
            },
            "error_y": {
             "color": "#2a3f5f"
            },
            "marker": {
             "line": {
              "color": "#E5ECF6",
              "width": 0.5
             },
             "pattern": {
              "fillmode": "overlay",
              "size": 10,
              "solidity": 0.2
             }
            },
            "type": "bar"
           }
          ],
          "barpolar": [
           {
            "marker": {
             "line": {
              "color": "#E5ECF6",
              "width": 0.5
             },
             "pattern": {
              "fillmode": "overlay",
              "size": 10,
              "solidity": 0.2
             }
            },
            "type": "barpolar"
           }
          ],
          "carpet": [
           {
            "aaxis": {
             "endlinecolor": "#2a3f5f",
             "gridcolor": "white",
             "linecolor": "white",
             "minorgridcolor": "white",
             "startlinecolor": "#2a3f5f"
            },
            "baxis": {
             "endlinecolor": "#2a3f5f",
             "gridcolor": "white",
             "linecolor": "white",
             "minorgridcolor": "white",
             "startlinecolor": "#2a3f5f"
            },
            "type": "carpet"
           }
          ],
          "choropleth": [
           {
            "colorbar": {
             "outlinewidth": 0,
             "ticks": ""
            },
            "type": "choropleth"
           }
          ],
          "contour": [
           {
            "colorbar": {
             "outlinewidth": 0,
             "ticks": ""
            },
            "colorscale": [
             [
              0,
              "#0d0887"
             ],
             [
              0.1111111111111111,
              "#46039f"
             ],
             [
              0.2222222222222222,
              "#7201a8"
             ],
             [
              0.3333333333333333,
              "#9c179e"
             ],
             [
              0.4444444444444444,
              "#bd3786"
             ],
             [
              0.5555555555555556,
              "#d8576b"
             ],
             [
              0.6666666666666666,
              "#ed7953"
             ],
             [
              0.7777777777777778,
              "#fb9f3a"
             ],
             [
              0.8888888888888888,
              "#fdca26"
             ],
             [
              1,
              "#f0f921"
             ]
            ],
            "type": "contour"
           }
          ],
          "contourcarpet": [
           {
            "colorbar": {
             "outlinewidth": 0,
             "ticks": ""
            },
            "type": "contourcarpet"
           }
          ],
          "heatmap": [
           {
            "colorbar": {
             "outlinewidth": 0,
             "ticks": ""
            },
            "colorscale": [
             [
              0,
              "#0d0887"
             ],
             [
              0.1111111111111111,
              "#46039f"
             ],
             [
              0.2222222222222222,
              "#7201a8"
             ],
             [
              0.3333333333333333,
              "#9c179e"
             ],
             [
              0.4444444444444444,
              "#bd3786"
             ],
             [
              0.5555555555555556,
              "#d8576b"
             ],
             [
              0.6666666666666666,
              "#ed7953"
             ],
             [
              0.7777777777777778,
              "#fb9f3a"
             ],
             [
              0.8888888888888888,
              "#fdca26"
             ],
             [
              1,
              "#f0f921"
             ]
            ],
            "type": "heatmap"
           }
          ],
          "heatmapgl": [
           {
            "colorbar": {
             "outlinewidth": 0,
             "ticks": ""
            },
            "colorscale": [
             [
              0,
              "#0d0887"
             ],
             [
              0.1111111111111111,
              "#46039f"
             ],
             [
              0.2222222222222222,
              "#7201a8"
             ],
             [
              0.3333333333333333,
              "#9c179e"
             ],
             [
              0.4444444444444444,
              "#bd3786"
             ],
             [
              0.5555555555555556,
              "#d8576b"
             ],
             [
              0.6666666666666666,
              "#ed7953"
             ],
             [
              0.7777777777777778,
              "#fb9f3a"
             ],
             [
              0.8888888888888888,
              "#fdca26"
             ],
             [
              1,
              "#f0f921"
             ]
            ],
            "type": "heatmapgl"
           }
          ],
          "histogram": [
           {
            "marker": {
             "pattern": {
              "fillmode": "overlay",
              "size": 10,
              "solidity": 0.2
             }
            },
            "type": "histogram"
           }
          ],
          "histogram2d": [
           {
            "colorbar": {
             "outlinewidth": 0,
             "ticks": ""
            },
            "colorscale": [
             [
              0,
              "#0d0887"
             ],
             [
              0.1111111111111111,
              "#46039f"
             ],
             [
              0.2222222222222222,
              "#7201a8"
             ],
             [
              0.3333333333333333,
              "#9c179e"
             ],
             [
              0.4444444444444444,
              "#bd3786"
             ],
             [
              0.5555555555555556,
              "#d8576b"
             ],
             [
              0.6666666666666666,
              "#ed7953"
             ],
             [
              0.7777777777777778,
              "#fb9f3a"
             ],
             [
              0.8888888888888888,
              "#fdca26"
             ],
             [
              1,
              "#f0f921"
             ]
            ],
            "type": "histogram2d"
           }
          ],
          "histogram2dcontour": [
           {
            "colorbar": {
             "outlinewidth": 0,
             "ticks": ""
            },
            "colorscale": [
             [
              0,
              "#0d0887"
             ],
             [
              0.1111111111111111,
              "#46039f"
             ],
             [
              0.2222222222222222,
              "#7201a8"
             ],
             [
              0.3333333333333333,
              "#9c179e"
             ],
             [
              0.4444444444444444,
              "#bd3786"
             ],
             [
              0.5555555555555556,
              "#d8576b"
             ],
             [
              0.6666666666666666,
              "#ed7953"
             ],
             [
              0.7777777777777778,
              "#fb9f3a"
             ],
             [
              0.8888888888888888,
              "#fdca26"
             ],
             [
              1,
              "#f0f921"
             ]
            ],
            "type": "histogram2dcontour"
           }
          ],
          "mesh3d": [
           {
            "colorbar": {
             "outlinewidth": 0,
             "ticks": ""
            },
            "type": "mesh3d"
           }
          ],
          "parcoords": [
           {
            "line": {
             "colorbar": {
              "outlinewidth": 0,
              "ticks": ""
             }
            },
            "type": "parcoords"
           }
          ],
          "pie": [
           {
            "automargin": true,
            "type": "pie"
           }
          ],
          "scatter": [
           {
            "fillpattern": {
             "fillmode": "overlay",
             "size": 10,
             "solidity": 0.2
            },
            "type": "scatter"
           }
          ],
          "scatter3d": [
           {
            "line": {
             "colorbar": {
              "outlinewidth": 0,
              "ticks": ""
             }
            },
            "marker": {
             "colorbar": {
              "outlinewidth": 0,
              "ticks": ""
             }
            },
            "type": "scatter3d"
           }
          ],
          "scattercarpet": [
           {
            "marker": {
             "colorbar": {
              "outlinewidth": 0,
              "ticks": ""
             }
            },
            "type": "scattercarpet"
           }
          ],
          "scattergeo": [
           {
            "marker": {
             "colorbar": {
              "outlinewidth": 0,
              "ticks": ""
             }
            },
            "type": "scattergeo"
           }
          ],
          "scattergl": [
           {
            "marker": {
             "colorbar": {
              "outlinewidth": 0,
              "ticks": ""
             }
            },
            "type": "scattergl"
           }
          ],
          "scattermapbox": [
           {
            "marker": {
             "colorbar": {
              "outlinewidth": 0,
              "ticks": ""
             }
            },
            "type": "scattermapbox"
           }
          ],
          "scatterpolar": [
           {
            "marker": {
             "colorbar": {
              "outlinewidth": 0,
              "ticks": ""
             }
            },
            "type": "scatterpolar"
           }
          ],
          "scatterpolargl": [
           {
            "marker": {
             "colorbar": {
              "outlinewidth": 0,
              "ticks": ""
             }
            },
            "type": "scatterpolargl"
           }
          ],
          "scatterternary": [
           {
            "marker": {
             "colorbar": {
              "outlinewidth": 0,
              "ticks": ""
             }
            },
            "type": "scatterternary"
           }
          ],
          "surface": [
           {
            "colorbar": {
             "outlinewidth": 0,
             "ticks": ""
            },
            "colorscale": [
             [
              0,
              "#0d0887"
             ],
             [
              0.1111111111111111,
              "#46039f"
             ],
             [
              0.2222222222222222,
              "#7201a8"
             ],
             [
              0.3333333333333333,
              "#9c179e"
             ],
             [
              0.4444444444444444,
              "#bd3786"
             ],
             [
              0.5555555555555556,
              "#d8576b"
             ],
             [
              0.6666666666666666,
              "#ed7953"
             ],
             [
              0.7777777777777778,
              "#fb9f3a"
             ],
             [
              0.8888888888888888,
              "#fdca26"
             ],
             [
              1,
              "#f0f921"
             ]
            ],
            "type": "surface"
           }
          ],
          "table": [
           {
            "cells": {
             "fill": {
              "color": "#EBF0F8"
             },
             "line": {
              "color": "white"
             }
            },
            "header": {
             "fill": {
              "color": "#C8D4E3"
             },
             "line": {
              "color": "white"
             }
            },
            "type": "table"
           }
          ]
         },
         "layout": {
          "annotationdefaults": {
           "arrowcolor": "#2a3f5f",
           "arrowhead": 0,
           "arrowwidth": 1
          },
          "autotypenumbers": "strict",
          "coloraxis": {
           "colorbar": {
            "outlinewidth": 0,
            "ticks": ""
           }
          },
          "colorscale": {
           "diverging": [
            [
             0,
             "#8e0152"
            ],
            [
             0.1,
             "#c51b7d"
            ],
            [
             0.2,
             "#de77ae"
            ],
            [
             0.3,
             "#f1b6da"
            ],
            [
             0.4,
             "#fde0ef"
            ],
            [
             0.5,
             "#f7f7f7"
            ],
            [
             0.6,
             "#e6f5d0"
            ],
            [
             0.7,
             "#b8e186"
            ],
            [
             0.8,
             "#7fbc41"
            ],
            [
             0.9,
             "#4d9221"
            ],
            [
             1,
             "#276419"
            ]
           ],
           "sequential": [
            [
             0,
             "#0d0887"
            ],
            [
             0.1111111111111111,
             "#46039f"
            ],
            [
             0.2222222222222222,
             "#7201a8"
            ],
            [
             0.3333333333333333,
             "#9c179e"
            ],
            [
             0.4444444444444444,
             "#bd3786"
            ],
            [
             0.5555555555555556,
             "#d8576b"
            ],
            [
             0.6666666666666666,
             "#ed7953"
            ],
            [
             0.7777777777777778,
             "#fb9f3a"
            ],
            [
             0.8888888888888888,
             "#fdca26"
            ],
            [
             1,
             "#f0f921"
            ]
           ],
           "sequentialminus": [
            [
             0,
             "#0d0887"
            ],
            [
             0.1111111111111111,
             "#46039f"
            ],
            [
             0.2222222222222222,
             "#7201a8"
            ],
            [
             0.3333333333333333,
             "#9c179e"
            ],
            [
             0.4444444444444444,
             "#bd3786"
            ],
            [
             0.5555555555555556,
             "#d8576b"
            ],
            [
             0.6666666666666666,
             "#ed7953"
            ],
            [
             0.7777777777777778,
             "#fb9f3a"
            ],
            [
             0.8888888888888888,
             "#fdca26"
            ],
            [
             1,
             "#f0f921"
            ]
           ]
          },
          "colorway": [
           "#636efa",
           "#EF553B",
           "#00cc96",
           "#ab63fa",
           "#FFA15A",
           "#19d3f3",
           "#FF6692",
           "#B6E880",
           "#FF97FF",
           "#FECB52"
          ],
          "font": {
           "color": "#2a3f5f"
          },
          "geo": {
           "bgcolor": "white",
           "lakecolor": "white",
           "landcolor": "#E5ECF6",
           "showlakes": true,
           "showland": true,
           "subunitcolor": "white"
          },
          "hoverlabel": {
           "align": "left"
          },
          "hovermode": "closest",
          "mapbox": {
           "style": "light"
          },
          "paper_bgcolor": "white",
          "plot_bgcolor": "#E5ECF6",
          "polar": {
           "angularaxis": {
            "gridcolor": "white",
            "linecolor": "white",
            "ticks": ""
           },
           "bgcolor": "#E5ECF6",
           "radialaxis": {
            "gridcolor": "white",
            "linecolor": "white",
            "ticks": ""
           }
          },
          "scene": {
           "xaxis": {
            "backgroundcolor": "#E5ECF6",
            "gridcolor": "white",
            "gridwidth": 2,
            "linecolor": "white",
            "showbackground": true,
            "ticks": "",
            "zerolinecolor": "white"
           },
           "yaxis": {
            "backgroundcolor": "#E5ECF6",
            "gridcolor": "white",
            "gridwidth": 2,
            "linecolor": "white",
            "showbackground": true,
            "ticks": "",
            "zerolinecolor": "white"
           },
           "zaxis": {
            "backgroundcolor": "#E5ECF6",
            "gridcolor": "white",
            "gridwidth": 2,
            "linecolor": "white",
            "showbackground": true,
            "ticks": "",
            "zerolinecolor": "white"
           }
          },
          "shapedefaults": {
           "line": {
            "color": "#2a3f5f"
           }
          },
          "ternary": {
           "aaxis": {
            "gridcolor": "white",
            "linecolor": "white",
            "ticks": ""
           },
           "baxis": {
            "gridcolor": "white",
            "linecolor": "white",
            "ticks": ""
           },
           "bgcolor": "#E5ECF6",
           "caxis": {
            "gridcolor": "white",
            "linecolor": "white",
            "ticks": ""
           }
          },
          "title": {
           "x": 0.05
          },
          "xaxis": {
           "automargin": true,
           "gridcolor": "white",
           "linecolor": "white",
           "ticks": "",
           "title": {
            "standoff": 15
           },
           "zerolinecolor": "white",
           "zerolinewidth": 2
          },
          "yaxis": {
           "automargin": true,
           "gridcolor": "white",
           "linecolor": "white",
           "ticks": "",
           "title": {
            "standoff": 15
           },
           "zerolinecolor": "white",
           "zerolinewidth": 2
          }
         }
        },
        "title": {
         "text": "PPL(@PaperFury I’m taking this as a personal attack now. 😂😂)"
        },
        "xaxis": {
         "anchor": "y",
         "domain": [
          0,
          1
         ],
         "range": [
          0,
          25
         ],
         "title": {
          "text": "num of tweets (context)"
         },
         "type": "linear"
        },
        "yaxis": {
         "anchor": "x",
         "autorange": true,
         "domain": [
          0,
          1
         ],
         "range": [
          58.071847045305866,
          186.19040576231131
         ],
         "title": {
          "text": "perplexity"
         },
         "type": "linear"
        }
       }
      },
      "image/png": "[encoded data removed]",
      "text/html": [
       "<div>                            <div id=\"287a80ca-5a0d-4402-81c6-13c977ec3560\" class=\"plotly-graph-div\" style=\"height:525px; width:100%;\"></div>            <script type=\"text/javascript\">                require([\"plotly\"], function(Plotly) {                    window.PLOTLYENV=window.PLOTLYENV || {};                                    if (document.getElementById(\"287a80ca-5a0d-4402-81c6-13c977ec3560\")) {                    Plotly.newPlot(                        \"287a80ca-5a0d-4402-81c6-13c977ec3560\",                        [{\"hovertemplate\":\"variable=0<br>index=%{x}<br>value=%{y}<extra></extra>\",\"legendgroup\":\"0\",\"line\":{\"color\":\"#636efa\",\"dash\":\"solid\"},\"marker\":{\"symbol\":\"circle\"},\"mode\":\"markers+lines\",\"name\":\"0\",\"orientation\":\"v\",\"showlegend\":true,\"x\":[0,1,2,3,4,5,6,7,8,9,10,11,12,13,14,15,16,17,18,19,20,21,22,23,24],\"xaxis\":\"x\",\"y\":[177.11534118652344,134.17669677734375,124.14618682861328,167.097900390625,137.3681640625,141.71517944335938,126.03495788574219,118.73754119873047,68.82859802246094,67.14691162109375,67.88217163085938,68.89713287353516,70.76959228515625,72.22478485107422,69.28277587890625,70.94241333007812,71.69864654541016,71.46773529052734,70.91217803955078,71.50556945800781,72.79305267333984,75.1872787475586,74.24420166015625,75.61827087402344,74.53215789794922],\"yaxis\":\"y\",\"type\":\"scatter\"}],                        {\"template\":{\"data\":{\"histogram2dcontour\":[{\"type\":\"histogram2dcontour\",\"colorbar\":{\"outlinewidth\":0,\"ticks\":\"\"},\"colorscale\":[[0.0,\"#0d0887\"],[0.1111111111111111,\"#46039f\"],[0.2222222222222222,\"#7201a8\"],[0.3333333333333333,\"#9c179e\"],[0.4444444444444444,\"#bd3786\"],[0.5555555555555556,\"#d8576b\"],[0.6666666666666666,\"#ed7953\"],[0.7777777777777778,\"#fb9f3a\"],[0.8888888888888888,\"#fdca26\"],[1.0,\"#f0f921\"]]}],\"choropleth\":[{\"type\":\"choropleth\",\"colorbar\":{\"outlinewidth\":0,\"ticks\":\"\"}}],\"histogram2d\":[{\"type\":\"histogram2d\",\"colorbar\":{\"outlinewidth\":0,\"ticks\":\"\"},\"colorscale\":[[0.0,\"#0d0887\"],[0.1111111111111111,\"#46039f\"],[0.2222222222222222,\"#7201a8\"],[0.3333333333333333,\"#9c179e\"],[0.4444444444444444,\"#bd3786\"],[0.5555555555555556,\"#d8576b\"],[0.6666666666666666,\"#ed7953\"],[0.7777777777777778,\"#fb9f3a\"],[0.8888888888888888,\"#fdca26\"],[1.0,\"#f0f921\"]]}],\"heatmap\":[{\"type\":\"heatmap\",\"colorbar\":{\"outlinewidth\":0,\"ticks\":\"\"},\"colorscale\":[[0.0,\"#0d0887\"],[0.1111111111111111,\"#46039f\"],[0.2222222222222222,\"#7201a8\"],[0.3333333333333333,\"#9c179e\"],[0.4444444444444444,\"#bd3786\"],[0.5555555555555556,\"#d8576b\"],[0.6666666666666666,\"#ed7953\"],[0.7777777777777778,\"#fb9f3a\"],[0.8888888888888888,\"#fdca26\"],[1.0,\"#f0f921\"]]}],\"heatmapgl\":[{\"type\":\"heatmapgl\",\"colorbar\":{\"outlinewidth\":0,\"ticks\":\"\"},\"colorscale\":[[0.0,\"#0d0887\"],[0.1111111111111111,\"#46039f\"],[0.2222222222222222,\"#7201a8\"],[0.3333333333333333,\"#9c179e\"],[0.4444444444444444,\"#bd3786\"],[0.5555555555555556,\"#d8576b\"],[0.6666666666666666,\"#ed7953\"],[0.7777777777777778,\"#fb9f3a\"],[0.8888888888888888,\"#fdca26\"],[1.0,\"#f0f921\"]]}],\"contourcarpet\":[{\"type\":\"contourcarpet\",\"colorbar\":{\"outlinewidth\":0,\"ticks\":\"\"}}],\"contour\":[{\"type\":\"contour\",\"colorbar\":{\"outlinewidth\":0,\"ticks\":\"\"},\"colorscale\":[[0.0,\"#0d0887\"],[0.1111111111111111,\"#46039f\"],[0.2222222222222222,\"#7201a8\"],[0.3333333333333333,\"#9c179e\"],[0.4444444444444444,\"#bd3786\"],[0.5555555555555556,\"#d8576b\"],[0.6666666666666666,\"#ed7953\"],[0.7777777777777778,\"#fb9f3a\"],[0.8888888888888888,\"#fdca26\"],[1.0,\"#f0f921\"]]}],\"surface\":[{\"type\":\"surface\",\"colorbar\":{\"outlinewidth\":0,\"ticks\":\"\"},\"colorscale\":[[0.0,\"#0d0887\"],[0.1111111111111111,\"#46039f\"],[0.2222222222222222,\"#7201a8\"],[0.3333333333333333,\"#9c179e\"],[0.4444444444444444,\"#bd3786\"],[0.5555555555555556,\"#d8576b\"],[0.6666666666666666,\"#ed7953\"],[0.7777777777777778,\"#fb9f3a\"],[0.8888888888888888,\"#fdca26\"],[1.0,\"#f0f921\"]]}],\"mesh3d\":[{\"type\":\"mesh3d\",\"colorbar\":{\"outlinewidth\":0,\"ticks\":\"\"}}],\"scatter\":[{\"fillpattern\":{\"fillmode\":\"overlay\",\"size\":10,\"solidity\":0.2},\"type\":\"scatter\"}],\"parcoords\":[{\"type\":\"parcoords\",\"line\":{\"colorbar\":{\"outlinewidth\":0,\"ticks\":\"\"}}}],\"scatterpolargl\":[{\"type\":\"scatterpolargl\",\"marker\":{\"colorbar\":{\"outlinewidth\":0,\"ticks\":\"\"}}}],\"bar\":[{\"error_x\":{\"color\":\"#2a3f5f\"},\"error_y\":{\"color\":\"#2a3f5f\"},\"marker\":{\"line\":{\"color\":\"#E5ECF6\",\"width\":0.5},\"pattern\":{\"fillmode\":\"overlay\",\"size\":10,\"solidity\":0.2}},\"type\":\"bar\"}],\"scattergeo\":[{\"type\":\"scattergeo\",\"marker\":{\"colorbar\":{\"outlinewidth\":0,\"ticks\":\"\"}}}],\"scatterpolar\":[{\"type\":\"scatterpolar\",\"marker\":{\"colorbar\":{\"outlinewidth\":0,\"ticks\":\"\"}}}],\"histogram\":[{\"marker\":{\"pattern\":{\"fillmode\":\"overlay\",\"size\":10,\"solidity\":0.2}},\"type\":\"histogram\"}],\"scattergl\":[{\"type\":\"scattergl\",\"marker\":{\"colorbar\":{\"outlinewidth\":0,\"ticks\":\"\"}}}],\"scatter3d\":[{\"type\":\"scatter3d\",\"line\":{\"colorbar\":{\"outlinewidth\":0,\"ticks\":\"\"}},\"marker\":{\"colorbar\":{\"outlinewidth\":0,\"ticks\":\"\"}}}],\"scattermapbox\":[{\"type\":\"scattermapbox\",\"marker\":{\"colorbar\":{\"outlinewidth\":0,\"ticks\":\"\"}}}],\"scatterternary\":[{\"type\":\"scatterternary\",\"marker\":{\"colorbar\":{\"outlinewidth\":0,\"ticks\":\"\"}}}],\"scattercarpet\":[{\"type\":\"scattercarpet\",\"marker\":{\"colorbar\":{\"outlinewidth\":0,\"ticks\":\"\"}}}],\"carpet\":[{\"aaxis\":{\"endlinecolor\":\"#2a3f5f\",\"gridcolor\":\"white\",\"linecolor\":\"white\",\"minorgridcolor\":\"white\",\"startlinecolor\":\"#2a3f5f\"},\"baxis\":{\"endlinecolor\":\"#2a3f5f\",\"gridcolor\":\"white\",\"linecolor\":\"white\",\"minorgridcolor\":\"white\",\"startlinecolor\":\"#2a3f5f\"},\"type\":\"carpet\"}],\"table\":[{\"cells\":{\"fill\":{\"color\":\"#EBF0F8\"},\"line\":{\"color\":\"white\"}},\"header\":{\"fill\":{\"color\":\"#C8D4E3\"},\"line\":{\"color\":\"white\"}},\"type\":\"table\"}],\"barpolar\":[{\"marker\":{\"line\":{\"color\":\"#E5ECF6\",\"width\":0.5},\"pattern\":{\"fillmode\":\"overlay\",\"size\":10,\"solidity\":0.2}},\"type\":\"barpolar\"}],\"pie\":[{\"automargin\":true,\"type\":\"pie\"}]},\"layout\":{\"autotypenumbers\":\"strict\",\"colorway\":[\"#636efa\",\"#EF553B\",\"#00cc96\",\"#ab63fa\",\"#FFA15A\",\"#19d3f3\",\"#FF6692\",\"#B6E880\",\"#FF97FF\",\"#FECB52\"],\"font\":{\"color\":\"#2a3f5f\"},\"hovermode\":\"closest\",\"hoverlabel\":{\"align\":\"left\"},\"paper_bgcolor\":\"white\",\"plot_bgcolor\":\"#E5ECF6\",\"polar\":{\"bgcolor\":\"#E5ECF6\",\"angularaxis\":{\"gridcolor\":\"white\",\"linecolor\":\"white\",\"ticks\":\"\"},\"radialaxis\":{\"gridcolor\":\"white\",\"linecolor\":\"white\",\"ticks\":\"\"}},\"ternary\":{\"bgcolor\":\"#E5ECF6\",\"aaxis\":{\"gridcolor\":\"white\",\"linecolor\":\"white\",\"ticks\":\"\"},\"baxis\":{\"gridcolor\":\"white\",\"linecolor\":\"white\",\"ticks\":\"\"},\"caxis\":{\"gridcolor\":\"white\",\"linecolor\":\"white\",\"ticks\":\"\"}},\"coloraxis\":{\"colorbar\":{\"outlinewidth\":0,\"ticks\":\"\"}},\"colorscale\":{\"sequential\":[[0.0,\"#0d0887\"],[0.1111111111111111,\"#46039f\"],[0.2222222222222222,\"#7201a8\"],[0.3333333333333333,\"#9c179e\"],[0.4444444444444444,\"#bd3786\"],[0.5555555555555556,\"#d8576b\"],[0.6666666666666666,\"#ed7953\"],[0.7777777777777778,\"#fb9f3a\"],[0.8888888888888888,\"#fdca26\"],[1.0,\"#f0f921\"]],\"sequentialminus\":[[0.0,\"#0d0887\"],[0.1111111111111111,\"#46039f\"],[0.2222222222222222,\"#7201a8\"],[0.3333333333333333,\"#9c179e\"],[0.4444444444444444,\"#bd3786\"],[0.5555555555555556,\"#d8576b\"],[0.6666666666666666,\"#ed7953\"],[0.7777777777777778,\"#fb9f3a\"],[0.8888888888888888,\"#fdca26\"],[1.0,\"#f0f921\"]],\"diverging\":[[0,\"#8e0152\"],[0.1,\"#c51b7d\"],[0.2,\"#de77ae\"],[0.3,\"#f1b6da\"],[0.4,\"#fde0ef\"],[0.5,\"#f7f7f7\"],[0.6,\"#e6f5d0\"],[0.7,\"#b8e186\"],[0.8,\"#7fbc41\"],[0.9,\"#4d9221\"],[1,\"#276419\"]]},\"xaxis\":{\"gridcolor\":\"white\",\"linecolor\":\"white\",\"ticks\":\"\",\"title\":{\"standoff\":15},\"zerolinecolor\":\"white\",\"automargin\":true,\"zerolinewidth\":2},\"yaxis\":{\"gridcolor\":\"white\",\"linecolor\":\"white\",\"ticks\":\"\",\"title\":{\"standoff\":15},\"zerolinecolor\":\"white\",\"automargin\":true,\"zerolinewidth\":2},\"scene\":{\"xaxis\":{\"backgroundcolor\":\"#E5ECF6\",\"gridcolor\":\"white\",\"linecolor\":\"white\",\"showbackground\":true,\"ticks\":\"\",\"zerolinecolor\":\"white\",\"gridwidth\":2},\"yaxis\":{\"backgroundcolor\":\"#E5ECF6\",\"gridcolor\":\"white\",\"linecolor\":\"white\",\"showbackground\":true,\"ticks\":\"\",\"zerolinecolor\":\"white\",\"gridwidth\":2},\"zaxis\":{\"backgroundcolor\":\"#E5ECF6\",\"gridcolor\":\"white\",\"linecolor\":\"white\",\"showbackground\":true,\"ticks\":\"\",\"zerolinecolor\":\"white\",\"gridwidth\":2}},\"shapedefaults\":{\"line\":{\"color\":\"#2a3f5f\"}},\"annotationdefaults\":{\"arrowcolor\":\"#2a3f5f\",\"arrowhead\":0,\"arrowwidth\":1},\"geo\":{\"bgcolor\":\"white\",\"landcolor\":\"#E5ECF6\",\"subunitcolor\":\"white\",\"showland\":true,\"showlakes\":true,\"lakecolor\":\"white\"},\"title\":{\"x\":0.05},\"mapbox\":{\"style\":\"light\"}}},\"xaxis\":{\"anchor\":\"y\",\"domain\":[0.0,1.0],\"title\":{\"text\":\"num of tweets (context)\"},\"range\":[0,25]},\"yaxis\":{\"anchor\":\"x\",\"domain\":[0.0,1.0],\"title\":{\"text\":\"perplexity\"}},\"legend\":{\"title\":{\"text\":\"variable\"},\"tracegroupgap\":0},\"title\":{\"text\":\"PPL(@PaperFury I\\u2019m taking this as a personal attack now. \\ud83d\\ude02\\ud83d\\ude02)\"}},                        {\"responsive\": true}                    ).then(function(){\n",
       "                            \n",
       "var gd = document.getElementById('287a80ca-5a0d-4402-81c6-13c977ec3560');\n",
       "var x = new MutationObserver(function (mutations, observer) {{\n",
       "        var display = window.getComputedStyle(gd).display;\n",
       "        if (!display || display === 'none') {{\n",
       "            console.log([gd, 'removed!']);\n",
       "            Plotly.purge(gd);\n",
       "            observer.disconnect();\n",
       "        }}\n",
       "}});\n",
       "\n",
       "// Listen for the removal of the full notebook cells\n",
       "var notebookContainer = gd.closest('#notebook-container');\n",
       "if (notebookContainer) {{\n",
       "    x.observe(notebookContainer, {childList: true});\n",
       "}}\n",
       "\n",
       "// Listen for the clearing of the current output cell\n",
       "var outputEl = gd.closest('.output');\n",
       "if (outputEl) {{\n",
       "    x.observe(outputEl, {childList: true});\n",
       "}}\n",
       "\n",
       "                        })                };                });            </script>        </div>"
      ]
     },
     "metadata": {},
     "output_type": "display_data"
    }
   ],
   "source": [
    "rand_user_ppl_list = []\n",
    "\n",
    "for n_tweets in range(25):\n",
    "    context = \" \".join(reversed(rand_user_dataset[:n_tweets][\"text\"]))\n",
    "    \n",
    "    rand_user_ppl_list.append(ppl_calculator(text, context))\n",
    "\n",
    "fig = px.line(rand_user_ppl_list, markers=True, title=f\"PPL({text})\")\n",
    "\n",
    "fig.update_yaxes(title=\"perplexity\")\n",
    "fig.update_xaxes(title=\"num of tweets (context)\", range=(0,25))"
   ]
  },
  {
   "cell_type": "markdown",
   "id": "44397e81-cb99-422e-81a4-f4bdcd9d6398",
   "metadata": {},
   "source": [
    "With tweets from random users, the perplexity seems pretty unstable and converges only to around 70!"
   ]
  }
 ],
 "metadata": {
  "kernelspec": {
   "display_name": "Python 3 (ipykernel)",
   "language": "python",
   "name": "python3"
  },
  "language_info": {
   "codemirror_mode": {
    "name": "ipython",
    "version": 3
   },
   "file_extension": ".py",
   "mimetype": "text/x-python",
   "name": "python",
   "nbconvert_exporter": "python",
   "pygments_lexer": "ipython3",
   "version": "3.9.15"
  }
 },
 "nbformat": 4,
 "nbformat_minor": 5
}

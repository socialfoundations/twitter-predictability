{
 "cells": [
  {
   "cell_type": "code",
   "execution_count": 15,
   "id": "5e86d3e9-889d-4db0-aafc-fab6fa2a8b48",
   "metadata": {},
   "outputs": [
    {
     "name": "stdout",
     "output_type": "stream",
     "text": [
      "The dotenv extension is already loaded. To reload it, use:\n",
      "  %reload_ext dotenv\n"
     ]
    }
   ],
   "source": [
    "%load_ext dotenv\n",
    "%dotenv "
   ]
  },
  {
   "cell_type": "markdown",
   "id": "11e383ce-d9f3-4c66-8f64-3c04772b54b7",
   "metadata": {},
   "source": [
    "# Twitter API\n",
    "\n",
    "- [Object model](https://developer.twitter.com/en/docs/twitter-api/data-dictionary/object-model/tweet)"
   ]
  },
  {
   "cell_type": "code",
   "execution_count": 16,
   "id": "1398e2bb-21db-4182-b665-2b8748b6c4d3",
   "metadata": {},
   "outputs": [],
   "source": [
    "import tweepy\n",
    "import os"
   ]
  },
  {
   "cell_type": "code",
   "execution_count": 17,
   "id": "5a2b365e-e985-45a9-a329-5b1670fe565e",
   "metadata": {},
   "outputs": [],
   "source": [
    "api = tweepy.Client(bearer_token=os.environ[\"BEARER_TOKEN\"])"
   ]
  },
  {
   "cell_type": "markdown",
   "id": "6495c48b-b2b1-42b2-bacc-d7b02009a28c",
   "metadata": {},
   "source": [
    "# Basic Endpoints"
   ]
  },
  {
   "cell_type": "markdown",
   "id": "d666e7c5-f74d-4796-b435-4860d0ba80e5",
   "metadata": {
    "tags": []
   },
   "source": [
    "## User\n",
    "\n",
    "[`get_user()`](https://docs.tweepy.org/en/stable/client.html#tweepy.Client.get_user)\n",
    "\n",
    "Get specific user using their id."
   ]
  },
  {
   "cell_type": "code",
   "execution_count": 4,
   "id": "daa62b9b-3f71-47fa-a7fe-d1a0ea7329e8",
   "metadata": {},
   "outputs": [],
   "source": [
    "user = api.get_user(id=12)"
   ]
  },
  {
   "cell_type": "code",
   "execution_count": 5,
   "id": "dfac9c76-0748-4d87-b1d8-e4668cf7645a",
   "metadata": {},
   "outputs": [
    {
     "data": {
      "text/plain": [
       "Response(data=<User id=12 name=jack username=jack>, includes={}, errors=[], meta={})"
      ]
     },
     "execution_count": 5,
     "metadata": {},
     "output_type": "execute_result"
    }
   ],
   "source": [
    "user"
   ]
  },
  {
   "cell_type": "markdown",
   "id": "4dc80637-6dab-40b7-9939-82c30904c3f3",
   "metadata": {},
   "source": [
    "However, this doesn't give us much information besides the id and username.\n",
    "\n",
    "We can also get additional information, by passing a list of fields to the `user_fields` parameter."
   ]
  },
  {
   "cell_type": "code",
   "execution_count": 6,
   "id": "9e324617-9c91-4d8b-9b43-29f0742aaec4",
   "metadata": {},
   "outputs": [
    {
     "name": "stdout",
     "output_type": "stream",
     "text": [
      "Response(data=<User id=807095 name=The New York Times username=nytimes>, includes={}, errors=[], meta={})\n"
     ]
    }
   ],
   "source": [
    "user = api.get_user(username='nytimes',\n",
    "                    user_fields=['description', 'public_metrics', 'verified']\n",
    "                   )\n",
    "print(user)"
   ]
  },
  {
   "cell_type": "code",
   "execution_count": 7,
   "id": "416adde4-e1b0-4e8d-a29f-ffe3be29c54d",
   "metadata": {},
   "outputs": [
    {
     "data": {
      "text/plain": [
       "'News tips? Share them here: https://t.co/ghL9OoYKMM'"
      ]
     },
     "execution_count": 7,
     "metadata": {},
     "output_type": "execute_result"
    }
   ],
   "source": [
    "user.data.description"
   ]
  },
  {
   "cell_type": "code",
   "execution_count": 8,
   "id": "f96bc44f-7d4d-408a-a6ab-3491a4f47ee3",
   "metadata": {},
   "outputs": [
    {
     "data": {
      "text/plain": [
       "{'followers_count': 54779202,\n",
       " 'following_count': 859,\n",
       " 'tweet_count': 494089,\n",
       " 'listed_count': 215840}"
      ]
     },
     "execution_count": 8,
     "metadata": {},
     "output_type": "execute_result"
    }
   ],
   "source": [
    "user.data.public_metrics"
   ]
  },
  {
   "cell_type": "code",
   "execution_count": 9,
   "id": "88fb2335-2fbb-48f1-b87b-dfc8644a19eb",
   "metadata": {},
   "outputs": [
    {
     "data": {
      "text/plain": [
       "True"
      ]
     },
     "execution_count": 9,
     "metadata": {},
     "output_type": "execute_result"
    }
   ],
   "source": [
    "user.data.verified"
   ]
  },
  {
   "cell_type": "markdown",
   "id": "77b48bca-6606-41b3-9585-e2324530ee70",
   "metadata": {
    "tags": []
   },
   "source": [
    "## Tweet\n",
    "\n",
    "[`get_tweet()`](https://docs.tweepy.org/en/stable/client.html#tweepy.Client.get_tweet)\n",
    "\n",
    "Returns a tweet matching the given id."
   ]
  },
  {
   "cell_type": "code",
   "execution_count": 10,
   "id": "e4726719-5f92-4e40-8a97-f2bb3872a240",
   "metadata": {},
   "outputs": [],
   "source": [
    "tweet = api.get_tweet(\n",
    "            id = \"1604629056460242944\", # id\n",
    ")"
   ]
  },
  {
   "cell_type": "code",
   "execution_count": 11,
   "id": "2058f4ec-872f-42e7-940b-941de843a322",
   "metadata": {},
   "outputs": [
    {
     "data": {
      "text/plain": [
       "Response(data=<Tweet id=1604629056460242944 text='cool https://t.co/gMrjcEoIS3'>, includes={}, errors=[], meta={})"
      ]
     },
     "execution_count": 11,
     "metadata": {},
     "output_type": "execute_result"
    }
   ],
   "source": [
    "tweet"
   ]
  },
  {
   "cell_type": "markdown",
   "id": "ed9f48d9-bcd5-47c3-ba4b-75943db28869",
   "metadata": {},
   "source": [
    "Similarly to before, we only get the tweet id and the text.\n",
    "\n",
    "We can get more information with `tweet_fields`!"
   ]
  },
  {
   "cell_type": "code",
   "execution_count": 12,
   "id": "90dec797-42d0-43c2-8b4f-c4a5c9dc62cd",
   "metadata": {},
   "outputs": [],
   "source": [
    "tweet = api.get_tweet(id = \"1604629056460242944\",\n",
    "                     tweet_fields=['author_id', 'public_metrics', 'referenced_tweets'],\n",
    "                     )"
   ]
  },
  {
   "cell_type": "code",
   "execution_count": 13,
   "id": "00a177d3-41e7-4264-8527-4531b4802ad5",
   "metadata": {},
   "outputs": [
    {
     "data": {
      "text/plain": [
       "12"
      ]
     },
     "execution_count": 13,
     "metadata": {},
     "output_type": "execute_result"
    }
   ],
   "source": [
    "tweet.data.author_id"
   ]
  },
  {
   "cell_type": "code",
   "execution_count": 14,
   "id": "ed90e136-c924-4352-b0ca-20820fbc2e73",
   "metadata": {},
   "outputs": [
    {
     "data": {
      "text/plain": [
       "{'retweet_count': 72, 'reply_count': 111, 'like_count': 723, 'quote_count': 13}"
      ]
     },
     "execution_count": 14,
     "metadata": {},
     "output_type": "execute_result"
    }
   ],
   "source": [
    "tweet.data.public_metrics"
   ]
  },
  {
   "cell_type": "code",
   "execution_count": 15,
   "id": "128b13eb-995f-43e1-b5b5-7145723675c7",
   "metadata": {},
   "outputs": [
    {
     "data": {
      "text/plain": [
       "[<ReferencedTweet id=1604317740117856256 type=quoted>]"
      ]
     },
     "execution_count": 15,
     "metadata": {},
     "output_type": "execute_result"
    }
   ],
   "source": [
    "tweet.data.referenced_tweets"
   ]
  },
  {
   "cell_type": "markdown",
   "id": "74fe2d51-1166-4a49-bc31-a16a949a46b1",
   "metadata": {},
   "source": [
    "Tweet with a poll"
   ]
  },
  {
   "cell_type": "code",
   "execution_count": 9,
   "id": "e15f6c19-cc9e-46f5-bc13-2542b1ef481f",
   "metadata": {},
   "outputs": [
    {
     "data": {
      "text/plain": [
       "Response(data=<Tweet id=1611035401225113600 text='Elon Musk should'>, includes={'polls': [<Poll id=1611035400629542914 options=[{'position': 1, 'label': 'Stay out of politics', 'votes': 254496}, {'position': 2, 'label': 'Keep shooting his feet', 'votes': 340686}]>]}, errors=[], meta={})"
      ]
     },
     "execution_count": 9,
     "metadata": {},
     "output_type": "execute_result"
    }
   ],
   "source": [
    "api.get_tweet(id='1611035401225113600',\n",
    "                         expansions='attachments.poll_ids',\n",
    "                         poll_fields=['duration_minutes', 'end_datetime', 'voting_status'])"
   ]
  },
  {
   "cell_type": "markdown",
   "id": "0f4f19b8-89cb-4ce5-9730-1a543753d831",
   "metadata": {
    "tags": []
   },
   "source": [
    "## Tweets of user\n",
    "\n",
    "Get tweets of a specified user."
   ]
  },
  {
   "cell_type": "code",
   "execution_count": 18,
   "id": "2374f6ab-1a53-47bb-a2ba-825f81abe626",
   "metadata": {},
   "outputs": [],
   "source": [
    "user_id = 216939636\n",
    "\n",
    "response = api.get_users_tweets(id=user_id, max_results=10)"
   ]
  },
  {
   "cell_type": "code",
   "execution_count": 19,
   "id": "d52858fe-5752-4e13-88c8-91ec12dddcea",
   "metadata": {
    "collapsed": true,
    "jupyter": {
     "outputs_hidden": true
    },
    "tags": []
   },
   "outputs": [
    {
     "name": "stdout",
     "output_type": "stream",
     "text": [
      "1605016628730957824\n",
      "@YangK_ai @LandingAI Great list!\n",
      "1604192039469342720\n",
      "6/More about this in The Batch. https://t.co/piPHIS8qiK\n",
      "1604191960150863873\n",
      "5/For the World Cup final, here’s wishing good luck to the Argentina team 🇦🇷, The France team 🇫🇷, and the AI engineering team 🤖!\n",
      "1604191801279074304\n",
      "4/It is inspiring that AI is making its way to all corners of society, with many applications large and small.\n",
      "1604191651391426560\n",
      "3/Twelve cameras track the players, and embedded sensors track the ball. Accurate real-time localization of everyone/everything makes off-side calls more accurate.\n",
      "1604191611906244608\n",
      "2/Human referees have struggled to accurately call violations of the off-side rule -- a complex rule involving positions of multiple players and the ball. This is where computer vision steps in.\n",
      "1604191571338874881\n",
      "1/I find AI’s role in the FIFA World Cup has made the game more fun! ⚽️\n",
      "1603474334776823808\n",
      "New ebook! How can you build a career in AI? \n",
      "\n",
      "This compiles my tips on how to:\n",
      "∙ Learn technical skills 🎓 \n",
      "∙ Choose and build AI projects 🧑‍💻\n",
      "∙ Find a job 🦾\n",
      "\n",
      "Let me know your feedback! \n",
      "https://t.co/L7uEnLsFu9\n",
      "1603122760745558016\n",
      "New course announcement! Math for Machine Learning and Data Science. \n",
      "\n",
      "Designed to make learning AI's math easy: \n",
      "∙ Linear algebra \n",
      "∙ Probability &amp; Stats\n",
      "∙ Calculus\n",
      "\n",
      "Will help learners build better ML systems and pass job interviews!  \n",
      "https://t.co/bM70tPieXO\n",
      "1602726176392364032\n",
      "4/More on this in The Batch.  https://t.co/xCeSX8HbzT\n"
     ]
    }
   ],
   "source": [
    "for tweet in response.data:\n",
    "    print(tweet.id)\n",
    "    print(tweet.text)"
   ]
  },
  {
   "cell_type": "markdown",
   "id": "e6eadfc8-1644-4f9b-b0e8-4490e2231158",
   "metadata": {},
   "source": [
    "## Search endpoint"
   ]
  },
  {
   "cell_type": "code",
   "execution_count": 18,
   "id": "4623d2e9-9418-4566-97d5-092c92cd2b09",
   "metadata": {},
   "outputs": [],
   "source": [
    "response = api.search_recent_tweets(query='cats', max_results=10)"
   ]
  },
  {
   "cell_type": "code",
   "execution_count": 21,
   "id": "c6b5f604-5e8e-4832-b257-6a981056728b",
   "metadata": {},
   "outputs": [
    {
     "name": "stdout",
     "output_type": "stream",
     "text": [
      "RT @doubutukyushutu: #岡山 #猫 #殺処分 #里親募集 #里親 様！\n",
      "◎期限 1月24日17時\n",
      "姫ちゃん♀\n",
      "https://t.co/IaOBwfz84i\n",
      "「少し怖がりな女の子【姫ちゃん】」\n",
      "https://t.co/AdbIsucJ66\n",
      "RT @fragile7777: Sweet Dreams\n",
      "おやすみニャンコ\n",
      "#猫好きさんと繋がりたい #Cats https://t.co/buecsEd2hS\n",
      "RT @fasc1nate: Prehistoric Saharan rocks depicting two cats fighting. The image is thought to be at least 6,000 years old. https://t.co/z6x…\n",
      "RT @songjihyomonji: #SumbuITouqeerKhan making #FahmaanKhan 's cats famous among BB HMs\n",
      "\n",
      "Meanwhile Pankhya to his other cats: Oye salam thok…\n",
      "Dogs have masters. Cats have staff.\n",
      "RT @gollfe: 🟢至急❗️\n",
      "殿くんと一緒で事故か虐待なのか\n",
      "針金が絡みつき怪我状態で保護\n",
      "生体販売反対です保護猫を家族に🙏🏻\n",
      "確認を兼ねて自宅までお届けです\n",
      "🆘少し怖がりな女の子【姫ちゃん】🆘\n",
      "🚨掲載期限1月24日\n",
      "#拡散希望RT協力お願いします\n",
      "#里親様募集 #岡山県…\n",
      "RT @nora_joerg: The week started wonderful 🪄 Thank you very much @SoapFrens May your day be filled with treats, naps, and lots of scratchin…\n",
      "RT @MaramAlmohimeed: للتبني بالرياض، ذكر منقذ، تم علاجه من جرح بجانب الفم وبدأ يلتأم، لطيف ويحب الناس والقطط والكلاب ،مهدد بالطرد للأسف\n",
      "For…\n",
      "My mom: Don't give up on your dreams \n",
      "Also my mom: give your cats away and move in with me, take care of your little sister. \n",
      "Also my mom: you don't want to end up alone\n",
      "Also my mom: what happened to that one young lady your brought here once?\n",
      "RT @SuiCatClub: You're still early. 😺\n",
      "\n",
      "#FREEMINT for our OG Cats 😻\n",
      "Limited Supply: 3,333 \n",
      "\n",
      "How to be eligible for OG Cat :\n",
      "➡️Join our disco…\n"
     ]
    }
   ],
   "source": [
    "for tweet in response.data:\n",
    "    print(tweet.text)"
   ]
  },
  {
   "cell_type": "markdown",
   "id": "dd6634c9-774c-44ce-94b5-e8c914281bbf",
   "metadata": {
    "tags": []
   },
   "source": [
    "# Expansions\n",
    "\n",
    "If we want to get additional information on the pulled tweets we can use expansions."
   ]
  },
  {
   "cell_type": "markdown",
   "id": "f8bd2e6c-685c-4aaf-bff2-33f5996d3a60",
   "metadata": {
    "tags": []
   },
   "source": [
    "### Tweet expansions"
   ]
  },
  {
   "cell_type": "markdown",
   "id": "2cf5c541-af7f-44a4-ab0f-228ede53c230",
   "metadata": {
    "tags": []
   },
   "source": [
    "#### Original tweet's author\n",
    "`author_id`"
   ]
  },
  {
   "cell_type": "code",
   "execution_count": 63,
   "id": "da6bbc9a-9dd5-4c35-a0a5-fe71d775db99",
   "metadata": {},
   "outputs": [],
   "source": [
    "tweet = api.get_tweet(id = \"1604629056460242944\", expansions='author_id')"
   ]
  },
  {
   "cell_type": "code",
   "execution_count": 64,
   "id": "ae6854c5-d253-47f7-8036-db7c530a71a4",
   "metadata": {},
   "outputs": [
    {
     "data": {
      "text/plain": [
       "Response(data=<Tweet id=1604629056460242944 text='cool https://t.co/gMrjcEoIS3'>, includes={'users': [<User id=12 name=jack username=jack>]}, errors=[], meta={})"
      ]
     },
     "execution_count": 64,
     "metadata": {},
     "output_type": "execute_result"
    }
   ],
   "source": [
    "tweet"
   ]
  },
  {
   "cell_type": "code",
   "execution_count": 68,
   "id": "e2632c9e-b19e-4d56-b15c-f16de007fbdd",
   "metadata": {},
   "outputs": [],
   "source": [
    "user = tweet.includes['users'][0]"
   ]
  },
  {
   "cell_type": "code",
   "execution_count": 69,
   "id": "adc4cf74-db9f-4343-bbe1-2d550b212396",
   "metadata": {},
   "outputs": [
    {
     "data": {
      "text/plain": [
       "tweepy.user.User"
      ]
     },
     "execution_count": 69,
     "metadata": {},
     "output_type": "execute_result"
    }
   ],
   "source": [
    "type(user)"
   ]
  },
  {
   "cell_type": "code",
   "execution_count": 70,
   "id": "d471ce74-787e-4f09-ab0b-18390a63597c",
   "metadata": {},
   "outputs": [
    {
     "data": {
      "text/plain": [
       "{'id': '12', 'name': 'jack', 'username': 'jack'}"
      ]
     },
     "execution_count": 70,
     "metadata": {},
     "output_type": "execute_result"
    }
   ],
   "source": [
    "user.data"
   ]
  },
  {
   "cell_type": "markdown",
   "id": "8907ebb1-00cb-45c2-8017-ba5d0026fec7",
   "metadata": {
    "tags": []
   },
   "source": [
    "#### Response-to user\n",
    "`in_reply_to_user_id`"
   ]
  },
  {
   "cell_type": "markdown",
   "id": "a476acef-d8ec-4fb8-8f0c-7d8312851424",
   "metadata": {},
   "source": [
    "Notice how only @YangK_ai's user object is returned, @LandingAI (which was only mentioned) is not!"
   ]
  },
  {
   "cell_type": "code",
   "execution_count": 37,
   "id": "ab548ee9-01b1-4ab2-9655-55bbd1e7932b",
   "metadata": {},
   "outputs": [],
   "source": [
    "tweet = api.get_tweet(id = \"1605016628730957824\", expansions='in_reply_to_user_id')"
   ]
  },
  {
   "cell_type": "code",
   "execution_count": 38,
   "id": "fa9cbf76-5484-49a2-9cff-f27a413481c2",
   "metadata": {},
   "outputs": [
    {
     "data": {
      "text/plain": [
       "Response(data=<Tweet id=1605016628730957824 text='@YangK_ai @LandingAI Great list!'>, includes={'users': [<User id=539358987 name=Kai Yang username=YangK_ai>]}, errors=[], meta={})"
      ]
     },
     "execution_count": 38,
     "metadata": {},
     "output_type": "execute_result"
    }
   ],
   "source": [
    "tweet"
   ]
  },
  {
   "cell_type": "markdown",
   "id": "b815e60f-4dee-45a2-bce6-1fd509bf5821",
   "metadata": {
    "tags": []
   },
   "source": [
    "#### Mentioned user\n",
    "`entities.mentions.username`"
   ]
  },
  {
   "cell_type": "code",
   "execution_count": 40,
   "id": "73d0db4b-1611-4541-ba3b-c92faefa511d",
   "metadata": {},
   "outputs": [
    {
     "data": {
      "text/plain": [
       "Response(data=<Tweet id=1605016628730957824 text='@YangK_ai @LandingAI Great list!'>, includes={'users': [<User id=539358987 name=Kai Yang username=YangK_ai>, <User id=940323623398551552 name=LANDING AI username=LandingAI>]}, errors=[], meta={})"
      ]
     },
     "execution_count": 40,
     "metadata": {},
     "output_type": "execute_result"
    }
   ],
   "source": [
    "tweet = api.get_tweet(id = \"1605016628730957824\", expansions='entities.mentions.username')\n",
    "tweet"
   ]
  },
  {
   "cell_type": "markdown",
   "id": "156486f2-dbb2-428d-995b-e897d91f93d4",
   "metadata": {},
   "source": [
    "#### Referenced tweet's user\n",
    "`referenced_tweets.id.author_id`"
   ]
  },
  {
   "cell_type": "code",
   "execution_count": 41,
   "id": "fb5ca6aa-61fd-4001-9429-3b5cad35472f",
   "metadata": {},
   "outputs": [
    {
     "data": {
      "text/plain": [
       "Response(data=<Tweet id=1604629056460242944 text='cool https://t.co/gMrjcEoIS3'>, includes={'users': [<User id=12 name=jack username=jack>, <User id=40336221 name=Mitch username=WittyUsername30>], 'tweets': [<Tweet id=1604317740117856256 text='ok nostr is really cool\\n\\nexample - instead of emailing info between your phone / computer (e.g. BTC address), you can use this tool built on nostr: https://t.co/ktNF7axqvi'>]}, errors=[], meta={})"
      ]
     },
     "execution_count": 41,
     "metadata": {},
     "output_type": "execute_result"
    }
   ],
   "source": [
    "tweet = api.get_tweet(id = \"1604629056460242944\", expansions='referenced_tweets.id.author_id')\n",
    "tweet"
   ]
  },
  {
   "cell_type": "code",
   "execution_count": 42,
   "id": "a0c02460-9585-46f7-8f9a-0315784a1016",
   "metadata": {},
   "outputs": [
    {
     "data": {
      "text/plain": [
       "[<User id=12 name=jack username=jack>,\n",
       " <User id=40336221 name=Mitch username=WittyUsername30>]"
      ]
     },
     "execution_count": 42,
     "metadata": {},
     "output_type": "execute_result"
    }
   ],
   "source": [
    "tweet.includes['users']"
   ]
  },
  {
   "cell_type": "code",
   "execution_count": 43,
   "id": "3b9526b7-b9cf-4aa0-aec1-36d7c63f6f76",
   "metadata": {},
   "outputs": [
    {
     "data": {
      "text/plain": [
       "[<Tweet id=1604317740117856256 text='ok nostr is really cool\\n\\nexample - instead of emailing info between your phone / computer (e.g. BTC address), you can use this tool built on nostr: https://t.co/ktNF7axqvi'>]"
      ]
     },
     "execution_count": 43,
     "metadata": {},
     "output_type": "execute_result"
    }
   ],
   "source": [
    "tweet.includes['tweets']"
   ]
  },
  {
   "cell_type": "markdown",
   "id": "67b81b0c-ad54-460e-9a4a-54d78d491726",
   "metadata": {},
   "source": [
    "#### Attached media\n",
    "`attachments.media_keys`"
   ]
  },
  {
   "cell_type": "code",
   "execution_count": 46,
   "id": "458bd10a-f9c9-4969-b012-7c61dbfdd6c7",
   "metadata": {},
   "outputs": [
    {
     "data": {
      "text/plain": [
       "Response(data=<Tweet id=1609607161319157760 text=\"📳Log #15 - Origin of the Meme, Rome 46 BC.\\n\\nYes, Cleopatra may be upset but Julius has most definitely a great taste.\\nI can't disclose too many details....yet.  \\n\\n#stelfie #timetravel #NFTCommunity #Rome #Cleopatra #JuliusCaesar https://t.co/kxaaw8EKVl\">, includes={'media': [<Media media_key=3_1609607001952198660 type=photo>]}, errors=[], meta={})"
      ]
     },
     "execution_count": 46,
     "metadata": {},
     "output_type": "execute_result"
    }
   ],
   "source": [
    "tweet = api.get_tweet(id = \"1609607161319157760\", expansions='attachments.media_keys')\n",
    "tweet"
   ]
  },
  {
   "cell_type": "code",
   "execution_count": 47,
   "id": "28c2eaf2-79c3-4945-a479-8a48bfce0eb9",
   "metadata": {},
   "outputs": [
    {
     "data": {
      "text/plain": [
       "[<Media media_key=3_1609607001952198660 type=photo>]"
      ]
     },
     "execution_count": 47,
     "metadata": {},
     "output_type": "execute_result"
    }
   ],
   "source": [
    "tweet.includes['media']"
   ]
  },
  {
   "cell_type": "markdown",
   "id": "1b1e609b-5ca9-4825-8e29-2aff3d347c94",
   "metadata": {},
   "source": [
    "#### Attached poll\n",
    "`attachments.poll_ids`"
   ]
  },
  {
   "cell_type": "code",
   "execution_count": 48,
   "id": "ece816a6-9ba1-4d2b-8783-72dcc060b0a8",
   "metadata": {},
   "outputs": [
    {
     "data": {
      "text/plain": [
       "Response(data=<Tweet id=1609640747942174723 text='which of these groups do you trust most when it comes to their thoughts on what consciousness is and how it works'>, includes={'polls': [<Poll id=1609640747661246465 options=[{'position': 1, 'label': 'meditators', 'votes': 1377}, {'position': 2, 'label': 'neuroscientists', 'votes': 1557}, {'position': 3, 'label': 'ai researchers', 'votes': 342}, {'position': 4, 'label': 'generalist philosophers', 'votes': 913}]>]}, errors=[], meta={})"
      ]
     },
     "execution_count": 48,
     "metadata": {},
     "output_type": "execute_result"
    }
   ],
   "source": [
    "tweet = api.get_tweet(id = \"1609640747942174723\", expansions='attachments.poll_ids')\n",
    "tweet"
   ]
  },
  {
   "cell_type": "code",
   "execution_count": 49,
   "id": "ba033c3d-3564-45ca-ae09-854c70756e62",
   "metadata": {},
   "outputs": [
    {
     "data": {
      "text/plain": [
       "[<Poll id=1609640747661246465 options=[{'position': 1, 'label': 'meditators', 'votes': 1377}, {'position': 2, 'label': 'neuroscientists', 'votes': 1557}, {'position': 3, 'label': 'ai researchers', 'votes': 342}, {'position': 4, 'label': 'generalist philosophers', 'votes': 913}]>]"
      ]
     },
     "execution_count": 49,
     "metadata": {},
     "output_type": "execute_result"
    }
   ],
   "source": [
    "tweet.includes['polls']"
   ]
  },
  {
   "cell_type": "markdown",
   "id": "3e0adc1a-f633-40d7-991a-73345399a07b",
   "metadata": {
    "tags": []
   },
   "source": [
    "#### Attached place\n",
    "`geo.place_id`"
   ]
  },
  {
   "cell_type": "code",
   "execution_count": 51,
   "id": "25ae40c2-9c3a-4d82-9567-96689052c275",
   "metadata": {},
   "outputs": [
    {
     "data": {
      "text/plain": [
       "Response(data=<Tweet id=1609594943173017601 text=\"Let's start the year by brushing up on the basics of neural nets: linear and non-linear transformations.\\nIn this episode, we're concerned with inference only. Forward and backwards. We introduce the cost and the energy. 🔋\\nWebsite: https://t.co/3yY8CMLiXz\\nhttps://t.co/zrqH4CG0mr https://t.co/MrSeV3u40S\">, includes={'places': [<Place id=cf5d106c94750000 full_name=Triest, Friaul-Julisch-Venetien>]}, errors=[], meta={})"
      ]
     },
     "execution_count": 51,
     "metadata": {},
     "output_type": "execute_result"
    }
   ],
   "source": [
    "tweet = api.get_tweet(id = \"1609594943173017601\", expansions='geo.place_id')\n",
    "tweet"
   ]
  },
  {
   "cell_type": "code",
   "execution_count": 52,
   "id": "5ad64e06-58f3-42a0-83f0-f5b9dc1045b7",
   "metadata": {},
   "outputs": [
    {
     "data": {
      "text/plain": [
       "[<Place id=cf5d106c94750000 full_name=Triest, Friaul-Julisch-Venetien>]"
      ]
     },
     "execution_count": 52,
     "metadata": {},
     "output_type": "execute_result"
    }
   ],
   "source": [
    "tweet.includes['places']"
   ]
  },
  {
   "cell_type": "markdown",
   "id": "68fc00d4-8ba9-45f6-9f41-509fce9239a6",
   "metadata": {},
   "source": [
    "#### Referenced tweets\n",
    "`referenced_tweets.id`"
   ]
  },
  {
   "cell_type": "code",
   "execution_count": 53,
   "id": "b7f83cae-87b0-4278-b118-0835f0672290",
   "metadata": {},
   "outputs": [
    {
     "data": {
      "text/plain": [
       "Response(data=<Tweet id=1604629056460242944 text='cool https://t.co/gMrjcEoIS3'>, includes={'tweets': [<Tweet id=1604317740117856256 text='ok nostr is really cool\\n\\nexample - instead of emailing info between your phone / computer (e.g. BTC address), you can use this tool built on nostr: https://t.co/ktNF7axqvi'>]}, errors=[], meta={})"
      ]
     },
     "execution_count": 53,
     "metadata": {},
     "output_type": "execute_result"
    }
   ],
   "source": [
    "tweet = api.get_tweet(id = \"1604629056460242944\", expansions='referenced_tweets.id')\n",
    "tweet"
   ]
  },
  {
   "cell_type": "code",
   "execution_count": 54,
   "id": "16202d0c-e596-45c8-983e-b048154fa623",
   "metadata": {},
   "outputs": [
    {
     "data": {
      "text/plain": [
       "[<Tweet id=1604317740117856256 text='ok nostr is really cool\\n\\nexample - instead of emailing info between your phone / computer (e.g. BTC address), you can use this tool built on nostr: https://t.co/ktNF7axqvi'>]"
      ]
     },
     "execution_count": 54,
     "metadata": {},
     "output_type": "execute_result"
    }
   ],
   "source": [
    "tweet.includes['tweets']"
   ]
  },
  {
   "cell_type": "code",
   "execution_count": 20,
   "id": "ba3f52c9-a2fe-4e4a-a949-4b380f6891b9",
   "metadata": {},
   "outputs": [],
   "source": [
    "response = api.get_users_tweets(id=user_id, max_results=10, expansions='referenced_tweets.id')"
   ]
  },
  {
   "cell_type": "code",
   "execution_count": 27,
   "id": "88ede1f0-33be-48af-9ab7-34ffb4d78ce4",
   "metadata": {},
   "outputs": [
    {
     "name": "stdout",
     "output_type": "stream",
     "text": [
      "1603924719580811264\n",
      "List of book I have read (listened) in 2022. Before sharing my favorites, I would like to thank @AndrewYNg  for creating the “Lifelong Learning” culture in @LandingAI . Startup life is - as it should be - busy and stressful, but squeezing time on learning is still important. 1/6 https://t.co/EPLk3Zpdis\n",
      "1604191960150863873\n",
      "5/For the World Cup final, here’s wishing good luck to the Argentina team 🇦🇷, The France team 🇫🇷, and the AI engineering team 🤖!\n",
      "1604191801279074304\n",
      "4/It is inspiring that AI is making its way to all corners of society, with many applications large and small.\n",
      "1604191651391426560\n",
      "3/Twelve cameras track the players, and embedded sensors track the ball. Accurate real-time localization of everyone/everything makes off-side calls more accurate.\n",
      "1604191611906244608\n",
      "2/Human referees have struggled to accurately call violations of the off-side rule -- a complex rule involving positions of multiple players and the ball. This is where computer vision steps in.\n",
      "1604191571338874881\n",
      "1/I find AI’s role in the FIFA World Cup has made the game more fun! ⚽️\n",
      "1602726084075732993\n",
      "3/Building large language models that can accurately decide when to be confident and when not to will reduce their risk of misinformation and build trust.\n"
     ]
    }
   ],
   "source": [
    "for tweet in response.includes['tweets']:\n",
    "    print(tweet.id)\n",
    "    print(tweet.text)"
   ]
  },
  {
   "cell_type": "markdown",
   "id": "85ea35ad-f542-4be7-98ed-697b516db4b5",
   "metadata": {},
   "source": [
    "# Streaming\n",
    "To use Twitter firehose (random 1% stream of real time tweets). In order to do special things with the received tweets we can subclass `StreamingClient`."
   ]
  },
  {
   "cell_type": "code",
   "execution_count": 6,
   "id": "aaf5f436-06b1-4e6b-8a22-92f7952391a6",
   "metadata": {},
   "outputs": [],
   "source": [
    "class TweetPrinterClient(tweepy.StreamingClient):\n",
    "    def on_tweet(self, tweet):\n",
    "        print(tweet.id)\n",
    "        print(tweet.text)"
   ]
  },
  {
   "cell_type": "code",
   "execution_count": 7,
   "id": "fb4d3b78-499e-4c60-8036-6f7401cd3aa7",
   "metadata": {},
   "outputs": [],
   "source": [
    "streaming_client = TweetPrinterClient(bearer_token=os.environ[\"BEARER_TOKEN\"])"
   ]
  },
  {
   "cell_type": "code",
   "execution_count": 8,
   "id": "26618764-4b11-4b9c-b5c1-8cb86a93a82b",
   "metadata": {
    "collapsed": true,
    "jupyter": {
     "outputs_hidden": true
    },
    "tags": []
   },
   "outputs": [
    {
     "name": "stdout",
     "output_type": "stream",
     "text": [
      "1612452382901784583\n",
      "RT @GuntherEagleman: Attagirl! 👇🏼 https://t.co/FKIZUmW3W8\n",
      "1612452382918742021\n",
      "RT @News18Bihar: बक्सर में जब शराबी बन गया गायक, बक्सर हाजत में गाया गाना, वीडियो हो रहा तेजी से वायरल |\n",
      "#buxarnews #BiharPolice https://t.…\n",
      "1612452382905876483\n",
      "خبراء مساج محترفين متوفرين في ( الرياض - جدة - مكة )✅\n",
      "\n",
      "جميع انواع المساج ( سويدي - تايلندي - بنتوسة )✅\n",
      "\n",
      "منزلي✅ فندقي ✅فندق ✅ منزل ✅ بيت ✅\n",
      "\n",
      "اطلب جلستك الان بعد ارهاق الدوام في السعودية 🇸🇦✨\n",
      "\n",
      "دفع امن عند الوصول ( كاش - تحويل - شبكة )✅\n",
      "\n",
      "المختصين من الفلبين🇵🇭👏\n",
      "\n",
      "RCVDl\n",
      "تا\n",
      "1612452382931288064\n",
      "RT @HURA76752775: 😁　🥲 https://t.co/4n3yzkjVCG\n",
      "1612452382922911747\n",
      "RT @AnkurMessi_: https://t.co/BJBztIwvTO\n",
      "1612452382935334915\n",
      "RT @HaiderJamshid: biraz DİYORSUN? etrafına elimi sesi afyon afyon dinar emirdağ evciler  https://t.co/WWF9haqiPd\n",
      "1612452382939709440\n",
      "B3B787BE :参戦ID\n",
      "参加者募集！\n",
      "Lv120 テフヌト\n",
      "https://t.co/NBknsWftOS\n",
      "1612452382922911745\n",
      "第二波浪潮就要到达 卫星图像曝中国可怕真相 | 北上广 | 中国疫情 | 卫星图像 | 殡仪馆 | 中国人 | 新冠 | 奥密克戎 | 新疫苗 | 中共 | 躺平 | 希望之声 https://t.co/YzTqrkmQHy\n",
      "1612452382905962498\n",
      "RT @JoJoFromJerz: @RonFilipkowski I’m old enough to remember what this stable genius with the good brain said when asked about the “nuclear…\n",
      "1612452378707636224\n",
      "RT @rikukawa7: 셔츠 탐나서 찾아봤는데 포장이 더 킹받음 https://t.co/hiYcribiRH\n",
      "1612452382939676673\n",
      "RT @jellojisung: นี้คือน้องแร๊พเปอร์กับพี่กล้าม วงเด็กหลงค่ะ https://t.co/MAAQ7lete4\n",
      "1612452382931324928\n",
      "RT @eva_chw: 채형원 유기현 포카 0.1에 배송비까지 지가낸단다 우린 그걸 무나라고 하기로 했어요\n",
      "1612452378716016641\n",
      "吃饱喝足上床了 https://t.co/iTdkwZBAlT\n",
      "1612452382914539521\n",
      "RT @sergiorocaa: me gustaría poder decir \"?????????\" pero en voz alta\n",
      "1612452382931324929\n",
      "また変なのが出てきた #sugushinu #bs11\n",
      "1612452382922911748\n",
      "Twitterは出会い系だと思ってますセフレ募集～DMもらえると嬉しいです♪ゴム無だとムラムラしちゃう。。。。\n",
      "1612452378737008640\n",
      "https://t.co/cQB1GlLSsP\n",
      "1612452382914547712\n",
      "RT @STORMIMFMAYA: @DailyLoud This is why all that “let a man fully support you” shit will never be me. I will always have my own money and…\n",
      "1612452382906122241\n",
      "RT @renge_jo1: 去年 雑誌MGで豆の「僕はずっと17歳で止まってる」「メンバーには心を許せますけどメンバー以外の誰かは本当にいない」「メンバーは本当の僕を知ってる」にまた号泣してる\n",
      "メンバーはずっと豆を守ってきたし豆もJO1を守ってきたんだなって\n",
      "\n",
      "#豆ちゃん成人…\n",
      "1612452382922932228\n",
      "@maaakoto_ace43 間違えました😢\n",
      "1612452382910173184\n",
      "RT @mren41699239: Bunca emek bunca çaba boşuna olmamalı 100 bin atama müjdesini bekliyoruz artık @tcmeb @RTErdogan @NureddinNebati @tcbeste…\n",
      "1612452382918729729\n",
      "@kapildhama @MahindraScorpio Many many congratulations bhai . Party to banati hai 🎊🎊🎊🎊🥳🥳\n",
      "1612452382927106053\n",
      "RT @chenolyy: คันแข่ว น้องอินจุนน่ารักมาก แงงงง 🫠 https://t.co/QSvZoYimS1\n",
      "1612452382931144707\n",
      "When first round???? https://t.co/AyZx7n4Eam\n",
      "1612452382905958407\n",
      "RT @_iSara76_: يفداك ما شافت عيونك من الزين\n",
      "لو إن متر الثوب من خمس ميّه ..💙 https://t.co/uaSSZrJa9Y\n",
      "1612452382939439104\n",
      "人生がどんなに辛くても前向きに考えてください。\n",
      "\n",
      "💛\n",
      "\n",
      "🔥\n",
      "\n",
      "ٱےهےربَ ٱےهـربَ\n",
      "\n",
      "⏩CNU3074⏪  \n",
      "\n",
      "ستايلي 🤎 styli\n",
      "\n",
      "⏩ BG823⏪\n",
      "\n",
      "---------------------------\n",
      "\n",
      "🤎ط2609218\n",
      "1612452378745376770\n",
      "RT @eternalboys_sp: 【#永久少年SP 色紙プレゼントキャンペーン】\n",
      "\n",
      "／\n",
      " #リン・ジュンジェ 役 #ランズベリー・アーサー さんのサイン色紙を\n",
      "抽選で2️⃣名様にプレゼント🎉\n",
      "＼\n",
      "\n",
      "📝応募方法\n",
      "@eternalboys_sp をフォロー&amp;本投稿をRT\n",
      "応募…\n",
      "1612452382914355202\n",
      "@WhitlockJason Both\n",
      "1612452382927114241\n",
      "RT @stangbnk48_thfc: [ #StangBNK48Today ]\n",
      "iAM48 Post : เมื่อคุณถูกแอบถ่ายกล้อง film ตอนไปวัด \n",
      "\n",
      "📸\n",
      "#StangBNK48 #BNK48 https://t.co/MNWq7FPqSm\n",
      "1612452382910337024\n",
      "Ina Camilla Wendell Isaac Xanthe Camilla Giles Emma #天津 https://t.co/Qq2XEYQakd\n",
      "1612452382914265089\n",
      "RT @crush1__: 💫বাগিয় @itsbadgirl0_\n",
      "https://t.co/BnN5bf5G8D\n",
      "1612452382935519232\n",
      "RT @bunnyboxz: - หลักเกณฑ์การคัดเลือกตัวละครชายผู้ทรงอิทธิพล: รางวัลนี้ขึ้นอยู่กับการประเมินอย่างครอบคลุมของความนิยมโดยรวมของซีรีส์และการเ…\n",
      "1612452378724237312\n",
      "bom dia\n",
      "1612452382922932226\n",
      "💀💀 https://t.co/CqMnJCOsUD\n",
      "1612452382939713539\n",
      "RT @iris_bee_: a sneak peek of This Morning’s Alison Hammond’s #Bridgerton interview with Nicola Coughlan, Luke Newton, Claudia Jessie and…\n",
      "1612452382905868288\n",
      "RT @BethBruxa: Terroristas\n",
      "1612452382939680770\n",
      "RT @LapisLazuli_NGS: #PSONGS \n",
      "₍₍ ◝(•̀ㅂ•́)◟ ⁾⁾ https://t.co/TSkuVq8Rt9\n",
      "1612452382914363393\n",
      "RT @YosoyAgnes: Creo que ha llegado la hora,  Ramón.  A romperte el culo,  que hace mucho tiempo que lo teníamos que haber estrenado. https…\n",
      "1612452382939709441\n",
      "wait ko nalang 20M para naman may pang shot malala kung di talaga pwede 🫣\n",
      "1612452382918549504\n",
      "@reda_1379 الرگيه توصل اولا\n",
      "1612452382901960711\n",
      "RT @archive_yoshi: [VIDEO] yoshinori dancing to rhythm ta by iKON\n",
      "cr. sunnywinter24\n",
      "\n",
      "#요시노리  #ヨシノリ #よしのり #매그넘 #MAGNUM #YOSHINORI #TREASURE13…\n",
      "1612452382922928130\n",
      "そういうとこだよな…\n",
      "1612452382914248708\n",
      "RT @ProudDoggieMom: Read please https://t.co/z1KYTN8pYg\n",
      "1612452382906155009\n",
      "感じてイク美女が可愛くて愛おしい♡ \n",
      "https://t.co/W3am30HYcZ\n",
      "1612452382914248706\n",
      "@GPWFrank Did you see the steelers game. The one guy made cpr gestures before picking his boy up.\n",
      "1612452382927122433\n",
      "RT @mewxgupie: incluso los tuktuks pueden ser khoo rak na 😆\n",
      "\n",
      "🗣️: uih hasta las pegatinas tienen que pegarse bien cerca unas de otras ¿verda…\n",
      "1612452382910345216\n",
      "Daily Dordle 0351 6&amp;4/7 \n",
      "⬜⬜⬜🟨⬜ ⬜🟨🟨⬜🟩\n",
      "⬜⬜🟩⬜⬜ ⬜⬜⬜🟨⬜\n",
      "⬜🟩⬜⬜⬜ 🟨⬜🟨🟩🟩\n",
      "⬜⬜⬜⬜⬜ 🟩🟩🟩🟩🟩\n",
      "⬜🟩🟩⬜🟩 ⬛⬛⬛⬛⬛\n",
      "🟩🟩🟩🟩🟩 ⬛⬛⬛⬛⬛\n",
      "https://t.co/tJaZKYDPTN\n",
      "1612452382935515137\n",
      "RT @kuzeyarui: &lt;今夜放送&gt;\n",
      "NHK BSプレミアム\n",
      "宝塚歌劇　花組公演「元禄バロックロック」「Ｔｈｅ　Ｆａｓｃｉｎａｔｉｏｎ！」\n",
      "￼1月10日（火）午前0:00〜午前2:40\n",
      "実質1/9(月)24:00〜ですね、お間違いなきように😊\n",
      "1612452382910124037\n",
      "@netsiraphop https://t.co/yCrzIiRZGM\n",
      "1612452382914547713\n",
      "家着いて荷物片付けてお風呂入ってさあ月カワ見ようと思ってレコーダーつけたら容量たりなくて最後まで録画できてなかったなき\n",
      "1612452382905958406\n",
      "RT @AntonioCR1974: @Danielbricen Ni periodista, ni abogado.\n",
      "Ese es el nivel intelectual de los uribistas. \n",
      "Guardaré el tuit.\n",
      "1612452382927106054\n",
      "RT @Prabha0745: மக்கள் செல்வர் அண்ணன் #டிடிவிதினகரன் \n",
      "\n",
      "#TTVDhinakaran #AMMK #PVSP https://t.co/oW7Do1PQ88\n",
      "1612452382918729731\n",
      "RT @Tdetravesti: Presidenta Dilma, 2014:\n",
      "\n",
      "“São tantas obras de arte aqui... Às vezes, o Gabriel tenta mexer em alguma, e eu digo: \"Não, meu…\n",
      "1612452382926950403\n",
      "RT @VictorDeOrange: Back to the city https://t.co/bbAoWznBD8\n",
      "1612452382931288065\n",
      "煽りがさもうさ、ｶｯｺｲｲｯ!!\n",
      "1612452382914514945\n",
      "No ando en condiciones para encender cámara maestra\n",
      "1612452382935502849\n",
      "RT @Sandeep_Mave: New Space Birds 😌🔥 https://t.co/HcWMYIYJiu\n",
      "1612452382918742017\n",
      "スズメガの成虫はみんな戦闘機みたいで、すごくかっこいいんだ。うらやましいな～。\n",
      "1612452382939713536\n",
      "@AyaneBandori 美味しかった\n",
      "1612452387117228034\n",
      "@pappuyadavjapl Jaleel Adhikar Party JAP\n",
      "1612452387104653314\n",
      "RT @Lo_veQN: ✨বাগানি @Lexie1M\n",
      "https://t.co/8utZggjGWJ\n",
      "1612452387108560896\n",
      "RT @LoulouAlp: @haliltekinlover \n",
      "nefes almak için yazarız\n",
      " ama yazdıklarımızı okumaya geri döndüğümüzde çabucak boğuluruz aaaa\n",
      "\n",
      "#AlpNavruz…\n",
      "1612452387129786369\n",
      "@yum_2203 @Trap_1010 @banbanjuck 갈죽아!!!\n",
      "커미션어찌되어가니\n",
      "1612452387100454912\n",
      "アナル描きたい。\n",
      "ケツ穴がガバガバで汚そうなキャラを。\n",
      "1612452387096256512\n",
      "Leopold Flower Gustave Tyler Tess Bertha #南京 #福州 https://t.co/GLY8w7pNoZ\n",
      "1612452387121135616\n",
      "@1tvru_news https://t.co/4YAilk8Ehf\n",
      "1612452387113009152\n",
      "昨日も今日も明後日もだが明日は特に行きたくない\n",
      "1612452387096260608\n",
      "politics.Tomple was the man to  \n",
      " 💋😌👌😆😌 #调查取证 #查出入境记录 #查号码记录 https://t.co/SpKVog3k6E\n",
      "1612452387129524231\n",
      "@Cabralbeca DESCULPA\n",
      "1612452387117228033\n",
      "RT @steak_izutsuya: /\n",
      "　スタバチケット500が\n",
      "　フォロー&amp;RTで当たる🎯 #RTキャンペーン\n",
      "\\\n",
      "コーヒーでホッと一息☕️\n",
      "\n",
      "▼応募方法\n",
      "①@steak_izutsuyaをフォロー\n",
      "②この投稿をリツイート\n",
      "\n",
      "▼締切\n",
      "🎍1/10の23時59分まで🎍\n",
      "\n",
      "▼抽…\n",
      "1612452387121254400\n",
      "RT @RickAndGriff: Still one of the hottest scenes in our vault! @hatler_gurius and Rick pumping their loads into me! Available on our JFF S…\n",
      "1612452387129524230\n",
      "@buznazbrna_ Náhodou je to poklona dělat na hradě účetní. Zvlášť pokud kandiduje jen jako parodie slovenské paní prezidentky. Nebýt žena tak ji nikdo nikdy jako kandidáta nebral. To je holý fakt.\n",
      "1612452387133726721\n",
      "RT @Innov_Medicine: A new anatomical membrane that protects the brain:\n",
      "Møllgård et al. found a fourth meningeal layer (3 layers before, dur…\n",
      "1612452382922735618\n",
      "RT @tumblr: whoops! https://t.co/DAEHqkeD1q\n",
      "1612452382931144705\n",
      "#jpmorningshow https://t.co/D2403y0I1H\n",
      "1612452387133992962\n",
      "RT @rector_sofia: 𝕴𝖓𝖋𝖔𝖗𝖒𝖆𝖙𝖎𝖔𝖓 𝖙𝖍𝖊 𝖆𝖇𝖔𝖛𝖊\n",
      "https://t.co/hKYyu82MFK\n",
      "##\n",
      "#實實阿點用其實 https://t.co/c1bxkSD6IN\n",
      "1612452387133984774\n",
      "@rachelrezendes 😭😭😭\n",
      "1612452387121242112\n",
      "RT @snuffynymph: Do you want to live forever? https://t.co/yyaDgQgJCD\n",
      "1612452387133984773\n",
      "@Nagato_JRPG Sweet! 😁\n",
      "1612452387117056000\n",
      "RT @AbtsamtRwh: وما أحلى الصباح إذا كانت بدايته أنت ❤️ https://t.co/66j4Lt0zjU\n",
      "1612452387134013441\n",
      "RT @LustyQueen_: 💪🔞💪 https://t.co/WZhR3YmYc7\n",
      "1612452387108835331\n",
      "RT @senolgl57: Sayın Cumhurbaşkanım @RTErdogan \n",
      "Atama bekleyen binlerce öğretmen ADİL Kontenjan Dağılımıyla 100 Bin Atama müjdesi bekliyor.…\n",
      "1612452387134017537\n",
      "だれかいませんか？？いいことないかなぁ・・・。\n",
      "1612452382931288066\n",
      "RT @evrydyhyun: โดนตกจากจีดีเอเยอะกว่าที่คิด เอางี้นะ https://t.co/XxDyGiArjy\n",
      "1612452387112755201\n",
      "@euamamae Esse rabo gostoso r claro\n",
      "1612452387125596161\n",
      "RT @tsubami108ph: 【心電図検定対策】\n",
      "肺血栓塞栓症　\n",
      "肺塞栓症　\n",
      "エコノミークラス症候群\n",
      "\n",
      "#つばみ心電図 \n",
      "#つばみマイチャン復習 https://t.co/SVQ2UiDuqW\n",
      "1612452387134005248\n",
      "RT @sorry_ynotsorry: 🤳🏻 https://t.co/cyvvQYUVOd\n",
      "1612452387121422336\n",
      "RT @rector_sofia: 𝖗𝖎𝖌𝖍𝖙 𝕿𝖗𝖚𝖊\n",
      "https://t.co/hKYyu83kvi\n",
      "##\n",
      "#實實阿點用其實 https://t.co/HYsmTiCC6l\n",
      "1612452387108814849\n",
      "RT @plsoob: 🤍 https://t.co/8MjhwobbGw\n",
      "1612452387125329922\n",
      "RT @_Hardcoreclubs: https://t.co/4FUl8zJZq4\n",
      "1612452387112763394\n",
      "RT @rector_sofia: 𝖍𝖚𝖓𝖌𝖗𝖞 𝖙𝖔 𝖒𝖊\n",
      "https://t.co/hKYyu82MFK\n",
      "##\n",
      "#實實阿點用其實 https://t.co/97Twlwqod1\n",
      "1612452387125604352\n",
      "RT @coluvx4: 아기 망그러진 곰 &lt;&lt; 임티가 민지랑 똑같아,,, https://t.co/Q7qkOpp1Uk\n",
      "1612452387129622529\n",
      "Delays cleared for Coney Island–Stillwell Av-bound Q trains. https://t.co/kKTCiwY7X4\n",
      "1612452387133992960\n",
      "@karin_hachi え？！今も居座ってるの?\n",
      "1612452387100270592\n",
      "@AndreJanonesAdv Alguem que usa as midias para plantar o caos https://t.co/1meYOMQZTB\n",
      "1612452387133980673\n",
      "なかった\n",
      "1612452387133726720\n",
      "RT @Carene1984: Le ministère de la vérité en panique parle de vous :\n",
      "@silvano_trotta \n",
      "@LaureGonlezamar \n",
      "@mmtchi\n",
      "1612452387095994369\n",
      "RT @Blue_Senpai: It seems this trend is still going on, so let's see if it works on Uta 👀 https://t.co/IiwRUJAr0V\n",
      "1612452387121233923\n",
      "RT @btol50: وصل الحال ببعضنا أنه لا يعرف شيء اسمه أذكار الصلاة! مجرد يسلم من الصلاة تلقائيًا يأخذ الجوال وينشغل به! هذه لحظات عظيمة الملائك…\n",
      "1612452387113009155\n",
      "RT @kmasa1108: #こばこば 第104回放送ありがとうございましたー！\n",
      "\n",
      "水戸黄門じゃなくてみかんにすれば良かった…😫w\n",
      "\n",
      "歌は今時期にピッタリの2曲をチョイス♪\n",
      "2023年１発目に良きスタートを切れたかと😚\n",
      "\n",
      "この調子で1/19のLIVEもフルスロットルでいくよ🤘…\n",
      "1612452387121238016\n",
      "RT @pnpk_1013: 想い想われ https://t.co/MkYYK40bND\n",
      "1612452387121143811\n",
      "Nintendo just needs to give us the GameCube 2\n",
      "1612452387133726722\n",
      "RT @damphierGC20: @Dr_Otorongo_ Bueno aquí el resultado: https://t.co/8mwCLBrDGw\n",
      "1612452387134013442\n",
      "@PrtNCpnQnl75aFt いや本当にお忙しい中でこちらを公開していただいたことに本当に感謝しかなくて…😭❤こちらが前言われてた御本にする予定のやつ…ですよね？今から手に取れるのが楽しみで仕方ありません（手に入れる気満々）\n",
      "1612452387113029638\n",
      "親友とか言う存在も空想の産物だったらしいな\n",
      "1612452387100438528\n",
      "@Ajchayapoll bukaannn wkwk jujur aje gua kaga bisa bedain. tadi ngawur ae\n",
      "1612452387129524233\n",
      "RT @Ichika506: I think the death of Adobe Flash really like..... destroyed the magic of the internet and I am not joking. No flash games wi…\n",
      "1612452387096268802\n",
      "RT @RabBitCoine: @RabBitCoine\n",
      "@PancakeSwap\n",
      "@CoinMarketCap\n",
      "@coingecko\n",
      "@Shibtoken\n",
      "@dogecoin\n",
      "@Bitcoin\n",
      "@ShibArmy\n",
      "\n",
      "🟢Staked and earn money🟢\n",
      "🟢Stak…\n",
      "1612452387108839425\n",
      "RT @solasolana0526: @: 이거 누가 웃긴짤 거기다 올려주세요\n",
      "\n",
      "https://t.co/IeiBAQCDPc\n",
      "1612452387095977986\n",
      "RT @brfootball: Manchester City or Chelsea will face Oxford or Arsenal in the FA Cup fourth round 🍿 https://t.co/gwKpPV8ILn\n",
      "1612452387125624832\n",
      "RT @bignaughtyman: 🔥 https://t.co/pP8zqJewdA\n",
      "1612452387125428226\n",
      "W https://t.co/3NC9E6pr2J\n",
      "1612452382910078976\n",
      "RT @HistCotidianas: Aquí va de nuevo la Alita para recortar, para quienes no la vieron🤗.\n",
      "1612452387121410048\n",
      "スネイプ先生と同じ誕生日だなんてw\n",
      "1612452387125592064\n",
      "素直になれないエレリヴァＢＬ♡ https://t.co/i3U3WMV1cG\n",
      "1612452387108818944\n",
      "RT @Yasir_Gujjar786: #سندھ_تبدیلی_کیلئے_تیار\n",
      "یہ بات سہی ہے کہ قوم جاگ چُکی ہے لیکن بستر نہیں چھوڑنا چاہتی نکل نہیں رہی \n",
      " 70 سال بعد جاگی ہے…\n",
      "1612452382922932224\n",
      "RT @tjruby_: ภาพ บพ. กับคอนเสิร์ตที่ไทย พร้อม YG บอกว่าคอน บพ. ที่ไทย 2 วัน คนดู 85,000 คน 😱 https://t.co/IUH20rYXf0\n",
      "1612452387113013248\n",
      "RT @Lm97Jkk: ท่าไหว้ตัวแม่ปะหล่ะ555555\n",
      "\n",
      "#DentisteLoveLISA \n",
      "#LISAConfidentsmile https://t.co/LTho6nUNlA\n",
      "1612452382939709442\n",
      "RT @jisoohourIy: she’s so baby \n",
      "#지수 #JISOO https://t.co/pekMSbogWn\n",
      "1612452387117010945\n",
      "RT @MufideCakir: @OgretmnEtkinlik @tcmeb @RTErdogan @ikalin1 Daha güçlü daha gür bir sesle EN AZ 100BİN öğretmen ataması hakkımızdır!\n",
      "#Kamu…\n",
      "1612452387129786368\n",
      "RT @junnn2727: NEON live do we have Kuya &amp; Dante version😇👐🏻?\n",
      "#NUカーニバル #NU카니발 #NUcarnival https://t.co/GFHVFvb6Ed\n",
      "1612452387108577290\n",
      "RT @Ela0638Ela: #HalkınTalebiGenelAF\n",
      "@RTErdogan @bybekirbozdag @dbdevletbahceli @meral_aksener @kilicdarogluk @M_Sarigul @Akparti @AvOzlemZ…\n",
      "1612452387104464898\n",
      "@RiccoRicco222 またほとぼり冷めて出てきたのね。ちんねんくんに負けるかって？全員4回とかだったりしてね。儲かりまっか？\n",
      "1612452387116957701\n",
      "@HassanMugPK1 To is me burai kia hai wo bhi insan hai tum log to dhodh ke dhole hue ho\n",
      "1612452387108835330\n",
      "Thrown yourself tactics and priorities, in regards https://t.co/3tIDR6grmR\n",
      "1612452387129786370\n",
      "RT @vampirejeonjk97: Seokjin nyiapin banyak konten sebelum pergi menjalankan tugasnya itu karena biar army gak ngerasa kesepian, jadi kalau…\n",
      "1612452387134013440\n",
      "RT @TheRavenCrypto: $75 — 8 Hours —\n",
      "\n",
      "➖ RT &amp; Join  TG:\n",
      "\n",
      "https://t.co/R5UmiCWHy1\n",
      "\n",
      "Post Proof\n",
      "1612452382939713538\n",
      "너랑 있으면! 나는 진짜야\n",
      "1612452382906134532\n",
      "RT @KP34091055: 5人に届きますように！！\n",
      "\n",
      " #明日1月10日アメリカでmade_in全曲流れるよ\n",
      " #KingandPrince \n",
      " @kingandprince_j \n",
      "\n",
      "https://t.co/8lh5ogzjuc\n",
      "1612452387108552706\n",
      "@rubendavidcamp1 @vincentlang89 No te reconocí el nombre pero sí la Verga\n",
      "1612452387100446720\n",
      "RT @rector_sofia: 𝖗𝖎𝖌𝖍𝖙 𝕿𝖗𝖚𝖊\n",
      "https://t.co/hKYyu83kvi\n",
      "##\n",
      "#實實阿點用其實 https://t.co/HYsmTiCC6l\n",
      "1612452391307051008\n",
      "RT @MarindaVannoy1: Giving your Child Puberty Blockers is Child Abuse!!\n",
      "1612452391290568704\n",
      "RT @peachahgase: [230109] BH Entertainment’s Instagram Update with Jinyoung 🤍 (1/2)\n",
      "\n",
      "PARK JIN YOUNG The 1st Album\n",
      "'Chapter 0: WITH'\n",
      "TEASER…\n",
      "1612452391298953216\n",
      "RT @mina39415542: سردار به قطره قطره خونت سوگند\n",
      " روزی سخت انتقام خواهیم گرفت\n",
      "#جانفدا\n",
      "#نماد_وحدت\n",
      "1612452391328296960\n",
      "連絡できる人いますか？？セフレ募集だけど勘違いされたら嫌だから定期的につぶやくけど、私はお金とか目的じゃないです\n",
      "1612452387104649221\n",
      "Jaerose kalian bikin aku gilakkkk.. Aduhh kapan nikah? https://t.co/ngKk51XX1a\n",
      "1612452391298936833\n",
      "RT @tyomateee: ドイツのサーファーがポルトガルで35mの高さの波に乗る動画、圧倒された...\n",
      " https://t.co/vqdxZYEl5S\n",
      "1612452391311544320\n",
      "RT @anyeonggs: stating all the things she didn’t like about each member on national tv (exhibit 1) https://t.co/pfN2nH1G5P\n",
      "1612452391307157506\n",
      "RT @facucampazzo: Estoy cansado y triste por toda esta situación. Lo único que pido es que por favor me dejen jugar. @EuroLeague\n",
      "1612452391307149312\n",
      "في الرياض ؟ تبي مساج ؟ تواصل معنا ! طلبك موجود \n",
      "\n",
      "مساج سويدي ✔ مساج تايلندي ✔ مساج ريلاكس ✔\n",
      "\n",
      "توصيل مجاني ✔ مختص فلبيني ✔ دفع عند الوصول ✔\n",
      "\n",
      "منزلي فندقي ✔ كل يوم ✔ نعمل لاجلكم ✔ كاش . تحويل  ✔ \n",
      "\n",
      "❤ افضل ❤ احسن مساج ❤ تدليك في الرياض ❤ \n",
      "\n",
      "التواصل في الملف الشخصيnxzYV\n",
      "ى\n",
      "1612452391319703564\n",
      "Vodafone pişmanlıktır. Turkcellden vodafona geçtiğim güne lanet olsun.\n",
      "#KamuOyu100BinÖğretmen\n",
      "1612452391307325440\n",
      "RT @mintomi_24sma: 2023年1月9日 月曜日\n",
      "\n",
      "#スマスマ で続けていた復興支援の呼びかけ、いつも弱い立場にある人に寄り添ってくれる #SMAP の思いを繋げます。\n",
      "忘れずにいる事、少しずつでも出来る事を。\n",
      "\n",
      "#復興に向けて手を繋ごう\n",
      "#lovepocket…\n",
      "1612452391323926529\n",
      "RT @mensch_huis: Fascists have no right to organise.\n",
      "London, 1977. https://t.co/3EwMiBmLq4\n",
      "1612452391311519745\n",
      "@wamako_42 @tkrkjhjmmst 横からごめんなさい！コニー、サイズ調整できるフレックスっていうモデルが登場したみたいで、うちはそれで旦那と共用できてます😊とても便利で今まさに新生児入れて抱っこしてウロウロ歩いて寝かしつけしてます😌\n",
      "1612452391328309250\n",
      "寝\n",
      "1612452391294566402\n",
      "@linobites OMAD https://t.co/FUCb3axn7V\n",
      "1612452391324119041\n",
      "RT @rinri_kim97: บังชีฮยอกนางเลือกหลีดเดอร์แต่ละวงจากความนิ่งเหรอ 555555555555 \n",
      "\n",
      "https://t.co/l2F2Stuuuj\n",
      "1612452391328141312\n",
      "La respuesta de @cedric_durand se centra (en la línea de \"Capital y Cibernética\" de Timothy Strom) en la análisis particular del sector digital (definidas como tecnofeudalismo) dentro del sistema-mundo capitalista y como posible origen de mutaciones... \n",
      "https://t.co/NU9m7hSXbX\n",
      "1612452391294492672\n",
      "RT @Eng_143_: 💌🌷 الســـــــــــلام علیــــــــــــــکم  ورحـــــمۃ اللــــہ وبرکاتــــہ ❤️💌\n",
      "💌💜صَـبَـٍّآٍْآٍٍْْآٍٍٍْْْآٍٍْْآٍْح آٍْآٍٍْْ…\n",
      "1612452391298945026\n",
      "ｹﾁｬｧｧｧｯﾌﾟ!!\n",
      "1612452391319908353\n",
      "RT @gagasyuyi: the year was 2009, lady gaga was 23, broke, tired, and hungry. her first album was out. she had one chance. the vmas were ne…\n",
      "1612452391319633920\n",
      "@halilibrahiminf prestijiniz kalpleri ve gözleri yakalayan özel bir çekiciliğe sahiptir qqqqqqqqq\n",
      "\n",
      "HalilİbrahimCeyhan #HalilİbrahimCeyhan\n",
      "1612452391315546112\n",
      "RT @Filiportelada: i will pass all my exams!!!! i know what’s going on!!!!🤡🤡🤡🤡🤡🤡🤡🤡🤡\n",
      "1612452391307317249\n",
      "@utusiro_kikaku お迎えありがとございます！ぜひぜひよろしくおねがいします🙌\n",
      "\n",
      "関係は交流を得て決めていきたいな…と！こちらとしては、なのはの作品作りの一環で霞くんのお花たちをスケッチさせて頂けたらなぁ…とふんわりですが考えています🌼\n",
      "1612452391324123138\n",
      "RT @AfkarSaiff2022: سحب سريع  جداً 💰(§) 💸\n",
      "\n",
      ".\n",
      " رتويت لايك للمثبته @salwm2011\n",
      "\n",
      "•السحب الكتروني من الرتويت 🎥⌚\n",
      "1612452391303122945\n",
      "RT @theunimartin: What a mess 😏💦🖤 https://t.co/HpWnB0bexE\n",
      "1612452391298732032\n",
      "Gente lo dijo pa lante*\n",
      "1612452391311507457\n",
      "RT @Nuttyinlove48: ชอบโมเม้นแบบนี้ แบบที่คนพี่แอบมองแลัวน้องรู้ทันตลอดและยัยน้องเค้าสู้สายตาสุดๆ มันเป็นน้วยยยย 😳 #ไบร์ทวิน https://t.co/LF…\n",
      "1612452391294742529\n",
      "My dog Wakeboarding : We discover\n",
      "1612452391302971393\n",
      "RT @AndrewJAPrue: Please please please pray for my wife Alexis. Alexis suffered cardiac arrest last night. Her heart stopped beating for 3…\n",
      "1612452391303147522\n",
      "RT @death_ma666ots: the lord of infested nidus \n",
      "#Warframe #warframefanart #nidus https://t.co/cMnmUfZdvx\n",
      "1612452391303147523\n",
      "RT @Sushxrabbit: Yes SSRCase A Turning Point\n",
      "\n",
      "Sushant is revolution he exposed all forbidden acts happening in bullywood\n",
      "\n",
      "And @itsSSR makes…\n",
      "1612452391319703552\n",
      "RT @sgthunters: the lightsaber drop move????? https://t.co/Zh034h7Tke\n",
      "1612452391311532033\n",
      "hadehh mas rafli\n",
      "1612452391303118848\n",
      "emotional\n",
      "1612452391328047104\n",
      "RT @faiththegemini: me: idk how I got these bruises \n",
      "\n",
      "me the night before https://t.co/T8vKbGw8gZ\n",
      "1612452391298936832\n",
      "RT @Txx_CG: ニャオハのお昼寝\n",
      "\n",
      "#b3d https://t.co/LC2kPBvBr3\n",
      "1612452391294586888\n",
      "Not enough left https://t.co/2i0P8kFY9V\n",
      "1612452391290560513\n",
      "RT @MightyMonita: I love the Dentist event for Lisa so much because not only they are promoting Lisa as their ambassador/endorser but the f…\n",
      "1612452391311360009\n",
      "RT @AfricanGold_Win: 遅ればせながら明けましておめでとうございます🎍\n",
      "僕も気づけば早8歳。時の流れは早いですね😳さて、そんな絶賛現役続行中のわたくしでございますが来週日曜日、1/15に中京競馬場で行われる日経新春杯への出走を予定しております。万障お繰り合わせ…\n",
      "1612452391294586889\n",
      "@leewnnie watafak was dat\n",
      "1612452391311360006\n",
      "RT @candrews_cl: La Ministra Vallejo miente cuando dice que los indultados tendrán prisión domiciliaria o firma mensual. La verdad es que,…\n",
      "1612452391294468098\n",
      "맥세이프 호환되는 에어팟 프로\n",
      "지금 쿠팡에서 특가 행사중이네요. 👍\n",
      "https://t.co/RU3axqJEWv https://t.co/MblQblLIRG\n",
      "1612452391324123137\n",
      "RT @LOVGLetras: Porque solo tú me puedes enseñar a volar cometas por el cielo, como el sol.. como el mar, dibujar mi nombre sobre el suelo…\n",
      "1612452391298781185\n",
      "@yelizl19 https://t.co/o7h8MrFlop\n",
      "1612452391303147520\n",
      "ノッブこういうの本当に上手いな\n",
      "1612452391324094464\n",
      "@t000000ma 何もリリースされてないのできっと大丈夫ですよ\n",
      "例のあれではないです\n",
      "1612452391319908354\n",
      "@Angrej_Official اوہ اللہ پاک صحت دیں\n",
      "1612452387104657409\n",
      "RT @geloforkim: BINIXBGYO FAMILYY IS LOVE ! ❤️❤️❤️ #PEPINO2023 \n",
      "\n",
      "ctto fr miss jovy ig post ! ☺️ https://t.co/EpyprS7aJV\n",
      "1612452387121418240\n",
      "@psmark1821 9\n",
      "1612452391298764800\n",
      "@phennec02 @ShinMalsaZA https://t.co/AA5bwC74MA\n",
      "1612452391290290176\n",
      "@BrasilNasRuas Os terroristas do vídeo já foram presos?\n",
      "1612452391307075586\n",
      "@abelhadebs @amigoanormal por isso eu digo que pior seria se pior fosse pq sempre há possibilidade de ser pior\n",
      "1612452391319650306\n",
      "RT @TurkSexsTR: Serd serd kokluyo https://t.co/sjlLdZYUSj\n",
      "1612452395497422849\n",
      "@jimocoro 引用させていただきました！\n",
      "#みくのしんにチャレンジしてほしい仕事\n",
      "1612452395505549312\n",
      "@nattaliesmitth Kkkkkk\n",
      "1612452395505565697\n",
      "평창콜걸 홍천출장샵 화천출장서비스 #초대 https://t.co/a0Iz7j9IQB\n",
      "1612452395489038339\n",
      "@40Gzkachuo ホンマすんません！！\n",
      "1612452395518398464\n",
      "@toon_meiji ダイエットと髪質改善で人に不快感を与えないチー牛が今年の目標\n",
      "1612452395489038336\n",
      "@huinabi_DB 크흡ㅂ하ㅎ핰ㅋㅋㅋㅋㅋㅋㅋㅋㅋㅋㅋㅋㅋㅋㅋㅋㅋㅋㅌㅌㄴㅋㄴㅋㅋㅋㅋㅋㅋㅋ\n",
      "ㅇ아니 쨔잔 케밥의 주재료는 사실 연어알이었습니다~도 아니고!\n",
      "1612452395513962498\n",
      "Trattamenti naturali e rimedi casalinghi per il mal di montagna https://t.co/Z8rhUwGEDd\n",
      "1612452395501617153\n",
      "RT @bebearblah: ตอนนี้ฉันยังไม่มองใคร หรอ โสดเเบบนี้กำลังสบาย อ่อหรอ ไม่รู้จะมีเเฟนทำไม ไว้เจอกันใหม่โอกาสหน้า https://t.co/WK6JOz8P0B\n",
      "1612452395518251011\n",
      "Kabine zammi unutma mujdeyi ver #MemuraEk5Bin\n",
      "1612452395493085188\n",
      "RT @FatAss_E: I hate that @FanDuel emails you every time you login\n",
      "1612452395518246913\n",
      "@drizzleanddip Flattie the chicken and Weber or braai it. Lemon herb or peri peri with some ciabatta and a salad.\n",
      "1612452395484860416\n",
      "RT @hdWsbhaZeCbcHmG: (ฅ ˙꒳​˙ )ฅ💕\n",
      "四駆神社⛩️\n",
      "に行ってきました🚗³₃\n",
      " \n",
      "YouTube 観てね🤗\n",
      "https://t.co/GSHeKejbQr\n",
      "\n",
      " #初詣\n",
      " #大室髙靇神社\n",
      " #JTEAM\n",
      " #日光市\n",
      " #ジムニーお守り\n",
      " #四駆神社\n",
      " #…\n",
      "1612452395513962496\n",
      "@el_pais Mentira o si ha cambiado de opinión es porque le han pagado\n",
      "1612452395489062913\n",
      "@subash_sharan How much per ticke bro\n",
      "1612452395493068801\n",
      "@markyiwnl @MihaFNR I would be surprised if you didn’t get banned 😭\n",
      "1612452395522433026\n",
      "RT @BilalBayraktar_: Kabineden bugün 2022 Atama müjdesi çıkmalı \n",
      "\n",
      "#KamuOyu100BinÖğretmen\n",
      "1612452395510005761\n",
      "@AvishayBenHaim איזה טמטום שרלטן כושל. \n",
      "אתה מכיר בעובדה שממשלת הזדון של ביבי מובילה להקצנה והרס החברה בישראל. ובעצם אתה טוען שביבי ביודעין משתמש באיום ההקצנה של החברה כדי לסחוט את עם ישראל ומחזיקה בו כבן ערובה עד שדרישותיו של ביבי האליטיסט יענו.\n",
      "\n",
      "בוא תבין משהו: לא עושים מו״מ עם טרוריסטים.\n",
      "1612452395484876800\n",
      "@Zeke9B (っ ॑꒳ ॑c)GUの白のパーカーとその上にフードなしジャンパーきてジーパン履いてた\n",
      "1612452395492974593\n",
      "@davidgokhshtein @gokhshteinmedia GM 🌄\n",
      "1612452395501654016\n",
      "ハマるのハポーズ…可愛い😭💗\n",
      "大我くんとサーヤさんの共演楽しみです！！ https://t.co/Vd3XsGRxr9\n",
      "1612452395497435138\n",
      "@birbezginn Teşekkür Ederim 🙏Huzurlu Akşamlar☕️🍂🍁\n",
      "1612452395501473798\n",
      "Lord thank you. Amen🙏🙏🙏 https://t.co/nqX0ZvKMyY\n",
      "1612452395522613249\n",
      "ใครๆก็เคยนั่งแบบแอลป้ะ นุรักพิ https://t.co/LEzv9pU6lZ\n",
      "1612452395514036224\n",
      "@epigmenioibarra Es el peor gobierno, acaso hay alguna duda?\n",
      "1612452395509846017\n",
      "story of the day he won the game that no one expected to win. Of all the spectac\n",
      "\n",
      "#布里斯班 约 炮 https://t.co/xoUlnvSuvf\n",
      "1612452395522621446\n",
      "RT @cherrxph: หน้าชัด หลัง...\n",
      "\n",
      "@yinyin_anw @warwanarat \n",
      "\n",
      "#yinyin_anw #warwanarat\n",
      "#หยิ่นวอร์ #DestinyClinicYinWar https://t.co/j4zOSrYpjv\n",
      "1612452395484852227\n",
      "@emiria_0629 おやすみ\n",
      "1612452395510018051\n",
      "@tokikorms わー！よかったです！そのまま食べるよりは良いですよね🥹お役に立てて光栄です😌💫\n",
      "1612452391307333633\n",
      "@autoestimaposts KKKKKK muito bom\n",
      "1612452391324127233\n",
      "@nasubitomato 藤五郎さーん❣️\n",
      "リューク王子は、お空で眺めててくれてるかな☺️\n",
      "沢山泣いたし、リュークの為にって決めて、禁煙成功したし✨✨\n",
      "もう半年ぐらいかな？吸ってないです。\n",
      "名前悩んでますー、イケメンで被らない名前つけたいなー\n",
      "1612452395489054721\n",
      "RT @mxilly: 느껴봐 느껴봐\n",
      "기현아 거기있니???????\n",
      "기혀나 거기이써 ? ?? \n",
      "\n",
      "ㅅㅂ 니네 브이로그 중독이다 임마들아 아 수치스러워 https://t.co/aK02fxeD56\n",
      "1612452395522613250\n",
      "RT @annko_mcmc: https://t.co/OpvfYOvL3S\n",
      "1612452395493253126\n",
      "Hulda Katrine Stanley Copperfield Myrna Dierser Harley #广州 https://t.co/i9G4KbPDLs\n",
      "1612452395509768192\n",
      "RT @Guy_Baruch: גליקמן: העובדה שהוכח היום בבית המשפט שהפרקליטות הגישה כתב אישום שקרי מחזקת את טענות התביעה.\n",
      "\n",
      "עשיתי את זה טוב @aviadglickman…\n",
      "1612452391315714048\n",
      "@77_frota https://t.co/rlTmfU3Wh9\n",
      "1612452391303155713\n",
      "RT @japosu123: 「男女平等パンチ」と面白がる層がなぜ出てくるかというと現代の男女平等という言葉の示す内容があまりに女にとって都合がよすぎるからなんだよな\n",
      "女の不利な部分にだけ「男女平等❗️」が使われる一方で男の不利な部分はノータッチだったり女性に配慮しましょうみた…\n",
      "1612452395493064707\n",
      "RT @upblissed: this exactly what i imagine hell looks like https://t.co/BfdiyVnH0V\n",
      "1612452395497160705\n",
      "ChatGPT can be used to write #phishing emails, malicious code, warn #security experts https://t.co/dJAcVX3uZ4\n",
      "1612452395501617152\n",
      "@_mame_0509 戻ってきてくれーーーーー\n",
      "1612452395514036227\n",
      "Asked what he’s learned by seeing the border firsthand and speaking with the officers who work along it, Biden said: “They need a lot of resources. We’re going to get it for them.” https://t.co/tvvd96csbP\n",
      "1612452395493257216\n",
      "RT @Fern_nmt: ทีมหวีดอยู่หน้าจอ บั่บบบน่ารักไม่หวึย 🫠🥹\n",
      "\n",
      "#DentisteLoveLISA https://t.co/u1h8YE3Fy2\n",
      "1612452395489071104\n",
      "Its so bittersweet but its perfect that way😭😭😭\n",
      "1612452395510042624\n",
      "RT @sawadeeeeeeeee: พ่อแฟนบอยยย\n",
      "😂😂😂😂😂😂😂\n",
      "#DentisteLoveLISA #LISAConfidentsmile https://t.co/54x2nkVxfI\n",
      "1612452395493232641\n",
      "成人した皆様おめでとうございます。\n",
      "1612452395522588674\n",
      "RT @koudai_otf: さらに前。\n",
      "1612452395510038529\n",
      "RT @x_porn2: ✨বাগানি  https://t.co/9Ae4rB8D2m\n",
      "1612452395505831936\n",
      "@iLiFE_ramu まちがいない！\n",
      "1612452395522592768\n",
      "吸血鬼 下半身透明 #sugushinu #bs11‍‍‍‍‍‍‍‍‍‍‍‍‍‍‍‍‍‍‍‍‍‍‍‍‍‍‍‍‍‍‍‍‍‍‍‍‍‍‍‍‍‍‍‍‍‍‍‍‍‍‍‍‍‍‍‍‍‍‍‍‍‍‍‍‍‍‍‍‍‍‍ https://t.co/xeTu3n5J62\n",
      "1612452395484585984\n",
      "RT @pytkeaks5: Pt2 teen gets fucked #pawg #incest #nsfwtwt #nude #cumtribute #wanktribute #cocktribute #dickrate #schoolthot #bigboobs #Cum…\n",
      "1612452399704322054\n",
      "RT @piihuwuu: Anki APNA chera dikhade \n",
      "\n",
      "FANS DEMAND ANKIT IN BB\n",
      "1612452399687532545\n",
      "RT @bradyjohnson201: https://t.co/kSk4RAhAqC\n",
      "1612452399687544834\n",
      "a torch, and the li1  0.0ZC4 My hand gets cold 0108  #下贱 #学生妹 #轮奸  https://t.co/jHCBO0DAKs\n",
      "1612452399708540929\n",
      "RT @KNknkn_5: 2期生\n",
      "#シオンの書物 #あくあーと \n",
      "#プロテインザスバル  #しょこらーと  #百鬼絵巻 https://t.co/EG5Zum0A8F\n",
      "1612452399704334337\n",
      "@Yoh_crushie 😂😂\n",
      "1612452395505823744\n",
      "自画自賛だけど真面目にめっちゃ綺麗じゃない？😂 https://t.co/KUTjFKVDvW\n",
      "1612452399712550912\n",
      "Quero levantar pra fazer o almoço, mas minha gata não me deixa sair daqui. 😭\n",
      "1612452399695773697\n",
      "@JahezApp ارجو الرد خاص\n",
      "1612452395493068800\n",
      "RT @ConnCFC: We didn’t deserve you king. https://t.co/DZeqVi7OnS\n",
      "1612452399695683587\n",
      "RT @memedepressivos: https://t.co/7qVuKeEsRT\n",
      "1612452399716892672\n",
      "RT @RsherryS: #三連休はフォロワーさんが増える\n",
      "#ウマ娘\n",
      "ﾌｫﾛｰｼﾃｸﾀﾞｻｲ… https://t.co/JDpfuxsHt9\n",
      "1612452399704342528\n",
      "RT @tonyamaru1: ｡*☆色違い卵配布☆*。\n",
      "\n",
      "1名様にムンボ色ガラルニャースの卵を配布させて頂きます！\n",
      "\n",
      "ご希望でしたら当選者様孵化後、レイド用に育成させて頂きます(*ˊᵕˋ*)\n",
      "\n",
      "【参加条件】\n",
      "▶︎RTだけ 鍵垢の方は+フォロー\n",
      "\n",
      "1/11 23:55 〆 1/…\n",
      "1612452399708504066\n",
      "RT @Aomshiro225: สิ่งที่อยากเห็นมาตลอด 😭\n",
      "คอมพลีทแล้วคับ 🤍💚\n",
      "ยินดีด้วยกับทุกความสำเร็จของทั้งสองคนนะคะ 🫶🏼\n",
      "@bbrightvc @winmetawin \n",
      "#bbrightvc…\n",
      "1612452399699968001\n",
      "☠ https://t.co/ANMS3ku0y7\n",
      "1612452395497459713\n",
      "Cucu ke dua https://t.co/u7CcNqZkwK\n",
      "1612452399683371009\n",
      "RT @dm04206: 메리크리스마스🎄❄️ https://t.co/nNUCJZoega\n",
      "1612452399683371012\n",
      "RT @BBhuttoZardari: Pleasure meeting with my brother FM Bakhtiyor Saidov of @uzbekmfa in Geneva. Appreciate 🇺🇿 support &amp; solidarity for flo…\n",
      "1612452399700144130\n",
      "RT @CloudyMood92: everyone wants a piece of jihoon https://t.co/LN8nKy0GFy\n",
      "1612452399704154114\n",
      "RT @Yvanldc: Oscillococcinum : on le répète jamais assez, la recette de ce truc c'est ça https://t.co/mKKsWPbFjX\n",
      "1612452399678951425\n",
      "RT @Tena64308582: #Çerkezköy kizlarla  nasil ilgilenmek bu ruhani ♌️ https://t.co/hqhPhi8YxK\n",
      "1612452399695925249\n",
      "ぷるもちさんにツイート見られなくてよかった\n",
      "1612452399704338432\n",
      "@Rin_aroma_2019 なるほど❣️\n",
      "でも、撮影できるのは嬉しいですね☺️💗\n",
      "1612452395522326529\n",
      "オット失礼しました\n",
      "1612452399712735233\n",
      "a1 convince little gay internal 💝🐶🍊 #反差 #舔脚 #熟女 #绿奴 #学生妹 #文爱 #骚逼 #做爱 https://t.co/c3ioMhwIFt\n",
      "1612452399708504064\n",
      "@ssou08_ 美味しそうですね❤️\n",
      "1612452399695773699\n",
      "10 / 1612452396218650628\n",
      "1612452399700115457\n",
      "RT @lbaemin: barbie doll jimin 💗 https://t.co/3wdl8hpD7r\n",
      "1612452395522334723\n",
      "@as_x37 😭😭😭😭😭😭\n",
      "1612452399716749315\n",
      "RT @hrit_hailu: 🎡Right now, 🇪🇷 has begun training militia from the Amhara ethnic group in Tigray border to 🇪🇷 – the Fano – who are generall…\n",
      "1612452399683194880\n",
      "RT @centralpolitcs: 🚨 URGENTE: Lula, Alckmin, Arthur Lira, Rosa Weber e Veneziano Vital do Rêgo, chefes dos três poderes federais, estão re…\n",
      "1612452399691739136\n",
      "@Rori_829 スマホバグってたんと荒野ガチってたwww\n",
      "1612452399679176706\n",
      "RT @dreaminak7: #YooJoonghyuk #ORV\n",
      "⬛️◼️◾️▪️▪️▪️유중혁 https://t.co/oKTlmLfyuI\n",
      "1612452395497267202\n",
      "tyler tiene un re taste entinces seguro su top es 1. trench 2. vessel\n",
      "3. bf https://t.co/0rcqOOCQrt\n",
      "1612452399704064000\n",
      "There’s a difference between asking for something  &amp; assuming entitlement to it, when it’s not yours, whilst orchestrating (forcing) prescribed behaviors from people not into you &amp; burdened by you.\n",
      "1612452399687561216\n",
      "ไอบึเป็นไรมากปะโคตรลีลาละจะคัมตอนไหนอีกหน่อยก็แฟนคอนละ ไหนเวลาโปรโมท ไหนเวลาปล่อยรูปปล่อยเพลง อยากด่า\n",
      "1612452399700135938\n",
      "zero tolerancia\n",
      "1612452395489034242\n",
      "RT @violaterranjeet: What a body 😍 https://t.co/gM9pyjHpdG\n",
      "1612452399679164419\n",
      "@kiracantmizz Lol might need to go check that list again\n",
      "1612452395518394368\n",
      "RT @144pjungkook: *twirls to sit* https://t.co/zMuGabNuik\n",
      "1612452399695958016\n",
      "下半身透明の信長\n",
      "1612452399679168512\n",
      "@min_nemuii こんばんは！\n",
      "ご検討いただきありがとうございます🙇\n",
      "連絡先の交換、可能です。\n",
      "引き続きお願い致します。\n",
      "1612452399695757312\n",
      "RT @SweetenerDiego: \"necesito arreglar mi horario de sueño\"\n",
      "yo a las 3am: https://t.co/yUZtOZ53VT\n",
      "1612452387100446726\n",
      "유튜브 보는데 풍자 하이라이터 뭐 쓰는지 개궁금함\n",
      "1612452391298760707\n",
      "@LeaundraRoss @JuneSummer1 Tell her to unblock me so I can see them lol. If she has a justification for attacking fellow Democrats, I’d love to see it.\n",
      "1612452387113029632\n",
      "@victoriamolcc @jaenturismo @OrgullososdJaen @dipujaen @JaenMereceMas @encuentrajaen @Museo_Ibero @MuseodeJaen @FundacionCRJ Felicidades por dar a conocer esta fantástica provincia. Espero que la gente se anime para visitarla. Yo tengo enormes ganas de volver a dusfrutar de su patrimonio. Ojalá sea pronto.\n"
     ]
    },
    {
     "ename": "KeyboardInterrupt",
     "evalue": "",
     "output_type": "error",
     "traceback": [
      "\u001b[0;31m---------------------------------------------------------------------------\u001b[0m",
      "\u001b[0;31mKeyboardInterrupt\u001b[0m                         Traceback (most recent call last)",
      "Cell \u001b[0;32mIn[8], line 1\u001b[0m\n\u001b[0;32m----> 1\u001b[0m \u001b[43mstreaming_client\u001b[49m\u001b[38;5;241;43m.\u001b[39;49m\u001b[43msample\u001b[49m\u001b[43m(\u001b[49m\u001b[43m)\u001b[49m\n",
      "File \u001b[0;32m~/mambaforge/envs/DL_env/lib/python3.9/site-packages/tweepy/streaming.py:912\u001b[0m, in \u001b[0;36mStreamingClient.sample\u001b[0;34m(self, threaded, **params)\u001b[0m\n\u001b[1;32m    910\u001b[0m     \u001b[38;5;28;01mreturn\u001b[39;00m \u001b[38;5;28mself\u001b[39m\u001b[38;5;241m.\u001b[39m_threaded_connect(method, endpoint, params\u001b[38;5;241m=\u001b[39mparams)\n\u001b[1;32m    911\u001b[0m \u001b[38;5;28;01melse\u001b[39;00m:\n\u001b[0;32m--> 912\u001b[0m     \u001b[38;5;28;43mself\u001b[39;49m\u001b[38;5;241;43m.\u001b[39;49m\u001b[43m_connect\u001b[49m\u001b[43m(\u001b[49m\u001b[43mmethod\u001b[49m\u001b[43m,\u001b[49m\u001b[43m \u001b[49m\u001b[43mendpoint\u001b[49m\u001b[43m,\u001b[49m\u001b[43m \u001b[49m\u001b[43mparams\u001b[49m\u001b[38;5;241;43m=\u001b[39;49m\u001b[43mparams\u001b[49m\u001b[43m)\u001b[49m\n",
      "File \u001b[0;32m~/mambaforge/envs/DL_env/lib/python3.9/site-packages/tweepy/streaming.py:626\u001b[0m, in \u001b[0;36mStreamingClient._connect\u001b[0;34m(self, method, endpoint, **kwargs)\u001b[0m\n\u001b[1;32m    624\u001b[0m \u001b[38;5;28mself\u001b[39m\u001b[38;5;241m.\u001b[39msession\u001b[38;5;241m.\u001b[39mheaders[\u001b[38;5;124m\"\u001b[39m\u001b[38;5;124mAuthorization\u001b[39m\u001b[38;5;124m\"\u001b[39m] \u001b[38;5;241m=\u001b[39m \u001b[38;5;124mf\u001b[39m\u001b[38;5;124m\"\u001b[39m\u001b[38;5;124mBearer \u001b[39m\u001b[38;5;132;01m{\u001b[39;00m\u001b[38;5;28mself\u001b[39m\u001b[38;5;241m.\u001b[39mbearer_token\u001b[38;5;132;01m}\u001b[39;00m\u001b[38;5;124m\"\u001b[39m\n\u001b[1;32m    625\u001b[0m url \u001b[38;5;241m=\u001b[39m \u001b[38;5;124mf\u001b[39m\u001b[38;5;124m\"\u001b[39m\u001b[38;5;124mhttps://api.twitter.com/2/tweets/\u001b[39m\u001b[38;5;132;01m{\u001b[39;00mendpoint\u001b[38;5;132;01m}\u001b[39;00m\u001b[38;5;124m/stream\u001b[39m\u001b[38;5;124m\"\u001b[39m\n\u001b[0;32m--> 626\u001b[0m \u001b[38;5;28;43msuper\u001b[39;49m\u001b[43m(\u001b[49m\u001b[43m)\u001b[49m\u001b[38;5;241;43m.\u001b[39;49m\u001b[43m_connect\u001b[49m\u001b[43m(\u001b[49m\u001b[43mmethod\u001b[49m\u001b[43m,\u001b[49m\u001b[43m \u001b[49m\u001b[43murl\u001b[49m\u001b[43m,\u001b[49m\u001b[43m \u001b[49m\u001b[38;5;241;43m*\u001b[39;49m\u001b[38;5;241;43m*\u001b[39;49m\u001b[43mkwargs\u001b[49m\u001b[43m)\u001b[49m\n",
      "File \u001b[0;32m~/mambaforge/envs/DL_env/lib/python3.9/site-packages/tweepy/streaming.py:90\u001b[0m, in \u001b[0;36mBaseStream._connect\u001b[0;34m(self, method, url, auth, params, headers, body, timeout)\u001b[0m\n\u001b[1;32m     87\u001b[0m \u001b[38;5;28;01mif\u001b[39;00m \u001b[38;5;129;01mnot\u001b[39;00m \u001b[38;5;28mself\u001b[39m\u001b[38;5;241m.\u001b[39mrunning:\n\u001b[1;32m     88\u001b[0m     \u001b[38;5;28;01mbreak\u001b[39;00m\n\u001b[0;32m---> 90\u001b[0m \u001b[38;5;28;01mfor\u001b[39;00m line \u001b[38;5;129;01min\u001b[39;00m resp\u001b[38;5;241m.\u001b[39miter_lines(\n\u001b[1;32m     91\u001b[0m     chunk_size\u001b[38;5;241m=\u001b[39m\u001b[38;5;28mself\u001b[39m\u001b[38;5;241m.\u001b[39mchunk_size\n\u001b[1;32m     92\u001b[0m ):\n\u001b[1;32m     93\u001b[0m     \u001b[38;5;28;01mif\u001b[39;00m line:\n\u001b[1;32m     94\u001b[0m         \u001b[38;5;28mself\u001b[39m\u001b[38;5;241m.\u001b[39mon_data(line)\n",
      "File \u001b[0;32m~/mambaforge/envs/DL_env/lib/python3.9/site-packages/requests/models.py:865\u001b[0m, in \u001b[0;36mResponse.iter_lines\u001b[0;34m(self, chunk_size, decode_unicode, delimiter)\u001b[0m\n\u001b[1;32m    856\u001b[0m \u001b[38;5;124;03m\"\"\"Iterates over the response data, one line at a time.  When\u001b[39;00m\n\u001b[1;32m    857\u001b[0m \u001b[38;5;124;03mstream=True is set on the request, this avoids reading the\u001b[39;00m\n\u001b[1;32m    858\u001b[0m \u001b[38;5;124;03mcontent at once into memory for large responses.\u001b[39;00m\n\u001b[1;32m    859\u001b[0m \n\u001b[1;32m    860\u001b[0m \u001b[38;5;124;03m.. note:: This method is not reentrant safe.\u001b[39;00m\n\u001b[1;32m    861\u001b[0m \u001b[38;5;124;03m\"\"\"\u001b[39;00m\n\u001b[1;32m    863\u001b[0m pending \u001b[38;5;241m=\u001b[39m \u001b[38;5;28;01mNone\u001b[39;00m\n\u001b[0;32m--> 865\u001b[0m \u001b[38;5;28;01mfor\u001b[39;00m chunk \u001b[38;5;129;01min\u001b[39;00m \u001b[38;5;28mself\u001b[39m\u001b[38;5;241m.\u001b[39miter_content(\n\u001b[1;32m    866\u001b[0m     chunk_size\u001b[38;5;241m=\u001b[39mchunk_size, decode_unicode\u001b[38;5;241m=\u001b[39mdecode_unicode\n\u001b[1;32m    867\u001b[0m ):\n\u001b[1;32m    869\u001b[0m     \u001b[38;5;28;01mif\u001b[39;00m pending \u001b[38;5;129;01mis\u001b[39;00m \u001b[38;5;129;01mnot\u001b[39;00m \u001b[38;5;28;01mNone\u001b[39;00m:\n\u001b[1;32m    870\u001b[0m         chunk \u001b[38;5;241m=\u001b[39m pending \u001b[38;5;241m+\u001b[39m chunk\n",
      "File \u001b[0;32m~/mambaforge/envs/DL_env/lib/python3.9/site-packages/requests/models.py:816\u001b[0m, in \u001b[0;36mResponse.iter_content.<locals>.generate\u001b[0;34m()\u001b[0m\n\u001b[1;32m    814\u001b[0m \u001b[38;5;28;01mif\u001b[39;00m \u001b[38;5;28mhasattr\u001b[39m(\u001b[38;5;28mself\u001b[39m\u001b[38;5;241m.\u001b[39mraw, \u001b[38;5;124m\"\u001b[39m\u001b[38;5;124mstream\u001b[39m\u001b[38;5;124m\"\u001b[39m):\n\u001b[1;32m    815\u001b[0m     \u001b[38;5;28;01mtry\u001b[39;00m:\n\u001b[0;32m--> 816\u001b[0m         \u001b[38;5;28;01myield from\u001b[39;00m \u001b[38;5;28mself\u001b[39m\u001b[38;5;241m.\u001b[39mraw\u001b[38;5;241m.\u001b[39mstream(chunk_size, decode_content\u001b[38;5;241m=\u001b[39m\u001b[38;5;28;01mTrue\u001b[39;00m)\n\u001b[1;32m    817\u001b[0m     \u001b[38;5;28;01mexcept\u001b[39;00m ProtocolError \u001b[38;5;28;01mas\u001b[39;00m e:\n\u001b[1;32m    818\u001b[0m         \u001b[38;5;28;01mraise\u001b[39;00m ChunkedEncodingError(e)\n",
      "File \u001b[0;32m~/mambaforge/envs/DL_env/lib/python3.9/site-packages/urllib3/response.py:624\u001b[0m, in \u001b[0;36mHTTPResponse.stream\u001b[0;34m(self, amt, decode_content)\u001b[0m\n\u001b[1;32m    608\u001b[0m \u001b[38;5;124;03m\"\"\"\u001b[39;00m\n\u001b[1;32m    609\u001b[0m \u001b[38;5;124;03mA generator wrapper for the read() method. A call will block until\u001b[39;00m\n\u001b[1;32m    610\u001b[0m \u001b[38;5;124;03m``amt`` bytes have been read from the connection or until the\u001b[39;00m\n\u001b[0;32m   (...)\u001b[0m\n\u001b[1;32m    621\u001b[0m \u001b[38;5;124;03m    'content-encoding' header.\u001b[39;00m\n\u001b[1;32m    622\u001b[0m \u001b[38;5;124;03m\"\"\"\u001b[39;00m\n\u001b[1;32m    623\u001b[0m \u001b[38;5;28;01mif\u001b[39;00m \u001b[38;5;28mself\u001b[39m\u001b[38;5;241m.\u001b[39mchunked \u001b[38;5;129;01mand\u001b[39;00m \u001b[38;5;28mself\u001b[39m\u001b[38;5;241m.\u001b[39msupports_chunked_reads():\n\u001b[0;32m--> 624\u001b[0m     \u001b[38;5;28;01mfor\u001b[39;00m line \u001b[38;5;129;01min\u001b[39;00m \u001b[38;5;28mself\u001b[39m\u001b[38;5;241m.\u001b[39mread_chunked(amt, decode_content\u001b[38;5;241m=\u001b[39mdecode_content):\n\u001b[1;32m    625\u001b[0m         \u001b[38;5;28;01myield\u001b[39;00m line\n\u001b[1;32m    626\u001b[0m \u001b[38;5;28;01melse\u001b[39;00m:\n",
      "File \u001b[0;32m~/mambaforge/envs/DL_env/lib/python3.9/site-packages/urllib3/response.py:828\u001b[0m, in \u001b[0;36mHTTPResponse.read_chunked\u001b[0;34m(self, amt, decode_content)\u001b[0m\n\u001b[1;32m    825\u001b[0m     \u001b[38;5;28;01mreturn\u001b[39;00m\n\u001b[1;32m    827\u001b[0m \u001b[38;5;28;01mwhile\u001b[39;00m \u001b[38;5;28;01mTrue\u001b[39;00m:\n\u001b[0;32m--> 828\u001b[0m     \u001b[38;5;28;43mself\u001b[39;49m\u001b[38;5;241;43m.\u001b[39;49m\u001b[43m_update_chunk_length\u001b[49m\u001b[43m(\u001b[49m\u001b[43m)\u001b[49m\n\u001b[1;32m    829\u001b[0m     \u001b[38;5;28;01mif\u001b[39;00m \u001b[38;5;28mself\u001b[39m\u001b[38;5;241m.\u001b[39mchunk_left \u001b[38;5;241m==\u001b[39m \u001b[38;5;241m0\u001b[39m:\n\u001b[1;32m    830\u001b[0m         \u001b[38;5;28;01mbreak\u001b[39;00m\n",
      "File \u001b[0;32m~/mambaforge/envs/DL_env/lib/python3.9/site-packages/urllib3/response.py:758\u001b[0m, in \u001b[0;36mHTTPResponse._update_chunk_length\u001b[0;34m(self)\u001b[0m\n\u001b[1;32m    756\u001b[0m \u001b[38;5;28;01mif\u001b[39;00m \u001b[38;5;28mself\u001b[39m\u001b[38;5;241m.\u001b[39mchunk_left \u001b[38;5;129;01mis\u001b[39;00m \u001b[38;5;129;01mnot\u001b[39;00m \u001b[38;5;28;01mNone\u001b[39;00m:\n\u001b[1;32m    757\u001b[0m     \u001b[38;5;28;01mreturn\u001b[39;00m\n\u001b[0;32m--> 758\u001b[0m line \u001b[38;5;241m=\u001b[39m \u001b[38;5;28;43mself\u001b[39;49m\u001b[38;5;241;43m.\u001b[39;49m\u001b[43m_fp\u001b[49m\u001b[38;5;241;43m.\u001b[39;49m\u001b[43mfp\u001b[49m\u001b[38;5;241;43m.\u001b[39;49m\u001b[43mreadline\u001b[49m\u001b[43m(\u001b[49m\u001b[43m)\u001b[49m\n\u001b[1;32m    759\u001b[0m line \u001b[38;5;241m=\u001b[39m line\u001b[38;5;241m.\u001b[39msplit(\u001b[38;5;124mb\u001b[39m\u001b[38;5;124m\"\u001b[39m\u001b[38;5;124m;\u001b[39m\u001b[38;5;124m\"\u001b[39m, \u001b[38;5;241m1\u001b[39m)[\u001b[38;5;241m0\u001b[39m]\n\u001b[1;32m    760\u001b[0m \u001b[38;5;28;01mtry\u001b[39;00m:\n",
      "File \u001b[0;32m~/mambaforge/envs/DL_env/lib/python3.9/socket.py:704\u001b[0m, in \u001b[0;36mSocketIO.readinto\u001b[0;34m(self, b)\u001b[0m\n\u001b[1;32m    702\u001b[0m \u001b[38;5;28;01mwhile\u001b[39;00m \u001b[38;5;28;01mTrue\u001b[39;00m:\n\u001b[1;32m    703\u001b[0m     \u001b[38;5;28;01mtry\u001b[39;00m:\n\u001b[0;32m--> 704\u001b[0m         \u001b[38;5;28;01mreturn\u001b[39;00m \u001b[38;5;28;43mself\u001b[39;49m\u001b[38;5;241;43m.\u001b[39;49m\u001b[43m_sock\u001b[49m\u001b[38;5;241;43m.\u001b[39;49m\u001b[43mrecv_into\u001b[49m\u001b[43m(\u001b[49m\u001b[43mb\u001b[49m\u001b[43m)\u001b[49m\n\u001b[1;32m    705\u001b[0m     \u001b[38;5;28;01mexcept\u001b[39;00m timeout:\n\u001b[1;32m    706\u001b[0m         \u001b[38;5;28mself\u001b[39m\u001b[38;5;241m.\u001b[39m_timeout_occurred \u001b[38;5;241m=\u001b[39m \u001b[38;5;28;01mTrue\u001b[39;00m\n",
      "File \u001b[0;32m~/mambaforge/envs/DL_env/lib/python3.9/ssl.py:1242\u001b[0m, in \u001b[0;36mSSLSocket.recv_into\u001b[0;34m(self, buffer, nbytes, flags)\u001b[0m\n\u001b[1;32m   1238\u001b[0m     \u001b[38;5;28;01mif\u001b[39;00m flags \u001b[38;5;241m!=\u001b[39m \u001b[38;5;241m0\u001b[39m:\n\u001b[1;32m   1239\u001b[0m         \u001b[38;5;28;01mraise\u001b[39;00m \u001b[38;5;167;01mValueError\u001b[39;00m(\n\u001b[1;32m   1240\u001b[0m           \u001b[38;5;124m\"\u001b[39m\u001b[38;5;124mnon-zero flags not allowed in calls to recv_into() on \u001b[39m\u001b[38;5;132;01m%s\u001b[39;00m\u001b[38;5;124m\"\u001b[39m \u001b[38;5;241m%\u001b[39m\n\u001b[1;32m   1241\u001b[0m           \u001b[38;5;28mself\u001b[39m\u001b[38;5;241m.\u001b[39m\u001b[38;5;18m__class__\u001b[39m)\n\u001b[0;32m-> 1242\u001b[0m     \u001b[38;5;28;01mreturn\u001b[39;00m \u001b[38;5;28;43mself\u001b[39;49m\u001b[38;5;241;43m.\u001b[39;49m\u001b[43mread\u001b[49m\u001b[43m(\u001b[49m\u001b[43mnbytes\u001b[49m\u001b[43m,\u001b[49m\u001b[43m \u001b[49m\u001b[43mbuffer\u001b[49m\u001b[43m)\u001b[49m\n\u001b[1;32m   1243\u001b[0m \u001b[38;5;28;01melse\u001b[39;00m:\n\u001b[1;32m   1244\u001b[0m     \u001b[38;5;28;01mreturn\u001b[39;00m \u001b[38;5;28msuper\u001b[39m()\u001b[38;5;241m.\u001b[39mrecv_into(buffer, nbytes, flags)\n",
      "File \u001b[0;32m~/mambaforge/envs/DL_env/lib/python3.9/ssl.py:1100\u001b[0m, in \u001b[0;36mSSLSocket.read\u001b[0;34m(self, len, buffer)\u001b[0m\n\u001b[1;32m   1098\u001b[0m \u001b[38;5;28;01mtry\u001b[39;00m:\n\u001b[1;32m   1099\u001b[0m     \u001b[38;5;28;01mif\u001b[39;00m buffer \u001b[38;5;129;01mis\u001b[39;00m \u001b[38;5;129;01mnot\u001b[39;00m \u001b[38;5;28;01mNone\u001b[39;00m:\n\u001b[0;32m-> 1100\u001b[0m         \u001b[38;5;28;01mreturn\u001b[39;00m \u001b[38;5;28;43mself\u001b[39;49m\u001b[38;5;241;43m.\u001b[39;49m\u001b[43m_sslobj\u001b[49m\u001b[38;5;241;43m.\u001b[39;49m\u001b[43mread\u001b[49m\u001b[43m(\u001b[49m\u001b[38;5;28;43mlen\u001b[39;49m\u001b[43m,\u001b[49m\u001b[43m \u001b[49m\u001b[43mbuffer\u001b[49m\u001b[43m)\u001b[49m\n\u001b[1;32m   1101\u001b[0m     \u001b[38;5;28;01melse\u001b[39;00m:\n\u001b[1;32m   1102\u001b[0m         \u001b[38;5;28;01mreturn\u001b[39;00m \u001b[38;5;28mself\u001b[39m\u001b[38;5;241m.\u001b[39m_sslobj\u001b[38;5;241m.\u001b[39mread(\u001b[38;5;28mlen\u001b[39m)\n",
      "\u001b[0;31mKeyboardInterrupt\u001b[0m: "
     ]
    }
   ],
   "source": [
    "streaming_client.sample()"
   ]
  },
  {
   "cell_type": "markdown",
   "id": "4307cc18-3ec0-4890-9b0b-297fe9279ae8",
   "metadata": {},
   "source": [
    "## Filtering \n",
    "As we can see, the output contains all kinds of tweets. Let's try to limit the returned tweets by filtering this stream with rules!"
   ]
  },
  {
   "cell_type": "code",
   "execution_count": 9,
   "id": "3b670d4b-247c-4a44-ab65-9d3978ffad12",
   "metadata": {},
   "outputs": [
    {
     "data": {
      "text/plain": [
       "Response(data=None, includes={}, errors=[], meta={'sent': '2023-01-09T14:30:12.326Z', 'result_count': 0})"
      ]
     },
     "execution_count": 9,
     "metadata": {},
     "output_type": "execute_result"
    }
   ],
   "source": [
    "streaming_client.get_rules()"
   ]
  },
  {
   "cell_type": "markdown",
   "id": "467f36a0-4e4b-43f8-a56d-f35ad29ab01b",
   "metadata": {},
   "source": [
    "`-is:nullcast` removes tweets created for promotion only on ads.twitter.com\n",
    "\n",
    "`lang:hu` filters for hungarian tweets\n",
    "\n",
    "`followers_count:50..5000` filters for twitter accounts that have at least 50 and at most 5000 followers\n",
    "\n",
    "For more rules, see [here](https://developer.twitter.com/en/docs/twitter-api/tweets/filtered-stream/integrate/build-a-rule#list).\n",
    "\n",
    "**Note**: These above rules are not standalone (meaning you need to add a filter in conjunction with it). Leave one space at the beginning of the rule (filters for tweets with spaces). "
   ]
  },
  {
   "cell_type": "code",
   "execution_count": 30,
   "id": "a930a26e-e2ff-4d12-b00d-f4b1fed7af12",
   "metadata": {},
   "outputs": [
    {
     "data": {
      "text/plain": [
       "Response(data=[StreamRule(value=' -is:retweet -is:nullcast lang:hu followers_count:50..5000', tag=None, id='1612470976872153090')], includes={}, errors=[], meta={'sent': '2023-01-09T15:26:54.892Z', 'summary': {'created': 1, 'not_created': 0, 'valid': 1, 'invalid': 0}})"
      ]
     },
     "execution_count": 30,
     "metadata": {},
     "output_type": "execute_result"
    }
   ],
   "source": [
    "# streaming_client.delete_rules(['1612470140938993664'])\n",
    "streaming_client.add_rules(tweepy.StreamRule(\" -is:retweet -is:nullcast lang:hu followers_count:50..5000\"))"
   ]
  },
  {
   "cell_type": "code",
   "execution_count": 31,
   "id": "5f58b713-f89a-4989-9cc9-59d93fc9fc7a",
   "metadata": {},
   "outputs": [
    {
     "data": {
      "text/plain": [
       "Response(data=[StreamRule(value=' -is:retweet -is:nullcast lang:hu followers_count:50..5000', tag=None, id='1612470976872153090')], includes={}, errors=[], meta={'sent': '2023-01-09T15:27:42.886Z', 'result_count': 1})"
      ]
     },
     "execution_count": 31,
     "metadata": {},
     "output_type": "execute_result"
    }
   ],
   "source": [
    "streaming_client.get_rules()"
   ]
  },
  {
   "cell_type": "code",
   "execution_count": 32,
   "id": "db6fbf0b-0c42-404b-a211-f4002c75db53",
   "metadata": {
    "collapsed": true,
    "jupyter": {
     "outputs_hidden": true
    },
    "tags": []
   },
   "outputs": [
    {
     "name": "stdout",
     "output_type": "stream",
     "text": [
      "1612471185974894595\n",
      "#bsgstdonuts : e4c11bda-0f69-4a75-8d7f-bf42a1b19d7d\n",
      "1612471192836792320\n",
      "fodasekkkkkkkk https://t.co/zuex3thMkd\n",
      "1612471198654558209\n",
      "keren. @THEWYWH\n",
      "1612471196058275842\n",
      "AAAAAAAA AAAAAAAA AAAAAAAA AAAAAAAA AAAAAAAA AAAAAAAA AAAAAAAA AAAAAAAA AAAAAAAA AAAAAAAA AAAAAAAA AAAAAAAA AAAAAAAA AAAAAAAA AAAAAAAA AAAAAAAA AAAAAAAA https://t.co/g1qkKw6u9Y\n",
      "1612471201707720704\n",
      "@szoges ...hosszasan ordibálna a fejlesztőcsapattal és kirúgná a felét\n",
      "1612471204421541891\n",
      "Bajó $0.30\n",
      "\n",
      "🤡\n",
      "1612471207521042432\n",
      "@SinAzucarOrg Em Domde ezta el provlema?? https://t.co/h3HLj6Th9W\n",
      "1612471212147625986\n",
      "Monyett\n",
      "1612471219349229568\n",
      "@heijoyie TETETET TETETET LET’S KILL THIS LOVE\n",
      "1612471220724695040\n",
      "@musamert Aminkere amin\n",
      "1612471229323087872\n",
      "@DikanGabor @csy most dobálta fel a fb a 4 évvel ezelőtt épített hóoroszlánunkat és így... FÁJ az eső!\n",
      "1612471237447487490\n",
      "@BIGHIT_MUSIC @BeomgyuBrasil AAAAAA AAAAAA AAAAAA AAAAAA AAAAAA AAAAAA AAAAAA AAAAAA AAAAAA AAAAAA AAAAAA AAAAAA AAAAAA AAAAAA AAAAAA AAAAAA\n",
      "1612471239968264240\n",
      "SharonEmersonMarissaDouglasZebadiahRosalind  https://t.co/F0nF8TwSM6 \n",
      "#舟山 #定州\n",
      "1612471247065206785\n",
      "@AndreaChavezTre Rogándole a Biden 😂\n",
      "1612471246209581056\n",
      "@Kopter_uwu 2023 a te éved lesz\n",
      "1612471253381836803\n",
      "@CenayangFilm preketek ketek. preketek ketek\n",
      "1612471252652019712\n",
      "apdet niii😁😁 https://t.co/yH64YYr8Cz\n",
      "1612471257366425602\n",
      "@lvtylee @NCTsmtown @NCTsmtown_DREAM AAAA INI GEMEEESS BANGETT\n",
      "1612471267029925890\n",
      "@_kira_kevin_ Mennék bizony\n",
      "1612471272642064384\n",
      "@convomf tiktok\n",
      "1612471280498003971\n",
      "Drágakövekkel van tele a Mars egyik ősi tómedre https://t.co/9SprBFQ6ue https://t.co/o15pVCZuoN\n",
      "1612471283249459200\n",
      "gudnoit\n"
     ]
    },
    {
     "ename": "KeyboardInterrupt",
     "evalue": "",
     "output_type": "error",
     "traceback": [
      "\u001b[0;31m---------------------------------------------------------------------------\u001b[0m",
      "\u001b[0;31mKeyboardInterrupt\u001b[0m                         Traceback (most recent call last)",
      "Cell \u001b[0;32mIn[32], line 1\u001b[0m\n\u001b[0;32m----> 1\u001b[0m \u001b[43mstreaming_client\u001b[49m\u001b[38;5;241;43m.\u001b[39;49m\u001b[43mfilter\u001b[49m\u001b[43m(\u001b[49m\u001b[43m)\u001b[49m\n",
      "File \u001b[0;32m~/mambaforge/envs/DL_env/lib/python3.9/site-packages/tweepy/streaming.py:806\u001b[0m, in \u001b[0;36mStreamingClient.filter\u001b[0;34m(self, threaded, **params)\u001b[0m\n\u001b[1;32m    804\u001b[0m     \u001b[38;5;28;01mreturn\u001b[39;00m \u001b[38;5;28mself\u001b[39m\u001b[38;5;241m.\u001b[39m_threaded_connect(method, endpoint, params\u001b[38;5;241m=\u001b[39mparams)\n\u001b[1;32m    805\u001b[0m \u001b[38;5;28;01melse\u001b[39;00m:\n\u001b[0;32m--> 806\u001b[0m     \u001b[38;5;28;43mself\u001b[39;49m\u001b[38;5;241;43m.\u001b[39;49m\u001b[43m_connect\u001b[49m\u001b[43m(\u001b[49m\u001b[43mmethod\u001b[49m\u001b[43m,\u001b[49m\u001b[43m \u001b[49m\u001b[43mendpoint\u001b[49m\u001b[43m,\u001b[49m\u001b[43m \u001b[49m\u001b[43mparams\u001b[49m\u001b[38;5;241;43m=\u001b[39;49m\u001b[43mparams\u001b[49m\u001b[43m)\u001b[49m\n",
      "File \u001b[0;32m~/mambaforge/envs/DL_env/lib/python3.9/site-packages/tweepy/streaming.py:626\u001b[0m, in \u001b[0;36mStreamingClient._connect\u001b[0;34m(self, method, endpoint, **kwargs)\u001b[0m\n\u001b[1;32m    624\u001b[0m \u001b[38;5;28mself\u001b[39m\u001b[38;5;241m.\u001b[39msession\u001b[38;5;241m.\u001b[39mheaders[\u001b[38;5;124m\"\u001b[39m\u001b[38;5;124mAuthorization\u001b[39m\u001b[38;5;124m\"\u001b[39m] \u001b[38;5;241m=\u001b[39m \u001b[38;5;124mf\u001b[39m\u001b[38;5;124m\"\u001b[39m\u001b[38;5;124mBearer \u001b[39m\u001b[38;5;132;01m{\u001b[39;00m\u001b[38;5;28mself\u001b[39m\u001b[38;5;241m.\u001b[39mbearer_token\u001b[38;5;132;01m}\u001b[39;00m\u001b[38;5;124m\"\u001b[39m\n\u001b[1;32m    625\u001b[0m url \u001b[38;5;241m=\u001b[39m \u001b[38;5;124mf\u001b[39m\u001b[38;5;124m\"\u001b[39m\u001b[38;5;124mhttps://api.twitter.com/2/tweets/\u001b[39m\u001b[38;5;132;01m{\u001b[39;00mendpoint\u001b[38;5;132;01m}\u001b[39;00m\u001b[38;5;124m/stream\u001b[39m\u001b[38;5;124m\"\u001b[39m\n\u001b[0;32m--> 626\u001b[0m \u001b[38;5;28;43msuper\u001b[39;49m\u001b[43m(\u001b[49m\u001b[43m)\u001b[49m\u001b[38;5;241;43m.\u001b[39;49m\u001b[43m_connect\u001b[49m\u001b[43m(\u001b[49m\u001b[43mmethod\u001b[49m\u001b[43m,\u001b[49m\u001b[43m \u001b[49m\u001b[43murl\u001b[49m\u001b[43m,\u001b[49m\u001b[43m \u001b[49m\u001b[38;5;241;43m*\u001b[39;49m\u001b[38;5;241;43m*\u001b[39;49m\u001b[43mkwargs\u001b[49m\u001b[43m)\u001b[49m\n",
      "File \u001b[0;32m~/mambaforge/envs/DL_env/lib/python3.9/site-packages/tweepy/streaming.py:90\u001b[0m, in \u001b[0;36mBaseStream._connect\u001b[0;34m(self, method, url, auth, params, headers, body, timeout)\u001b[0m\n\u001b[1;32m     87\u001b[0m \u001b[38;5;28;01mif\u001b[39;00m \u001b[38;5;129;01mnot\u001b[39;00m \u001b[38;5;28mself\u001b[39m\u001b[38;5;241m.\u001b[39mrunning:\n\u001b[1;32m     88\u001b[0m     \u001b[38;5;28;01mbreak\u001b[39;00m\n\u001b[0;32m---> 90\u001b[0m \u001b[38;5;28;01mfor\u001b[39;00m line \u001b[38;5;129;01min\u001b[39;00m resp\u001b[38;5;241m.\u001b[39miter_lines(\n\u001b[1;32m     91\u001b[0m     chunk_size\u001b[38;5;241m=\u001b[39m\u001b[38;5;28mself\u001b[39m\u001b[38;5;241m.\u001b[39mchunk_size\n\u001b[1;32m     92\u001b[0m ):\n\u001b[1;32m     93\u001b[0m     \u001b[38;5;28;01mif\u001b[39;00m line:\n\u001b[1;32m     94\u001b[0m         \u001b[38;5;28mself\u001b[39m\u001b[38;5;241m.\u001b[39mon_data(line)\n",
      "File \u001b[0;32m~/mambaforge/envs/DL_env/lib/python3.9/site-packages/requests/models.py:865\u001b[0m, in \u001b[0;36mResponse.iter_lines\u001b[0;34m(self, chunk_size, decode_unicode, delimiter)\u001b[0m\n\u001b[1;32m    856\u001b[0m \u001b[38;5;124;03m\"\"\"Iterates over the response data, one line at a time.  When\u001b[39;00m\n\u001b[1;32m    857\u001b[0m \u001b[38;5;124;03mstream=True is set on the request, this avoids reading the\u001b[39;00m\n\u001b[1;32m    858\u001b[0m \u001b[38;5;124;03mcontent at once into memory for large responses.\u001b[39;00m\n\u001b[1;32m    859\u001b[0m \n\u001b[1;32m    860\u001b[0m \u001b[38;5;124;03m.. note:: This method is not reentrant safe.\u001b[39;00m\n\u001b[1;32m    861\u001b[0m \u001b[38;5;124;03m\"\"\"\u001b[39;00m\n\u001b[1;32m    863\u001b[0m pending \u001b[38;5;241m=\u001b[39m \u001b[38;5;28;01mNone\u001b[39;00m\n\u001b[0;32m--> 865\u001b[0m \u001b[38;5;28;01mfor\u001b[39;00m chunk \u001b[38;5;129;01min\u001b[39;00m \u001b[38;5;28mself\u001b[39m\u001b[38;5;241m.\u001b[39miter_content(\n\u001b[1;32m    866\u001b[0m     chunk_size\u001b[38;5;241m=\u001b[39mchunk_size, decode_unicode\u001b[38;5;241m=\u001b[39mdecode_unicode\n\u001b[1;32m    867\u001b[0m ):\n\u001b[1;32m    869\u001b[0m     \u001b[38;5;28;01mif\u001b[39;00m pending \u001b[38;5;129;01mis\u001b[39;00m \u001b[38;5;129;01mnot\u001b[39;00m \u001b[38;5;28;01mNone\u001b[39;00m:\n\u001b[1;32m    870\u001b[0m         chunk \u001b[38;5;241m=\u001b[39m pending \u001b[38;5;241m+\u001b[39m chunk\n",
      "File \u001b[0;32m~/mambaforge/envs/DL_env/lib/python3.9/site-packages/requests/models.py:816\u001b[0m, in \u001b[0;36mResponse.iter_content.<locals>.generate\u001b[0;34m()\u001b[0m\n\u001b[1;32m    814\u001b[0m \u001b[38;5;28;01mif\u001b[39;00m \u001b[38;5;28mhasattr\u001b[39m(\u001b[38;5;28mself\u001b[39m\u001b[38;5;241m.\u001b[39mraw, \u001b[38;5;124m\"\u001b[39m\u001b[38;5;124mstream\u001b[39m\u001b[38;5;124m\"\u001b[39m):\n\u001b[1;32m    815\u001b[0m     \u001b[38;5;28;01mtry\u001b[39;00m:\n\u001b[0;32m--> 816\u001b[0m         \u001b[38;5;28;01myield from\u001b[39;00m \u001b[38;5;28mself\u001b[39m\u001b[38;5;241m.\u001b[39mraw\u001b[38;5;241m.\u001b[39mstream(chunk_size, decode_content\u001b[38;5;241m=\u001b[39m\u001b[38;5;28;01mTrue\u001b[39;00m)\n\u001b[1;32m    817\u001b[0m     \u001b[38;5;28;01mexcept\u001b[39;00m ProtocolError \u001b[38;5;28;01mas\u001b[39;00m e:\n\u001b[1;32m    818\u001b[0m         \u001b[38;5;28;01mraise\u001b[39;00m ChunkedEncodingError(e)\n",
      "File \u001b[0;32m~/mambaforge/envs/DL_env/lib/python3.9/site-packages/urllib3/response.py:624\u001b[0m, in \u001b[0;36mHTTPResponse.stream\u001b[0;34m(self, amt, decode_content)\u001b[0m\n\u001b[1;32m    608\u001b[0m \u001b[38;5;124;03m\"\"\"\u001b[39;00m\n\u001b[1;32m    609\u001b[0m \u001b[38;5;124;03mA generator wrapper for the read() method. A call will block until\u001b[39;00m\n\u001b[1;32m    610\u001b[0m \u001b[38;5;124;03m``amt`` bytes have been read from the connection or until the\u001b[39;00m\n\u001b[0;32m   (...)\u001b[0m\n\u001b[1;32m    621\u001b[0m \u001b[38;5;124;03m    'content-encoding' header.\u001b[39;00m\n\u001b[1;32m    622\u001b[0m \u001b[38;5;124;03m\"\"\"\u001b[39;00m\n\u001b[1;32m    623\u001b[0m \u001b[38;5;28;01mif\u001b[39;00m \u001b[38;5;28mself\u001b[39m\u001b[38;5;241m.\u001b[39mchunked \u001b[38;5;129;01mand\u001b[39;00m \u001b[38;5;28mself\u001b[39m\u001b[38;5;241m.\u001b[39msupports_chunked_reads():\n\u001b[0;32m--> 624\u001b[0m     \u001b[38;5;28;01mfor\u001b[39;00m line \u001b[38;5;129;01min\u001b[39;00m \u001b[38;5;28mself\u001b[39m\u001b[38;5;241m.\u001b[39mread_chunked(amt, decode_content\u001b[38;5;241m=\u001b[39mdecode_content):\n\u001b[1;32m    625\u001b[0m         \u001b[38;5;28;01myield\u001b[39;00m line\n\u001b[1;32m    626\u001b[0m \u001b[38;5;28;01melse\u001b[39;00m:\n",
      "File \u001b[0;32m~/mambaforge/envs/DL_env/lib/python3.9/site-packages/urllib3/response.py:828\u001b[0m, in \u001b[0;36mHTTPResponse.read_chunked\u001b[0;34m(self, amt, decode_content)\u001b[0m\n\u001b[1;32m    825\u001b[0m     \u001b[38;5;28;01mreturn\u001b[39;00m\n\u001b[1;32m    827\u001b[0m \u001b[38;5;28;01mwhile\u001b[39;00m \u001b[38;5;28;01mTrue\u001b[39;00m:\n\u001b[0;32m--> 828\u001b[0m     \u001b[38;5;28;43mself\u001b[39;49m\u001b[38;5;241;43m.\u001b[39;49m\u001b[43m_update_chunk_length\u001b[49m\u001b[43m(\u001b[49m\u001b[43m)\u001b[49m\n\u001b[1;32m    829\u001b[0m     \u001b[38;5;28;01mif\u001b[39;00m \u001b[38;5;28mself\u001b[39m\u001b[38;5;241m.\u001b[39mchunk_left \u001b[38;5;241m==\u001b[39m \u001b[38;5;241m0\u001b[39m:\n\u001b[1;32m    830\u001b[0m         \u001b[38;5;28;01mbreak\u001b[39;00m\n",
      "File \u001b[0;32m~/mambaforge/envs/DL_env/lib/python3.9/site-packages/urllib3/response.py:758\u001b[0m, in \u001b[0;36mHTTPResponse._update_chunk_length\u001b[0;34m(self)\u001b[0m\n\u001b[1;32m    756\u001b[0m \u001b[38;5;28;01mif\u001b[39;00m \u001b[38;5;28mself\u001b[39m\u001b[38;5;241m.\u001b[39mchunk_left \u001b[38;5;129;01mis\u001b[39;00m \u001b[38;5;129;01mnot\u001b[39;00m \u001b[38;5;28;01mNone\u001b[39;00m:\n\u001b[1;32m    757\u001b[0m     \u001b[38;5;28;01mreturn\u001b[39;00m\n\u001b[0;32m--> 758\u001b[0m line \u001b[38;5;241m=\u001b[39m \u001b[38;5;28;43mself\u001b[39;49m\u001b[38;5;241;43m.\u001b[39;49m\u001b[43m_fp\u001b[49m\u001b[38;5;241;43m.\u001b[39;49m\u001b[43mfp\u001b[49m\u001b[38;5;241;43m.\u001b[39;49m\u001b[43mreadline\u001b[49m\u001b[43m(\u001b[49m\u001b[43m)\u001b[49m\n\u001b[1;32m    759\u001b[0m line \u001b[38;5;241m=\u001b[39m line\u001b[38;5;241m.\u001b[39msplit(\u001b[38;5;124mb\u001b[39m\u001b[38;5;124m\"\u001b[39m\u001b[38;5;124m;\u001b[39m\u001b[38;5;124m\"\u001b[39m, \u001b[38;5;241m1\u001b[39m)[\u001b[38;5;241m0\u001b[39m]\n\u001b[1;32m    760\u001b[0m \u001b[38;5;28;01mtry\u001b[39;00m:\n",
      "File \u001b[0;32m~/mambaforge/envs/DL_env/lib/python3.9/socket.py:704\u001b[0m, in \u001b[0;36mSocketIO.readinto\u001b[0;34m(self, b)\u001b[0m\n\u001b[1;32m    702\u001b[0m \u001b[38;5;28;01mwhile\u001b[39;00m \u001b[38;5;28;01mTrue\u001b[39;00m:\n\u001b[1;32m    703\u001b[0m     \u001b[38;5;28;01mtry\u001b[39;00m:\n\u001b[0;32m--> 704\u001b[0m         \u001b[38;5;28;01mreturn\u001b[39;00m \u001b[38;5;28;43mself\u001b[39;49m\u001b[38;5;241;43m.\u001b[39;49m\u001b[43m_sock\u001b[49m\u001b[38;5;241;43m.\u001b[39;49m\u001b[43mrecv_into\u001b[49m\u001b[43m(\u001b[49m\u001b[43mb\u001b[49m\u001b[43m)\u001b[49m\n\u001b[1;32m    705\u001b[0m     \u001b[38;5;28;01mexcept\u001b[39;00m timeout:\n\u001b[1;32m    706\u001b[0m         \u001b[38;5;28mself\u001b[39m\u001b[38;5;241m.\u001b[39m_timeout_occurred \u001b[38;5;241m=\u001b[39m \u001b[38;5;28;01mTrue\u001b[39;00m\n",
      "File \u001b[0;32m~/mambaforge/envs/DL_env/lib/python3.9/ssl.py:1242\u001b[0m, in \u001b[0;36mSSLSocket.recv_into\u001b[0;34m(self, buffer, nbytes, flags)\u001b[0m\n\u001b[1;32m   1238\u001b[0m     \u001b[38;5;28;01mif\u001b[39;00m flags \u001b[38;5;241m!=\u001b[39m \u001b[38;5;241m0\u001b[39m:\n\u001b[1;32m   1239\u001b[0m         \u001b[38;5;28;01mraise\u001b[39;00m \u001b[38;5;167;01mValueError\u001b[39;00m(\n\u001b[1;32m   1240\u001b[0m           \u001b[38;5;124m\"\u001b[39m\u001b[38;5;124mnon-zero flags not allowed in calls to recv_into() on \u001b[39m\u001b[38;5;132;01m%s\u001b[39;00m\u001b[38;5;124m\"\u001b[39m \u001b[38;5;241m%\u001b[39m\n\u001b[1;32m   1241\u001b[0m           \u001b[38;5;28mself\u001b[39m\u001b[38;5;241m.\u001b[39m\u001b[38;5;18m__class__\u001b[39m)\n\u001b[0;32m-> 1242\u001b[0m     \u001b[38;5;28;01mreturn\u001b[39;00m \u001b[38;5;28;43mself\u001b[39;49m\u001b[38;5;241;43m.\u001b[39;49m\u001b[43mread\u001b[49m\u001b[43m(\u001b[49m\u001b[43mnbytes\u001b[49m\u001b[43m,\u001b[49m\u001b[43m \u001b[49m\u001b[43mbuffer\u001b[49m\u001b[43m)\u001b[49m\n\u001b[1;32m   1243\u001b[0m \u001b[38;5;28;01melse\u001b[39;00m:\n\u001b[1;32m   1244\u001b[0m     \u001b[38;5;28;01mreturn\u001b[39;00m \u001b[38;5;28msuper\u001b[39m()\u001b[38;5;241m.\u001b[39mrecv_into(buffer, nbytes, flags)\n",
      "File \u001b[0;32m~/mambaforge/envs/DL_env/lib/python3.9/ssl.py:1100\u001b[0m, in \u001b[0;36mSSLSocket.read\u001b[0;34m(self, len, buffer)\u001b[0m\n\u001b[1;32m   1098\u001b[0m \u001b[38;5;28;01mtry\u001b[39;00m:\n\u001b[1;32m   1099\u001b[0m     \u001b[38;5;28;01mif\u001b[39;00m buffer \u001b[38;5;129;01mis\u001b[39;00m \u001b[38;5;129;01mnot\u001b[39;00m \u001b[38;5;28;01mNone\u001b[39;00m:\n\u001b[0;32m-> 1100\u001b[0m         \u001b[38;5;28;01mreturn\u001b[39;00m \u001b[38;5;28;43mself\u001b[39;49m\u001b[38;5;241;43m.\u001b[39;49m\u001b[43m_sslobj\u001b[49m\u001b[38;5;241;43m.\u001b[39;49m\u001b[43mread\u001b[49m\u001b[43m(\u001b[49m\u001b[38;5;28;43mlen\u001b[39;49m\u001b[43m,\u001b[49m\u001b[43m \u001b[49m\u001b[43mbuffer\u001b[49m\u001b[43m)\u001b[49m\n\u001b[1;32m   1101\u001b[0m     \u001b[38;5;28;01melse\u001b[39;00m:\n\u001b[1;32m   1102\u001b[0m         \u001b[38;5;28;01mreturn\u001b[39;00m \u001b[38;5;28mself\u001b[39m\u001b[38;5;241m.\u001b[39m_sslobj\u001b[38;5;241m.\u001b[39mread(\u001b[38;5;28mlen\u001b[39m)\n",
      "\u001b[0;31mKeyboardInterrupt\u001b[0m: "
     ]
    }
   ],
   "source": [
    "streaming_client.filter()"
   ]
  },
  {
   "cell_type": "code",
   "execution_count": null,
   "id": "984b926f-478f-4182-8431-d49626b06e70",
   "metadata": {},
   "outputs": [],
   "source": []
  }
 ],
 "metadata": {
  "kernelspec": {
   "display_name": "Python 3 (ipykernel)",
   "language": "python",
   "name": "python3"
  },
  "language_info": {
   "codemirror_mode": {
    "name": "ipython",
    "version": 3
   },
   "file_extension": ".py",
   "mimetype": "text/x-python",
   "name": "python",
   "nbconvert_exporter": "python",
   "pygments_lexer": "ipython3",
   "version": "3.9.15"
  }
 },
 "nbformat": 4,
 "nbformat_minor": 5
}

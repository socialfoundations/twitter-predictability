{
 "cells": [
  {
   "cell_type": "code",
   "execution_count": 1,
   "id": "41ea396b-f74a-49f4-b039-e80f171d7ce1",
   "metadata": {},
   "outputs": [],
   "source": [
    "%load_ext dotenv\n",
    "%dotenv "
   ]
  },
  {
   "cell_type": "code",
   "execution_count": 4,
   "id": "e530be60-619e-42c7-8b6e-23bdebed66c0",
   "metadata": {},
   "outputs": [],
   "source": [
    "from pymongo import MongoClient\n",
    "import os"
   ]
  },
  {
   "cell_type": "code",
   "execution_count": 43,
   "id": "1f383512-8c3c-49c9-9f02-23b265f3e130",
   "metadata": {},
   "outputs": [],
   "source": [
    "mongo_conn = MongoClient(os.environ[\"MONGO_CONN\"])\n",
    "db = mongo_conn.twitter\n",
    "authors = db['1M_authors']"
   ]
  },
  {
   "cell_type": "code",
   "execution_count": 44,
   "id": "cc9327b9-48d6-4584-a8d2-39916f8101fd",
   "metadata": {},
   "outputs": [],
   "source": [
    "cursor = authors.find({}, {'public_metrics':1})"
   ]
  },
  {
   "cell_type": "code",
   "execution_count": 53,
   "id": "8a2f76c1-8377-493b-b6f2-4d6ed9ebd0a3",
   "metadata": {},
   "outputs": [],
   "source": [
    "import pandas as pd\n",
    "import matplotlib.pyplot as plt"
   ]
  },
  {
   "cell_type": "code",
   "execution_count": 46,
   "id": "fd8f2584-538f-417c-bd25-b64d44d9118b",
   "metadata": {},
   "outputs": [],
   "source": [
    "df = pd.DataFrame([item['public_metrics'] for item in cursor])"
   ]
  },
  {
   "cell_type": "code",
   "execution_count": 47,
   "id": "4b8e2f96-b45a-45de-90aa-f6349277476c",
   "metadata": {},
   "outputs": [
    {
     "data": {
      "text/html": [
       "<div>\n",
       "<style scoped>\n",
       "    .dataframe tbody tr th:only-of-type {\n",
       "        vertical-align: middle;\n",
       "    }\n",
       "\n",
       "    .dataframe tbody tr th {\n",
       "        vertical-align: top;\n",
       "    }\n",
       "\n",
       "    .dataframe thead th {\n",
       "        text-align: right;\n",
       "    }\n",
       "</style>\n",
       "<table border=\"1\" class=\"dataframe\">\n",
       "  <thead>\n",
       "    <tr style=\"text-align: right;\">\n",
       "      <th></th>\n",
       "      <th>followers_count</th>\n",
       "      <th>following_count</th>\n",
       "      <th>tweet_count</th>\n",
       "      <th>listed_count</th>\n",
       "    </tr>\n",
       "  </thead>\n",
       "  <tbody>\n",
       "    <tr>\n",
       "      <th>0</th>\n",
       "      <td>4809021</td>\n",
       "      <td>15</td>\n",
       "      <td>2596</td>\n",
       "      <td>5487</td>\n",
       "    </tr>\n",
       "    <tr>\n",
       "      <th>1</th>\n",
       "      <td>134</td>\n",
       "      <td>304</td>\n",
       "      <td>12131</td>\n",
       "      <td>7</td>\n",
       "    </tr>\n",
       "    <tr>\n",
       "      <th>2</th>\n",
       "      <td>100410</td>\n",
       "      <td>414</td>\n",
       "      <td>14904</td>\n",
       "      <td>191</td>\n",
       "    </tr>\n",
       "    <tr>\n",
       "      <th>3</th>\n",
       "      <td>371</td>\n",
       "      <td>333</td>\n",
       "      <td>65630</td>\n",
       "      <td>3</td>\n",
       "    </tr>\n",
       "    <tr>\n",
       "      <th>4</th>\n",
       "      <td>401660</td>\n",
       "      <td>28</td>\n",
       "      <td>54099</td>\n",
       "      <td>1066</td>\n",
       "    </tr>\n",
       "    <tr>\n",
       "      <th>...</th>\n",
       "      <td>...</td>\n",
       "      <td>...</td>\n",
       "      <td>...</td>\n",
       "      <td>...</td>\n",
       "    </tr>\n",
       "    <tr>\n",
       "      <th>778766</th>\n",
       "      <td>1203</td>\n",
       "      <td>2296</td>\n",
       "      <td>3770</td>\n",
       "      <td>268</td>\n",
       "    </tr>\n",
       "    <tr>\n",
       "      <th>778767</th>\n",
       "      <td>83</td>\n",
       "      <td>68</td>\n",
       "      <td>969</td>\n",
       "      <td>0</td>\n",
       "    </tr>\n",
       "    <tr>\n",
       "      <th>778768</th>\n",
       "      <td>527</td>\n",
       "      <td>1210</td>\n",
       "      <td>9930</td>\n",
       "      <td>6</td>\n",
       "    </tr>\n",
       "    <tr>\n",
       "      <th>778769</th>\n",
       "      <td>163</td>\n",
       "      <td>1469</td>\n",
       "      <td>20920</td>\n",
       "      <td>0</td>\n",
       "    </tr>\n",
       "    <tr>\n",
       "      <th>778770</th>\n",
       "      <td>115</td>\n",
       "      <td>275</td>\n",
       "      <td>1877</td>\n",
       "      <td>0</td>\n",
       "    </tr>\n",
       "  </tbody>\n",
       "</table>\n",
       "<p>778771 rows × 4 columns</p>\n",
       "</div>"
      ],
      "text/plain": [
       "        followers_count  following_count  tweet_count  listed_count\n",
       "0               4809021               15         2596          5487\n",
       "1                   134              304        12131             7\n",
       "2                100410              414        14904           191\n",
       "3                   371              333        65630             3\n",
       "4                401660               28        54099          1066\n",
       "...                 ...              ...          ...           ...\n",
       "778766             1203             2296         3770           268\n",
       "778767               83               68          969             0\n",
       "778768              527             1210         9930             6\n",
       "778769              163             1469        20920             0\n",
       "778770              115              275         1877             0\n",
       "\n",
       "[778771 rows x 4 columns]"
      ]
     },
     "execution_count": 47,
     "metadata": {},
     "output_type": "execute_result"
    }
   ],
   "source": [
    "df"
   ]
  },
  {
   "cell_type": "code",
   "execution_count": 74,
   "id": "209db8e6-463d-4640-93b2-45fc88c44db9",
   "metadata": {},
   "outputs": [
    {
     "data": {
      "text/plain": [
       "count    7.787710e+05\n",
       "mean     5.303307e+03\n",
       "std      2.162322e+05\n",
       "min      0.000000e+00\n",
       "25%      4.900000e+01\n",
       "50%      2.360000e+02\n",
       "75%      9.180000e+02\n",
       "max      1.265975e+08\n",
       "Name: followers_count, dtype: float64"
      ]
     },
     "execution_count": 74,
     "metadata": {},
     "output_type": "execute_result"
    }
   ],
   "source": [
    "df['followers_count'].describe()"
   ]
  },
  {
   "cell_type": "code",
   "execution_count": 49,
   "id": "1ef6e300-b41d-47e2-a6d9-be92d17dc369",
   "metadata": {},
   "outputs": [
    {
     "data": {
      "text/plain": [
       "followers_count    184404\n",
       "following_count    184404\n",
       "tweet_count        184404\n",
       "listed_count       184404\n",
       "dtype: int64"
      ]
     },
     "execution_count": 49,
     "metadata": {},
     "output_type": "execute_result"
    }
   ],
   "source": [
    "df[df['followers_count'] > 1000].count()"
   ]
  },
  {
   "cell_type": "code",
   "execution_count": 55,
   "id": "84dc1761-27b8-444a-8fd1-aa29ef9d0349",
   "metadata": {},
   "outputs": [
    {
     "data": {
      "image/png": "[encoded data removed]",
      "text/plain": [
       "<Figure size 640x480 with 1 Axes>"
      ]
     },
     "metadata": {},
     "output_type": "display_data"
    }
   ],
   "source": [
    "ax = df[df['followers_count'] < 1000]['followers_count'].plot(kind='hist', bins=20)\n",
    "ax.set_xlabel('followers')\n",
    "plt.savefig('follower_distr.pdf')"
   ]
  },
  {
   "cell_type": "markdown",
   "id": "9a3104df-2a7b-49fb-b3e3-0ffd02509c4b",
   "metadata": {},
   "source": [
    "There are two likely scenarios for Twitter users that have < 50 followers:\n",
    "- either they are very new / inactive users\n",
    "- or they are bots that have few organic followers\n",
    "\n",
    "In case of bots, there could be multiple subtypes:\n",
    "- Spammy bots: bots that post a lot of tweets\n",
    "- Follower bots: bots that follow a lot of people\n",
    "- URL bots: bots posting URLs that lead to 3rd party sites"
   ]
  },
  {
   "cell_type": "code",
   "execution_count": 71,
   "id": "79a2059d-145e-459c-af4b-51cbf3e511d7",
   "metadata": {},
   "outputs": [
    {
     "data": {
      "text/plain": [
       "count    7.787710e+05\n",
       "mean     2.203307e+04\n",
       "std      8.818403e+04\n",
       "min      0.000000e+00\n",
       "25%      8.770000e+02\n",
       "50%      4.785000e+03\n",
       "75%      1.922600e+04\n",
       "max      5.208539e+07\n",
       "Name: tweet_count, dtype: float64"
      ]
     },
     "execution_count": 71,
     "metadata": {},
     "output_type": "execute_result"
    }
   ],
   "source": [
    "df['tweet_count'].describe()"
   ]
  },
  {
   "cell_type": "code",
   "execution_count": 62,
   "id": "8ea8dc05-9e75-4f4c-b48b-fbead1164ef6",
   "metadata": {},
   "outputs": [
    {
     "data": {
      "text/plain": [
       "followers_count    189564\n",
       "following_count    189564\n",
       "tweet_count        189564\n",
       "listed_count       189564\n",
       "dtype: int64"
      ]
     },
     "execution_count": 62,
     "metadata": {},
     "output_type": "execute_result"
    }
   ],
   "source": [
    "df[df['tweet_count'] > 20000].count()"
   ]
  },
  {
   "cell_type": "code",
   "execution_count": 82,
   "id": "5a80311a-9a54-444c-80ce-303b623ae5cc",
   "metadata": {},
   "outputs": [
    {
     "data": {
      "text/plain": [
       "followers_count    206447\n",
       "following_count    206447\n",
       "tweet_count        206447\n",
       "listed_count       206447\n",
       "dtype: int64"
      ]
     },
     "execution_count": 82,
     "metadata": {},
     "output_type": "execute_result"
    }
   ],
   "source": [
    "df[df['tweet_count'] < 1000].count()"
   ]
  },
  {
   "cell_type": "code",
   "execution_count": 63,
   "id": "9dba3aa6-7119-40b3-ae30-dc465cbc67d4",
   "metadata": {},
   "outputs": [
    {
     "data": {
      "text/plain": [
       "Text(0.5, 0, 'tweets')"
      ]
     },
     "execution_count": 63,
     "metadata": {},
     "output_type": "execute_result"
    },
    {
     "data": {
      "image/png": "[encoded data removed]",
      "text/plain": [
       "<Figure size 640x480 with 1 Axes>"
      ]
     },
     "metadata": {},
     "output_type": "display_data"
    }
   ],
   "source": [
    "ax = df[df['tweet_count'] < 20000]['tweet_count'].plot(kind='hist', bins=20)\n",
    "ax.set_xlabel('tweets')"
   ]
  },
  {
   "cell_type": "code",
   "execution_count": 75,
   "id": "fe1e0d70-c5d9-41e4-9356-0e0d971f5924",
   "metadata": {},
   "outputs": [
    {
     "data": {
      "text/plain": [
       "count    7.787710e+05\n",
       "mean     9.655013e+02\n",
       "std      4.849718e+03\n",
       "min      0.000000e+00\n",
       "25%      1.010000e+02\n",
       "50%      3.300000e+02\n",
       "75%      8.820000e+02\n",
       "max      1.521188e+06\n",
       "Name: following_count, dtype: float64"
      ]
     },
     "execution_count": 75,
     "metadata": {},
     "output_type": "execute_result"
    }
   ],
   "source": [
    "df['following_count'].describe()"
   ]
  },
  {
   "cell_type": "markdown",
   "id": "58bc8df5-3e9b-4ae8-a346-f54b89bba77f",
   "metadata": {},
   "source": [
    "**Inactive users:**\n",
    "- low follower count\n",
    "- low tweet count"
   ]
  },
  {
   "cell_type": "code",
   "execution_count": 70,
   "id": "2bbc64bf-a477-4a72-9307-0bd2b107d8c3",
   "metadata": {},
   "outputs": [
    {
     "data": {
      "text/plain": [
       "followers_count    132719\n",
       "following_count    132719\n",
       "tweet_count        132719\n",
       "listed_count       132719\n",
       "dtype: int64"
      ]
     },
     "execution_count": 70,
     "metadata": {},
     "output_type": "execute_result"
    }
   ],
   "source": [
    "low_follower = df['followers_count'] < 50\n",
    "low_tweet = df['tweet_count'] < 1000\n",
    "\n",
    "df[low_tweet & low_follower].count()"
   ]
  },
  {
   "cell_type": "markdown",
   "id": "02f71b7d-323f-4438-a17c-0299ecec661b",
   "metadata": {},
   "source": [
    "**Spammy bots:**\n",
    "- low follower count\n",
    "- high tweet count"
   ]
  },
  {
   "cell_type": "code",
   "execution_count": 73,
   "id": "f2b92418-ea01-4d4e-8407-eb093d3edfdb",
   "metadata": {},
   "outputs": [
    {
     "data": {
      "text/plain": [
       "followers_count    6256\n",
       "following_count    6256\n",
       "tweet_count        6256\n",
       "listed_count       6256\n",
       "dtype: int64"
      ]
     },
     "execution_count": 73,
     "metadata": {},
     "output_type": "execute_result"
    }
   ],
   "source": [
    "high_tweet = df['tweet_count'] > 20000\n",
    "\n",
    "df[low_follower & high_tweet].count()"
   ]
  },
  {
   "cell_type": "markdown",
   "id": "1f4b59c2-e21d-44c4-a8a5-9f0be9890645",
   "metadata": {},
   "source": [
    "**Follower bots:**"
   ]
  },
  {
   "cell_type": "code",
   "execution_count": 78,
   "id": "bfc4412c-6022-4b75-8417-1bdfd386f87f",
   "metadata": {},
   "outputs": [
    {
     "data": {
      "text/plain": [
       "followers_count    1431\n",
       "following_count    1431\n",
       "tweet_count        1431\n",
       "listed_count       1431\n",
       "dtype: int64"
      ]
     },
     "execution_count": 78,
     "metadata": {},
     "output_type": "execute_result"
    }
   ],
   "source": [
    "high_following = df['following_count'] > 900\n",
    "\n",
    "df[low_follower & high_following].count()"
   ]
  },
  {
   "cell_type": "code",
   "execution_count": null,
   "id": "7cd9e971-bf62-44e3-893c-adc151e2c4a3",
   "metadata": {},
   "outputs": [],
   "source": []
  }
 ],
 "metadata": {
  "kernelspec": {
   "display_name": "Python 3 (ipykernel)",
   "language": "python",
   "name": "python3"
  },
  "language_info": {
   "codemirror_mode": {
    "name": "ipython",
    "version": 3
   },
   "file_extension": ".py",
   "mimetype": "text/x-python",
   "name": "python",
   "nbconvert_exporter": "python",
   "pygments_lexer": "ipython3",
   "version": "3.9.15"
  }
 },
 "nbformat": 4,
 "nbformat_minor": 5
}

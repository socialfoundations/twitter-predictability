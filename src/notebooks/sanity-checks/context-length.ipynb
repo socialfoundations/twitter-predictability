{
 "cells": [
  {
   "cell_type": "code",
   "execution_count": 1,
   "metadata": {},
   "outputs": [],
   "source": [
    "%reload_ext autoreload\n",
    "%autoreload 2"
   ]
  },
  {
   "cell_type": "code",
   "execution_count": 2,
   "metadata": {},
   "outputs": [],
   "source": [
    "import sys\n",
    "sys.path.append(\"../../evaluation/\")"
   ]
  },
  {
   "cell_type": "code",
   "execution_count": 3,
   "metadata": {},
   "outputs": [],
   "source": [
    "from prompting import user_nlls"
   ]
  },
  {
   "cell_type": "code",
   "execution_count": 4,
   "metadata": {},
   "outputs": [],
   "source": [
    "user_id = \"1308026329\"\n",
    "modes = [\"none\", \"user\", \"peer\", \"random\"]\n",
    "\n",
    "config = {\n",
    "    \"from_disk\": True,\n",
    "    \"device\": \"cpu\",\n",
    "    \"user_id\": user_id,\n",
    "    \"model_id\": \"gpt2\",\n",
    "    \"ctxt_len\": 900,\n",
    "    \"mode\": \"none\",\n",
    "    \"seq_sep\": \"\\n\",\n",
    "    \"batched\": True,\n",
    "    \"batch_size\": 2,\n",
    "    \"token_level_nlls\": True,\n",
    "}"
   ]
  },
  {
   "cell_type": "code",
   "execution_count": null,
   "metadata": {},
   "outputs": [],
   "source": [
    "res = {}\n",
    "\n",
    "for mode in modes:\n",
    "    config[\"mode\"] = mode\n",
    "    res[mode] = user_nlls(config)"
   ]
  },
  {
   "cell_type": "code",
   "execution_count": null,
   "metadata": {},
   "outputs": [],
   "source": []
  }
 ],
 "metadata": {
  "kernelspec": {
   "display_name": "DL_env",
   "language": "python",
   "name": "python3"
  },
  "language_info": {
   "codemirror_mode": {
    "name": "ipython",
    "version": 3
   },
   "file_extension": ".py",
   "mimetype": "text/x-python",
   "name": "python",
   "nbconvert_exporter": "python",
   "pygments_lexer": "ipython3",
   "version": "3.9.15"
  },
  "orig_nbformat": 4
 },
 "nbformat": 4,
 "nbformat_minor": 2
}
